{
 "cells": [
  {
   "cell_type": "markdown",
   "metadata": {},
   "source": [
    "#### 국내기후자료평년값자료(30년)\n",
    "http://www.weather.go.kr/weather/climate/average_30years.jsp\n",
    "\n",
    "평년 기후 자료를 시군 별로 저장한 일별 데이터 \n",
    "\n",
    "HTML 구조도 어렵지 않아서 간단히 구현하였다"
   ]
  },
  {
   "cell_type": "code",
   "execution_count": 2,
   "metadata": {},
   "outputs": [],
   "source": [
    "import requests\n",
    "from bs4 import BeautifulSoup\n",
    "import numpy as np\n",
    "import csv"
   ]
  },
  {
   "cell_type": "code",
   "execution_count": 3,
   "metadata": {},
   "outputs": [],
   "source": [
    "url = \"http://www.weather.go.kr/weather/climate/average_30years.jsp?\"\n",
    "\n",
    "params = {\n",
    "    \"yy_st\":'2018',\n",
    "    \"mm\":'1', #월\n",
    "    \"dd\":'1' #일\n",
    "}"
   ]
  },
  {
   "cell_type": "code",
   "execution_count": 4,
   "metadata": {},
   "outputs": [],
   "source": [
    "resp = requests.get(url, params) #requests 모듈을 이용해 url과 params 값으로 get 방식 request 한다"
   ]
  },
  {
   "cell_type": "code",
   "execution_count": 5,
   "metadata": {},
   "outputs": [],
   "source": [
    "resp.encoding  = 'euc-kr' #인코딩을 명시한다"
   ]
  },
  {
   "cell_type": "code",
   "execution_count": 6,
   "metadata": {},
   "outputs": [
    {
     "data": {
      "text/plain": [
       "'\\n\\n\\n\\n\\n\\n\\n\\t<!DOCTYPE html>\\n\\t<!-- <!DOCTYPE html PUBLIC \"-//W3C//DTD XHTML 1.0 Transitional//EN\" \"http://www.w3.org/TR/xhtml1/DTD/xhtml1-transitional.dtd\"> -->\\n\\t<html xmlns=\"http://www.w3.org/1999/xhtml\" xml:lang=\"ko\" lang=\"ko\">\\n\\t<head>\\n\\t\\t<meta http-equiv=\"X-UA-Compatible\" content=\"IE=Edge\" />\\n\\t\\t<title>평년값자료(30년) &gt; 국내기후자료 &gt; 기후자료 &gt; 날씨 &gt; 기상청 </title>\\n        \\t<link rel=\"shortcut icon\" href=\"http://www.kma.go.kr/favicon2.ico\" />\\n\\t\\t<meta http-equiv=\"Content-Type\" content=\"text/html; charset=euc-kr\" />\\n\\t\\t<link rel=\"stylesheet\" type=\"text/css\" href=\"/share/css/base.css?ver=2017121701\" />\\n\\t\\t<link rel=\"stylesheet\" type=\"text/css\" href=\"/share/css/common.css?ver=2017121701\" />\\n\\t\\t<link rel=\"stylesheet\" type=\"text/css\" href=\"/share/css/weather-layout.css?ver=20171217\" />\\n\\t\\t<link rel=\"stylesheet\" type=\"text/css\" href=\"/share/css/component.css?ver=20180326\" />\\n\\t\\t\\n\\t\\t\\n\\t\\t\\n\\t\\t\\t<link rel=\"stylesheet\" type=\"text/css\" href=\"/share/css/weather-obs.css?ver=20180629\" />\\n\\t\\t\\n\\t\\t\\n\\t\\t<script src=\"/share/js/'"
      ]
     },
     "execution_count": 6,
     "metadata": {},
     "output_type": "execute_result"
    }
   ],
   "source": [
    "resp.text[:1000] #str"
   ]
  },
  {
   "cell_type": "code",
   "execution_count": 8,
   "metadata": {},
   "outputs": [],
   "source": [
    "soup = BeautifulSoup(resp.text,\"lxml\") #가져온 스트링을 BeautifulSoup사용해 파싱한다"
   ]
  },
  {
   "cell_type": "code",
   "execution_count": 10,
   "metadata": {},
   "outputs": [
    {
     "data": {
      "text/plain": [
       "<tr>\n",
       "<td> 090 속초</td>\n",
       "<td>0.5</td>\n",
       "<td>4.6</td>\n",
       "<td>-3.3</td>\n",
       "<td>0.9</td>\n",
       "<td>2.0</td>\n",
       "<td>3.3</td>\n",
       "<td>49.0</td>\n",
       "<td>3.3</td>\n",
       "<td>5.8</td>\n",
       "<td>3.3</td>\n",
       "<td>1020.3</td>\n",
       "</tr>"
      ]
     },
     "execution_count": 10,
     "metadata": {},
     "output_type": "execute_result"
    }
   ],
   "source": [
    "weathers = soup.select(\"table.table_develop > tbody > tr\") #css selector를 사용하여 태그와 텍스트를 리스트로 가져올 수 있다\n",
    "weathers[0]"
   ]
  },
  {
   "cell_type": "code",
   "execution_count": 65,
   "metadata": {},
   "outputs": [
    {
     "data": {
      "text/plain": [
       "'090 속초'"
      ]
     },
     "execution_count": 65,
     "metadata": {},
     "output_type": "execute_result"
    }
   ],
   "source": [
    "weathers2 = soup.find('table',{'class':'table_develop'}).find('tbody').find_all('td') #find와 find_all 이용해서도 역시 쉽게 찾는다\n",
    "weathers2[0].text.strip()"
   ]
  },
  {
   "cell_type": "code",
   "execution_count": 11,
   "metadata": {},
   "outputs": [
    {
     "data": {
      "text/plain": [
       "['090 속초',\n",
       " '0.5',\n",
       " '4.6',\n",
       " '-3.3',\n",
       " '0.9',\n",
       " '2.0',\n",
       " '3.3',\n",
       " '49.0',\n",
       " '3.3',\n",
       " '5.8',\n",
       " '3.3',\n",
       " '1020.3']"
      ]
     },
     "execution_count": 11,
     "metadata": {},
     "output_type": "execute_result"
    }
   ],
   "source": [
    "weatherLst = [weather.get_text().strip().split('\\n') for weather in weathers] # strip으로 공백을 제거했고 split을 이용하여 변수별로 잘라 리스트를 만들었다\n",
    "weatherLst[0] "
   ]
  },
  {
   "cell_type": "code",
   "execution_count": 66,
   "metadata": {},
   "outputs": [],
   "source": [
    "#이상을 함수로 작성한다\n",
    "def weather_crawler(url, month, day): \n",
    "    params = {\n",
    "        \"yy_st\":\"2018\",\n",
    "        \"mm\":str(month),\n",
    "        \"dd\":str(day)\n",
    "    }\n",
    "    \n",
    "    resp = requests.get(url, params)\n",
    "    resp.encoding  = 'euc-kr'\n",
    "    \n",
    "    weathers = BeautifulSoup(resp.text,\"lxml\").select(\"table.table_develop > tbody > tr\")\n",
    "    weatherLst = [weather.get_text().strip().split('\\n') for weather in weathers]\n",
    "    \n",
    "    return weatherLst"
   ]
  },
  {
   "cell_type": "code",
   "execution_count": 83,
   "metadata": {},
   "outputs": [],
   "source": [
    "url = \"http://www.weather.go.kr/weather/climate/average_30years.jsp?\"\n",
    "\n",
    "params = {\n",
    "    \"yy_st\":'2018',\n",
    "    \"mm\":'1',\n",
    "    \"dd\":'1'\n",
    "}"
   ]
  },
  {
   "cell_type": "code",
   "execution_count": 85,
   "metadata": {},
   "outputs": [],
   "source": [
    "#csv 파일로 써준다\n",
    "#결측치와 인코딩 문제 해결을 위한 간단한 코딩이 필요하다\n",
    "\n",
    "fp = open('weather_data.csv','w', encoding='euc-kr',newline='')\n",
    "wr = csv.writer(fp)\n",
    "\n",
    "for m in range(1,13):\n",
    "    for d in range(1,32):\n",
    "        if (m in [4,6,9,11]) and (d==31): #존재하지 않는 날짜를 param으로 넣은 경우에도 링크 존재하므로, 조건문 사용해서 걸러준다\n",
    "            continue\n",
    "        elif (m==2) and (d>29):\n",
    "            continue\n",
    "            \n",
    "        try:\n",
    "            weatherLst = weather_crawler(url,m,d)\n",
    "            for weather in weatherLst:\n",
    "                while len(weather)<12: #결측치있는 경우 nan 넣어줌\n",
    "                    weather.append(np.nan)\n",
    "                                   \n",
    "                weather.append(\"%d월 %d일\" % (m,d)) #날짜 넣어줌\n",
    "                \n",
    "                while '\\xa0' in weather: # 인코딩 관련 에러 해결위해 \n",
    "                    weather[weather.index('\\xa0')] = np.nan\n",
    "                    \n",
    "                wr.writerow(weather) # 한줄씩 write\n",
    "                \n",
    "        except Exception as e:\n",
    "            print(e)\n",
    "            print(m, \"월\", d, \"일\", 'exception exists')\n",
    "            continue\n",
    "            \n",
    "fp.close()"
   ]
  },
  {
   "cell_type": "code",
   "execution_count": null,
   "metadata": {},
   "outputs": [],
   "source": []
  }
 ],
 "metadata": {
  "kernelspec": {
   "display_name": "Python 3",
   "language": "python",
   "name": "python3"
  },
  "language_info": {
   "codemirror_mode": {
    "name": "ipython",
    "version": 3
   },
   "file_extension": ".py",
   "mimetype": "text/x-python",
   "name": "python",
   "nbconvert_exporter": "python",
   "pygments_lexer": "ipython3",
   "version": "3.6.4"
  }
 },
 "nbformat": 4,
 "nbformat_minor": 2
}
