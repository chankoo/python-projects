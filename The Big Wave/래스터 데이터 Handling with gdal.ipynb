{
 "cells": [
  {
   "cell_type": "markdown",
   "metadata": {},
   "source": [
    "#### 참고 Python GDAL/OGR Cookbook\n",
    "https://pcjericks.github.io/py-gdalogr-cookbook/index.html"
   ]
  },
  {
   "cell_type": "code",
   "execution_count": 1,
   "metadata": {},
   "outputs": [],
   "source": [
    "import gdal\n",
    "import glob\n",
    "from osgeo import ogr, osr, gdal\n",
    "import sys\n",
    "import numpy as np"
   ]
  },
  {
   "cell_type": "markdown",
   "metadata": {},
   "source": [
    "우선 메타데이터 읽어보자\n",
    "idx, inv, ctl 파일이 있다"
   ]
  },
  {
   "cell_type": "code",
   "execution_count": 10,
   "metadata": {},
   "outputs": [],
   "source": [
    "with open('gfsanl_3_20040401_0000_000.txt','r') as fp:\n",
    "    inv = fp.read()\n",
    "    bands = inv.split('\\n')"
   ]
  },
  {
   "cell_type": "code",
   "execution_count": 1,
   "metadata": {},
   "outputs": [],
   "source": [
    "# for band in bands[:]: #len(bands)==284\n",
    "#     print(band)"
   ]
  },
  {
   "cell_type": "code",
   "execution_count": 2,
   "metadata": {},
   "outputs": [],
   "source": [
    "# with open('gfsanl_3_20040401_0000_000_ctl.txt','r') as fp:\n",
    "#     ctl = fp.read()\n",
    "# print(ctl)"
   ]
  },
  {
   "cell_type": "markdown",
   "metadata": {},
   "source": [
    "데이터인 grb를 읽어보자"
   ]
  },
  {
   "cell_type": "code",
   "execution_count": 2,
   "metadata": {},
   "outputs": [],
   "source": [
    "ds =gdal.Open('gfsanl_3_20040401_0000_000.grb') # grb를 읽어 gdal.Dataset으로 받아옴"
   ]
  },
  {
   "cell_type": "code",
   "execution_count": 10,
   "metadata": {},
   "outputs": [
    {
     "data": {
      "text/plain": [
       "osgeo.gdal.Dataset"
      ]
     },
     "execution_count": 10,
     "metadata": {},
     "output_type": "execute_result"
    }
   ],
   "source": [
    "type(ds)"
   ]
  },
  {
   "cell_type": "code",
   "execution_count": 15,
   "metadata": {},
   "outputs": [
    {
     "name": "stdout",
     "output_type": "stream",
     "text": [
      "Error Number: 2\n",
      "Error Type: Debug\n",
      "Error Message: test error\n"
     ]
    }
   ],
   "source": [
    "# try:\n",
    "#     from osgeo import ogr, osr, gdal\n",
    "# except:\n",
    "#     sys.exit('ERROR: cannot find GDAL/OGR modules')\n",
    "\n",
    "# # example GDAL error handler function\n",
    "# def gdal_error_handler(err_class, err_num, err_msg):\n",
    "#     errtype = {\n",
    "#             gdal.CE_None:'None',\n",
    "#             gdal.CE_Debug:'Debug',\n",
    "#             gdal.CE_Warning:'Warning',\n",
    "#             gdal.CE_Failure:'Failure',\n",
    "#             gdal.CE_Fatal:'Fatal'\n",
    "#     }\n",
    "#     err_msg = err_msg.replace('\\n',' ')\n",
    "#     err_class = errtype.get(err_class, 'None')\n",
    "#     print('Error Number: %s' % (err_num))\n",
    "#     print('Error Type: %s' % (err_class))\n",
    "#     print('Error Message: %s' % (err_msg))\n",
    "\n",
    "# if __name__=='__main__':\n",
    "\n",
    "#     # install error handler\n",
    "#     gdal.PushErrorHandler(gdal_error_handler)\n",
    "\n",
    "#     # Raise a dummy error\n",
    "#     gdal.Error(1, 2, 'test error')\n",
    "\n",
    "#     #uninstall error handler\n",
    "#     gdal.PopErrorHandler()"
   ]
  },
  {
   "cell_type": "markdown",
   "metadata": {},
   "source": [
    "- 본격적으로 데이터를 읽어보자\n",
    "    - 래스터 데이터에 대한 개략적인 설명 : https://docs.qgis.org/2.18/ko/docs/gentle_gis_introduction/raster_data.html\n",
    "    - 래스터 데이터는 X, Y 좌표에 band라는 레이어를 쌓는 방식으로 구성됨"
   ]
  },
  {
   "cell_type": "code",
   "execution_count": 6,
   "metadata": {},
   "outputs": [],
   "source": [
    "#래스터 데이터의 band값을 읽어오자\n",
    "# this allows GDAL to throw Python Exceptions\n",
    "gdal.UseExceptions()\n",
    "\n",
    "try:\n",
    "    src_ds =gdal.Open('gfsanl_3_20040401_0000_000.grb')\n",
    "except RuntimeError as e:\n",
    "    print('Unable to open')\n",
    "    print(e)\n",
    "    sys.exit(1)\n",
    "\n",
    "try:\n",
    "    srcband = src_ds.GetRasterBand(1)\n",
    "except RuntimeError as  e:\n",
    "    # for example, try GetRasterBand(10)\n",
    "    print('Band ( %i ) not found' % band_num)\n",
    "    print(e)\n",
    "    sys.exit(1)"
   ]
  },
  {
   "cell_type": "code",
   "execution_count": 5,
   "metadata": {},
   "outputs": [
    {
     "data": {
      "text/plain": [
       "[-408.6, 267.6, 88.205992063492, 117.18251968807]"
      ]
     },
     "execution_count": 5,
     "metadata": {},
     "output_type": "execute_result"
    }
   ],
   "source": [
    "srcband.GetStatistics( True, True ) #Minimum, Maximum, Mean, StdDev를 읽어오는 메소드"
   ]
  },
  {
   "cell_type": "code",
   "execution_count": 8,
   "metadata": {},
   "outputs": [
    {
     "name": "stdout",
     "output_type": "stream",
     "text": [
      "[ RASTER BAND COUNT ]:  284\n",
      "[ GETTING BAND ]:  1\n",
      "[ STATS ] =  Minimum=-408.600, Maximum=267.600, Mean=88.206, StdDev=117.183\n",
      "[ GETTING BAND ]:  2\n",
      "[ STATS ] =  Minimum=-209.100, Maximum=468.200, Mean=295.158, StdDev=118.924\n",
      "[ GETTING BAND ]:  3\n",
      "[ STATS ] =  Minimum=-5.400, Maximum=684.800, Mean=506.814, StdDev=122.267\n",
      "[ GETTING BAND ]:  4\n",
      "[ STATS ] =  Minimum=202.600, Maximum=905.900, Mean=723.393, StdDev=127.184\n",
      "[ GETTING BAND ]:  5\n",
      "[ STATS ] =  Minimum=415.300, Maximum=1131.900, Mean=945.109, StdDev=133.430\n",
      "[ GETTING BAND ]:  6\n",
      "[ STATS ] =  Minimum=854.400, Maximum=1599.800, Mean=1405.123, StdDev=149.319\n",
      "[ GETTING BAND ]:  7\n",
      "[ STATS ] =  Minimum=1311.800, Maximum=2104.900, Mean=1889.629, StdDev=169.165\n",
      "[ GETTING BAND ]:  8\n",
      "[ STATS ] =  Minimum=1786.700, Maximum=2638.400, Mean=2401.375, StdDev=192.227\n",
      "[ GETTING BAND ]:  9\n",
      "[ STATS ] =  Minimum=2285.400, Maximum=3210.300, Mean=2943.253, StdDev=217.918\n",
      "[ GETTING BAND ]:  10\n",
      "[ STATS ] =  Minimum=2815.500, Maximum=3819.000, Mean=3519.219, StdDev=246.104\n",
      "[ GETTING BAND ]:  11\n",
      "[ STATS ] =  Minimum=3384.700, Maximum=4468.900, Mean=4133.949, StdDev=276.795\n",
      "[ GETTING BAND ]:  12\n",
      "[ STATS ] =  Minimum=3998.600, Maximum=5166.400, Mean=4793.199, StdDev=309.687\n",
      "[ GETTING BAND ]:  13\n",
      "[ STATS ] =  Minimum=4664.700, Maximum=5920.100, Mean=5503.993, StdDev=345.189\n",
      "[ GETTING BAND ]:  14\n",
      "[ STATS ] =  Minimum=5393.200, Maximum=6738.400, Mean=6275.192, StdDev=383.784\n",
      "[ GETTING BAND ]:  15\n",
      "[ STATS ] =  Minimum=6197.500, Maximum=7634.300, Mean=7118.846, StdDev=425.436\n",
      "[ GETTING BAND ]:  16\n",
      "[ STATS ] =  Minimum=7095.900, Maximum=8631.000, Mean=8051.937, StdDev=469.527\n",
      "[ GETTING BAND ]:  17\n",
      "[ STATS ] =  Minimum=8115.200, Maximum=9742.900, Mean=9100.205, StdDev=513.559\n",
      "[ GETTING BAND ]:  18\n",
      "[ STATS ] =  Minimum=9316.500, Maximum=11018.800, Mean=10306.144, StdDev=550.634\n",
      "[ GETTING BAND ]:  19\n",
      "[ STATS ] =  Minimum=10763.700, Maximum=12506.200, Mean=11746.129, StdDev=567.603\n",
      "[ GETTING BAND ]:  20\n",
      "[ STATS ] =  Minimum=12613.600, Maximum=14296.900, Mean=13566.173, StdDev=545.842\n",
      "[ GETTING BAND ]:  21\n",
      "[ STATS ] =  Minimum=15219.500, Maximum=16654.600, Mean=16071.707, StdDev=461.981\n",
      "[ GETTING BAND ]:  22\n",
      "[ STATS ] =  Minimum=17494.300, Maximum=18691.300, Mean=18246.970, StdDev=387.353\n",
      "[ GETTING BAND ]:  23\n",
      "[ STATS ] =  Minimum=19561.700, Maximum=20728.700, Mean=20311.021, StdDev=359.470\n",
      "[ GETTING BAND ]:  24\n",
      "[ STATS ] =  Minimum=22578.900, Maximum=23905.900, Mean=23484.043, StdDev=385.488\n",
      "[ GETTING BAND ]:  25\n",
      "[ STATS ] =  Minimum=24972.300, Maximum=26521.300, Mean=26042.941, StdDev=444.843\n",
      "[ GETTING BAND ]:  26\n",
      "[ STATS ] =  Minimum=29153.100, Maximum=31205.700, Mean=30532.150, StdDev=587.193\n",
      "[ GETTING BAND ]:  27\n",
      "[ STATS ] =  Minimum=-32.850, Maximum=37.950, Mean=6.172, StdDev=18.529\n",
      "[ GETTING BAND ]:  28\n",
      "[ STATS ] =  Minimum=-34.050, Maximum=36.450, Mean=4.865, StdDev=18.017\n",
      "[ GETTING BAND ]:  29\n",
      "[ STATS ] =  Minimum=-35.250, Maximum=35.550, Mean=3.852, StdDev=17.249\n",
      "[ GETTING BAND ]:  30\n",
      "[ STATS ] =  Minimum=-36.450, Maximum=34.650, Mean=2.897, StdDev=16.662\n",
      "[ GETTING BAND ]:  31\n",
      "[ STATS ] =  Minimum=-37.650, Maximum=32.950, Mean=1.913, StdDev=16.202\n",
      "[ GETTING BAND ]:  32\n",
      "[ STATS ] =  Minimum=-40.250, Maximum=28.250, Mean=0.080, StdDev=15.612\n",
      "[ GETTING BAND ]:  33\n",
      "[ STATS ] =  Minimum=-42.850, Maximum=23.550, Mean=-1.745, StdDev=15.265\n",
      "[ GETTING BAND ]:  34\n",
      "[ STATS ] =  Minimum=-45.750, Maximum=18.250, Mean=-4.002, StdDev=14.906\n",
      "[ GETTING BAND ]:  35\n",
      "[ STATS ] =  Minimum=-48.650, Maximum=13.950, Mean=-6.632, StdDev=14.582\n",
      "[ GETTING BAND ]:  36\n",
      "[ STATS ] =  Minimum=-51.850, Maximum=11.050, Mean=-9.435, StdDev=14.398\n",
      "[ GETTING BAND ]:  37\n",
      "[ STATS ] =  Minimum=-53.850, Maximum=7.650, Mean=-12.724, StdDev=14.027\n",
      "[ GETTING BAND ]:  38\n",
      "[ STATS ] =  Minimum=-46.650, Maximum=3.550, Mean=-16.380, StdDev=13.539\n",
      "[ GETTING BAND ]:  39\n",
      "[ STATS ] =  Minimum=-48.550, Maximum=-0.350, Mean=-20.719, StdDev=13.276\n",
      "[ GETTING BAND ]:  40\n",
      "[ STATS ] =  Minimum=-53.050, Maximum=-6.650, Mean=-25.702, StdDev=12.934\n",
      "[ GETTING BAND ]:  41\n",
      "[ STATS ] =  Minimum=-55.450, Maximum=-12.550, Mean=-31.341, StdDev=12.374\n",
      "[ GETTING BAND ]:  42\n",
      "[ STATS ] =  Minimum=-56.350, Maximum=-19.850, Mean=-37.543, StdDev=11.408\n",
      "[ GETTING BAND ]:  43\n",
      "[ STATS ] =  Minimum=-60.050, Maximum=-28.450, Mean=-44.002, StdDev=9.699\n",
      "[ GETTING BAND ]:  44\n",
      "[ STATS ] =  Minimum=-65.250, Maximum=-37.850, Mean=-50.073, StdDev=7.250\n",
      "[ GETTING BAND ]:  45\n",
      "[ STATS ] =  Minimum=-70.650, Maximum=-40.850, Mean=-54.906, StdDev=5.405\n",
      "[ GETTING BAND ]:  46\n",
      "[ STATS ] =  Minimum=-70.450, Maximum=-41.750, Mean=-59.107, StdDev=7.132\n",
      "[ GETTING BAND ]:  47\n",
      "[ STATS ] =  Minimum=-85.850, Maximum=-46.150, Mean=-64.375, StdDev=10.854\n",
      "[ GETTING BAND ]:  48\n",
      "[ STATS ] =  Minimum=-85.950, Maximum=-47.150, Mean=-64.578, StdDev=9.645\n",
      "[ GETTING BAND ]:  49\n",
      "[ STATS ] =  Minimum=-73.150, Maximum=-48.950, Mean=-62.435, StdDev=6.188\n",
      "[ GETTING BAND ]:  50\n",
      "[ STATS ] =  Minimum=-72.250, Maximum=-46.350, Mean=-59.373, StdDev=5.246\n",
      "[ GETTING BAND ]:  51\n",
      "[ STATS ] =  Minimum=-71.450, Maximum=-40.850, Mean=-55.485, StdDev=6.934\n",
      "[ GETTING BAND ]:  52\n",
      "[ STATS ] =  Minimum=-67.650, Maximum=-34.850, Mean=-48.611, StdDev=8.759\n",
      "[ GETTING BAND ]:  53\n",
      "[ STATS ] =  Minimum=-0.659, Maximum=1.171, Mean=0.009, StdDev=0.095\n",
      "[ GETTING BAND ]:  54\n",
      "[ STATS ] =  Minimum=-0.640, Maximum=1.171, Mean=0.010, StdDev=0.101\n",
      "[ GETTING BAND ]:  55\n",
      "[ STATS ] =  Minimum=-0.640, Maximum=1.170, Mean=0.009, StdDev=0.113\n",
      "[ GETTING BAND ]:  56\n",
      "[ STATS ] =  Minimum=-0.899, Maximum=1.169, Mean=0.006, StdDev=0.127\n",
      "[ GETTING BAND ]:  57\n",
      "[ STATS ] =  Minimum=-1.140, Maximum=1.164, Mean=0.005, StdDev=0.141\n",
      "[ GETTING BAND ]:  58\n",
      "[ STATS ] =  Minimum=-1.498, Maximum=1.143, Mean=0.003, StdDev=0.161\n",
      "[ GETTING BAND ]:  59\n",
      "[ STATS ] =  Minimum=-1.627, Maximum=1.034, Mean=0.000, StdDev=0.169\n",
      "[ GETTING BAND ]:  60\n",
      "[ STATS ] =  Minimum=-1.594, Maximum=0.934, Mean=-0.003, StdDev=0.170\n",
      "[ GETTING BAND ]:  61\n",
      "[ STATS ] =  Minimum=-1.447, Maximum=0.750, Mean=-0.005, StdDev=0.168\n",
      "[ GETTING BAND ]:  62\n",
      "[ STATS ] =  Minimum=-1.234, Maximum=0.782, Mean=-0.006, StdDev=0.166\n",
      "[ GETTING BAND ]:  63\n",
      "[ STATS ] =  Minimum=-1.460, Maximum=0.781, Mean=-0.004, StdDev=0.163\n",
      "[ GETTING BAND ]:  64\n",
      "[ STATS ] =  Minimum=-1.592, Maximum=0.715, Mean=-0.002, StdDev=0.162\n",
      "[ GETTING BAND ]:  65\n",
      "[ STATS ] =  Minimum=-1.675, Maximum=0.675, Mean=-0.000, StdDev=0.162\n",
      "[ GETTING BAND ]:  66\n",
      "[ STATS ] =  Minimum=-1.556, Maximum=0.691, Mean=-0.001, StdDev=0.158\n",
      "[ GETTING BAND ]:  67\n",
      "[ STATS ] =  Minimum=-1.343, Maximum=0.679, Mean=-0.000, StdDev=0.151\n",
      "[ GETTING BAND ]:  68\n",
      "[ STATS ] =  Minimum=-1.231, Maximum=0.629, Mean=0.002, StdDev=0.136\n",
      "[ GETTING BAND ]:  69\n",
      "[ STATS ] =  Minimum=-1.033, Maximum=0.531, Mean=0.004, StdDev=0.115\n",
      "[ GETTING BAND ]:  70\n",
      "[ STATS ] =  Minimum=-0.824, Maximum=0.498, Mean=0.003, StdDev=0.088\n",
      "[ GETTING BAND ]:  71\n",
      "[ STATS ] =  Minimum=-0.690, Maximum=0.383, Mean=0.001, StdDev=0.058\n",
      "[ GETTING BAND ]:  72\n",
      "[ STATS ] =  Minimum=-0.448, Maximum=0.186, Mean=-0.000, StdDev=0.033\n",
      "[ GETTING BAND ]:  73\n",
      "[ STATS ] =  Minimum=-0.084, Maximum=0.099, Mean=0.001, StdDev=0.014\n",
      "[ GETTING BAND ]:  74\n",
      "[ STATS ] =  Minimum=6.000, Maximum=100.000, Mean=76.882, StdDev=15.775\n",
      "[ GETTING BAND ]:  75\n",
      "[ STATS ] =  Minimum=6.000, Maximum=100.000, Mean=78.723, StdDev=16.410\n",
      "[ GETTING BAND ]:  76\n",
      "[ STATS ] =  Minimum=6.000, Maximum=100.000, Mean=78.783, StdDev=16.746\n",
      "[ GETTING BAND ]:  77\n",
      "[ STATS ] =  Minimum=6.000, Maximum=100.000, Mean=78.532, StdDev=18.461\n",
      "[ GETTING BAND ]:  78\n",
      "[ STATS ] =  Minimum=6.000, Maximum=100.000, Mean=77.588, StdDev=20.021\n",
      "[ GETTING BAND ]:  79\n",
      "[ STATS ] =  Minimum=0.000, Maximum=100.000, Mean=72.966, StdDev=22.606\n",
      "[ GETTING BAND ]:  80\n",
      "[ STATS ] =  Minimum=0.000, Maximum=100.000, Mean=67.291, StdDev=25.249\n",
      "[ GETTING BAND ]:  81\n",
      "[ STATS ] =  Minimum=0.000, Maximum=100.000, Mean=64.059, StdDev=27.288\n",
      "[ GETTING BAND ]:  82\n",
      "[ STATS ] =  Minimum=0.000, Maximum=100.000, Mean=61.361, StdDev=28.313\n",
      "[ GETTING BAND ]:  83\n",
      "[ STATS ] =  Minimum=0.000, Maximum=100.000, Mean=56.257, StdDev=29.585\n",
      "[ GETTING BAND ]:  84\n",
      "[ STATS ] =  Minimum=0.000, Maximum=100.000, Mean=52.120, StdDev=30.696\n",
      "[ GETTING BAND ]:  85\n",
      "[ STATS ] =  Minimum=0.000, Maximum=100.000, Mean=49.064, StdDev=31.893\n",
      "[ GETTING BAND ]:  86\n",
      "[ STATS ] =  Minimum=0.000, Maximum=100.000, Mean=48.123, StdDev=32.563\n",
      "[ GETTING BAND ]:  87\n",
      "[ STATS ] =  Minimum=0.000, Maximum=100.000, Mean=48.662, StdDev=31.827\n",
      "[ GETTING BAND ]:  88\n",
      "[ STATS ] =  Minimum=0.000, Maximum=100.000, Mean=51.694, StdDev=30.540\n",
      "[ GETTING BAND ]:  89\n",
      "[ STATS ] =  Minimum=0.000, Maximum=100.000, Mean=56.396, StdDev=29.347\n",
      "[ GETTING BAND ]:  90\n",
      "[ STATS ] =  Minimum=0.000, Maximum=100.000, Mean=58.094, StdDev=28.765\n",
      "[ GETTING BAND ]:  91\n",
      "[ STATS ] =  Minimum=0.000, Maximum=100.000, Mean=54.488, StdDev=29.800\n",
      "[ GETTING BAND ]:  92\n",
      "[ STATS ] =  Minimum=0.000, Maximum=100.000, Mean=43.625, StdDev=30.798\n",
      "[ GETTING BAND ]:  93\n",
      "[ STATS ] =  Minimum=0.000, Maximum=100.000, Mean=27.038, StdDev=30.107\n",
      "[ GETTING BAND ]:  94\n",
      "[ STATS ] =  Minimum=0.000, Maximum=100.000, Mean=19.789, StdDev=29.923\n",
      "[ GETTING BAND ]:  95\n",
      "[ STATS ] =  Minimum=-0.000, Maximum=0.000, Mean=0.000, StdDev=0.000\n",
      "[ GETTING BAND ]:  96\n",
      "[ STATS ] =  Minimum=-0.000, Maximum=0.000, Mean=0.000, StdDev=0.000\n",
      "[ GETTING BAND ]:  97\n",
      "[ STATS ] =  Minimum=-0.000, Maximum=0.000, Mean=0.000, StdDev=0.000\n",
      "[ GETTING BAND ]:  98\n",
      "[ STATS ] =  Minimum=-0.000, Maximum=0.000, Mean=0.000, StdDev=0.000\n",
      "[ GETTING BAND ]:  99\n",
      "[ STATS ] =  Minimum=-0.000, Maximum=0.000, Mean=0.000, StdDev=0.000\n",
      "[ GETTING BAND ]:  100\n",
      "[ STATS ] =  Minimum=-0.000, Maximum=0.000, Mean=0.000, StdDev=0.000\n",
      "[ GETTING BAND ]:  101\n",
      "[ STATS ] =  Minimum=-0.000, Maximum=0.000, Mean=0.000, StdDev=0.000\n",
      "[ GETTING BAND ]:  102\n",
      "[ STATS ] =  Minimum=-0.000, Maximum=0.000, Mean=0.000, StdDev=0.000\n",
      "[ GETTING BAND ]:  103\n",
      "[ STATS ] =  Minimum=-0.000, Maximum=0.000, Mean=0.000, StdDev=0.000\n",
      "[ GETTING BAND ]:  104\n",
      "[ STATS ] =  Minimum=-0.000, Maximum=0.000, Mean=0.000, StdDev=0.000\n",
      "[ GETTING BAND ]:  105\n",
      "[ STATS ] =  Minimum=-0.000, Maximum=0.000, Mean=0.000, StdDev=0.000\n",
      "[ GETTING BAND ]:  106\n",
      "[ STATS ] =  Minimum=-0.000, Maximum=0.000, Mean=0.000, StdDev=0.000\n",
      "[ GETTING BAND ]:  107\n",
      "[ STATS ] =  Minimum=-0.000, Maximum=0.000, Mean=0.000, StdDev=0.000\n",
      "[ GETTING BAND ]:  108\n",
      "[ STATS ] =  Minimum=-0.000, Maximum=0.000, Mean=0.000, StdDev=0.000\n",
      "[ GETTING BAND ]:  109\n",
      "[ STATS ] =  Minimum=-0.000, Maximum=0.000, Mean=0.000, StdDev=0.000\n",
      "[ GETTING BAND ]:  110\n",
      "[ STATS ] =  Minimum=-0.000, Maximum=0.000, Mean=0.000, StdDev=0.000\n",
      "[ GETTING BAND ]:  111\n",
      "[ STATS ] =  Minimum=-0.000, Maximum=0.000, Mean=0.000, StdDev=0.000\n",
      "[ GETTING BAND ]:  112\n",
      "[ STATS ] =  Minimum=-0.000, Maximum=0.000, Mean=0.000, StdDev=0.000\n",
      "[ GETTING BAND ]:  113\n",
      "[ STATS ] =  Minimum=-0.000, Maximum=0.000, Mean=0.000, StdDev=0.000\n",
      "[ GETTING BAND ]:  114\n",
      "[ STATS ] =  Minimum=-0.000, Maximum=0.000, Mean=0.000, StdDev=0.000\n",
      "[ GETTING BAND ]:  115\n",
      "[ STATS ] =  Minimum=-0.000, Maximum=0.000, Mean=0.000, StdDev=0.000\n",
      "[ GETTING BAND ]:  116\n",
      "[ STATS ] =  Minimum=-0.000, Maximum=0.000, Mean=0.000, StdDev=0.000\n",
      "[ GETTING BAND ]:  117\n",
      "[ STATS ] =  Minimum=-0.000, Maximum=0.000, Mean=0.000, StdDev=0.000\n",
      "[ GETTING BAND ]:  118\n",
      "[ STATS ] =  Minimum=-0.000, Maximum=0.000, Mean=0.000, StdDev=0.000\n",
      "[ GETTING BAND ]:  119\n",
      "[ STATS ] =  Minimum=-0.000, Maximum=0.000, Mean=0.000, StdDev=0.000\n",
      "[ GETTING BAND ]:  120\n",
      "[ STATS ] =  Minimum=-0.000, Maximum=0.000, Mean=0.000, StdDev=0.000\n",
      "[ GETTING BAND ]:  121\n",
      "[ STATS ] =  Minimum=0.000, Maximum=0.000, Mean=0.000, StdDev=0.000\n",
      "[ GETTING BAND ]:  122\n",
      "[ STATS ] =  Minimum=0.000, Maximum=0.000, Mean=0.000, StdDev=0.000\n",
      "[ GETTING BAND ]:  123\n",
      "[ STATS ] =  Minimum=0.000, Maximum=0.000, Mean=0.000, StdDev=0.000\n",
      "[ GETTING BAND ]:  124\n",
      "[ STATS ] =  Minimum=0.000, Maximum=0.000, Mean=0.000, StdDev=0.000\n",
      "[ GETTING BAND ]:  125\n",
      "[ STATS ] =  Minimum=0.000, Maximum=0.000, Mean=0.000, StdDev=0.000\n",
      "[ GETTING BAND ]:  126\n",
      "[ STATS ] =  Minimum=0.000, Maximum=0.000, Mean=0.000, StdDev=0.000\n",
      "[ GETTING BAND ]:  127\n",
      "[ STATS ] =  Minimum=0.000, Maximum=0.000, Mean=0.000, StdDev=0.000\n",
      "[ GETTING BAND ]:  128\n",
      "[ STATS ] =  Minimum=0.000, Maximum=0.000, Mean=0.000, StdDev=0.000\n",
      "[ GETTING BAND ]:  129\n",
      "[ STATS ] =  Minimum=0.000, Maximum=0.000, Mean=0.000, StdDev=0.000\n",
      "[ GETTING BAND ]:  130\n",
      "[ STATS ] =  Minimum=0.000, Maximum=0.000, Mean=0.000, StdDev=0.000\n",
      "[ GETTING BAND ]:  131\n",
      "[ STATS ] =  Minimum=0.000, Maximum=0.000, Mean=0.000, StdDev=0.000\n",
      "[ GETTING BAND ]:  132\n",
      "[ STATS ] =  Minimum=0.000, Maximum=0.000, Mean=0.000, StdDev=0.000\n",
      "[ GETTING BAND ]:  133\n",
      "[ STATS ] =  Minimum=0.000, Maximum=0.000, Mean=0.000, StdDev=0.000\n",
      "[ GETTING BAND ]:  134\n",
      "[ STATS ] =  Minimum=0.000, Maximum=0.000, Mean=0.000, StdDev=0.000\n",
      "[ GETTING BAND ]:  135\n",
      "[ STATS ] =  Minimum=0.000, Maximum=0.000, Mean=0.000, StdDev=0.000\n",
      "[ GETTING BAND ]:  136\n",
      "[ STATS ] =  Minimum=0.000, Maximum=0.001, Mean=0.000, StdDev=0.000\n",
      "[ GETTING BAND ]:  137\n",
      "[ STATS ] =  Minimum=0.000, Maximum=0.001, Mean=0.000, StdDev=0.000\n",
      "[ GETTING BAND ]:  138\n",
      "[ STATS ] =  Minimum=0.000, Maximum=0.000, Mean=0.000, StdDev=0.000\n",
      "[ GETTING BAND ]:  139\n",
      "[ STATS ] =  Minimum=0.000, Maximum=0.001, Mean=0.000, StdDev=0.000\n",
      "[ GETTING BAND ]:  140\n",
      "[ STATS ] =  Minimum=0.000, Maximum=0.001, Mean=0.000, StdDev=0.000\n",
      "[ GETTING BAND ]:  141\n",
      "[ STATS ] =  Minimum=0.000, Maximum=0.001, Mean=0.000, StdDev=0.000\n",
      "[ GETTING BAND ]:  142\n",
      "[ STATS ] =  Minimum=0.000, Maximum=0.001, Mean=0.000, StdDev=0.000\n",
      "[ GETTING BAND ]:  143\n",
      "[ STATS ] =  Minimum=0.000, Maximum=0.001, Mean=0.000, StdDev=0.000\n",
      "[ GETTING BAND ]:  144\n",
      "[ STATS ] =  Minimum=0.000, Maximum=0.000, Mean=0.000, StdDev=0.000\n",
      "[ GETTING BAND ]:  145\n",
      "[ STATS ] =  Minimum=0.000, Maximum=0.000, Mean=0.000, StdDev=0.000\n",
      "[ GETTING BAND ]:  146\n",
      "[ STATS ] =  Minimum=0.000, Maximum=0.000, Mean=0.000, StdDev=0.000\n",
      "[ GETTING BAND ]:  147\n",
      "[ STATS ] =  Minimum=0.000, Maximum=0.000, Mean=0.000, StdDev=0.000\n",
      "[ GETTING BAND ]:  148\n",
      "[ STATS ] =  Minimum=4667.500, Maximum=5912.200, Mean=5504.023, StdDev=343.449\n",
      "[ GETTING BAND ]:  149\n",
      "[ STATS ] =  Minimum=-16.200, Maximum=21.900, Mean=0.138, StdDev=6.814\n",
      "[ GETTING BAND ]:  150\n",
      "[ STATS ] =  Minimum=-19.000, Maximum=24.700, Mean=0.326, StdDev=7.558\n",
      "[ GETTING BAND ]:  151\n",
      "[ STATS ] =  Minimum=-19.700, Maximum=26.300, Mean=0.619, StdDev=8.160\n",
      "[ GETTING BAND ]:  152\n",
      "[ STATS ] =  Minimum=-19.800, Maximum=27.100, Mean=0.880, StdDev=8.416\n",
      "[ GETTING BAND ]:  153\n",
      "[ STATS ] =  Minimum=-19.800, Maximum=27.700, Mean=1.160, StdDev=8.498\n",
      "[ GETTING BAND ]:  154\n",
      "[ STATS ] =  Minimum=-18.000, Maximum=28.600, Mean=1.832, StdDev=8.493\n",
      "[ GETTING BAND ]:  155\n",
      "[ STATS ] =  Minimum=-18.200, Maximum=30.900, Mean=2.449, StdDev=8.672\n",
      "[ GETTING BAND ]:  156\n",
      "[ STATS ] =  Minimum=-18.600, Maximum=32.100, Mean=2.964, StdDev=9.011\n",
      "[ GETTING BAND ]:  157\n",
      "[ STATS ] =  Minimum=-16.700, Maximum=37.500, Mean=3.512, StdDev=9.466\n",
      "[ GETTING BAND ]:  158\n",
      "[ STATS ] =  Minimum=-17.600, Maximum=41.100, Mean=4.247, StdDev=9.931\n",
      "[ GETTING BAND ]:  159\n",
      "[ STATS ] =  Minimum=-18.000, Maximum=45.400, Mean=5.071, StdDev=10.469\n",
      "[ GETTING BAND ]:  160\n",
      "[ STATS ] =  Minimum=-18.300, Maximum=47.800, Mean=5.982, StdDev=11.163\n",
      "[ GETTING BAND ]:  161\n",
      "[ STATS ] =  Minimum=-18.800, Maximum=53.400, Mean=7.002, StdDev=12.044\n",
      "[ GETTING BAND ]:  162\n",
      "[ STATS ] =  Minimum=-20.400, Maximum=58.800, Mean=8.170, StdDev=13.046\n",
      "[ GETTING BAND ]:  163\n",
      "[ STATS ] =  Minimum=-22.300, Maximum=63.300, Mean=9.491, StdDev=14.178\n",
      "[ GETTING BAND ]:  164\n",
      "[ STATS ] =  Minimum=-23.800, Maximum=67.600, Mean=10.938, StdDev=15.337\n",
      "[ GETTING BAND ]:  165\n",
      "[ STATS ] =  Minimum=-23.900, Maximum=70.400, Mean=12.686, StdDev=16.420\n",
      "[ GETTING BAND ]:  166\n",
      "[ STATS ] =  Minimum=-26.300, Maximum=67.800, Mean=14.409, StdDev=16.881\n",
      "[ GETTING BAND ]:  167\n",
      "[ STATS ] =  Minimum=-29.100, Maximum=63.000, Mean=15.443, StdDev=16.212\n",
      "[ GETTING BAND ]:  168\n",
      "[ STATS ] =  Minimum=-24.900, Maximum=61.300, Mean=14.663, StdDev=13.706\n",
      "[ GETTING BAND ]:  169\n",
      "[ STATS ] =  Minimum=-17.100, Maximum=47.900, Mean=10.995, StdDev=10.476\n",
      "[ GETTING BAND ]:  170\n",
      "[ STATS ] =  Minimum=-20.700, Maximum=33.600, Mean=6.790, StdDev=10.373\n",
      "[ GETTING BAND ]:  171\n",
      "[ STATS ] =  Minimum=-20.900, Maximum=28.100, Mean=4.754, StdDev=11.360\n",
      "[ GETTING BAND ]:  172\n",
      "[ STATS ] =  Minimum=-21.500, Maximum=30.500, Mean=6.472, StdDev=11.991\n",
      "[ GETTING BAND ]:  173\n",
      "[ STATS ] =  Minimum=-18.000, Maximum=35.500, Mean=8.626, StdDev=12.880\n",
      "[ GETTING BAND ]:  174\n",
      "[ STATS ] =  Minimum=-23.000, Maximum=46.400, Mean=10.462, StdDev=14.602\n",
      "[ GETTING BAND ]:  175\n",
      "[ STATS ] =  Minimum=-26.900, Maximum=22.600, Mean=-0.052, StdDev=5.904\n",
      "[ GETTING BAND ]:  176\n",
      "[ STATS ] =  Minimum=-29.800, Maximum=25.800, Mean=-0.035, StdDev=6.534\n",
      "[ GETTING BAND ]:  177\n",
      "[ STATS ] =  Minimum=-34.300, Maximum=26.900, Mean=0.036, StdDev=6.961\n",
      "[ GETTING BAND ]:  178\n",
      "[ STATS ] =  Minimum=-35.500, Maximum=27.100, Mean=0.086, StdDev=7.114\n",
      "[ GETTING BAND ]:  179\n",
      "[ STATS ] =  Minimum=-36.200, Maximum=28.400, Mean=0.085, StdDev=7.094\n",
      "[ GETTING BAND ]:  180\n",
      "[ STATS ] =  Minimum=-36.700, Maximum=29.700, Mean=0.040, StdDev=6.873\n",
      "[ GETTING BAND ]:  181\n",
      "[ STATS ] =  Minimum=-35.900, Maximum=26.500, Mean=-0.022, StdDev=6.806\n",
      "[ GETTING BAND ]:  182\n",
      "[ STATS ] =  Minimum=-29.100, Maximum=27.600, Mean=-0.052, StdDev=6.969\n",
      "[ GETTING BAND ]:  183\n",
      "[ STATS ] =  Minimum=-26.800, Maximum=30.700, Mean=-0.036, StdDev=7.443\n",
      "[ GETTING BAND ]:  184\n",
      "[ STATS ] =  Minimum=-28.600, Maximum=33.600, Mean=0.012, StdDev=8.095\n",
      "[ GETTING BAND ]:  185\n",
      "[ STATS ] =  Minimum=-31.200, Maximum=34.600, Mean=0.079, StdDev=8.755\n",
      "[ GETTING BAND ]:  186\n",
      "[ STATS ] =  Minimum=-35.800, Maximum=37.000, Mean=0.103, StdDev=9.483\n",
      "[ GETTING BAND ]:  187\n",
      "[ STATS ] =  Minimum=-40.100, Maximum=42.800, Mean=0.120, StdDev=10.368\n",
      "[ GETTING BAND ]:  188\n",
      "[ STATS ] =  Minimum=-46.200, Maximum=47.500, Mean=0.039, StdDev=11.356\n",
      "[ GETTING BAND ]:  189\n",
      "[ STATS ] =  Minimum=-51.800, Maximum=50.500, Mean=-0.069, StdDev=12.505\n",
      "[ GETTING BAND ]:  190\n",
      "[ STATS ] =  Minimum=-56.600, Maximum=56.100, Mean=-0.167, StdDev=13.707\n",
      "[ GETTING BAND ]:  191\n",
      "[ STATS ] =  Minimum=-57.900, Maximum=61.500, Mean=-0.056, StdDev=14.585\n",
      "[ GETTING BAND ]:  192\n",
      "[ STATS ] =  Minimum=-50.200, Maximum=62.400, Mean=0.157, StdDev=14.251\n",
      "[ GETTING BAND ]:  193\n",
      "[ STATS ] =  Minimum=-42.100, Maximum=53.400, Mean=0.273, StdDev=12.139\n",
      "[ GETTING BAND ]:  194\n",
      "[ STATS ] =  Minimum=-36.500, Maximum=37.200, Mean=-0.048, StdDev=9.258\n",
      "[ GETTING BAND ]:  195\n",
      "[ STATS ] =  Minimum=-25.600, Maximum=28.100, Mean=0.017, StdDev=6.902\n",
      "[ GETTING BAND ]:  196\n",
      "[ STATS ] =  Minimum=-16.200, Maximum=21.800, Mean=0.089, StdDev=5.097\n",
      "[ GETTING BAND ]:  197\n",
      "[ STATS ] =  Minimum=-12.400, Maximum=18.900, Mean=-0.062, StdDev=4.366\n",
      "[ GETTING BAND ]:  198\n",
      "[ STATS ] =  Minimum=-12.600, Maximum=13.500, Mean=-0.168, StdDev=4.116\n",
      "[ GETTING BAND ]:  199\n",
      "[ STATS ] =  Minimum=-13.300, Maximum=13.300, Mean=0.124, StdDev=4.278\n",
      "[ GETTING BAND ]:  200\n",
      "[ STATS ] =  Minimum=-19.200, Maximum=18.100, Mean=0.004, StdDev=5.082\n",
      "[ GETTING BAND ]:  201\n",
      "[ STATS ] =  Minimum=-51.650, Maximum=35.150, Mean=4.205, StdDev=20.058\n",
      "[ GETTING BAND ]:  202\n",
      "[ STATS ] =  Minimum=6.000, Maximum=100.000, Mean=76.294, StdDev=15.969\n",
      "[ GETTING BAND ]:  203\n",
      "[ STATS ] =  Minimum=0.000, Maximum=0.019, Mean=0.007, StdDev=0.006\n",
      "[ GETTING BAND ]:  204\n",
      "[ STATS ] =  Minimum=-17.700, Maximum=22.500, Mean=0.313, StdDev=7.266\n",
      "[ GETTING BAND ]:  205\n",
      "[ STATS ] =  Minimum=-29.900, Maximum=23.000, Mean=-0.041, StdDev=6.266\n",
      "[ GETTING BAND ]:  206\n",
      "[ STATS ] =  Minimum=-54.050, Maximum=25.150, Mean=-1.925, StdDev=16.560\n",
      "[ GETTING BAND ]:  207\n",
      "[ STATS ] =  Minimum=-54.050, Maximum=16.750, Mean=-5.747, StdDev=15.779\n",
      "[ GETTING BAND ]:  208\n",
      "[ STATS ] =  Minimum=-53.650, Maximum=11.350, Mean=-10.130, StdDev=15.335\n",
      "[ GETTING BAND ]:  209\n",
      "[ STATS ] =  Minimum=-21.900, Maximum=31.300, Mean=2.333, StdDev=8.679\n",
      "[ GETTING BAND ]:  210\n",
      "[ STATS ] =  Minimum=-17.400, Maximum=36.300, Mean=3.257, StdDev=9.349\n",
      "[ GETTING BAND ]:  211\n",
      "[ STATS ] =  Minimum=-18.200, Maximum=43.400, Mean=4.322, StdDev=10.189\n",
      "[ GETTING BAND ]:  212\n",
      "[ STATS ] =  Minimum=-32.000, Maximum=26.900, Mean=0.023, StdDev=6.820\n",
      "[ GETTING BAND ]:  213\n",
      "[ STATS ] =  Minimum=-27.000, Maximum=29.800, Mean=-0.068, StdDev=7.397\n",
      "[ GETTING BAND ]:  214\n",
      "[ STATS ] =  Minimum=-29.300, Maximum=35.400, Mean=0.038, StdDev=8.438\n",
      "[ GETTING BAND ]:  215\n",
      "[ STATS ] =  Minimum=2334.900, Maximum=19980.800, Mean=11652.636, StdDev=4197.989\n",
      "[ GETTING BAND ]:  216\n",
      "[ STATS ] =  Minimum=3502.000, Maximum=19894.000, Mean=11125.129, StdDev=3574.344\n",
      "[ GETTING BAND ]:  217\n",
      "[ STATS ] =  Minimum=-86.950, Maximum=-23.850, Mean=-60.185, StdDev=14.013\n",
      "[ GETTING BAND ]:  218\n",
      "[ STATS ] =  Minimum=-85.950, Maximum=-25.450, Mean=-60.875, StdDev=11.777\n",
      "[ GETTING BAND ]:  219\n",
      "[ STATS ] =  Minimum=5502.000, Maximum=69504.000, Mean=23448.552, StdDev=12309.754\n",
      "[ GETTING BAND ]:  220\n",
      "[ STATS ] =  Minimum=5562.000, Maximum=62292.000, Mean=24171.941, StdDev=10763.670\n",
      "[ GETTING BAND ]:  221\n",
      "[ STATS ] =  Minimum=-0.017, Maximum=0.016, Mean=-0.000, StdDev=0.004\n",
      "[ GETTING BAND ]:  222\n",
      "[ STATS ] =  Minimum=-0.018, Maximum=0.015, Mean=-0.002, StdDev=0.005\n",
      "[ GETTING BAND ]:  223\n",
      "[ STATS ] =  Minimum=-21.300, Maximum=64.700, Mean=12.562, StdDev=17.527\n",
      "[ GETTING BAND ]:  224\n",
      "[ STATS ] =  Minimum=-21.900, Maximum=70.300, Mean=12.089, StdDev=17.768\n",
      "[ GETTING BAND ]:  225\n",
      "[ STATS ] =  Minimum=-46.500, Maximum=51.500, Mean=0.706, StdDev=12.099\n",
      "[ GETTING BAND ]:  226\n",
      "[ STATS ] =  Minimum=-57.300, Maximum=63.500, Mean=-0.022, StdDev=15.959\n",
      "[ GETTING BAND ]:  227\n",
      "[ STATS ] =  Minimum=59186.000, Maximum=104112.000, Mean=97701.853, StdDev=8444.565\n",
      "[ GETTING BAND ]:  228\n",
      "[ STATS ] =  Minimum=0.200, Maximum=65.700, Mean=18.577, StdDev=16.949\n",
      "[ GETTING BAND ]:  229\n",
      "[ STATS ] =  Minimum=2.000, Maximum=70.000, Mean=29.089, StdDev=16.384\n",
      "[ GETTING BAND ]:  230\n",
      "[ STATS ] =  Minimum=5223.200, Maximum=18125.200, Mean=12155.929, StdDev=3564.681\n",
      "[ GETTING BAND ]:  231\n",
      "[ STATS ] =  Minimum=-88.150, Maximum=-32.850, Mean=-64.106, StdDev=11.708\n",
      "[ GETTING BAND ]:  232\n",
      "[ STATS ] =  Minimum=7603.000, Maximum=49287.000, Mean=20670.025, StdDev=9282.580\n",
      "[ GETTING BAND ]:  233\n",
      "[ STATS ] =  Minimum=-0.016, Maximum=0.014, Mean=-0.002, StdDev=0.004\n",
      "[ GETTING BAND ]:  234\n",
      "[ STATS ] =  Minimum=-7.500, Maximum=36.400, Mean=11.372, StdDev=10.821\n",
      "[ GETTING BAND ]:  235\n",
      "[ STATS ] =  Minimum=0.000, Maximum=2446.000, Mean=118.647, StdDev=294.023\n",
      "[ GETTING BAND ]:  236\n",
      "[ STATS ] =  Minimum=-391.000, Maximum=0.000, Mean=-7.663, StdDev=28.085\n",
      "[ GETTING BAND ]:  237\n",
      "[ STATS ] =  Minimum=-7.500, Maximum=23.600, Mean=7.290, StdDev=6.898\n",
      "[ GETTING BAND ]:  238\n",
      "[ STATS ] =  Minimum=0.000, Maximum=2446.000, Mean=120.451, StdDev=294.821\n",
      "[ GETTING BAND ]:  239\n",
      "[ STATS ] =  Minimum=-391.000, Maximum=0.000, Mean=-7.349, StdDev=26.678\n",
      "[ GETTING BAND ]:  240\n",
      "[ STATS ] =  Minimum=4705.500, Maximum=18625.300, Mean=12005.030, StdDev=3438.883\n",
      "[ GETTING BAND ]:  241\n",
      "[ STATS ] =  Minimum=-86.250, Maximum=-6.250, Mean=-55.560, StdDev=11.371\n",
      "[ GETTING BAND ]:  242\n",
      "[ STATS ] =  Minimum=7001.000, Maximum=49999.000, Mean=21522.929, StdDev=9728.032\n",
      "[ GETTING BAND ]:  243\n",
      "[ STATS ] =  Minimum=-169.800, Maximum=4412.600, Mean=293.169, StdDev=735.880\n",
      "[ GETTING BAND ]:  244\n",
      "[ STATS ] =  Minimum=95093.000, Maximum=103459.000, Mean=101064.092, StdDev=1455.288\n",
      "[ GETTING BAND ]:  245\n",
      "[ STATS ] =  Minimum=7.000, Maximum=100.000, Mean=66.085, StdDev=19.548\n",
      "[ GETTING BAND ]:  246\n",
      "[ STATS ] =  Minimum=8.000, Maximum=100.000, Mean=71.203, StdDev=20.474\n",
      "[ GETTING BAND ]:  247\n",
      "[ STATS ] =  Minimum=0.000, Maximum=100.000, Mean=53.860, StdDev=27.672\n",
      "[ GETTING BAND ]:  248\n",
      "[ STATS ] =  Minimum=7.000, Maximum=100.000, Mean=65.446, StdDev=19.281\n",
      "[ GETTING BAND ]:  249\n",
      "[ STATS ] =  Minimum=-29.750, Maximum=46.550, Mean=7.098, StdDev=18.278\n",
      "[ GETTING BAND ]:  250\n",
      "[ STATS ] =  Minimum=-53.750, Maximum=35.350, Mean=4.650, StdDev=20.338\n",
      "[ GETTING BAND ]:  251\n",
      "[ STATS ] =  Minimum=-1.128, Maximum=2.156, Mean=0.007, StdDev=0.129\n",
      "[ GETTING BAND ]:  252\n",
      "[ STATS ] =  Minimum=6.000, Maximum=100.000, Mean=75.936, StdDev=15.464\n",
      "[ GETTING BAND ]:  253\n",
      "[ STATS ] =  Minimum=209.600, Maximum=527.700, Mean=312.913, StdDev=65.379\n",
      "[ GETTING BAND ]:  254\n",
      "[ STATS ] =  Minimum=0.000, Maximum=1.420, Mean=0.058, StdDev=0.126\n",
      "[ GETTING BAND ]:  255\n",
      "[ STATS ] =  Minimum=-1000.000, Maximum=5830.200, Mean=1999.082, StdDev=2483.882\n",
      "[ GETTING BAND ]:  256\n",
      "[ STATS ] =  Minimum=0.000, Maximum=100.000, Mean=62.151, StdDev=31.010\n",
      "[ GETTING BAND ]:  257\n",
      "[ STATS ] =  Minimum=-1000.000, Maximum=5830.200, Mean=2021.330, StdDev=2481.763\n",
      "[ GETTING BAND ]:  258\n",
      "[ STATS ] =  Minimum=0.000, Maximum=100.000, Mean=61.427, StdDev=31.212\n",
      "[ GETTING BAND ]:  259\n",
      "[ STATS ] =  Minimum=-21.100, Maximum=70.400, Mean=11.923, StdDev=16.638\n",
      "[ GETTING BAND ]:  260\n",
      "[ STATS ] =  Minimum=-29.800, Maximum=70.500, Mean=17.126, StdDev=19.440\n",
      "[ GETTING BAND ]:  261\n",
      "[ STATS ] =  Minimum=-16.000, Maximum=20.400, Mean=0.162, StdDev=6.466\n",
      "[ GETTING BAND ]:  262\n",
      "[ STATS ] =  Minimum=-50.600, Maximum=62.200, Mean=0.173, StdDev=13.708\n",
      "[ GETTING BAND ]:  263\n",
      "[ STATS ] =  Minimum=-59.200, Maximum=64.100, Mean=-0.105, StdDev=15.899\n",
      "[ GETTING BAND ]:  264\n",
      "[ STATS ] =  Minimum=-27.500, Maximum=19.900, Mean=-0.053, StdDev=5.534\n",
      "[ GETTING BAND ]:  265\n",
      "[ STATS ] =  Minimum=-64.750, Maximum=31.850, Mean=4.167, StdDev=21.684\n",
      "[ GETTING BAND ]:  266\n",
      "[ STATS ] =  Minimum=0.040, Maximum=0.468, Mean=0.320, StdDev=0.111\n",
      "[ GETTING BAND ]:  267\n",
      "[ STATS ] =  Minimum=0.080, Maximum=0.464, Mean=0.264, StdDev=0.101\n",
      "[ GETTING BAND ]:  268\n",
      "[ STATS ] =  Minimum=-73.150, Maximum=32.650, Mean=-7.605, StdDev=29.962\n",
      "[ GETTING BAND ]:  269\n",
      "[ STATS ] =  Minimum=-73.150, Maximum=28.650, Mean=-8.253, StdDev=29.583\n",
      "[ GETTING BAND ]:  270\n",
      "[ STATS ] =  Minimum=0.000, Maximum=55000.000, Mean=3736.117, StdDev=13655.286\n",
      "[ GETTING BAND ]:  271\n",
      "[ STATS ] =  Minimum=0.000, Maximum=1.000, Mean=0.287, StdDev=0.452\n",
      "[ GETTING BAND ]:  272\n",
      "[ STATS ] =  Minimum=0.000, Maximum=1.000, Mean=0.169, StdDev=0.375\n",
      "[ GETTING BAND ]:  273\n",
      "[ STATS ] =  Minimum=-58.850, Maximum=31.850, Mean=4.265, StdDev=20.929\n",
      "[ GETTING BAND ]:  274\n",
      "[ STATS ] =  Minimum=0.000, Maximum=0.021, Mean=0.007, StdDev=0.006\n",
      "[ GETTING BAND ]:  275\n",
      "[ STATS ] =  Minimum=20.000, Maximum=3487.900, Mean=784.430, StdDev=513.986\n",
      "[ GETTING BAND ]:  276\n",
      "[ STATS ] =  Minimum=0.000, Maximum=80.000, Mean=4.118, StdDev=14.266\n",
      "[ GETTING BAND ]:  277\n",
      "[ STATS ] =  Minimum=13650.000, Maximum=76460.000, Mean=43522.441, StdDev=19504.911\n",
      "[ GETTING BAND ]:  278\n",
      "[ STATS ] =  Minimum=60900.000, Maximum=96943.000, Mean=90462.340, StdDev=6551.660\n",
      "[ GETTING BAND ]:  279\n",
      "[ STATS ] =  Minimum=0.000, Maximum=100.000, Mean=78.562, StdDev=19.150\n",
      "[ GETTING BAND ]:  280\n",
      "[ STATS ] =  Minimum=-14.300, Maximum=17.800, Mean=0.094, StdDev=5.705\n",
      "[ GETTING BAND ]:  281\n",
      "[ STATS ] =  Minimum=-24.600, Maximum=17.100, Mean=-0.053, StdDev=4.849\n",
      "[ GETTING BAND ]:  282\n",
      "[ STATS ] =  Minimum=-331.400, Maximum=219.000, Mean=-0.616, StdDev=69.565\n",
      "[ GETTING BAND ]:  283\n",
      "[ STATS ] =  Minimum=-355.700, Maximum=285.300, Mean=-2.721, StdDev=99.619\n",
      "[ GETTING BAND ]:  284\n",
      "[ STATS ] =  Minimum=-345.900, Maximum=251.100, Mean=-2.547, StdDev=93.603\n"
     ]
    }
   ],
   "source": [
    "# 밴드의 카운트만큼 각 밴드의 기초통계값을 찍어준다\n",
    "if src_ds is None:\n",
    "    print('Unable to open')\n",
    "    sys.exit(1)\n",
    "\n",
    "print(\"[ RASTER BAND COUNT ]: \", src_ds.RasterCount)\n",
    "for band in range( src_ds.RasterCount ):\n",
    "    band += 1\n",
    "    print(\"[ GETTING BAND ]: \", band)\n",
    "    srcband = src_ds.GetRasterBand(band)\n",
    "    if srcband is None:\n",
    "        continue\n",
    "\n",
    "    stats = srcband.GetStatistics( True, True )\n",
    "    if stats is None:\n",
    "        continue\n",
    "\n",
    "    print(\"[ STATS ] =  Minimum=%.3f, Maximum=%.3f, Mean=%.3f, StdDev=%.3f\" % ( \\\n",
    "                stats[0], stats[1], stats[2], stats[3] ))"
   ]
  },
  {
   "cell_type": "markdown",
   "metadata": {},
   "source": [
    "#### 래스터 데이터를 np.array로 다뤄보자"
   ]
  },
  {
   "cell_type": "code",
   "execution_count": 11,
   "metadata": {},
   "outputs": [
    {
     "name": "stdout",
     "output_type": "stream",
     "text": [
      "360 181 284\n"
     ]
    }
   ],
   "source": [
    "print(ds.RasterXSize, ds.RasterYSize, ds.RasterCount) #dataset의 사이즈"
   ]
  },
  {
   "cell_type": "code",
   "execution_count": 3,
   "metadata": {},
   "outputs": [],
   "source": [
    "dsA = ds.ReadAsArray() # array로 읽어온다"
   ]
  },
  {
   "cell_type": "code",
   "execution_count": 14,
   "metadata": {},
   "outputs": [
    {
     "data": {
      "text/plain": [
       "(284, 181, 360)"
      ]
     },
     "execution_count": 14,
     "metadata": {},
     "output_type": "execute_result"
    }
   ],
   "source": [
    "dsA.shape # 3차원구조"
   ]
  },
  {
   "cell_type": "code",
   "execution_count": 4,
   "metadata": {},
   "outputs": [],
   "source": [
    "dsT = dsA.transpose() # x,y 좌표별로 데이터를 다루고 싶기에 일단 transpose 시켜본다"
   ]
  },
  {
   "cell_type": "code",
   "execution_count": 16,
   "metadata": {},
   "outputs": [
    {
     "data": {
      "text/plain": [
       "(360, 181, 284)"
      ]
     },
     "execution_count": 16,
     "metadata": {},
     "output_type": "execute_result"
    }
   ],
   "source": [
    "dsT.shape"
   ]
  },
  {
   "cell_type": "code",
   "execution_count": 17,
   "metadata": {},
   "outputs": [
    {
     "data": {
      "text/plain": [
       "(284,)"
      ]
     },
     "execution_count": 17,
     "metadata": {},
     "output_type": "execute_result"
    }
   ],
   "source": [
    "dsT[0][0].shape #그 결과 인덱싱하면 band별 관측치를 보여준다"
   ]
  },
  {
   "cell_type": "code",
   "execution_count": 18,
   "metadata": {},
   "outputs": [],
   "source": [
    "cells = []\n",
    "for x in range(ds.RasterXSize):\n",
    "    for y in range(ds.RasterYSize):\n",
    "        cells.append( (x,y, *dsT[x][y]) ) # x,y좌표를 기준으로 band별 관측치를 보려고 한다\n",
    "    "
   ]
  },
  {
   "cell_type": "code",
   "execution_count": 23,
   "metadata": {},
   "outputs": [
    {
     "data": {
      "text/plain": [
       "(65160, 286)"
      ]
     },
     "execution_count": 23,
     "metadata": {},
     "output_type": "execute_result"
    }
   ],
   "source": [
    "A = np.array(cells) #cells 리스트를 다시 array로 변환한다\n",
    "A.shape #  결과는 360*181 == 65160의 row와 2+ 284의 col을 가진 이차원 array, 2004.04.01 00시의 데이터이다"
   ]
  },
  {
   "cell_type": "markdown",
   "metadata": {},
   "source": [
    "#### 주성분 분석으로 feature의 수를 줄여보자"
   ]
  },
  {
   "cell_type": "code",
   "execution_count": 20,
   "metadata": {},
   "outputs": [],
   "source": [
    "from sklearn.decomposition import PCA\n",
    "import matplotlib.pyplot as plt\n",
    "%matplotlib inline"
   ]
  },
  {
   "cell_type": "code",
   "execution_count": 24,
   "metadata": {},
   "outputs": [],
   "source": [
    "pca = PCA(n_components=50) # n_components 몇으로 해야할까? 일단 50으로 해보자"
   ]
  },
  {
   "cell_type": "code",
   "execution_count": 32,
   "metadata": {},
   "outputs": [],
   "source": [
    "X = A[:,2:] #좌표정보를 제외한 데이터"
   ]
  },
  {
   "cell_type": "code",
   "execution_count": 33,
   "metadata": {},
   "outputs": [
    {
     "data": {
      "text/plain": [
       "PCA(copy=True, iterated_power='auto', n_components=50, random_state=None,\n",
       "  svd_solver='auto', tol=0.0, whiten=False)"
      ]
     },
     "execution_count": 33,
     "metadata": {},
     "output_type": "execute_result"
    }
   ],
   "source": [
    "pca.fit(X) #fitting"
   ]
  },
  {
   "cell_type": "code",
   "execution_count": 34,
   "metadata": {},
   "outputs": [],
   "source": [
    "Z = pca.transform(X)"
   ]
  },
  {
   "cell_type": "code",
   "execution_count": 35,
   "metadata": {},
   "outputs": [
    {
     "data": {
      "text/plain": [
       "array([[ 1.00589995e+21,  3.19612828e+18, -2.04071607e+04, ...,\n",
       "         1.30535187e+04,  3.81542022e+03,  1.09076842e+04],\n",
       "       [ 1.00589995e+21,  3.19612828e+18, -2.01824403e+04, ...,\n",
       "         1.30581766e+04,  3.81647057e+03,  1.09083671e+04],\n",
       "       [ 1.00589995e+21,  3.19612828e+18, -1.95624982e+04, ...,\n",
       "         1.30733719e+04,  3.82412183e+03,  1.08998697e+04],\n",
       "       ...,\n",
       "       [-9.93900048e+20,  3.15706195e+18,  5.69318949e+04, ...,\n",
       "        -1.29499209e+04, -3.96441137e+03, -1.08298403e+04],\n",
       "       [-9.93900048e+20,  3.15706195e+18,  5.71224897e+04, ...,\n",
       "        -1.29533622e+04, -3.96040497e+03, -1.08310124e+04],\n",
       "       [-9.93900048e+20,  3.15706195e+18,  5.75329009e+04, ...,\n",
       "        -1.29571404e+04, -3.96437898e+03, -1.08352400e+04]])"
      ]
     },
     "execution_count": 35,
     "metadata": {},
     "output_type": "execute_result"
    }
   ],
   "source": [
    "Z # 50차원으로 feature 수가 줄어들었다 이런식으로 줄어든 차원의 데이터를 클러스터링에 쓸수있다"
   ]
  },
  {
   "cell_type": "markdown",
   "metadata": {},
   "source": [
    "#### PCA를 위해 생각해볼 것\n",
    "\n",
    "1. PCA가 필요한가? 직접 필요한 변수 골라낼수없을까\n",
    "2. 날짜별로 feature의 수가 다른데 일괄적으로 차원축소 가능할까\n",
    "\n",
    "이후 구현 필요"
   ]
  },
  {
   "cell_type": "code",
   "execution_count": 141,
   "metadata": {},
   "outputs": [],
   "source": [
    "# w, U = np.linalg.eig(pca.get_covariance())"
   ]
  },
  {
   "cell_type": "code",
   "execution_count": 43,
   "metadata": {},
   "outputs": [],
   "source": [
    "# U.T.dot(A.T).T"
   ]
  },
  {
   "cell_type": "code",
   "execution_count": 44,
   "metadata": {},
   "outputs": [],
   "source": [
    "# plt.scatter(Z[:,0], Z[:,1], c='r', s=100)\n",
    "# plt.title(\"transformed data\")\n",
    "# plt.show()"
   ]
  },
  {
   "cell_type": "code",
   "execution_count": null,
   "metadata": {},
   "outputs": [],
   "source": []
  },
  {
   "cell_type": "code",
   "execution_count": null,
   "metadata": {},
   "outputs": [],
   "source": []
  }
 ],
 "metadata": {
  "kernelspec": {
   "display_name": "Python 3",
   "language": "python",
   "name": "python3"
  },
  "language_info": {
   "codemirror_mode": {
    "name": "ipython",
    "version": 3
   },
   "file_extension": ".py",
   "mimetype": "text/x-python",
   "name": "python",
   "nbconvert_exporter": "python",
   "pygments_lexer": "ipython3",
   "version": "3.6.4"
  }
 },
 "nbformat": 4,
 "nbformat_minor": 2
}
