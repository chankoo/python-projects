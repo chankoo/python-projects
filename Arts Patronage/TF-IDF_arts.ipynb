{
 "cells": [
  {
   "cell_type": "code",
   "execution_count": 1,
   "metadata": {},
   "outputs": [],
   "source": [
    "from konlpy.tag import Twitter\n",
    "\n",
    "import pandas as pd\n",
    "import pickle\n",
    "from math import log2,log10,sqrt"
   ]
  },
  {
   "cell_type": "code",
   "execution_count": 2,
   "metadata": {},
   "outputs": [],
   "source": [
    "with open('artNouns.dat','rb') as file: # 전처리 과정에서 저장한 doc별 nouns의 리스트를 load한다\n",
    "    nouns = pickle.load(file)"
   ]
  },
  {
   "cell_type": "code",
   "execution_count": 49,
   "metadata": {},
   "outputs": [],
   "source": [
    "with open('artAds.dat','rb') as file: # 전처리 과정에서 저장한 doc별 동사 형용사 부사 감탄사의 리스트를 load한다\n",
    "    ads = pickle.load(file)"
   ]
  },
  {
   "cell_type": "markdown",
   "metadata": {},
   "source": [
    "TF-IDF 기반으로 중요도 높은 단어를 뽑아보자"
   ]
  },
  {
   "cell_type": "code",
   "execution_count": 4,
   "metadata": {},
   "outputs": [
    {
     "name": "stdout",
     "output_type": "stream",
     "text": [
      "13.8 µs ± 1.36 µs per loop (mean ± std. dev. of 7 runs, 100000 loops each)\n"
     ]
    }
   ],
   "source": [
    "# %timeit set(n for n in nouns[0]) # unique한 element뽑는데 set이 더 빠름"
   ]
  },
  {
   "cell_type": "code",
   "execution_count": 5,
   "metadata": {},
   "outputs": [
    {
     "name": "stdout",
     "output_type": "stream",
     "text": [
      "88.8 µs ± 2.51 µs per loop (mean ± std. dev. of 7 runs, 10000 loops each)\n"
     ]
    }
   ],
   "source": [
    "# lst = []\n",
    "# %timeit [lst.append(n) for n in nouns[0] if n not in lst]"
   ]
  },
  {
   "cell_type": "code",
   "execution_count": 50,
   "metadata": {},
   "outputs": [],
   "source": [
    "tokens = ads #어떤 품사의 토큰을 사용할지 지정한다 ads는 [동사,형용사,부사,감탄사]"
   ]
  },
  {
   "cell_type": "code",
   "execution_count": 51,
   "metadata": {},
   "outputs": [],
   "source": [
    "unq_tokens = []\n",
    "for lst in tokens:\n",
    "    unq_tokens += lst\n",
    "unq_tokens = set(unq_tokens)"
   ]
  },
  {
   "cell_type": "code",
   "execution_count": 52,
   "metadata": {},
   "outputs": [
    {
     "data": {
      "text/plain": [
       "20478"
      ]
     },
     "execution_count": 52,
     "metadata": {},
     "output_type": "execute_result"
    }
   ],
   "source": [
    "len(unq_tokens)"
   ]
  },
  {
   "cell_type": "code",
   "execution_count": 53,
   "metadata": {},
   "outputs": [],
   "source": [
    "doc_tokens = {}\n",
    "maxCount = {}\n",
    "\n",
    "for i,lst in enumerate(tokens):\n",
    "    maxCount[i] = 0\n",
    "    tmp_tokens = {}\n",
    "    \n",
    "    for w in lst:\n",
    "        if w in tmp_tokens.keys():\n",
    "            tmp_tokens[w] += 1\n",
    "        else:\n",
    "            tmp_tokens[w] = 1\n",
    "\n",
    "        if maxCount[i] < tmp_tokens[w]:\n",
    "            maxCount[i] = tmp_tokens[w]\n",
    "                    \n",
    "    doc_tokens[i] = tmp_tokens\n"
   ]
  },
  {
   "cell_type": "code",
   "execution_count": 54,
   "metadata": {},
   "outputs": [
    {
     "data": {
      "text/plain": [
       "{'감상할': 1,\n",
       " '다를': 1,\n",
       " '달래는': 1,\n",
       " '대표하는': 1,\n",
       " '되었': 1,\n",
       " '된': 1,\n",
       " '될': 2,\n",
       " '많은': 1,\n",
       " '모아': 1,\n",
       " '받은': 1,\n",
       " '밝혔': 1,\n",
       " '사간': 1,\n",
       " '선정하여': 1,\n",
       " '소중한': 1,\n",
       " '운영해': 1,\n",
       " '이미': 1,\n",
       " '있는': 2,\n",
       " '있다': 1,\n",
       " '전시하게': 1,\n",
       " '전시하여': 1,\n",
       " '제작하였': 2,\n",
       " '제작한': 1,\n",
       " '좋': 1,\n",
       " '지원하기': 1,\n",
       " '하는': 2,\n",
       " '하여': 2,\n",
       " '한': 2,\n",
       " '희': 1}"
      ]
     },
     "execution_count": 54,
     "metadata": {},
     "output_type": "execute_result"
    }
   ],
   "source": [
    "doc_tokens[0]"
   ]
  },
  {
   "cell_type": "code",
   "execution_count": 23,
   "metadata": {},
   "outputs": [
    {
     "name": "stdout",
     "output_type": "stream",
     "text": [
      "0 - 28/2\n",
      "1 - 99/11\n",
      "2 - 50/3\n",
      "3 - 89/5\n",
      "4 - 48/6\n",
      "5 - 108/7\n",
      "6 - 53/5\n",
      "7 - 68/6\n",
      "8 - 83/11\n",
      "9 - 87/7\n",
      "10 - 209/10\n"
     ]
    }
   ],
   "source": [
    "for i,(k,v) in enumerate(doc_tokens.items()):\n",
    "    if i>10: break\n",
    "    print(\"{0} - {1}/{2}\".format(k, len(v), maxCount[k])) # 문서id-   등장단어수/가장 높았던 빈도"
   ]
  },
  {
   "cell_type": "code",
   "execution_count": 24,
   "metadata": {},
   "outputs": [],
   "source": [
    "#시간이 좀 걸린다\n",
    "invertedIdx = {}\n",
    "for token in unq_tokens:\n",
    "    invertedIdx[token] = []\n",
    "    \n",
    "    for k,v in doc_tokens.items():\n",
    "        if token in v:\n",
    "            invertedIdx[token].append(k)"
   ]
  },
  {
   "cell_type": "code",
   "execution_count": null,
   "metadata": {},
   "outputs": [],
   "source": [
    "# with open('invertedIdx.dic','wb') as file:\n",
    "#     pickle.dump(invertedIdx, file)"
   ]
  },
  {
   "cell_type": "code",
   "execution_count": 11,
   "metadata": {},
   "outputs": [],
   "source": [
    "# with open('invertedIdx_ads.dic','wb') as file:\n",
    "#     pickle.dump(invertedIdx, file)"
   ]
  },
  {
   "cell_type": "code",
   "execution_count": 16,
   "metadata": {},
   "outputs": [],
   "source": [
    "with open('invertedIdx.dic','rb') as file: # 명사로 만든 invertedIdx\n",
    "    invertedIdx = pickle.load(file)"
   ]
  },
  {
   "cell_type": "code",
   "execution_count": 55,
   "metadata": {},
   "outputs": [],
   "source": [
    "with open('invertedIdx_ads.dic','rb') as file: #ads로 만든 invertedIdx\n",
    "    invertedIdx = pickle.load(file)"
   ]
  },
  {
   "cell_type": "code",
   "execution_count": 56,
   "metadata": {},
   "outputs": [],
   "source": [
    "K = 0.5 # K + (1-K)*(f(t,d)/maxf(t,d)) 최솟값 0.5, 최댓값 1 \n",
    "TF = {}\n",
    "for k,v in doc_tokens.items():\n",
    "    tfList = {}\n",
    "    \n",
    "    for w in v:\n",
    "        tfList[w] =  K + (1-K)*(v[w]/maxCount[k])\n",
    "#         print('{0} | {1} + {2} *({3}/{4})  =  {5}'.format(\n",
    "#             w, K, (1-K), v[w], maxCount[k], tfList[w]\n",
    "#         ))\n",
    "        \n",
    "    TF[k] = tfList"
   ]
  },
  {
   "cell_type": "code",
   "execution_count": 57,
   "metadata": {},
   "outputs": [],
   "source": [
    "docSize = len(tokens)\n",
    "TFIDF = {}\n",
    "\"\"\"\n",
    "TF = doc1|{단어1:0.54, 단어2:056 ...} \n",
    "\"\"\"\n",
    "for (k,v) in TF.items():\n",
    "    idfList = {}\n",
    "    for t in v:\n",
    "        idf = log10(docSize/len(invertedIdx[t]))\n",
    "        idfList[t] = v[t] * idf\n",
    "#         print('{0} | {1} * log({2} / {3}) = {4}'.format(\n",
    "#             t, v[t], docSize, len(invertedIdx[t]), idfList[t]\n",
    "#         ))\n",
    "    \n",
    "    TFIDF[k] = idfList"
   ]
  },
  {
   "cell_type": "code",
   "execution_count": 58,
   "metadata": {},
   "outputs": [],
   "source": [
    "sortedByWeight = [sorted(dic.items(), key=lambda kv:kv[1],reverse=True) for dic in TFIDF.values()] # 내림차순 정렬해보자"
   ]
  },
  {
   "cell_type": "code",
   "execution_count": 59,
   "metadata": {},
   "outputs": [
    {
     "data": {
      "text/plain": [
       "[('변화됨', 1.8315315500404983),\n",
       " ('붓고', 1.5310365670147266),\n",
       " ('살펴보기', 1.4450686469992713),\n",
       " ('마르', 1.3389370116812562),\n",
       " ('살아나는', 1.3261291412178802),\n",
       " ('희는', 1.2887238242919956),\n",
       " ('자라난', 1.2495605738783455),\n",
       " ('행복했', 1.242887234014521),\n",
       " ('흐리', 1.2179286027996072),\n",
       " ('긁어', 1.2097283121008695),\n",
       " ('입히는', 1.2026402081085654),\n",
       " ('모색한', 1.1763896256628235),\n",
       " ('김', 1.145379680059789),\n",
       " ('입', 1.1383539756396253),\n",
       " ('지워진', 1.1312750443916961),\n",
       " ('반복한', 1.1038214644730957),\n",
       " ('확대되', 1.0899180713515009),\n",
       " ('오려', 1.0711339026174966),\n",
       " ('마련되', 1.0690188180375684),\n",
       " ('아픈', 1.0658811840980642)]"
      ]
     },
     "execution_count": 59,
     "metadata": {},
     "output_type": "execute_result"
    }
   ],
   "source": [
    "sortedByWeight[1][:20] #1번 doc의 TFIDF기반 중요단어 top10을 뽑았다"
   ]
  },
  {
   "cell_type": "markdown",
   "metadata": {},
   "source": [
    "다른 텍스트를 가져와 이를 기반으로 검색해보자 즉, tf-idf기반으로 가장 유사도가 높은 전시를 뽑아보자 "
   ]
  },
  {
   "cell_type": "code",
   "execution_count": 113,
   "metadata": {},
   "outputs": [],
   "source": [
    "query = \"\"\"빈센트 반 고흐의 대표작 중 하나로 꼽히는 <별이 빛나는 밤>은 그가 고갱과 다툰 뒤 자신의 귀를 자른 사건 이후 생레미의 요양원에 있을 때 그린 것이다. 반 고흐에게 밤하늘은 무한함을 표현하는 대상이었고, 이보다 먼저 제작된 아를의 <밤의 카페 테라스>나 <론 강 위로 별이 빛나는 밤>에서도 별이 반짝이는 밤의 정경을 다루었다. 반 고흐는 동생 테오에게 쓴 편지에서 “오늘 아침 나는 해가 뜨기 한참 전에 창문을 통해 아무것도 없고 아주 커 보이는 샛별밖에 없는 시골을 보았다.”고 했다. 이 샛별은 그림 가운데 왼쪽에 있는 커다란 흰 별일 것이다. 그가 그린 밤하늘에서는 구름과 대기, 별빛과 달빛이 폭발하고 있다. 황량하고 짙은 파란색 하늘은 세상의 종말을 연상케 하고, 그 위로는 구름이 소용돌이치며 떠있다. 달과 별의 둘레에는 뿌옇게 무리가 져있다.\n",
    "\n",
    "비연속적이고 동적인 터치로 그려진 하늘은 굽이치는 두꺼운 붓놀림으로 불꽃같은 사이프러스와 연결되고, 그 아래의 마을은 대조적으로 평온하고 고요하다. 마을은 있는 그대로 그린 것이 아니라 부분적으로는 고안되었는데, 교회 첨탑은 반 고흐의 고향 네덜란드를 연상시킨다. 그는 병실 밖으로 내다보이는 밤 풍경을 기억과 상상을 결합시켜 그렸는데, 이는 자연에 대한 반 고흐의 내적이고 주관적인 표현을 구현하고 있다. 수직으로 높이 뻗어 땅과 하늘을 연결하는 사이프러스는 전통적으로 무덤이나 애도와 연관된 나무이지만, 반 고흐는 죽음을 불길하게 보지 않았다. \n",
    "\n",
    "그는 “별을 보는 것은 언제나 나를 꿈꾸게 한다.”면서 “왜 하늘의 빛나는 점들에는 프랑스 지도의 검은 점처럼 닿을 수 없을까? 타라스콩이나 루앙에 가려면 기차를 타듯이, 우리는 별에 다다르기 위해 죽는다.”고 했다. 이 시기에 그의 필치는 더욱 두꺼워지고 더욱 열정적으로 변했으며, 꿈틀거리는 듯한 선은 별의 광채를 한층 두드러지게 한다. 이 시기의 특징인 회오리치는 듯 꿈틀거리는 필치는 강렬한 색과 결합되어 감정을 더욱 격렬하게 표현한다. 이 곡선의 화필은 굽이치는 운동감을 표현하면서, 그림 전체를 율동적인 흐름으로 통합한다.\n",
    "[네이버 지식백과] 별이 빛나는 밤 [The Starry Night] - 빈센트 반 고흐 (The Bridgeman Art Library, 지엔씨미디어)\"\"\""
   ]
  },
  {
   "cell_type": "markdown",
   "metadata": {},
   "source": [
    "ads 기준으로 해보자"
   ]
  },
  {
   "cell_type": "code",
   "execution_count": 22,
   "metadata": {},
   "outputs": [],
   "source": [
    "tw = Twitter()"
   ]
  },
  {
   "cell_type": "code",
   "execution_count": 114,
   "metadata": {},
   "outputs": [
    {
     "name": "stdout",
     "output_type": "stream",
     "text": [
      "{'꼽히는': 1, '빛나는': 4, '다툰': 1, '자른': 1, '있': 1, '표현하는': 1, '이었': 1, '된': 2, '아': 2, '반짝이는': 1, '다루었': 1, '쓴': 1, '뜨': 1, '없고': 1, '커': 1, '보이는': 1, '없는': 1, '보았': 1, '했': 2, '있는': 2, '커다란': 1, '흰': 1, '있다': 2, '짙은': 1, '하고': 1, '떠': 1, '져': 1, '그려진': 1, '치는': 3, '두꺼운': 1, '같은': 1, '연결되': 1, '고요하다': 1, '아니': 1, '되었': 1, '시킨': 1, '내다보': 1, '시켜': 1, '그렸': 1, '이는': 1, '뻗어': 1, '연결하는': 1, '하게': 2, '않았': 1, '보는': 1, '언제나': 1, '나를': 1, '꿈꾸게': 1, '한': 3, '검은': 1, '닿': 1, '없': 1, '가려': 1, '타': 1, '다': 1, '다르': 1, '죽는': 1, '필': 2, '두꺼워': 1, '변했': 1, '두드러지': 1, '강렬한': 1, '되어': 1, '표현한': 1, '표현하면': 1}\n"
     ]
    }
   ],
   "source": [
    "query_ads = {}\n",
    "maxCount = 0\n",
    "\n",
    "\n",
    "for w in [tag[0] for tag in tw.pos(query) if tag[1] in ['Adjective','Adverb','Verb','Exclamation']]:\n",
    "    if w in query_ads.keys():\n",
    "        query_ads[w] += 1\n",
    "    else:\n",
    "        query_ads[w] = 1\n",
    "\n",
    "    if maxCount < query_ads[w]:\n",
    "        maxCount = query_ads[w]\n",
    "\n",
    "print(query_ads)"
   ]
  },
  {
   "cell_type": "code",
   "execution_count": 103,
   "metadata": {},
   "outputs": [],
   "source": [
    "# # noun 기준 코드\n",
    "# query_nouns = {}\n",
    "# maxCount = 0\n",
    "\n",
    "# for w in tw.nouns(query):\n",
    "#     if w in query_nouns.keys():\n",
    "#         query_nouns[w] += 1\n",
    "#     else:\n",
    "#         query_nouns[w] = 1\n",
    "\n",
    "#     if maxCount < query_nouns[w]:\n",
    "#         maxCount = query_nouns[w]\n",
    "    \n",
    "# print(query_nouns)"
   ]
  },
  {
   "cell_type": "markdown",
   "metadata": {},
   "source": [
    "쿼리를 한 doc으로 보고 가중치를 구한다, 여기서는 tf만 구했다"
   ]
  },
  {
   "cell_type": "code",
   "execution_count": 122,
   "metadata": {},
   "outputs": [
    {
     "name": "stdout",
     "output_type": "stream",
     "text": [
      "꼽히는 | 0.5 + 0.5 *(1/4)  =  0.625\n",
      "빛나는 | 0.5 + 0.5 *(4/4)  =  1.0\n",
      "다툰 | 0.5 + 0.5 *(1/4)  =  0.625\n",
      "자른 | 0.5 + 0.5 *(1/4)  =  0.625\n",
      "있 | 0.5 + 0.5 *(1/4)  =  0.625\n",
      "표현하는 | 0.5 + 0.5 *(1/4)  =  0.625\n",
      "이었 | 0.5 + 0.5 *(1/4)  =  0.625\n",
      "된 | 0.5 + 0.5 *(2/4)  =  0.75\n",
      "아 | 0.5 + 0.5 *(2/4)  =  0.75\n",
      "반짝이는 | 0.5 + 0.5 *(1/4)  =  0.625\n",
      "다루었 | 0.5 + 0.5 *(1/4)  =  0.625\n",
      "쓴 | 0.5 + 0.5 *(1/4)  =  0.625\n",
      "뜨 | 0.5 + 0.5 *(1/4)  =  0.625\n",
      "없고 | 0.5 + 0.5 *(1/4)  =  0.625\n",
      "커 | 0.5 + 0.5 *(1/4)  =  0.625\n",
      "보이는 | 0.5 + 0.5 *(1/4)  =  0.625\n",
      "없는 | 0.5 + 0.5 *(1/4)  =  0.625\n",
      "보았 | 0.5 + 0.5 *(1/4)  =  0.625\n",
      "했 | 0.5 + 0.5 *(2/4)  =  0.75\n",
      "있는 | 0.5 + 0.5 *(2/4)  =  0.75\n",
      "커다란 | 0.5 + 0.5 *(1/4)  =  0.625\n",
      "흰 | 0.5 + 0.5 *(1/4)  =  0.625\n",
      "있다 | 0.5 + 0.5 *(2/4)  =  0.75\n",
      "짙은 | 0.5 + 0.5 *(1/4)  =  0.625\n",
      "하고 | 0.5 + 0.5 *(1/4)  =  0.625\n",
      "떠 | 0.5 + 0.5 *(1/4)  =  0.625\n",
      "져 | 0.5 + 0.5 *(1/4)  =  0.625\n",
      "그려진 | 0.5 + 0.5 *(1/4)  =  0.625\n",
      "치는 | 0.5 + 0.5 *(3/4)  =  0.875\n",
      "두꺼운 | 0.5 + 0.5 *(1/4)  =  0.625\n",
      "같은 | 0.5 + 0.5 *(1/4)  =  0.625\n",
      "연결되 | 0.5 + 0.5 *(1/4)  =  0.625\n",
      "고요하다 | 0.5 + 0.5 *(1/4)  =  0.625\n",
      "아니 | 0.5 + 0.5 *(1/4)  =  0.625\n",
      "되었 | 0.5 + 0.5 *(1/4)  =  0.625\n",
      "시킨 | 0.5 + 0.5 *(1/4)  =  0.625\n",
      "내다보 | 0.5 + 0.5 *(1/4)  =  0.625\n",
      "시켜 | 0.5 + 0.5 *(1/4)  =  0.625\n",
      "그렸 | 0.5 + 0.5 *(1/4)  =  0.625\n",
      "이는 | 0.5 + 0.5 *(1/4)  =  0.625\n",
      "뻗어 | 0.5 + 0.5 *(1/4)  =  0.625\n",
      "연결하는 | 0.5 + 0.5 *(1/4)  =  0.625\n",
      "하게 | 0.5 + 0.5 *(2/4)  =  0.75\n",
      "않았 | 0.5 + 0.5 *(1/4)  =  0.625\n",
      "보는 | 0.5 + 0.5 *(1/4)  =  0.625\n",
      "언제나 | 0.5 + 0.5 *(1/4)  =  0.625\n",
      "나를 | 0.5 + 0.5 *(1/4)  =  0.625\n",
      "꿈꾸게 | 0.5 + 0.5 *(1/4)  =  0.625\n",
      "한 | 0.5 + 0.5 *(3/4)  =  0.875\n",
      "검은 | 0.5 + 0.5 *(1/4)  =  0.625\n",
      "닿 | 0.5 + 0.5 *(1/4)  =  0.625\n",
      "없 | 0.5 + 0.5 *(1/4)  =  0.625\n",
      "가려 | 0.5 + 0.5 *(1/4)  =  0.625\n",
      "타 | 0.5 + 0.5 *(1/4)  =  0.625\n",
      "다 | 0.5 + 0.5 *(1/4)  =  0.625\n",
      "다르 | 0.5 + 0.5 *(1/4)  =  0.625\n",
      "죽는 | 0.5 + 0.5 *(1/4)  =  0.625\n",
      "필 | 0.5 + 0.5 *(2/4)  =  0.75\n",
      "두꺼워 | 0.5 + 0.5 *(1/4)  =  0.625\n",
      "변했 | 0.5 + 0.5 *(1/4)  =  0.625\n",
      "두드러지 | 0.5 + 0.5 *(1/4)  =  0.625\n",
      "강렬한 | 0.5 + 0.5 *(1/4)  =  0.625\n",
      "되어 | 0.5 + 0.5 *(1/4)  =  0.625\n",
      "표현한 | 0.5 + 0.5 *(1/4)  =  0.625\n",
      "표현하면 | 0.5 + 0.5 *(1/4)  =  0.625\n"
     ]
    }
   ],
   "source": [
    "query_weight = {}\n",
    "\n",
    "for k,v in query_ads.items():\n",
    "    query_weight[k] = K + (1-K) * (v/maxCount)\n",
    "    print('{0} | {1} + {2} *({3}/{4})  =  {5}'.format(\n",
    "            k, K, (1-K), v, maxCount, query_weight[k]\n",
    "        ))"
   ]
  },
  {
   "cell_type": "code",
   "execution_count": 123,
   "metadata": {},
   "outputs": [],
   "source": [
    "#문서별로 norm을 구한다\n",
    "doc_len = {} #문서1:길이, 문서2:길이 ...\n",
    "\n",
    "for k,v in TFIDF.items(): #k는 문서id, v는 단어를 키, 가중치를 밸류로 가진 딕셔너리\n",
    "    sumPow = 0\n",
    "    \n",
    "    for t in v:\n",
    "        sumPow += v[t]**2\n",
    "    \n",
    "    doc_len[k] = sqrt(sumPow)"
   ]
  },
  {
   "cell_type": "code",
   "execution_count": 124,
   "metadata": {},
   "outputs": [
    {
     "data": {
      "text/plain": [
       "14.714445993734014"
      ]
     },
     "execution_count": 124,
     "metadata": {},
     "output_type": "execute_result"
    }
   ],
   "source": [
    "#쿼리의 norm을 구한다\n",
    "for k,v in query_weight.items(): #k는 문서id, v는 단어를 키, 가중치를 밸류로 가진 딕셔너리\n",
    "#     print(k,v)\n",
    "    sumPow += v**2\n",
    "    \n",
    "query_len = sqrt(sumPow)\n",
    "query_len"
   ]
  },
  {
   "cell_type": "code",
   "execution_count": 125,
   "metadata": {},
   "outputs": [],
   "source": [
    "result = {}\n",
    "for k,v in query_weight.items():\n",
    "    if k in invertedIdx.keys():\n",
    "        for docid in invertedIdx[k]:\n",
    "            if docid in result.keys():\n",
    "                result[docid] += TFIDF[docid][k] * query_weight[k]\n",
    "            else:\n",
    "                result[docid] = TFIDF[docid][k] * query_weight[k]"
   ]
  },
  {
   "cell_type": "code",
   "execution_count": 126,
   "metadata": {},
   "outputs": [],
   "source": [
    "for k,v in result.items():\n",
    "    result[k] = v/(doc_len[k]*query_len) # 코사인 유사도"
   ]
  },
  {
   "cell_type": "code",
   "execution_count": 127,
   "metadata": {},
   "outputs": [],
   "source": [
    "top = sorted(result.items(),reverse = True, key= lambda kv:kv[1])[:10] # 유사도 높은 전시 top 10"
   ]
  },
  {
   "cell_type": "code",
   "execution_count": 128,
   "metadata": {},
   "outputs": [
    {
     "name": "stdout",
     "output_type": "stream",
     "text": [
      "[3503] 유사도:0.05499725946706687\n",
      "[5790] 유사도:0.051602620957071174\n",
      "[12730] 유사도:0.05097031857804088\n",
      "[5696] 유사도:0.04774590754843096\n",
      "[14372] 유사도:0.04655719963517263\n",
      "[7839] 유사도:0.045282252610838576\n",
      "[1825] 유사도:0.04466985058089504\n",
      "[10585] 유사도:0.04427984674649625\n",
      "[2830] 유사도:0.04416506452655589\n",
      "[15066] 유사도:0.044045524934394314\n"
     ]
    }
   ],
   "source": [
    "for k,v in top:\n",
    "    print(\"[{0}] 유사도:{1}\".format(k,v)) # 해당문서와 쿼리간의 정렬된 코사인 유사도를 도출"
   ]
  },
  {
   "cell_type": "markdown",
   "metadata": {},
   "source": [
    "비슷하다고 뽑아놓은 전시...\n",
    "\n",
    "http://www.arthub.co.kr/sub01/board03_view.htm?No=19337\n"
   ]
  },
  {
   "cell_type": "code",
   "execution_count": null,
   "metadata": {},
   "outputs": [],
   "source": []
  }
 ],
 "metadata": {
  "kernelspec": {
   "display_name": "Python 3",
   "language": "python",
   "name": "python3"
  },
  "language_info": {
   "codemirror_mode": {
    "name": "ipython",
    "version": 3
   },
   "file_extension": ".py",
   "mimetype": "text/x-python",
   "name": "python",
   "nbconvert_exporter": "python",
   "pygments_lexer": "ipython3",
   "version": "3.6.4"
  }
 },
 "nbformat": 4,
 "nbformat_minor": 2
}
