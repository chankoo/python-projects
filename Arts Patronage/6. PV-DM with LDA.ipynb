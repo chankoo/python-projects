{
 "cells": [
  {
   "cell_type": "code",
   "execution_count": 1,
   "metadata": {},
   "outputs": [
    {
     "name": "stderr",
     "output_type": "stream",
     "text": [
      "C:\\Users\\Chankoo\\Anaconda3\\lib\\site-packages\\gensim\\utils.py:1197: UserWarning: detected Windows; aliasing chunkize to chunkize_serial\n",
      "  warnings.warn(\"detected Windows; aliasing chunkize to chunkize_serial\")\n"
     ]
    }
   ],
   "source": [
    "import pandas as pd\n",
    "import numpy as np\n",
    "import matplotlib.pyplot as plt\n",
    "\n",
    "import gensim\n",
    "from gensim import corpora\n",
    "from gensim.models.ldamodel import LdaModel\n",
    "from gensim.models.doc2vec import Doc2Vec, TaggedDocument\n",
    "\n",
    "from konlpy.tag import Twitter\n",
    "from collections import Counter\n",
    "from wordcloud import WordCloud\n",
    "\n",
    "import pickle\n",
    "import re"
   ]
  },
  {
   "cell_type": "code",
   "execution_count": 109,
   "metadata": {},
   "outputs": [],
   "source": [
    "query=\"\"\"제작배경\n",
    "1888년, 반 고흐(Vincent Van Gogh, 1853-1890)는 프랑스 남부에 위치한 아를(Arles)에서 화가 공동체를 실현시키고자 했다. 반 고흐가 꿈 꾸는 화가 공동체란 여러 명의 화가가 한 공간에 모여 작품 토론도 하고 작품활동도 하는 것이었다. 반 고흐는 아를에 도착한 뒤 한동안 호텔에 머물다 라마르틴 광장(Place Lamartine)에 있는 집을 빌렸다. ‘노란집(Yellow House)’이라 불리는 이 곳에서 반 고흐는 다른 화가들과 함께 생활하길 원했다.\n",
    "\n",
    "반 고흐는 동료화가들 중 특히 평소에 존경하던 고갱(Eugène Henri Paul Gauguin, 1848-1903)과 함께 하고 싶었다. 그는 5월부터 무려 5달 동안 고갱에게 편지를 썼고, 그의 동생 테오도르 반 고흐(Theodore Van Gogh, 1857-1890) 또한 고갱을 아를로 부르기 위해 노력했다. 긴 설득 끝에 고갱은 아를의 ‘노란 집’에 올 것을 약속했고 반 고흐는 그와 함께 생활할 보금자리를 정성스럽게 꾸미기 시작했다. 평소 해바라기 꽃을 유달리 좋아했던 반 고흐는 그들의 화실을 노란색의 해바라기로 가득 채우고 싶었다. 그러나 화실 전체를 해바라기로 장식하고자 했던 첫 계획과는 달리 반 고흐는 연작 중 잘 된 작품 두 점만을 고갱이 쓸 방에 걸어두었다. 1888년 완성된 12송이의 해바라기가 그려진 <해바라기>는 8월에 고흐가 그린 <해바라기>연작 중 하나이다.\n",
    "\n",
    "작품과 표현기법\n",
    "반 고흐는 선보다는 색채를 중시한 몽티셀리(Adolphe Joseph Thomas Monticelli, 1824-1886)를 들라크루아(Ferdinand Victor Eugène Delacroix, 1798-1863)의 정신을 계승한 색채의 대가로 생각했다. 반 고흐는 특히 몽티셀리의 정물화에 영향을 받았다. 그의 정물화는 강렬한 색채와 두꺼운 붓 터치로 인한 질감표현이 특징이다. 반 고흐는 몽티셀리의 화풍을 수용해 화병에 꽂힌 꽃들을 그리기 시작했다. 이 그림에서 우리는 화병에 꽂혀 있는 12송이의 해바라기를 볼 수 있다. 반 고흐는 동생 테오에게 보낸 편지에 ‘해바라기는 빨리 시들어버리기 때문에 나는 매일 아침 일찍부터 황혼이 올 무렵까지 해바라기를 그린다’라 적고 있다. 그래서일까? 그림 속 해바라기는 제각각 다른 모습이다. 어떤 해바라기는 활짝 피어있으나 또 다른 해바라기는 바닥을 향한 채 시들어가고 있다. 상상의 세계가 아닌 실제 보이는 것을 재빠르게 그려낼 때 포착 가능한 시간의 흐름을 이 작품에서 느낄 수 있다.\n",
    "\n",
    "반 고흐는 고갱과 함께 머물 집을 “파란색과 노란색의 심포니” 구도를 가진 장식적인 해바라기들로 꾸미고 싶었다. 반 고흐는 평소 색채 효과에 지대한 관심을 가지고 있었고 이를 작품에 적용하고자 했다. 보색대비에 의한 색채효과를 선호한 반 고흐는 희미한 말라카이트 그린부터 로열 블루까지 다양한 푸른색을 배경으로 따뜻한 노란색의 해바라기를 그리고자 했다. 해바라기의 노란색은 반 고흐가 개인적으로 좋아한 색이기도 하다. \n",
    "\n",
    "베르나르(Émile Bernard, 1868 -1941)는 태양의 색깔을 닮은 해바라기의 노란 빛을 “반 고흐가 회화에서뿐만 아니라 마음 속에서도 꿈꿔왔던 빛”이라 말했다. <해바라기>란 작품을 살펴보면, 한 화면에 노란색의 해바라기와 대비를 이루는 옅은 녹색을 배경을 배치함으로써 그가 원했던 장식적인 효과를 얻고 있음을 볼 수 있다. 또한 반 고흐 특유의 임파스토(impasto: 유화물감을 두껍게 칠하여 그림을 그리는 것을 이르는 말)기법은 화병의 꽃들을 실제 꽃들처럼 생생한 질감을 부여하고 있다.\n",
    "\"\"\""
   ]
  },
  {
   "cell_type": "code",
   "execution_count": 55,
   "metadata": {},
   "outputs": [],
   "source": [
    "query = \"\"\"험프티 덤프티, 그리핀, 흰토끼가 의문의 죽음을 맞았다.\n",
    "살해 용의자는… 앨리스? \n",
    "\n",
    "전 세계가 사랑하는 고전 《이상한 나라의 앨리스》와\n",
    "본격 미스터리의 기묘한 만남\n",
    "\n",
    "\n",
    "2014 ‘이 미스터리가 대단하다’ 4위\n",
    "\n",
    "2014 ‘본격 미스터리 베스트 10’ 6위\n",
    "2014 ‘미스터리가 읽고 싶다’ 8위\n",
    "2014 ‘게이분도 서점 소설 대상’ 1위\n",
    "2013 ‘《주간분슌》 선정 미스터리 베스트 10’ 13위\n",
    "\n",
    "《이상한 나라의 앨리스》가 가진 환상성에\n",
    "그로테스크한 묘사와 치밀한 논리가 더해진 본격 미스터리 화제작\n",
    "\n",
    "1995년 데뷔작 <완구수리자>로 일본호러소설대상 단편상을 수상한 이래, 고바야시 야스미는 호러와 SF, 미스터리를 자유롭게 넘나들며 독특한 색깔을 가진 ‘고바야시 월드’를 구축해왔다. 그간 <바다를 보는 사람>으로 SF매거진 독자상을,《천국와 지옥》으로 세이운 상을 수상하고, 《밀실․살인》과 《커다란 숲의 자그마한 밀실》로 미스터리 독자들의 지지까지 얻는 등 다양한 장르를 소화하는 작가로 주목을 받았으며, 특히 서로 다른 장르적 특성을 하나의 작품에 자연스럽게 녹여내는 탁월한 능력으로 높이 평가받았다. 세심한 규칙과 논리적 설정으로 미스터리의 틀을 충분히 갖추고 있으면서도 호러소설의 실력자다운 잔혹 묘사를 더해 일반적인 미스터리와 다른 묘한 분위기를 느낄 수 있게 하는 것이 고바야시 미스터리만의 강점이다. 신작 《앨리스 죽이기》는 여기서 한 걸음 더 나아가 세계적 고전과의 접목을 시도한 작품으로, 작가가 20여 년간 쌓아온 역량들이 고스란히 집약되어 있다. 루이스 캐럴의 환상소설 《이상한 나라의 앨리스》를 바탕으로 꿈과 현실 사이를 오가며 연쇄살인마를 추적하는 과정을 그린 이 소설은 ‘고전과 미스터리의 성공적 결합’이라는 호평을 받으며 2014년 ‘이 미스터리가 대단하다’ 4위, ‘본격 미스터리 베스트 10’ 6위에 오르는 등 일본의 주요 미스터리 랭킹에 이름을 올렸다. \n",
    "\n",
    "\n",
    "죽음으로 이어진 두 세계, 누명을 벗을 시간은 단 7일\n",
    "진범을 찾지 못하면 앨리스도 나도 죽는다!\n",
    "\n",
    "앨리스가 도마뱀 빌과 잡담을 나누고 있을 때 달걀 험프티 덤프티가 여왕의 정원 담 위에서 추락사한다. 3월 토끼와 미치광이 모자 장수는 살인사건이라며 호들갑을 떨어대고, 앨리스는 사건 현장에서 그녀를 보았다는 목격자 흰토끼의 증언 때문에 용의자로 몰린다. \n",
    "한편 3월 토끼와 모자 장수가 등장하는 이상한 꿈에 시달리던 대학원생 아리는 같은 대학의 연구원 오지가 옥상에서 추락사했다는 소식을 전해 듣고, 동기인 이모리와 사건에 대해 이야기하던 중 그가 자신과 같은 꿈을 꾸고 있음을 알게 된다. 각기 다른 두 세계에서 일어난 죽음이 하나로 이어져 있으며, 자신들이 각각 앨리스와 빌이라는 사실을 깨달은 아리와 이모리. 두 사람은 앨리스의 누명을 벗기기 위해 흰토끼를 찾아가기로 하지만, 곧 또 다른 살인사건이 일어나고 앨리스와 아리에겐 더 큰 위기가 닥쳐온다.\n",
    "《앨리스 죽이기》의 바탕이 된 《이상한 나라의 앨리스》는 영미권을 넘어 전 세계에서 강력한 영향력을 발휘하는 작품이다. 기괴한 상상력과 유머 감각, 어지러울 정도의 언어유희, 그로테스크한 캐릭터들이 돋보이는 이 소설은 때로는 아이들을 위한 동화로, 때로는 심리학, 사회학 등 다양한 분야의 연구 대상으로 읽혀왔으며, 문학과 만화, 영화 등 다양한 예술 분야에 영감을 주어 수많은 콘텐츠를 탄생시켰다. 만화 《암스》가 《이상한 나라의 앨리스》를 주요 모티프로 삼고 있고, 미야베 미유키의 소설 《스나크 사냥》이 루이스 캐럴의 풍자시 <스나크 사냥>을 바탕으로 한 것임은 이미 잘 알려진 사실이다. 《앨리스 죽이기》는 이에 더해 캐럴이 창조해낸 앨리스의 세계를 소설의 주요한 축으로 세우고, 흰토끼와 도마뱀 빌, 여왕, 모자 장수, 그리핀 등 책이나 영화로 《이상한 나라의 앨리스》를 접한 독자라면 누구나 친근하게 느낄 만한 캐릭터들도 고스란히 미스터리의 세계로 옮겨 온다. 또한 원작의 언어유희에 고바야시 야스미 특유의 그로테스크하고 잔혹한 묘사를 더해 등장인물들 간의 대화나 사건에 대한 묘사를 읽어나가는 것만으로도 적지 않은 즐거움을 느낄 수 있게 한다. 무엇보다도 현실과 꿈속을 오가며 두 세계에 남겨진 연쇄살인의 단서를 찾아 범인을 추리해나가는 과정이 놀라울 만큼 흥미진진하다. 현실 세계의 인물과 앨리스 세계의 인물을 비교하며 누가 누군지를 맞춰보고 범인이 놓친 단서들을 따라가다 보면 소설의 마지막에 이르러 작가가 치밀하게 준비해둔 반전과 마주치게 될 것이다. \"\"\""
   ]
  },
  {
   "cell_type": "code",
   "execution_count": 56,
   "metadata": {},
   "outputs": [],
   "source": [
    "tw = Twitter() #형태소 분석기로 Twitter를 이용한다"
   ]
  },
  {
   "cell_type": "code",
   "execution_count": 57,
   "metadata": {},
   "outputs": [],
   "source": [
    "query_tokens = tw.nouns(query) #query 텍스트에서 명사를 추출해 토큰화한다"
   ]
  },
  {
   "cell_type": "code",
   "execution_count": 58,
   "metadata": {},
   "outputs": [],
   "source": [
    "query_bow = dic.doc2bow(query_tokens) # query_tokens을 Bag of Words 형태로 바꿔준다"
   ]
  },
  {
   "cell_type": "code",
   "execution_count": 30,
   "metadata": {},
   "outputs": [],
   "source": [
    "ldamodel = LdaModel.load('lda_exhb_10.model') # 미리 학습된 LDA 모델을 불러온다 토픽의 수는 10"
   ]
  },
  {
   "cell_type": "code",
   "execution_count": 59,
   "metadata": {},
   "outputs": [
    {
     "data": {
      "text/plain": [
       "[(0, 0.03670331),\n",
       " (1, 0.039232206),\n",
       " (2, 0.22957072),\n",
       " (3, 0.045454133),\n",
       " (4, 0.31593537),\n",
       " (5, 0.0725535),\n",
       " (6, 0.015493732),\n",
       " (7, 0.08383133),\n",
       " (8, 0.05490612),\n",
       " (9, 0.106319554)]"
      ]
     },
     "execution_count": 59,
     "metadata": {},
     "output_type": "execute_result"
    }
   ],
   "source": [
    "query_topics = ldamodel.get_document_topics(query_bow) # query_bow를 토대로 query의 토픽을 추정한다. 확률값이 리턴된다\n",
    "query_topics"
   ]
  },
  {
   "cell_type": "code",
   "execution_count": 60,
   "metadata": {},
   "outputs": [
    {
     "data": {
      "text/plain": [
       "0.3159353733062744"
      ]
     },
     "execution_count": 60,
     "metadata": {},
     "output_type": "execute_result"
    }
   ],
   "source": [
    "np.max(query_topics, axis=0)[1] #이중 가장 확률이 높게 추정된 토픽을 뽑는다"
   ]
  },
  {
   "cell_type": "code",
   "execution_count": 61,
   "metadata": {},
   "outputs": [],
   "source": [
    "query_topic_weights = [(query_topic[0], query_topic[1]/np.max(query_topics, axis=0)[1]) for query_topic in query_topics] # 확률을 가중치로 변환한다"
   ]
  },
  {
   "cell_type": "code",
   "execution_count": 62,
   "metadata": {},
   "outputs": [],
   "source": [
    "query_topic_weights_dic = dict.fromkeys(range(10))\n",
    "query_topic_weights_dic.fromkeys(range(10))\n",
    "for topic, weight in query_topic_weights:\n",
    "    query_topic_weights_dic[topic] = weight"
   ]
  },
  {
   "cell_type": "code",
   "execution_count": 63,
   "metadata": {},
   "outputs": [
    {
     "data": {
      "text/plain": [
       "{0: 0.11617347726145907,\n",
       " 1: 0.12417794560001329,\n",
       " 2: 0.7266382178640721,\n",
       " 3: 0.14387161787644825,\n",
       " 4: 1.0,\n",
       " 5: 0.2296466513826201,\n",
       " 6: 0.04904082687421375,\n",
       " 7: 0.26534329393591116,\n",
       " 8: 0.17378908251574,\n",
       " 9: 0.3365231092595513}"
      ]
     },
     "execution_count": 63,
     "metadata": {},
     "output_type": "execute_result"
    }
   ],
   "source": [
    "query_topic_weights_dic # 변환된 가중치, 최대값이 1이다"
   ]
  },
  {
   "cell_type": "code",
   "execution_count": 36,
   "metadata": {},
   "outputs": [],
   "source": [
    "data = pd.read_excel('data_final.xlsx') #전시데이터를 불러온다"
   ]
  },
  {
   "cell_type": "code",
   "execution_count": 14,
   "metadata": {},
   "outputs": [],
   "source": [
    "d2vmodel = Doc2Vec.load('d2v_exhb_100.model') # 저장된 pv-dm모델을 불러온다"
   ]
  },
  {
   "cell_type": "code",
   "execution_count": 64,
   "metadata": {},
   "outputs": [
    {
     "data": {
      "text/plain": [
       "[(17005, 0.44616836309432983),\n",
       " (13588, 0.44290781021118164),\n",
       " (15464, 0.4270663857460022),\n",
       " (77, 0.40777528285980225),\n",
       " (13942, 0.4054679274559021),\n",
       " (2448, 0.40254896879196167),\n",
       " (18038, 0.3993995189666748),\n",
       " (14496, 0.3971153497695923),\n",
       " (4736, 0.3941567540168762),\n",
       " (17783, 0.3924950063228607),\n",
       " (16067, 0.3917078375816345),\n",
       " (4037, 0.39165812730789185),\n",
       " (5834, 0.39017021656036377),\n",
       " (14322, 0.3886494040489197),\n",
       " (2097, 0.38772138953208923),\n",
       " (8026, 0.38643479347229004),\n",
       " (15317, 0.38512304425239563),\n",
       " (12016, 0.38365083932876587),\n",
       " (5232, 0.3799414038658142),\n",
       " (7096, 0.3789834976196289),\n",
       " (7662, 0.3788728415966034),\n",
       " (7252, 0.37611836194992065),\n",
       " (8653, 0.37497103214263916),\n",
       " (3694, 0.3742695450782776),\n",
       " (15160, 0.37220340967178345),\n",
       " (18429, 0.3721470236778259),\n",
       " (9477, 0.3652839958667755),\n",
       " (12937, 0.3600175976753235),\n",
       " (13667, 0.35960742831230164),\n",
       " (6176, 0.3580412268638611)]"
      ]
     },
     "execution_count": 64,
     "metadata": {},
     "output_type": "execute_result"
    }
   ],
   "source": [
    "new_vector = d2vmodel.infer_vector(query_tokens,steps=100) # pv-dm 모델에 query_tokens을 넣어  query_document의  벡터를 추정한다\n",
    "sims = d2vmodel.docvecs.most_similar([new_vector],topn=30) # 전시데이터와 유사도 계산하여 높은 유사도를 뽑는다\n",
    "sims"
   ]
  },
  {
   "cell_type": "code",
   "execution_count": 65,
   "metadata": {},
   "outputs": [],
   "source": [
    "for sim in sims:\n",
    "    doc_topics = []\n",
    "    for topic in re.sub('[^0-9]','',data.iloc[sim[0], 14]): # ex '89'\n",
    "        doc_topics.append(int(topic))"
   ]
  },
  {
   "cell_type": "code",
   "execution_count": 66,
   "metadata": {},
   "outputs": [],
   "source": [
    "recs = []\n",
    "for sim in sims:\n",
    "    doc_topics = []\n",
    "    for topic in re.sub('[^0-9]','',data.iloc[sim[0], 14]): # ex '89'\n",
    "        doc_topics.append(int(topic))\n",
    "    if doc_topics == []: #topic 지정 안된 doc의 경우\n",
    "        recs.append((sim[0],sim[1],'!!!')) # sim을 그대로 저장\n",
    "        continue\n",
    "    else:\n",
    "        tmp =[]\n",
    "        for doc_topic in doc_topics: # topic 지정된 doc의 경우 \n",
    "            weight = query_topic_weights_dic[doc_topic]\n",
    "            if weight ==None:\n",
    "                weight = 0\n",
    "                \n",
    "            tmp.append(sim[1]+sim[1]*weight*0.3) # 가중치 더해 저장\n",
    "            \n",
    "        recs.append( (sim[0],np.max(tmp)) )"
   ]
  },
  {
   "cell_type": "code",
   "execution_count": 67,
   "metadata": {},
   "outputs": [
    {
     "data": {
      "text/plain": [
       "[(13588, 0.5757801532745361),\n",
       " (15464, 0.5201632129804399),\n",
       " (15317, 0.5006599575281143),\n",
       " (77, 0.4966668143076816),\n",
       " (13942, 0.49385647511818076),\n",
       " (7662, 0.4925346940755844),\n",
       " (17005, 0.49121215253485434),\n",
       " (2448, 0.490301208377765),\n",
       " (7252, 0.48895387053489686),\n",
       " (8653, 0.4874623417854309),\n",
       " (16067, 0.477096803088747),\n",
       " (4037, 0.4770362563995878),\n",
       " (9477, 0.47486919462680816),\n",
       " (14322, 0.4733716571485319),\n",
       " (12937, 0.43849836134767395),\n",
       " (14496, 0.4372068974413395),\n",
       " (6176, 0.43609115856692765),\n",
       " (5834, 0.42956060488557357),\n",
       " (7096, 0.4172445091127341),\n",
       " (4736, 0.40884042680433186),\n",
       " (8026, 0.40083079710081637),\n",
       " (18038, 0.3993995189666748, '!!!'),\n",
       " (17783, 0.3924950063228607, '!!!'),\n",
       " (18429, 0.3915495506196057),\n",
       " (3694, 0.3904235745699658),\n",
       " (13667, 0.38823325417796406),\n",
       " (2097, 0.38772138953208923, '!!!'),\n",
       " (12016, 0.38365083932876587, '!!!'),\n",
       " (5232, 0.3799414038658142, '!!!'),\n",
       " (15160, 0.37220340967178345, '!!!')]"
      ]
     },
     "execution_count": 67,
     "metadata": {},
     "output_type": "execute_result"
    }
   ],
   "source": [
    "sorted(recs, key = lambda tpl: tpl[1], reverse=True)"
   ]
  },
  {
   "cell_type": "markdown",
   "metadata": {},
   "source": [
    "가장 높은 순위로 추천된 결과를 보자"
   ]
  },
  {
   "cell_type": "code",
   "execution_count": 68,
   "metadata": {},
   "outputs": [
    {
     "name": "stdout",
     "output_type": "stream",
     "text": [
      "http://www.arthub.co.kr/sub01/board03_view.htm?No=12470\n"
     ]
    }
   ],
   "source": [
    "print(data.iloc[17005,:].링크) #가중치 부여 전"
   ]
  },
  {
   "cell_type": "code",
   "execution_count": 69,
   "metadata": {},
   "outputs": [
    {
     "name": "stdout",
     "output_type": "stream",
     "text": [
      "http://www.arthub.co.kr/sub01/board03_view.htm?No=8213\n"
     ]
    }
   ],
   "source": [
    "print(data.iloc[13588,:].링크) # 가중치 부여 후 "
   ]
  },
  {
   "cell_type": "code",
   "execution_count": null,
   "metadata": {},
   "outputs": [],
   "source": []
  }
 ],
 "metadata": {
  "kernelspec": {
   "display_name": "Python 3",
   "language": "python",
   "name": "python3"
  },
  "language_info": {
   "codemirror_mode": {
    "name": "ipython",
    "version": 3
   },
   "file_extension": ".py",
   "mimetype": "text/x-python",
   "name": "python",
   "nbconvert_exporter": "python",
   "pygments_lexer": "ipython3",
   "version": "3.6.4"
  }
 },
 "nbformat": 4,
 "nbformat_minor": 2
}
