{
 "cells": [
  {
   "cell_type": "code",
   "execution_count": 1,
   "metadata": {},
   "outputs": [],
   "source": [
    "import nltk\n",
    "from nltk.tokenize import sent_tokenize, word_tokenize, regexp_tokenize\n",
    "from konlpy.tag import Kkma,Twitter\n",
    "from collections import Counter\n",
    "\n",
    "import pandas as pd\n",
    "import numpy as np\n",
    "import matplotlib.pyplot as plt\n",
    "\n",
    "import pickle\n",
    "import csv\n",
    "from tqdm import tqdm"
   ]
  },
  {
   "cell_type": "code",
   "execution_count": 64,
   "metadata": {},
   "outputs": [],
   "source": [
    "d = pd.read_excel('test.xlsx',sheet_name='sheet1')"
   ]
  },
  {
   "cell_type": "code",
   "execution_count": 65,
   "metadata": {},
   "outputs": [
    {
     "name": "stdout",
     "output_type": "stream",
     "text": [
      "<class 'pandas.core.frame.DataFrame'>\n",
      "Int64Index: 26344 entries, 0 to 26343\n",
      "Data columns (total 13 columns):\n",
      "연월      26344 non-null int64\n",
      "전시제목    26344 non-null object\n",
      "링크      26344 non-null object\n",
      "전시작가    26344 non-null object\n",
      "전시일정    26344 non-null object\n",
      "초대일시    18971 non-null object\n",
      "관람시간    26342 non-null object\n",
      "전시장소    26342 non-null object\n",
      "주소      26326 non-null object\n",
      "연락처     26342 non-null object\n",
      "홈페이지    21614 non-null object\n",
      "아티클     26326 non-null object\n",
      "텍스트     25621 non-null object\n",
      "dtypes: int64(1), object(12)\n",
      "memory usage: 2.8+ MB\n"
     ]
    }
   ],
   "source": [
    "d.info()"
   ]
  },
  {
   "cell_type": "code",
   "execution_count": 66,
   "metadata": {},
   "outputs": [],
   "source": [
    "d.dropna(subset=['텍스트'],inplace=True) #텍스트 없는 로우 드랍"
   ]
  },
  {
   "cell_type": "code",
   "execution_count": 67,
   "metadata": {},
   "outputs": [
    {
     "data": {
      "text/plain": [
       "5101"
      ]
     },
     "execution_count": 67,
     "metadata": {},
     "output_type": "execute_result"
    }
   ],
   "source": [
    "sum(d.duplicated(subset=['텍스트'])) # 중복된 텍스트 수 "
   ]
  },
  {
   "cell_type": "code",
   "execution_count": 68,
   "metadata": {},
   "outputs": [],
   "source": [
    "toDropIndex = d[d.duplicated(subset=['텍스트'])].index"
   ]
  },
  {
   "cell_type": "code",
   "execution_count": 69,
   "metadata": {},
   "outputs": [],
   "source": [
    "d.drop(index = toDropIndex, inplace=True)"
   ]
  },
  {
   "cell_type": "code",
   "execution_count": 70,
   "metadata": {},
   "outputs": [],
   "source": [
    "toDropIndex = d[d.duplicated(subset=['전시제목','전시일정'])].index #그래도 같은 전시는 drop"
   ]
  },
  {
   "cell_type": "code",
   "execution_count": 71,
   "metadata": {},
   "outputs": [],
   "source": [
    "d.drop(index = toDropIndex, inplace=True)"
   ]
  },
  {
   "cell_type": "code",
   "execution_count": 72,
   "metadata": {},
   "outputs": [
    {
     "name": "stdout",
     "output_type": "stream",
     "text": [
      "<class 'pandas.core.frame.DataFrame'>\n",
      "Int64Index: 20514 entries, 0 to 26343\n",
      "Data columns (total 13 columns):\n",
      "연월      20514 non-null int64\n",
      "전시제목    20514 non-null object\n",
      "링크      20514 non-null object\n",
      "전시작가    20514 non-null object\n",
      "전시일정    20514 non-null object\n",
      "초대일시    16757 non-null object\n",
      "관람시간    20514 non-null object\n",
      "전시장소    20514 non-null object\n",
      "주소      20514 non-null object\n",
      "연락처     20514 non-null object\n",
      "홈페이지    17162 non-null object\n",
      "아티클     20514 non-null object\n",
      "텍스트     20514 non-null object\n",
      "dtypes: int64(1), object(12)\n",
      "memory usage: 2.2+ MB\n"
     ]
    }
   ],
   "source": [
    "d.info() # 20514 개 데이터"
   ]
  },
  {
   "cell_type": "code",
   "execution_count": 78,
   "metadata": {},
   "outputs": [],
   "source": [
    "d20514 = d.reset_index(drop=True)"
   ]
  },
  {
   "cell_type": "code",
   "execution_count": 80,
   "metadata": {},
   "outputs": [],
   "source": [
    "d20514.to_excel('d20514.xlsx')"
   ]
  },
  {
   "cell_type": "code",
   "execution_count": 81,
   "metadata": {},
   "outputs": [
    {
     "ename": "UnicodeEncodeError",
     "evalue": "'cp949' codec can't encode character '\\u8d5e' in position 14: illegal multibyte sequence",
     "output_type": "error",
     "traceback": [
      "\u001b[1;31m---------------------------------------------------------------------------\u001b[0m",
      "\u001b[1;31mUnicodeEncodeError\u001b[0m                        Traceback (most recent call last)",
      "\u001b[1;32m<ipython-input-81-5b9b1ef52ec7>\u001b[0m in \u001b[0;36m<module>\u001b[1;34m()\u001b[0m\n\u001b[0;32m      2\u001b[0m     \u001b[0mwr\u001b[0m \u001b[1;33m=\u001b[0m \u001b[0mcsv\u001b[0m\u001b[1;33m.\u001b[0m\u001b[0mwriter\u001b[0m\u001b[1;33m(\u001b[0m\u001b[0mfp\u001b[0m\u001b[1;33m)\u001b[0m\u001b[1;33m\u001b[0m\u001b[0m\n\u001b[0;32m      3\u001b[0m     \u001b[1;32mfor\u001b[0m \u001b[0mi\u001b[0m \u001b[1;32min\u001b[0m \u001b[0mrange\u001b[0m\u001b[1;33m(\u001b[0m\u001b[0md20514\u001b[0m\u001b[1;33m.\u001b[0m\u001b[0mshape\u001b[0m\u001b[1;33m[\u001b[0m\u001b[1;36m0\u001b[0m\u001b[1;33m]\u001b[0m\u001b[1;33m)\u001b[0m\u001b[1;33m:\u001b[0m\u001b[1;33m\u001b[0m\u001b[0m\n\u001b[1;32m----> 4\u001b[1;33m         \u001b[0mwr\u001b[0m\u001b[1;33m.\u001b[0m\u001b[0mwriterow\u001b[0m\u001b[1;33m(\u001b[0m\u001b[0md20514\u001b[0m\u001b[1;33m.\u001b[0m\u001b[0miloc\u001b[0m\u001b[1;33m[\u001b[0m\u001b[0mi\u001b[0m\u001b[1;33m,\u001b[0m\u001b[1;33m:\u001b[0m\u001b[1;33m]\u001b[0m\u001b[1;33m)\u001b[0m\u001b[1;33m\u001b[0m\u001b[0m\n\u001b[0m",
      "\u001b[1;31mUnicodeEncodeError\u001b[0m: 'cp949' codec can't encode character '\\u8d5e' in position 14: illegal multibyte sequence"
     ]
    }
   ],
   "source": [
    "with open('d20514.csv', 'w',newline='', encoding='cp949') as fp: # 인코딩문제\n",
    "    wr = csv.writer(fp)\n",
    "    for i in range(d20514.shape[0]):\n",
    "        wr.writerow(d20514.iloc[i,:])"
   ]
  },
  {
   "cell_type": "code",
   "execution_count": null,
   "metadata": {},
   "outputs": [],
   "source": []
  },
  {
   "cell_type": "code",
   "execution_count": 28,
   "metadata": {},
   "outputs": [],
   "source": [
    "# kkma = Kkma()\n",
    "twitter = Twitter()"
   ]
  },
  {
   "cell_type": "code",
   "execution_count": 18,
   "metadata": {},
   "outputs": [
    {
     "data": {
      "text/plain": [
       "{'Adjective': '형용사',\n",
       " 'Adverb': '부사',\n",
       " 'Alpha': '알파벳',\n",
       " 'Conjunction': '접속사',\n",
       " 'Determiner': '관형사',\n",
       " 'Eomi': '어미',\n",
       " 'Exclamation': '감탄사',\n",
       " 'Foreign': '외국어, 한자 및 기타기호',\n",
       " 'Hashtag': '트위터 해쉬태그',\n",
       " 'Josa': '조사',\n",
       " 'KoreanParticle': '(ex: ㅋㅋ)',\n",
       " 'Noun': '명사',\n",
       " 'Number': '숫자',\n",
       " 'PreEomi': '선어말어미',\n",
       " 'Punctuation': '구두점',\n",
       " 'ScreenName': '트위터 아이디',\n",
       " 'Suffix': '접미사',\n",
       " 'Unknown': '미등록어',\n",
       " 'Verb': '동사'}"
      ]
     },
     "execution_count": 18,
     "metadata": {},
     "output_type": "execute_result"
    }
   ],
   "source": [
    "twitter.tagset"
   ]
  },
  {
   "cell_type": "code",
   "execution_count": null,
   "metadata": {},
   "outputs": [],
   "source": []
  },
  {
   "cell_type": "code",
   "execution_count": null,
   "metadata": {},
   "outputs": [],
   "source": [
    "tokens = []\n",
    "for txt in d.텍스트:\n",
    "    if txt==None:\n",
    "        continue\n",
    "    tokens.append(twitter.morphs(txt)) #morphs 를 가져오자"
   ]
  },
  {
   "cell_type": "code",
   "execution_count": null,
   "metadata": {},
   "outputs": [],
   "source": [
    "nouns = []\n",
    "for i,txt in enumerate(d.텍스트):\n",
    "    try:\n",
    "        nouns.append(twitter.nouns(txt)) #nouns 만 가져오자\n",
    "    except Exception as e:\n",
    "        continue"
   ]
  },
  {
   "cell_type": "code",
   "execution_count": 37,
   "metadata": {},
   "outputs": [],
   "source": [
    "ads = []\n",
    "for txt in d.텍스트:\n",
    "    ads.append([tag[0] for tag in twitter.pos(txt) if tag[1] in ['Adjective','Adverb','Verb','Exclamation']])"
   ]
  },
  {
   "cell_type": "code",
   "execution_count": 86,
   "metadata": {},
   "outputs": [
    {
     "name": "stderr",
     "output_type": "stream",
     "text": [
      "100%|████████████████████████████████████████████████████████████████████████████| 20514/20514 [09:41<00:00, 35.30it/s]\n"
     ]
    }
   ],
   "source": [
    "ad_nouns = []\n",
    "for txt in tqdm(d.텍스트):\n",
    "    ad_nouns.append([tag[0] for tag in twitter.pos(txt) if tag[1] in ['Noun','Adjective','Adverb','Verb','Exclamation']])"
   ]
  },
  {
   "cell_type": "code",
   "execution_count": 38,
   "metadata": {},
   "outputs": [
    {
     "data": {
      "text/plain": [
       "20514"
      ]
     },
     "execution_count": 38,
     "metadata": {},
     "output_type": "execute_result"
    }
   ],
   "source": [
    "len(ads)#doc 갯수"
   ]
  },
  {
   "cell_type": "markdown",
   "metadata": {},
   "source": [
    "#### 모든 tokens"
   ]
  },
  {
   "cell_type": "code",
   "execution_count": null,
   "metadata": {},
   "outputs": [],
   "source": [
    "# with open('artTokens.dat','wb') as file: #pickle로 저장\n",
    "#     pickle.dump(tokens,file)"
   ]
  },
  {
   "cell_type": "code",
   "execution_count": 12,
   "metadata": {},
   "outputs": [],
   "source": [
    "with open('artTokens.dat','rb') as file: # load\n",
    "    tokens = pickle.load(file)"
   ]
  },
  {
   "cell_type": "code",
   "execution_count": 13,
   "metadata": {},
   "outputs": [],
   "source": [
    "plt.rcParams['font.family'] = 'NanumSquare' #그래프 위한 폰트설정"
   ]
  },
  {
   "cell_type": "code",
   "execution_count": 22,
   "metadata": {},
   "outputs": [],
   "source": [
    "tokens_all = []\n",
    "for doc in tokens:\n",
    "    tokens_all += doc"
   ]
  },
  {
   "cell_type": "code",
   "execution_count": 23,
   "metadata": {},
   "outputs": [
    {
     "data": {
      "text/plain": [
       "14804510"
      ]
     },
     "execution_count": 23,
     "metadata": {},
     "output_type": "execute_result"
    }
   ],
   "source": [
    "len(tokens_all) #14804510개  tokens"
   ]
  },
  {
   "cell_type": "code",
   "execution_count": 26,
   "metadata": {},
   "outputs": [],
   "source": [
    "toeken_all_count = Counter(tokens_all)"
   ]
  },
  {
   "cell_type": "code",
   "execution_count": 32,
   "metadata": {},
   "outputs": [],
   "source": [
    "sorted_toeken_all_count = sorted(toeken_all_count.items(), key = lambda kv:kv[1],reverse=True) # 출현빈도수로 정렬해보자"
   ]
  },
  {
   "cell_type": "code",
   "execution_count": 44,
   "metadata": {},
   "outputs": [
    {
     "data": {
      "text/plain": [
       "[('의', 567303),\n",
       " ('.', 489810),\n",
       " ('을', 471366),\n",
       " (',', 302310),\n",
       " ('이', 276362),\n",
       " ('다', 271196),\n",
       " ('에', 244084),\n",
       " ('은', 210884),\n",
       " ('를', 208916),\n",
       " ('적', 189768),\n",
       " ('는', 187019),\n",
       " ('들', 178562),\n",
       " ('한', 152090),\n",
       " ('과', 146762),\n",
       " ('으로', 134934),\n",
       " ('것', 134905),\n",
       " ('가', 132499),\n",
       " ('에서', 116223),\n",
       " ('그', 112851),\n",
       " ('이다', 96341)]"
      ]
     },
     "execution_count": 44,
     "metadata": {},
     "output_type": "execute_result"
    }
   ],
   "source": [
    "sorted_toeken_all_count[:20]"
   ]
  },
  {
   "cell_type": "markdown",
   "metadata": {},
   "source": [
    "#### nouns"
   ]
  },
  {
   "cell_type": "code",
   "execution_count": null,
   "metadata": {},
   "outputs": [],
   "source": [
    "# with open('artNouns.dat','wb') as file: #pickle로 저장\n",
    "#     pickle.dump(nouns,file)"
   ]
  },
  {
   "cell_type": "code",
   "execution_count": 17,
   "metadata": {},
   "outputs": [],
   "source": [
    "with open('artNouns.dat','rb') as file: # load\n",
    "    nouns = pickle.load(file)"
   ]
  },
  {
   "cell_type": "markdown",
   "metadata": {},
   "source": [
    "#### ads"
   ]
  },
  {
   "cell_type": "code",
   "execution_count": 39,
   "metadata": {},
   "outputs": [],
   "source": [
    "# with open('artAds.dat','wb') as file: #pickle로 저장\n",
    "#     pickle.dump(ads,file)"
   ]
  },
  {
   "cell_type": "code",
   "execution_count": 40,
   "metadata": {},
   "outputs": [],
   "source": [
    "with open('artAds.dat','rb') as file: # load\n",
    "    ads = pickle.load(file)"
   ]
  },
  {
   "cell_type": "code",
   "execution_count": null,
   "metadata": {},
   "outputs": [],
   "source": []
  },
  {
   "cell_type": "markdown",
   "metadata": {},
   "source": [
    "#### ad_nouns"
   ]
  },
  {
   "cell_type": "code",
   "execution_count": 87,
   "metadata": {},
   "outputs": [],
   "source": [
    "# with open('artAd_nouns.dat','wb') as file: #pickle로 저장\n",
    "#     pickle.dump(ad_nouns,file)"
   ]
  },
  {
   "cell_type": "code",
   "execution_count": 88,
   "metadata": {},
   "outputs": [],
   "source": [
    "with open('artAd_nouns.dat','rb') as file: # load\n",
    "    ad_nouns = pickle.load(file)"
   ]
  },
  {
   "cell_type": "code",
   "execution_count": null,
   "metadata": {},
   "outputs": [],
   "source": []
  },
  {
   "cell_type": "code",
   "execution_count": null,
   "metadata": {},
   "outputs": [],
   "source": []
  },
  {
   "cell_type": "markdown",
   "metadata": {},
   "source": [
    "작가별로 doc만들어보자"
   ]
  },
  {
   "cell_type": "code",
   "execution_count": 2,
   "metadata": {},
   "outputs": [],
   "source": [
    "#저장된 artists 딕셔너리가져온다. 키밸류로 작가,텍스트\n",
    "with open('artists.dic','rb') as file:\n",
    "    artists = pickle.load(file)"
   ]
  },
  {
   "cell_type": "code",
   "execution_count": 3,
   "metadata": {},
   "outputs": [],
   "source": [
    "#전시 횟수로 정렬한 sorted_artists\n",
    "sorted_artists = sorted(artists.items() ,key = lambda kv: len(kv[1]), reverse=True)"
   ]
  },
  {
   "cell_type": "code",
   "execution_count": 4,
   "metadata": {},
   "outputs": [],
   "source": [
    "# 전시 횟수만 뽑아보자\n",
    "exh_len = list(map(lambda el:len(el[1]), sorted_artists)) \n",
    "exh_len = np.array(exh_len)"
   ]
  },
  {
   "cell_type": "code",
   "execution_count": 5,
   "metadata": {},
   "outputs": [
    {
     "name": "stdout",
     "output_type": "stream",
     "text": [
      "mean: 1.8931784259147202 std: 2.3308666774362408\n"
     ]
    }
   ],
   "source": [
    "#전시 횟수 기초 통계\n",
    "print('mean:',exh_len.mean(),\n",
    "          'std:', exh_len.std(),\n",
    "     )"
   ]
  },
  {
   "cell_type": "code",
   "execution_count": 6,
   "metadata": {},
   "outputs": [
    {
     "data": {
      "text/plain": [
       "[<matplotlib.lines.Line2D at 0x22cd91eae10>]"
      ]
     },
     "execution_count": 6,
     "metadata": {},
     "output_type": "execute_result"
    },
    {
     "data": {
      "image/png": "[encoded data removed]",
      "text/plain": [
       "<matplotlib.figure.Figure at 0x22cd7f826a0>"
      ]
     },
     "metadata": {},
     "output_type": "display_data"
    }
   ],
   "source": [
    "plt.plot(range(len(exh_len)), exh_len) # 횟수1인 작가가 압도적으로 많다"
   ]
  },
  {
   "cell_type": "code",
   "execution_count": 7,
   "metadata": {},
   "outputs": [],
   "source": [
    "prolifics = sorted_artists[:20]"
   ]
  },
  {
   "cell_type": "code",
   "execution_count": 8,
   "metadata": {},
   "outputs": [
    {
     "data": {
      "text/plain": [
       "[49, 44, 39, 36, 35, 34, 31, 31, 29, 29]"
      ]
     },
     "execution_count": 8,
     "metadata": {},
     "output_type": "execute_result"
    }
   ],
   "source": [
    "y = list(map(lambda el:len(el[1]), prolifics)) # 다작 아티스트의 전시 수 \n",
    "y[0:10]"
   ]
  },
  {
   "cell_type": "code",
   "execution_count": 9,
   "metadata": {},
   "outputs": [
    {
     "data": {
      "text/plain": [
       "['이이남', '백남준', '김환기', '서용선', '이우환', '김종학', '김민정', '김지은', '이지연', '변대용']"
      ]
     },
     "execution_count": 9,
     "metadata": {},
     "output_type": "execute_result"
    }
   ],
   "source": [
    "x = list(map(lambda el:el[0], prolifics))\n",
    "x[0:10]"
   ]
  },
  {
   "cell_type": "code",
   "execution_count": 17,
   "metadata": {},
   "outputs": [],
   "source": [
    "plt.rcParams['font.family'] = 'NanumSquare' #그래프 위한 폰트설정"
   ]
  },
  {
   "cell_type": "code",
   "execution_count": 18,
   "metadata": {},
   "outputs": [
    {
     "data": {
      "text/plain": [
       "<Container object of 20 artists>"
      ]
     },
     "execution_count": 18,
     "metadata": {},
     "output_type": "execute_result"
    },
    {
     "data": {
      "image/png": "[encoded data removed]",
      "text/plain": [
       "<matplotlib.figure.Figure at 0x1b9ed0f4278>"
      ]
     },
     "metadata": {},
     "output_type": "display_data"
    }
   ],
   "source": [
    "plt.figure(figsize = (15,15))\n",
    "plt.bar(x,y)"
   ]
  },
  {
   "cell_type": "code",
   "execution_count": 17,
   "metadata": {},
   "outputs": [],
   "source": [
    "sorted_artists_twice = [artist for artist in sorted_artists if len(artist[1])>1]"
   ]
  },
  {
   "cell_type": "code",
   "execution_count": 20,
   "metadata": {},
   "outputs": [
    {
     "data": {
      "text/plain": [
       "7565"
      ]
     },
     "execution_count": 20,
     "metadata": {},
     "output_type": "execute_result"
    }
   ],
   "source": [
    "len(sorted_artists_twice) # 두번 이상 전시했던 7565명의 작가"
   ]
  },
  {
   "cell_type": "code",
   "execution_count": 19,
   "metadata": {},
   "outputs": [
    {
     "data": {
      "text/plain": [
       "('양재문(Yang Jaemoon)',\n",
       " ['지난 육십 평생을 \\n        돌이켜 보면 삼십 년은 보통사람으로 삼십 년은 사진가라는 이름으로 살아 오면서 내 안에 살아 숨쉬는 있는 욕구를 위해 셔터를 \\n        수 없이 눌러왔지만 대부분의 많은 이미지들이 휴지통으로 혹은 나만의 은밀한 방에 잠시 걸렸다가 세상의 빛을 보지 못하고 사라져 \\n        갔다. 오랜 시간 사진과 같이 해오면서 근래 들어 부쩍 사진에 대해서 생각하는 시간이 많아졌다. 과연 사진의 본질은 무엇인가. \\n        결국은 사진 그 자체 보다는 어떻게 쓰이는가가 더 우선이라는 데 무게가 더해졌다. 무엇이든 다시 시작하는 것은 언제나 그리 늦지도 \\n        빠르지도 아니하다. 눈으로 볼 수 없는 시간을 자로 재듯이 살아갈 필요도 없고 타인과 비교할 필요도 없는 것이기 때문이다. 덜하다고 \\n        낙망할 필요도, 넘친다고 자만할 필요도 없는 것이 무념으로 가는 지름길일 것이라 나는 믿는다. 이 번 전시는 내 가슴에 고이 \\n        간직해오던 아름답고 소중한 성적 감성과 더불어 어쩌면 부끄러울 수도 있는 본능적 욕구를 은밀하게 드러내는 작업이다. 어쩌면 나는 \\n        체면이라는 가면 때문에 전시장에 작품을 설치하기 직전에 바꾸는 비굴함을 선보일지도 모른다. 그래도 나는 묵묵히 가고자 한다. \\n        설령 길이 보이지 않아도 나는 갈 것이다. 지금까지 사진을 찍어 오면서 진솔하게 느낀 것이 하나 있다면 그 것은 바로 셔터를 \\n        누르지 않으면 사진이 찍히지 않는다는 것이다. 아무리 힘든 여정이라도 걸어 가다 보면 사막의 신기루처럼 언제나 사진은 그렇게 \\n        나에게 다가와 주었다. 나의 인생에 함께해준 참으로 고마운 사진에게, 그리고 그 동안 내 사진 안으로 들어와준 이 세상 모든 \\n        것에 대하여 고마운 마음으로 남은 사진 여생을 다시 시작하려 한다. ⓒ',\n",
       "  '삼성스마트 카메라 \\n        NX 씨리즈로 예술의 도시 파리를 촬영한 사진가 양재문의 개인전이 2013년 12월 18일부터 12월 23일까지 경인미술관에서 \\n        열린다. 이 번 전시는 작가가 젊은 시절 에리히 마리아 레마르크의 소설 ‘개선문’에서 읽혀졌던 칼바도스를 통해 막연한 동경으로 \\n        다가왔던 파리에 대한 감미로움과 함께 날카로운 자극으로 다가오는 또 다른 시간적인 감성을 표현한 작업으로 사진의 순수성 안에서 \\n        혼신을 다하여 크로노스가 아닌 카이로스를 표현한 작품을 선보인다. 촬영 순간 심연에 잠재된 기억의 지표로 촬영자 자신의 병력구술에 \\n        의해 드러난 단편들이라 평한 이경률 교수는 작가가 보여주는 사진들은 작가 특유의 시선으로 거의 반사적 속도로 움직이는 위대한 \\n        직감의 카이로스들이라고 말한다. 단순히 자신의 독백을 설명하는 웅변이 아니라 그것을 수용하는 응시자에게 또 다른 기억의 형이상학을 \\n        지시해 주는 이번 전시는 작가의 절제된 시각과 파리에 대한 또 다른 감흥을 엿 볼 수 있는 좋은 기회가 될 것이다. ⓒ'])"
      ]
     },
     "execution_count": 19,
     "metadata": {},
     "output_type": "execute_result"
    }
   ],
   "source": [
    "sorted_artists_twice[-1]"
   ]
  },
  {
   "cell_type": "code",
   "execution_count": 22,
   "metadata": {},
   "outputs": [],
   "source": [
    "with open('sorted_artists_twice.lst','wb') as file:\n",
    "    pickle.dump(sorted_artists_twice,file)"
   ]
  },
  {
   "cell_type": "code",
   "execution_count": 23,
   "metadata": {},
   "outputs": [],
   "source": [
    "with open('sorted_artists_twice.lst','rb') as file:\n",
    "    sorted_artists_twice = pickle.load(file)"
   ]
  },
  {
   "cell_type": "code",
   "execution_count": 24,
   "metadata": {},
   "outputs": [],
   "source": [
    "sorted_artists_corpus= list(map(lambda el:(el[0], '\\n'.join(el[1])), sorted_artists_twice))"
   ]
  },
  {
   "cell_type": "code",
   "execution_count": 26,
   "metadata": {},
   "outputs": [
    {
     "data": {
      "text/plain": [
       "('양재문(Yang Jaemoon)',\n",
       " '지난 육십 평생을 \\n        돌이켜 보면 삼십 년은 보통사람으로 삼십 년은 사진가라는 이름으로 살아 오면서 내 안에 살아 숨쉬는 있는 욕구를 위해 셔터를 \\n        수 없이 눌러왔지만 대부분의 많은 이미지들이 휴지통으로 혹은 나만의 은밀한 방에 잠시 걸렸다가 세상의 빛을 보지 못하고 사라져 \\n        갔다. 오랜 시간 사진과 같이 해오면서 근래 들어 부쩍 사진에 대해서 생각하는 시간이 많아졌다. 과연 사진의 본질은 무엇인가. \\n        결국은 사진 그 자체 보다는 어떻게 쓰이는가가 더 우선이라는 데 무게가 더해졌다. 무엇이든 다시 시작하는 것은 언제나 그리 늦지도 \\n        빠르지도 아니하다. 눈으로 볼 수 없는 시간을 자로 재듯이 살아갈 필요도 없고 타인과 비교할 필요도 없는 것이기 때문이다. 덜하다고 \\n        낙망할 필요도, 넘친다고 자만할 필요도 없는 것이 무념으로 가는 지름길일 것이라 나는 믿는다. 이 번 전시는 내 가슴에 고이 \\n        간직해오던 아름답고 소중한 성적 감성과 더불어 어쩌면 부끄러울 수도 있는 본능적 욕구를 은밀하게 드러내는 작업이다. 어쩌면 나는 \\n        체면이라는 가면 때문에 전시장에 작품을 설치하기 직전에 바꾸는 비굴함을 선보일지도 모른다. 그래도 나는 묵묵히 가고자 한다. \\n        설령 길이 보이지 않아도 나는 갈 것이다. 지금까지 사진을 찍어 오면서 진솔하게 느낀 것이 하나 있다면 그 것은 바로 셔터를 \\n        누르지 않으면 사진이 찍히지 않는다는 것이다. 아무리 힘든 여정이라도 걸어 가다 보면 사막의 신기루처럼 언제나 사진은 그렇게 \\n        나에게 다가와 주었다. 나의 인생에 함께해준 참으로 고마운 사진에게, 그리고 그 동안 내 사진 안으로 들어와준 이 세상 모든 \\n        것에 대하여 고마운 마음으로 남은 사진 여생을 다시 시작하려 한다. ⓒ\\n삼성스마트 카메라 \\n        NX 씨리즈로 예술의 도시 파리를 촬영한 사진가 양재문의 개인전이 2013년 12월 18일부터 12월 23일까지 경인미술관에서 \\n        열린다. 이 번 전시는 작가가 젊은 시절 에리히 마리아 레마르크의 소설 ‘개선문’에서 읽혀졌던 칼바도스를 통해 막연한 동경으로 \\n        다가왔던 파리에 대한 감미로움과 함께 날카로운 자극으로 다가오는 또 다른 시간적인 감성을 표현한 작업으로 사진의 순수성 안에서 \\n        혼신을 다하여 크로노스가 아닌 카이로스를 표현한 작품을 선보인다. 촬영 순간 심연에 잠재된 기억의 지표로 촬영자 자신의 병력구술에 \\n        의해 드러난 단편들이라 평한 이경률 교수는 작가가 보여주는 사진들은 작가 특유의 시선으로 거의 반사적 속도로 움직이는 위대한 \\n        직감의 카이로스들이라고 말한다. 단순히 자신의 독백을 설명하는 웅변이 아니라 그것을 수용하는 응시자에게 또 다른 기억의 형이상학을 \\n        지시해 주는 이번 전시는 작가의 절제된 시각과 파리에 대한 또 다른 감흥을 엿 볼 수 있는 좋은 기회가 될 것이다. ⓒ')"
      ]
     },
     "execution_count": 26,
     "metadata": {},
     "output_type": "execute_result"
    }
   ],
   "source": [
    "sorted_artists_corpus[-1]"
   ]
  },
  {
   "cell_type": "markdown",
   "metadata": {},
   "source": [
    "corpus에서 tokens를 뽑아내자"
   ]
  },
  {
   "cell_type": "code",
   "execution_count": 29,
   "metadata": {},
   "outputs": [
    {
     "name": "stderr",
     "output_type": "stream",
     "text": [
      "100%|██████████████████████████████████████████████████████████████████████████████| 7565/7565 [16:41<00:00,  7.56it/s]\n"
     ]
    }
   ],
   "source": [
    "artists_twice_tokens = []\n",
    "for artist in tqdm(sorted_artists_corpus):\n",
    "    tokens = twitter.morphs(artist[1])\n",
    "    artists_twice_tokens.append((artist[0],tokens))"
   ]
  },
  {
   "cell_type": "code",
   "execution_count": 30,
   "metadata": {},
   "outputs": [
    {
     "data": {
      "text/plain": [
       "('양재문(Yang Jaemoon)',\n",
       " ['지난',\n",
       "  '육십',\n",
       "  '평생',\n",
       "  '을',\n",
       "  '돌이',\n",
       "  '켜',\n",
       "  '보면',\n",
       "  '삼십',\n",
       "  '년',\n",
       "  '은',\n",
       "  '보통사람',\n",
       "  '으로',\n",
       "  '삼십',\n",
       "  '년',\n",
       "  '은',\n",
       "  '사진가',\n",
       "  '라는',\n",
       "  '이름',\n",
       "  '으로',\n",
       "  '살',\n",
       "  '아',\n",
       "  '오면',\n",
       "  '서',\n",
       "  '내',\n",
       "  '안',\n",
       "  '에',\n",
       "  '살',\n",
       "  '아',\n",
       "  '숨',\n",
       "  '쉬는',\n",
       "  '있는',\n",
       "  '욕구',\n",
       "  '를',\n",
       "  '위해',\n",
       "  '셔터',\n",
       "  '를',\n",
       "  '수',\n",
       "  '없이',\n",
       "  '눌러',\n",
       "  '왔',\n",
       "  '지만',\n",
       "  '대부분',\n",
       "  '의',\n",
       "  '많은',\n",
       "  '이미지',\n",
       "  '들',\n",
       "  '이',\n",
       "  '휴지통',\n",
       "  '으로',\n",
       "  '혹은',\n",
       "  '나',\n",
       "  '만의',\n",
       "  '은밀',\n",
       "  '한',\n",
       "  '방',\n",
       "  '에',\n",
       "  '잠시',\n",
       "  '걸렸',\n",
       "  '다가',\n",
       "  '세상',\n",
       "  '의',\n",
       "  '빛',\n",
       "  '을',\n",
       "  '보지',\n",
       "  '못',\n",
       "  '하고',\n",
       "  '사라져',\n",
       "  '갔',\n",
       "  '다',\n",
       "  '.',\n",
       "  '오랜',\n",
       "  '시간',\n",
       "  '사진',\n",
       "  '과',\n",
       "  '같이',\n",
       "  '해오면',\n",
       "  '서',\n",
       "  '근래',\n",
       "  '들어',\n",
       "  '부쩍',\n",
       "  '사진',\n",
       "  '에',\n",
       "  '대해서',\n",
       "  '생각하는',\n",
       "  '시간',\n",
       "  '이',\n",
       "  '많아졌',\n",
       "  '다',\n",
       "  '.',\n",
       "  '과연',\n",
       "  '사진',\n",
       "  '의',\n",
       "  '본질',\n",
       "  '은',\n",
       "  '무엇',\n",
       "  '인가',\n",
       "  '.',\n",
       "  '결국',\n",
       "  '은',\n",
       "  '사진',\n",
       "  '그',\n",
       "  '자체',\n",
       "  '보다는',\n",
       "  '어떻',\n",
       "  '게',\n",
       "  '쓰이는',\n",
       "  '가',\n",
       "  '가',\n",
       "  '더',\n",
       "  '우선',\n",
       "  '이라는',\n",
       "  '데',\n",
       "  '무게',\n",
       "  '가',\n",
       "  '더해',\n",
       "  '졌',\n",
       "  '다',\n",
       "  '.',\n",
       "  '무엇',\n",
       "  '이든',\n",
       "  '다시',\n",
       "  '시작하는',\n",
       "  '것',\n",
       "  '은',\n",
       "  '언제나',\n",
       "  '그리',\n",
       "  '늦지',\n",
       "  '도',\n",
       "  '빠르',\n",
       "  '지도',\n",
       "  '아니',\n",
       "  '하',\n",
       "  '다',\n",
       "  '.',\n",
       "  '눈',\n",
       "  '으로',\n",
       "  '볼',\n",
       "  '수',\n",
       "  '없는',\n",
       "  '시간',\n",
       "  '을',\n",
       "  '자로',\n",
       "  '재',\n",
       "  '듯이',\n",
       "  '살아갈',\n",
       "  '필요',\n",
       "  '도',\n",
       "  '없고',\n",
       "  '타인',\n",
       "  '과',\n",
       "  '비교할',\n",
       "  '필요',\n",
       "  '도',\n",
       "  '없는',\n",
       "  '것',\n",
       "  '이기',\n",
       "  '때문',\n",
       "  '이다',\n",
       "  '.',\n",
       "  '덜',\n",
       "  '하',\n",
       "  '다고',\n",
       "  '낙망',\n",
       "  '할',\n",
       "  '필요',\n",
       "  '도',\n",
       "  ',',\n",
       "  '넘친',\n",
       "  '다고',\n",
       "  '자만',\n",
       "  '할',\n",
       "  '필요',\n",
       "  '도',\n",
       "  '없는',\n",
       "  '것',\n",
       "  '이',\n",
       "  '무념',\n",
       "  '으로',\n",
       "  '가는',\n",
       "  '지름길',\n",
       "  '일',\n",
       "  '것',\n",
       "  '이라',\n",
       "  '나',\n",
       "  '는',\n",
       "  '믿는',\n",
       "  '다',\n",
       "  '.',\n",
       "  '이',\n",
       "  '번',\n",
       "  '전시',\n",
       "  '는',\n",
       "  '내',\n",
       "  '가슴',\n",
       "  '에',\n",
       "  '고이',\n",
       "  '간직',\n",
       "  '해오던',\n",
       "  '아름답',\n",
       "  '고',\n",
       "  '소중한',\n",
       "  '성적',\n",
       "  '감성',\n",
       "  '과',\n",
       "  '더불어',\n",
       "  '어쩌면',\n",
       "  '부끄러',\n",
       "  '울',\n",
       "  '수도',\n",
       "  '있는',\n",
       "  '본능',\n",
       "  '적',\n",
       "  '욕구',\n",
       "  '를',\n",
       "  '은밀',\n",
       "  '하게',\n",
       "  '드러내는',\n",
       "  '작업',\n",
       "  '이다',\n",
       "  '.',\n",
       "  '어쩌면',\n",
       "  '나',\n",
       "  '는',\n",
       "  '체면',\n",
       "  '이라는',\n",
       "  '가면',\n",
       "  '때문',\n",
       "  '에',\n",
       "  '전시장',\n",
       "  '에',\n",
       "  '작품',\n",
       "  '을',\n",
       "  '설치하기',\n",
       "  '직전',\n",
       "  '에',\n",
       "  '바꾸는',\n",
       "  '비굴',\n",
       "  '함',\n",
       "  '을',\n",
       "  '선',\n",
       "  '보일',\n",
       "  '지도',\n",
       "  '모른',\n",
       "  '다',\n",
       "  '.',\n",
       "  '그래도',\n",
       "  '나',\n",
       "  '는',\n",
       "  '묵묵',\n",
       "  '히',\n",
       "  '가고',\n",
       "  '자',\n",
       "  '한',\n",
       "  '다',\n",
       "  '.',\n",
       "  '설령',\n",
       "  '길이',\n",
       "  '보이지',\n",
       "  '않아',\n",
       "  '도',\n",
       "  '나',\n",
       "  '는',\n",
       "  '갈',\n",
       "  '것',\n",
       "  '이다',\n",
       "  '.',\n",
       "  '지금',\n",
       "  '까지',\n",
       "  '사진',\n",
       "  '을',\n",
       "  '찍어',\n",
       "  '오면',\n",
       "  '서',\n",
       "  '진솔',\n",
       "  '하게',\n",
       "  '느낀',\n",
       "  '것',\n",
       "  '이',\n",
       "  '하나',\n",
       "  '있다',\n",
       "  '면',\n",
       "  '그',\n",
       "  '것',\n",
       "  '은',\n",
       "  '바로',\n",
       "  '셔터',\n",
       "  '를',\n",
       "  '누르',\n",
       "  '지',\n",
       "  '않으',\n",
       "  '면',\n",
       "  '사진',\n",
       "  '이',\n",
       "  '찍히',\n",
       "  '지',\n",
       "  '않는',\n",
       "  '다는',\n",
       "  '것',\n",
       "  '이다',\n",
       "  '.',\n",
       "  '아무리',\n",
       "  '힘든',\n",
       "  '여정',\n",
       "  '이라도',\n",
       "  '걸어',\n",
       "  '가다',\n",
       "  '보면',\n",
       "  '사막',\n",
       "  '의',\n",
       "  '신기루',\n",
       "  '처럼',\n",
       "  '언제나',\n",
       "  '사진',\n",
       "  '은',\n",
       "  '그렇게',\n",
       "  '나',\n",
       "  '에게',\n",
       "  '다가와',\n",
       "  '주었',\n",
       "  '다',\n",
       "  '.',\n",
       "  '나',\n",
       "  '의',\n",
       "  '인생',\n",
       "  '에',\n",
       "  '함께해준',\n",
       "  '참으로',\n",
       "  '고마운',\n",
       "  '사진',\n",
       "  '에게',\n",
       "  ',',\n",
       "  '그리고',\n",
       "  '그',\n",
       "  '동안',\n",
       "  '내',\n",
       "  '사진',\n",
       "  '안',\n",
       "  '으로',\n",
       "  '들어와',\n",
       "  '준',\n",
       "  '이',\n",
       "  '세상',\n",
       "  '모든',\n",
       "  '것',\n",
       "  '에',\n",
       "  '대하여',\n",
       "  '고마운',\n",
       "  '마음',\n",
       "  '으로',\n",
       "  '남은',\n",
       "  '사진',\n",
       "  '여생',\n",
       "  '을',\n",
       "  '다시',\n",
       "  '시작하려',\n",
       "  '한',\n",
       "  '다',\n",
       "  '.',\n",
       "  'ⓒ',\n",
       "  '삼성',\n",
       "  '스마트',\n",
       "  '카메라',\n",
       "  'NX',\n",
       "  '씨',\n",
       "  '리즈',\n",
       "  '로',\n",
       "  '예술',\n",
       "  '의',\n",
       "  '도시',\n",
       "  '파리',\n",
       "  '를',\n",
       "  '촬영',\n",
       "  '한',\n",
       "  '사진가',\n",
       "  '양재',\n",
       "  '문의',\n",
       "  '개인',\n",
       "  '전이',\n",
       "  '2013',\n",
       "  '년',\n",
       "  '12',\n",
       "  '월',\n",
       "  '18',\n",
       "  '일',\n",
       "  '부터',\n",
       "  '12',\n",
       "  '월',\n",
       "  '23',\n",
       "  '일',\n",
       "  '까지',\n",
       "  '경인',\n",
       "  '미술관',\n",
       "  '에서',\n",
       "  '열린',\n",
       "  '다',\n",
       "  '.',\n",
       "  '이',\n",
       "  '번',\n",
       "  '전시',\n",
       "  '는',\n",
       "  '작가',\n",
       "  '가',\n",
       "  '젊은',\n",
       "  '시절',\n",
       "  '에리',\n",
       "  '히',\n",
       "  '마리아',\n",
       "  '레마르크',\n",
       "  '의',\n",
       "  '소설',\n",
       "  '‘',\n",
       "  '개선문',\n",
       "  '’',\n",
       "  '에서',\n",
       "  '읽혀',\n",
       "  '졌',\n",
       "  '던',\n",
       "  '칼바도스',\n",
       "  '를',\n",
       "  '통해',\n",
       "  '막연',\n",
       "  '한',\n",
       "  '동경',\n",
       "  '으로',\n",
       "  '다가왔',\n",
       "  '던',\n",
       "  '파리',\n",
       "  '에',\n",
       "  '대한',\n",
       "  '감미',\n",
       "  '로움',\n",
       "  '과',\n",
       "  '함께',\n",
       "  '날카로운',\n",
       "  '자극',\n",
       "  '으로',\n",
       "  '다가오는',\n",
       "  '또',\n",
       "  '다른',\n",
       "  '시간',\n",
       "  '적',\n",
       "  '인',\n",
       "  '감성',\n",
       "  '을',\n",
       "  '표현한',\n",
       "  '작업',\n",
       "  '으로',\n",
       "  '사진',\n",
       "  '의',\n",
       "  '순수',\n",
       "  '성',\n",
       "  '안',\n",
       "  '에서',\n",
       "  '혼신',\n",
       "  '을',\n",
       "  '다하여',\n",
       "  '크로노스',\n",
       "  '가',\n",
       "  '아닌',\n",
       "  '카이',\n",
       "  '로스',\n",
       "  '를',\n",
       "  '표현한',\n",
       "  '작품',\n",
       "  '을',\n",
       "  '선',\n",
       "  '보인',\n",
       "  '다',\n",
       "  '.',\n",
       "  '촬영',\n",
       "  '순간',\n",
       "  '심연',\n",
       "  '에',\n",
       "  '잠재',\n",
       "  '된',\n",
       "  '기억',\n",
       "  '의',\n",
       "  '지표',\n",
       "  '로',\n",
       "  '촬영',\n",
       "  '자',\n",
       "  '자신',\n",
       "  '의',\n",
       "  '병력',\n",
       "  '구술',\n",
       "  '에',\n",
       "  '의해',\n",
       "  '드러난',\n",
       "  '단편',\n",
       "  '들',\n",
       "  '이라',\n",
       "  '평',\n",
       "  '한',\n",
       "  '이경',\n",
       "  '률',\n",
       "  '교수',\n",
       "  '는',\n",
       "  '작가',\n",
       "  '가',\n",
       "  '보여',\n",
       "  '주',\n",
       "  '는',\n",
       "  '사진',\n",
       "  '들',\n",
       "  '은',\n",
       "  '작가',\n",
       "  '특유',\n",
       "  '의',\n",
       "  '시선',\n",
       "  '으로',\n",
       "  '거의',\n",
       "  '반사',\n",
       "  '적',\n",
       "  '속도',\n",
       "  '로',\n",
       "  '움직이는',\n",
       "  '위대한',\n",
       "  '직감',\n",
       "  '의',\n",
       "  '카이',\n",
       "  '로스',\n",
       "  '들',\n",
       "  '이라고',\n",
       "  '말한',\n",
       "  '다',\n",
       "  '.',\n",
       "  '단순히',\n",
       "  '자신',\n",
       "  '의',\n",
       "  '독백',\n",
       "  '을',\n",
       "  '설명하는',\n",
       "  '웅변',\n",
       "  '이',\n",
       "  '아니',\n",
       "  '라',\n",
       "  '그것',\n",
       "  '을',\n",
       "  '수용',\n",
       "  '하는',\n",
       "  '응시',\n",
       "  '자',\n",
       "  '에게',\n",
       "  '또',\n",
       "  '다른',\n",
       "  '기억',\n",
       "  '의',\n",
       "  '형이상학',\n",
       "  '을',\n",
       "  '지시해',\n",
       "  '주는',\n",
       "  '이번',\n",
       "  '전시',\n",
       "  '는',\n",
       "  '작가',\n",
       "  '의',\n",
       "  '절제',\n",
       "  '된',\n",
       "  '시각',\n",
       "  '과',\n",
       "  '파리',\n",
       "  '에',\n",
       "  '대한',\n",
       "  '또',\n",
       "  '다른',\n",
       "  '감흥',\n",
       "  '을',\n",
       "  '엿',\n",
       "  '볼',\n",
       "  '수',\n",
       "  '있는',\n",
       "  '좋',\n",
       "  '은',\n",
       "  '기회',\n",
       "  '가',\n",
       "  '될',\n",
       "  '것',\n",
       "  '이다',\n",
       "  '.',\n",
       "  'ⓒ'])"
      ]
     },
     "execution_count": 30,
     "metadata": {},
     "output_type": "execute_result"
    }
   ],
   "source": [
    "artists_twice_tokens[-1]"
   ]
  },
  {
   "cell_type": "code",
   "execution_count": 31,
   "metadata": {},
   "outputs": [],
   "source": [
    "with open('artists_twice_tokens.lst','wb') as file:\n",
    "    pickle.dump(artists_twice_tokens,file)"
   ]
  },
  {
   "cell_type": "code",
   "execution_count": null,
   "metadata": {},
   "outputs": [],
   "source": []
  }
 ],
 "metadata": {
  "kernelspec": {
   "display_name": "Python 3",
   "language": "python",
   "name": "python3"
  },
  "language_info": {
   "codemirror_mode": {
    "name": "ipython",
    "version": 3
   },
   "file_extension": ".py",
   "mimetype": "text/x-python",
   "name": "python",
   "nbconvert_exporter": "python",
   "pygments_lexer": "ipython3",
   "version": "3.6.4"
  }
 },
 "nbformat": 4,
 "nbformat_minor": 2
}
