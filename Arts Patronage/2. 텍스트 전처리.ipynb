{
 "cells": [
  {
   "cell_type": "code",
   "execution_count": 1,
   "metadata": {},
   "outputs": [],
   "source": [
    "import nltk\n",
    "from nltk.tokenize import sent_tokenize, word_tokenize, regexp_tokenize\n",
    "from konlpy.tag import Kkma,Twitter\n",
    "from collections import Counter\n",
    "\n",
    "import pandas as pd\n",
    "import numpy as np\n",
    "import matplotlib.pyplot as plt\n",
    "\n",
    "import pickle\n",
    "import csv\n",
    "from tqdm import tqdm"
   ]
  },
  {
   "cell_type": "code",
   "execution_count": 10,
   "metadata": {},
   "outputs": [],
   "source": [
    "d = pd.read_excel('test_all_preprocessed.xlsx',sheet_name='sheet1')"
   ]
  },
  {
   "cell_type": "code",
   "execution_count": 4,
   "metadata": {},
   "outputs": [
    {
     "name": "stdout",
     "output_type": "stream",
     "text": [
      "<class 'pandas.core.frame.DataFrame'>\n",
      "Int64Index: 19238 entries, 0 to 19237\n",
      "Data columns (total 14 columns):\n",
      "연월      19238 non-null int64\n",
      "전시제목    19238 non-null object\n",
      "링크      19238 non-null object\n",
      "전시작가    19238 non-null object\n",
      "전시일정    19238 non-null object\n",
      "초대일시    15640 non-null object\n",
      "관람시간    19238 non-null object\n",
      "전시장소    19238 non-null object\n",
      "주소      19238 non-null object\n",
      "연락처     19238 non-null object\n",
      "홈페이지    16096 non-null object\n",
      "아티클     19238 non-null object\n",
      "텍스트     19238 non-null object\n",
      "이미지     19238 non-null object\n",
      "dtypes: int64(1), object(13)\n",
      "memory usage: 2.2+ MB\n"
     ]
    }
   ],
   "source": [
    "d.info()"
   ]
  },
  {
   "cell_type": "code",
   "execution_count": 4,
   "metadata": {},
   "outputs": [],
   "source": [
    "d.dropna(subset=['텍스트'],inplace=True) #텍스트 없는 로우 드랍"
   ]
  },
  {
   "cell_type": "code",
   "execution_count": 5,
   "metadata": {},
   "outputs": [
    {
     "name": "stdout",
     "output_type": "stream",
     "text": [
      "<class 'pandas.core.frame.DataFrame'>\n",
      "Int64Index: 19238 entries, 0 to 19237\n",
      "Data columns (total 14 columns):\n",
      "연월      19238 non-null int64\n",
      "전시제목    19238 non-null object\n",
      "링크      19238 non-null object\n",
      "전시작가    19238 non-null object\n",
      "전시일정    19238 non-null object\n",
      "초대일시    15640 non-null object\n",
      "관람시간    19238 non-null object\n",
      "전시장소    19238 non-null object\n",
      "주소      19238 non-null object\n",
      "연락처     19238 non-null object\n",
      "홈페이지    16096 non-null object\n",
      "아티클     19238 non-null object\n",
      "텍스트     19238 non-null object\n",
      "이미지     19238 non-null object\n",
      "dtypes: int64(1), object(13)\n",
      "memory usage: 2.2+ MB\n"
     ]
    }
   ],
   "source": [
    "d.info()"
   ]
  },
  {
   "cell_type": "code",
   "execution_count": 6,
   "metadata": {},
   "outputs": [
    {
     "data": {
      "text/plain": [
       "136"
      ]
     },
     "execution_count": 6,
     "metadata": {},
     "output_type": "execute_result"
    }
   ],
   "source": [
    "sum(d.duplicated(subset=['텍스트'])) # 중복된 텍스트 수 "
   ]
  },
  {
   "cell_type": "code",
   "execution_count": 19,
   "metadata": {},
   "outputs": [],
   "source": [
    "toDropIndex = d[d.duplicated(subset=['텍스트'])].index"
   ]
  },
  {
   "cell_type": "code",
   "execution_count": 20,
   "metadata": {},
   "outputs": [],
   "source": [
    "d.drop(index = toDropIndex, inplace=True)"
   ]
  },
  {
   "cell_type": "code",
   "execution_count": 21,
   "metadata": {},
   "outputs": [
    {
     "name": "stdout",
     "output_type": "stream",
     "text": [
      "<class 'pandas.core.frame.DataFrame'>\n",
      "Int64Index: 19102 entries, 0 to 19237\n",
      "Data columns (total 14 columns):\n",
      "연월      19102 non-null int64\n",
      "전시제목    19102 non-null object\n",
      "링크      19102 non-null object\n",
      "전시작가    19102 non-null object\n",
      "전시일정    19102 non-null object\n",
      "초대일시    15527 non-null object\n",
      "관람시간    19102 non-null object\n",
      "전시장소    19102 non-null object\n",
      "주소      19102 non-null object\n",
      "연락처     19102 non-null object\n",
      "홈페이지    16001 non-null object\n",
      "아티클     19102 non-null object\n",
      "텍스트     19102 non-null object\n",
      "이미지     19102 non-null object\n",
      "dtypes: int64(1), object(13)\n",
      "memory usage: 2.2+ MB\n"
     ]
    }
   ],
   "source": [
    "d.info()"
   ]
  },
  {
   "cell_type": "code",
   "execution_count": 8,
   "metadata": {},
   "outputs": [],
   "source": [
    "toDropIndex = d[d.duplicated(subset=['전시제목','전시일정'])].index #그래도 같은 전시는 drop"
   ]
  },
  {
   "cell_type": "code",
   "execution_count": 9,
   "metadata": {},
   "outputs": [],
   "source": [
    "d.drop(index = toDropIndex, inplace=True)"
   ]
  },
  {
   "cell_type": "code",
   "execution_count": 10,
   "metadata": {},
   "outputs": [
    {
     "name": "stdout",
     "output_type": "stream",
     "text": [
      "<class 'pandas.core.frame.DataFrame'>\n",
      "Int64Index: 19099 entries, 0 to 19237\n",
      "Data columns (total 14 columns):\n",
      "연월      19099 non-null int64\n",
      "전시제목    19099 non-null object\n",
      "링크      19099 non-null object\n",
      "전시작가    19099 non-null object\n",
      "전시일정    19099 non-null object\n",
      "초대일시    15524 non-null object\n",
      "관람시간    19099 non-null object\n",
      "전시장소    19099 non-null object\n",
      "주소      19099 non-null object\n",
      "연락처     19099 non-null object\n",
      "홈페이지    15998 non-null object\n",
      "아티클     19099 non-null object\n",
      "텍스트     19099 non-null object\n",
      "이미지     19099 non-null object\n",
      "dtypes: int64(1), object(13)\n",
      "memory usage: 2.2+ MB\n"
     ]
    }
   ],
   "source": [
    "d.info() # 19099 개 데이터"
   ]
  },
  {
   "cell_type": "code",
   "execution_count": 11,
   "metadata": {},
   "outputs": [],
   "source": [
    "d19099 = d.reset_index(drop=True)"
   ]
  },
  {
   "cell_type": "code",
   "execution_count": 12,
   "metadata": {},
   "outputs": [],
   "source": [
    "d19099.to_excel('d19099.xlsx')"
   ]
  },
  {
   "cell_type": "code",
   "execution_count": null,
   "metadata": {},
   "outputs": [],
   "source": []
  },
  {
   "cell_type": "code",
   "execution_count": 6,
   "metadata": {},
   "outputs": [],
   "source": [
    "# kkma = Kkma()\n",
    "twitter = Twitter()"
   ]
  },
  {
   "cell_type": "code",
   "execution_count": 16,
   "metadata": {},
   "outputs": [
    {
     "data": {
      "text/plain": [
       "{'Adjective': '형용사',\n",
       " 'Adverb': '부사',\n",
       " 'Alpha': '알파벳',\n",
       " 'Conjunction': '접속사',\n",
       " 'Determiner': '관형사',\n",
       " 'Eomi': '어미',\n",
       " 'Exclamation': '감탄사',\n",
       " 'Foreign': '외국어, 한자 및 기타기호',\n",
       " 'Hashtag': '트위터 해쉬태그',\n",
       " 'Josa': '조사',\n",
       " 'KoreanParticle': '(ex: ㅋㅋ)',\n",
       " 'Noun': '명사',\n",
       " 'Number': '숫자',\n",
       " 'PreEomi': '선어말어미',\n",
       " 'Punctuation': '구두점',\n",
       " 'ScreenName': '트위터 아이디',\n",
       " 'Suffix': '접미사',\n",
       " 'Unknown': '미등록어',\n",
       " 'Verb': '동사'}"
      ]
     },
     "execution_count": 16,
     "metadata": {},
     "output_type": "execute_result"
    }
   ],
   "source": [
    "twitter.tagset"
   ]
  },
  {
   "cell_type": "code",
   "execution_count": null,
   "metadata": {},
   "outputs": [],
   "source": []
  },
  {
   "cell_type": "code",
   "execution_count": 17,
   "metadata": {},
   "outputs": [
    {
     "name": "stderr",
     "output_type": "stream",
     "text": [
      "100%|████████████████████████████████████████████████████████████████████████████| 19099/19099 [09:55<00:00, 32.07it/s]\n"
     ]
    }
   ],
   "source": [
    "tokens = []\n",
    "for txt in tqdm(d.텍스트):\n",
    "    if txt==None:\n",
    "        continue\n",
    "    tokens.append(twitter.morphs(txt)) #morphs 를 가져오자"
   ]
  },
  {
   "cell_type": "code",
   "execution_count": 15,
   "metadata": {},
   "outputs": [
    {
     "name": "stderr",
     "output_type": "stream",
     "text": [
      "100%|████████████████████████████████████████████████████████████████████████████| 19099/19099 [10:46<00:00, 29.54it/s]\n"
     ]
    }
   ],
   "source": [
    "nouns = []\n",
    "for txt in tqdm(d.텍스트):\n",
    "    try:\n",
    "        nouns.append(twitter.nouns(txt)) #nouns 만 가져오자\n",
    "    except Exception as e:\n",
    "        continue"
   ]
  },
  {
   "cell_type": "code",
   "execution_count": 37,
   "metadata": {},
   "outputs": [],
   "source": [
    "# ads = []\n",
    "# for txt in d.텍스트:\n",
    "#     ads.append([tag[0] for tag in twitter.pos(txt) if tag[1] in ['Adjective','Adverb','Verb']])"
   ]
  },
  {
   "cell_type": "code",
   "execution_count": 16,
   "metadata": {},
   "outputs": [
    {
     "name": "stderr",
     "output_type": "stream",
     "text": [
      "100%|████████████████████████████████████████████████████████████████████████████| 19099/19099 [10:31<00:00, 30.24it/s]\n"
     ]
    }
   ],
   "source": [
    "ad_nouns = []\n",
    "for txt in tqdm(d.텍스트):\n",
    "    ad_nouns.append([tag[0] for tag in twitter.pos(txt) if tag[1] in ['Noun','Adjective','Adverb','Verb']])"
   ]
  },
  {
   "cell_type": "code",
   "execution_count": 21,
   "metadata": {},
   "outputs": [
    {
     "data": {
      "text/plain": [
       "19099"
      ]
     },
     "execution_count": 21,
     "metadata": {},
     "output_type": "execute_result"
    }
   ],
   "source": [
    "len(ad_nouns)#doc 갯수"
   ]
  },
  {
   "cell_type": "markdown",
   "metadata": {},
   "source": [
    "#### 모든 tokens"
   ]
  },
  {
   "cell_type": "code",
   "execution_count": 28,
   "metadata": {},
   "outputs": [],
   "source": [
    "# with open('artMorphs_final.dat','wb') as file: #pickle로 저장\n",
    "#     pickle.dump(tokens,file)"
   ]
  },
  {
   "cell_type": "code",
   "execution_count": 29,
   "metadata": {},
   "outputs": [],
   "source": [
    "with open('artMorphs_final.dat','rb') as file: # load\n",
    "    tokens = pickle.load(file)"
   ]
  },
  {
   "cell_type": "code",
   "execution_count": 20,
   "metadata": {},
   "outputs": [],
   "source": [
    "plt.rcParams['font.family'] = 'NanumSquare' #그래프 위한 폰트설정"
   ]
  },
  {
   "cell_type": "code",
   "execution_count": 31,
   "metadata": {},
   "outputs": [],
   "source": [
    "tokens_all = []\n",
    "for doc in tokens:\n",
    "    tokens_all += doc"
   ]
  },
  {
   "cell_type": "code",
   "execution_count": 32,
   "metadata": {},
   "outputs": [
    {
     "data": {
      "text/plain": [
       "13351207"
      ]
     },
     "execution_count": 32,
     "metadata": {},
     "output_type": "execute_result"
    }
   ],
   "source": [
    "len(tokens_all) #13351207  tokens"
   ]
  },
  {
   "cell_type": "code",
   "execution_count": 23,
   "metadata": {},
   "outputs": [],
   "source": [
    "toeken_all_count = Counter(tokens_all)"
   ]
  },
  {
   "cell_type": "code",
   "execution_count": 24,
   "metadata": {},
   "outputs": [],
   "source": [
    "sorted_toeken_all_count = sorted(toeken_all_count.items(), key = lambda kv:kv[1],reverse=True) # 출현빈도수로 정렬해보자"
   ]
  },
  {
   "cell_type": "code",
   "execution_count": 25,
   "metadata": {},
   "outputs": [
    {
     "data": {
      "text/plain": [
       "[('의', 539744),\n",
       " ('.', 468231),\n",
       " ('을', 449109),\n",
       " (',', 295079),\n",
       " ('이', 263944),\n",
       " ('다', 257050),\n",
       " ('에', 232687),\n",
       " ('은', 200791),\n",
       " ('를', 198674),\n",
       " ('적', 180841),\n",
       " ('는', 177701),\n",
       " ('들', 170290),\n",
       " ('한', 144684),\n",
       " ('과', 139367),\n",
       " ('것', 128698),\n",
       " ('으로', 128585),\n",
       " ('가', 126277),\n",
       " ('에서', 110780),\n",
       " ('그', 107470),\n",
       " ('이다', 91934)]"
      ]
     },
     "execution_count": 25,
     "metadata": {},
     "output_type": "execute_result"
    }
   ],
   "source": [
    "sorted_toeken_all_count[:20]"
   ]
  },
  {
   "cell_type": "markdown",
   "metadata": {},
   "source": [
    "#### nouns"
   ]
  },
  {
   "cell_type": "code",
   "execution_count": 22,
   "metadata": {},
   "outputs": [],
   "source": [
    "# with open('artNouns_final.dat','wb') as file: #pickle로 저장\n",
    "#     pickle.dump(nouns,file)"
   ]
  },
  {
   "cell_type": "code",
   "execution_count": 23,
   "metadata": {},
   "outputs": [],
   "source": [
    "with open('artNouns_final.dat','rb') as file: # load\n",
    "    nouns = pickle.load(file)"
   ]
  },
  {
   "cell_type": "markdown",
   "metadata": {},
   "source": [
    "#### ads"
   ]
  },
  {
   "cell_type": "code",
   "execution_count": 39,
   "metadata": {},
   "outputs": [],
   "source": [
    "# with open('artAds.dat','wb') as file: #pickle로 저장\n",
    "#     pickle.dump(ads,file)"
   ]
  },
  {
   "cell_type": "code",
   "execution_count": 40,
   "metadata": {},
   "outputs": [],
   "source": [
    "# with open('artAds.dat','rb') as file: # load\n",
    "#     ads = pickle.load(file)"
   ]
  },
  {
   "cell_type": "code",
   "execution_count": null,
   "metadata": {},
   "outputs": [],
   "source": []
  },
  {
   "cell_type": "markdown",
   "metadata": {},
   "source": [
    "#### ad_nouns"
   ]
  },
  {
   "cell_type": "code",
   "execution_count": 24,
   "metadata": {},
   "outputs": [],
   "source": [
    "# with open('artAd_nouns_final.dat','wb') as file: #pickle로 저장\n",
    "#     pickle.dump(ad_nouns,file)"
   ]
  },
  {
   "cell_type": "code",
   "execution_count": 25,
   "metadata": {},
   "outputs": [],
   "source": [
    "with open('artAd_nouns_final.dat','rb') as file: # load\n",
    "    ad_nouns = pickle.load(file)"
   ]
  },
  {
   "cell_type": "code",
   "execution_count": null,
   "metadata": {},
   "outputs": [],
   "source": []
  },
  {
   "cell_type": "code",
   "execution_count": null,
   "metadata": {},
   "outputs": [],
   "source": []
  },
  {
   "cell_type": "markdown",
   "metadata": {},
   "source": [
    "작가별로 doc만들어보자"
   ]
  },
  {
   "cell_type": "code",
   "execution_count": 2,
   "metadata": {},
   "outputs": [],
   "source": [
    "#저장된 artists 딕셔너리가져온다. 키밸류로 작가,텍스트\n",
    "with open('artists_final.dic','rb') as file:\n",
    "    artists = pickle.load(file)"
   ]
  },
  {
   "cell_type": "code",
   "execution_count": 3,
   "metadata": {},
   "outputs": [
    {
     "data": {
      "text/plain": [
       "28071"
      ]
     },
     "execution_count": 3,
     "metadata": {},
     "output_type": "execute_result"
    }
   ],
   "source": [
    "len(artists)"
   ]
  },
  {
   "cell_type": "code",
   "execution_count": 34,
   "metadata": {},
   "outputs": [],
   "source": [
    "#전시 횟수로 정렬한 sorted_artists\n",
    "sorted_artists = sorted(artists.items() ,key = lambda kv: len(kv[1]), reverse=True)"
   ]
  },
  {
   "cell_type": "code",
   "execution_count": 35,
   "metadata": {},
   "outputs": [],
   "source": [
    "# 전시 횟수만 뽑아보자\n",
    "exh_len = list(map(lambda el:len(el[1]), sorted_artists)) \n",
    "exh_len = np.array(exh_len)"
   ]
  },
  {
   "cell_type": "code",
   "execution_count": 36,
   "metadata": {},
   "outputs": [
    {
     "name": "stdout",
     "output_type": "stream",
     "text": [
      "mean: 2.0001781197677317 std: 2.706019076740246\n"
     ]
    }
   ],
   "source": [
    "#전시 횟수 기초 통계\n",
    "print('mean:',exh_len.mean(),\n",
    "          'std:', exh_len.std(),\n",
    "     )"
   ]
  },
  {
   "cell_type": "code",
   "execution_count": 37,
   "metadata": {},
   "outputs": [
    {
     "data": {
      "text/plain": [
       "[<matplotlib.lines.Line2D at 0x23eb62030b8>]"
      ]
     },
     "execution_count": 37,
     "metadata": {},
     "output_type": "execute_result"
    },
    {
     "data": {
      "image/png": "[encoded data removed]",
      "text/plain": [
       "<matplotlib.figure.Figure at 0x23eb5c6beb8>"
      ]
     },
     "metadata": {},
     "output_type": "display_data"
    }
   ],
   "source": [
    "plt.plot(range(len(exh_len)), exh_len) # 횟수1인 작가가 압도적으로 많다"
   ]
  },
  {
   "cell_type": "code",
   "execution_count": 38,
   "metadata": {},
   "outputs": [],
   "source": [
    "prolifics = sorted_artists[:20]"
   ]
  },
  {
   "cell_type": "code",
   "execution_count": 39,
   "metadata": {},
   "outputs": [
    {
     "data": {
      "text/plain": [
       "[70, 52, 48, 45, 42, 40, 38, 38, 36, 36]"
      ]
     },
     "execution_count": 39,
     "metadata": {},
     "output_type": "execute_result"
    }
   ],
   "source": [
    "y = list(map(lambda el:len(el[1]), prolifics)) # 다작 아티스트의 전시 수 \n",
    "y[0:10]"
   ]
  },
  {
   "cell_type": "code",
   "execution_count": 40,
   "metadata": {},
   "outputs": [
    {
     "data": {
      "text/plain": [
       "['이이남', '백남준', '이우환', '김종학', '서용선', '김환기', '변대용', '구성연', '이지연', '오용석']"
      ]
     },
     "execution_count": 40,
     "metadata": {},
     "output_type": "execute_result"
    }
   ],
   "source": [
    "x = list(map(lambda el:el[0], prolifics))\n",
    "x[0:10]"
   ]
  },
  {
   "cell_type": "code",
   "execution_count": 42,
   "metadata": {},
   "outputs": [],
   "source": [
    "plt.rcParams['font.family'] = 'NanumSquare' #그래프 위한 폰트설정"
   ]
  },
  {
   "cell_type": "code",
   "execution_count": 43,
   "metadata": {},
   "outputs": [
    {
     "data": {
      "text/plain": [
       "<Container object of 20 artists>"
      ]
     },
     "execution_count": 43,
     "metadata": {},
     "output_type": "execute_result"
    },
    {
     "data": {
      "image/png": "[encoded data removed]",
      "text/plain": [
       "<matplotlib.figure.Figure at 0x23ecd286eb8>"
      ]
     },
     "metadata": {},
     "output_type": "display_data"
    }
   ],
   "source": [
    "plt.figure(figsize = (15,15))\n",
    "plt.bar(x,y)"
   ]
  },
  {
   "cell_type": "code",
   "execution_count": 44,
   "metadata": {},
   "outputs": [],
   "source": [
    "sorted_artists_twice = [artist for artist in sorted_artists if len(artist[1])>1]"
   ]
  },
  {
   "cell_type": "code",
   "execution_count": 45,
   "metadata": {},
   "outputs": [
    {
     "data": {
      "text/plain": [
       "8892"
      ]
     },
     "execution_count": 45,
     "metadata": {},
     "output_type": "execute_result"
    }
   ],
   "source": [
    "len(sorted_artists_twice) # 두번 이상 전시했던  8892명의 작가"
   ]
  },
  {
   "cell_type": "code",
   "execution_count": 46,
   "metadata": {},
   "outputs": [
    {
     "data": {
      "text/plain": [
       "('김태기',\n",
       " ['이번 전시는 2012년에 시작된 1이 필두가 되었으며, 작가로서 새로운 방향성을 모색하고 그 간의 작업을 발표하기 위한 자리로써 마련되었습니다. 2은 마주하고 있는 예술 환경에 대한 보편적 접근 방식에 머무르지 않고, 창작의 주체인 작가들이 모여 각자의 프로세스를 공유하고 토론하는 향유의 장이 되었습니다. 그동안의 에너지가 빚어낸 2은 현대의 예술문화에 대한 질서와 담론을 논의하고, 새로운 시대에 실현될 예술을 조명하는 플랫폼이라 할 수 있습니다. 15명의 작가들이 선보이는 다양한 작업을 통하여 동시대 신진작가들의 감성과 시선, 그리고 그 작품들이 지니고 있는 진정한 의미를 전하고 소통하는 계기가 되기를 기원합니다. 권용무 현대사회에서 생산되어진 기계부속물의 해체와 조합, 확장을 통해 새로운 시각과 의미를 부여한다송여진 현대사회의 광범위한 공간과 범람하는 이미지들 속에서 사람들은 하루하루 일상을 너무나 쉽고 당연한 것으로 흘려보낸다. 하지만 나에게 일상은 익숙한 것이 아닌, 재구성 될 수 있는 가변적이고 특별한 기억의 조합으로 다가왔다. 그렇지만 이것 또한 시간이 지나면 또다시 일상적인 기억이 된다. 이렇게 익숙한 일상이 재구성되어 특별한 순간이 되고, 다시 아무것도 아닌 일상이 되는 순환구조에 집중한다. 김태기 등한시 되거나 일회성에 그친 이미지들을 회화로 환기시켜 매체의 영속성을 부여한다. 검색창에 입력된 오타들은 불규칙한 이미지로 썸네일화 되고, 선택된 대상들은 원전과도 같이 견고한 밑바탕으로 건축된다. 조합한 화면을 다시 용해하는 과정에서 엉겨 붙은 이미지들이 돌연변이로 탈바꿈하게 되는데 이러한 화면에 귀속된 개체의 희생은 작품의 제목으로 연결되는 과 밀접해 있다.배민영 보여짐의 욕망은 끝없이 증식하는 매체와 복잡해져가는 사회 관계망 속에서 부각되고 있다. 멋진 배경에 투영되는 사람들의 심리와 그 것을 통하여 대리 만족으로 향하는 욕망에 대해 이야기 해보고자 한다. 박지영 나에게 있었던 일들, 내가 느끼는 모든 것, 책과 영화의 이야기 내 주변의 모든 것을 표현하는 재료는 공간이다. 민성진 우리가 마주하는 얼굴들은 너무도 많은 소리를 머금고 있지만, 그 표정의 정확한 의미를 도저히 이해할 수 없다. 의사소통에 있어 말이라는 전도체를 물질적인 오브제로서 담아내고, 얼굴과 언어의 메타매세지적 상호관계를 고찰한다. 윤석원 나는 내가 직간접으로 접한 다양한 사건들을 작업에서 다룬다. 내가 경험한 개인적 사회적 사건과 그 풍경에 대한 기억은 시간이 지남에 따라, 마치 하나의 생명체 처럼 스스로 변해간다. 나는 그리기라는 방법을 통해 머릿속에서 끊임 없이 변해가는 기억의 이미지와 감정의 역학관계를 화면에 담아내는 일로 내 삶의 여러 켜들을 진지하게 바라보고자 한다. 김소영 나의 작업은 기능을 중시하는 실제 기계들과는 달리 가상으로 만들어진 입체물에 기계 부품들이나 재질들을 덧입힌다. 필요에 의해서 만들어진 것이 아니기 때문에 실용성이란 단어를 찾아볼 수 없고, 동작조차 할 수 없게 조립되어진 불분명한 형태들이 결과물로 만들어진다. 알 수 없는 기계적 형태들을 보았을 때 낯설고 적응하기 힘들지만 그만큼 정확한 정의를 내릴 수 없기에 다양한 시각적 해석을 이끌어낼 수 있다. 임지민 곁에 있던 존재의 갑작스런 부재로 인한 상실감, 불안을 앨범에 담긴 단서를 통해 끊임없이 기억을 되새기고 확인하며 그날의 상황을 떠올리려 한다. 하지만 시간이 지남에 따라 흐릿해지는 기억은 알 수 없는 의구심으로 변화한다. 사진 속 몇 개의 단서들을 통해 새롭게 조합된 기억은 익숙함 속에서 낯설음을 찾게 하였고, 그것을 캔버스에 담는다.이혜헌 보여주고 들어내며 표출하고 싶었던 것들이 있다면 당당해야한다. 떨림과 부끄러움은 가장 음침한 곳에 숨겨두고 과장과 연출, 조작을 통해 보란 듯이 당당히 연극을 해야 한다. 세상에게, 타인에게 그렇게 비추어 지고 싶지만 실상은 그리 녹록치 않다. 시각적으로 보여지는 것 들은 물 몇 방울에 녹아내리고 번져버리며 그 나약함을 여실히 들어 낸다. 하지만 바람에 마르고 굳어져 고착된 불완전한 형태와 아롱진 자국들을 바라보며 부족함을 들키지 않으려고 애쓰지 않음에 오히려 안도감을 느낀다. 최지현 매일 수없이 지나치는 사물들이 갖고 있는 저마다의 물성과 특징은 사물과 사물간의 만남을 통해서 새로운 코드를 생성해 낸다. 그것은 불편한 긴장감을 만들어 내며 새로운 물질로 공간을 구축해 낸다. 이런 작업을 통해 사물들에 대한 무의식을 관철하여 새로운 관계의 정의를 내리도록 한다. 정인국 만물은 시간의 흐름 속, 순환구조 내에 귀속된다. 여기에는 인간, 자연, 사회 등등 모두 순환법칙이 포함되고, 이 순환구조의 어느 한 시작지점에 끝이 공존한다. 시간은 선형적 시간과 순환적 시간으로 구분 할 수 있는데, 두 시간의 맥락은 결합된다. 예를 들어 계절의 순환은 연도가 앞으로 흘러나가는 것과 동시에 일어나는 원리이다. 내 작업은 작업과정 하나하나에 이 원칙을 담고 있으며 재료, 형태 모두 이 원칙을 따른다. 해련 이차원적인 평면 도형을 물질구성의 기본원소로 형상화하여 도형의 단순한 집합 재배열이 아닌 표현대상의 본질적 단순화를 통해 복잡한 현실적 이미지를 벗어버린다. 화면에 퍼지는 도형들이 색채와 어울림으로써 공감각적 상상의 여백을 남기며 풍경들을 만들어낸다. 마치 동산에 있는 것 처럼...양혜령 작가의 경험의 의한 실재적 장소들을 재구성하여 비실재적인 공간으로 만든다. 그리고 그 장소에서 가져온 오브제들로 다시 현실성을 주어 현실과 비현실 사이의 공간으로 재구성 한다. 박창식 나의 작업은 일상에 내재되어있는 불안감을 표현한다. 우리들의 눈에 익숙한 사물들의 많은 요소들은 사람들에게 안도감을 주는 미장센으로 기능한다. 사물들의 표면을 걷어낸 후에 드러나는 장치들의 즉물성, 혹은 있어야하는 간판, 조경수, 창문, 원근법적으로 보이는 멀리의 풍경 등을 제거함으로써 생기는 부재의 감각은 보는 이로 하여금 당혹감, 불안감을 야기시킨다. 나는 익명의 사물들을 전면으로 드러내어 보이거나, 또는 풍경에서 명시성이 있는 요소들을 제거함으로써 익명의 풍경으로 전환시키는 가감의 방법론을 주된 표현요소로 삼는다. 그러한 행위를 통해서 보는 이로 하여금 현실의 감각을 환기시키는 기회를 제공한다. ',\n",
       "  '문화단체 헤리티지클럽이 주관한 학교가 만들어주지 못하는 작가 만들기프로젝트 참여자들의 전시인우리도 이제 작가다이 2013년 12월 21일토부터 31일화까지 강남구 테헤란로 갤러리 이마주에서 선보인다. 이 전시는 총 12강으로 진행되어온 학교가 만들어주지 못하는 작가 만들기 프로젝트를 마무리하는 전시로, 참여 작가들이 직접 전시 기획, 홍보 및 전시 공간 연출을 맡아 전시가 만들어지는 현장을 경험하게 된다. 지난 10월, 문화예술단체 헤리티지클럽은 젊은 작가 양성을 위해 갤러리 이마주와 한국예술인복지재단의 지원을 받아 학교가 만들어주지 못한 작가 만들기 프로젝트를 시작하였다. 이 프로젝트의 목적은 학교를 졸업하고 이제 막 활동을 시작하는 작가들부터 개인전 3회 이하의 전시 경력을 가진 새내기 작가들을 중심으로 각 분야의 전문가들이 멘토가 되어 함께 강의와 토론을 하며 작가의 예술적 역량을 더욱 성장 시키는데 있다. 공모를 통해 선정된 18인의 젊은 작가들은 이 프로젝트를 통해 포트폴리오 만들기, 평론가에게 듣는 작품 크리틱, 전시 기회잡기, 작가란 무엇인가, 갤러리와 작가와의 공생, 난지 창작스튜디오 방문 및 서울문화재단의 예술지원프로그램 등 작가들에게 실질적으로 도움이 될 수 있는 수업을 받아왔다. 작가들은 학교에서 쉽게 접할 수 없는 따끈따끈한 현대 미술 시장에 대한 이야기부터 신랄하면서도 냉정한 작가 본인들의 작업에 대한 크리틱 수업을 통해 막연하게만 생각했던 작가들의 세계에 대해 더욱 현실적으로 다가갈 수 있는 시간을 경험했다. 그리고 이제 이 프로젝트 참여자들의 전시인 우리도 이제 작가다을 준비하였다. 작가들은 전시의 모든 준비 과정을 직접 경험해봄으로써 작가로서의 꿈에 한 층 더 다가갈 수 있는 기회와 더불어 전시 기획자의 입장이 되어 갤러리와 큐레이터 그리고 전시 준비에 대한 이해를 넓힐 수 있는 경험을 하게 된다. 이 전시는 김지원, 김태기, 박예슬, 박소연, 변예슬, 서하나, 신혜수, 심은솔, 이다혜, 이두한, 인정훈, 양철민, 염가혜, 염정수, 원선경, 장인선, 허효진, 황지은 등 작가 18명이 참여해 평면 회화, 설치 작업 등 30여 점을 선보인다. '])"
      ]
     },
     "execution_count": 46,
     "metadata": {},
     "output_type": "execute_result"
    }
   ],
   "source": [
    "sorted_artists_twice[-1]"
   ]
  },
  {
   "cell_type": "code",
   "execution_count": 47,
   "metadata": {},
   "outputs": [],
   "source": [
    "# with open('sorted_artists_twice_final.lst','wb') as file:\n",
    "#     pickle.dump(sorted_artists_twice,file)"
   ]
  },
  {
   "cell_type": "code",
   "execution_count": 2,
   "metadata": {},
   "outputs": [],
   "source": [
    "with open('sorted_artists_twice_final.lst','rb') as file:\n",
    "    sorted_artists_twice = pickle.load(file)"
   ]
  },
  {
   "cell_type": "code",
   "execution_count": 3,
   "metadata": {},
   "outputs": [],
   "source": [
    "sorted_artists_corpus= list(map(lambda el:(el[0], '\\n'.join(el[1])), sorted_artists_twice))"
   ]
  },
  {
   "cell_type": "code",
   "execution_count": 4,
   "metadata": {},
   "outputs": [
    {
     "data": {
      "text/plain": [
       "('김태기',\n",
       " '이번 전시는 2012년에 시작된 1이 필두가 되었으며, 작가로서 새로운 방향성을 모색하고 그 간의 작업을 발표하기 위한 자리로써 마련되었습니다. 2은 마주하고 있는 예술 환경에 대한 보편적 접근 방식에 머무르지 않고, 창작의 주체인 작가들이 모여 각자의 프로세스를 공유하고 토론하는 향유의 장이 되었습니다. 그동안의 에너지가 빚어낸 2은 현대의 예술문화에 대한 질서와 담론을 논의하고, 새로운 시대에 실현될 예술을 조명하는 플랫폼이라 할 수 있습니다. 15명의 작가들이 선보이는 다양한 작업을 통하여 동시대 신진작가들의 감성과 시선, 그리고 그 작품들이 지니고 있는 진정한 의미를 전하고 소통하는 계기가 되기를 기원합니다. 권용무 현대사회에서 생산되어진 기계부속물의 해체와 조합, 확장을 통해 새로운 시각과 의미를 부여한다송여진 현대사회의 광범위한 공간과 범람하는 이미지들 속에서 사람들은 하루하루 일상을 너무나 쉽고 당연한 것으로 흘려보낸다. 하지만 나에게 일상은 익숙한 것이 아닌, 재구성 될 수 있는 가변적이고 특별한 기억의 조합으로 다가왔다. 그렇지만 이것 또한 시간이 지나면 또다시 일상적인 기억이 된다. 이렇게 익숙한 일상이 재구성되어 특별한 순간이 되고, 다시 아무것도 아닌 일상이 되는 순환구조에 집중한다. 김태기 등한시 되거나 일회성에 그친 이미지들을 회화로 환기시켜 매체의 영속성을 부여한다. 검색창에 입력된 오타들은 불규칙한 이미지로 썸네일화 되고, 선택된 대상들은 원전과도 같이 견고한 밑바탕으로 건축된다. 조합한 화면을 다시 용해하는 과정에서 엉겨 붙은 이미지들이 돌연변이로 탈바꿈하게 되는데 이러한 화면에 귀속된 개체의 희생은 작품의 제목으로 연결되는 과 밀접해 있다.배민영 보여짐의 욕망은 끝없이 증식하는 매체와 복잡해져가는 사회 관계망 속에서 부각되고 있다. 멋진 배경에 투영되는 사람들의 심리와 그 것을 통하여 대리 만족으로 향하는 욕망에 대해 이야기 해보고자 한다. 박지영 나에게 있었던 일들, 내가 느끼는 모든 것, 책과 영화의 이야기 내 주변의 모든 것을 표현하는 재료는 공간이다. 민성진 우리가 마주하는 얼굴들은 너무도 많은 소리를 머금고 있지만, 그 표정의 정확한 의미를 도저히 이해할 수 없다. 의사소통에 있어 말이라는 전도체를 물질적인 오브제로서 담아내고, 얼굴과 언어의 메타매세지적 상호관계를 고찰한다. 윤석원 나는 내가 직간접으로 접한 다양한 사건들을 작업에서 다룬다. 내가 경험한 개인적 사회적 사건과 그 풍경에 대한 기억은 시간이 지남에 따라, 마치 하나의 생명체 처럼 스스로 변해간다. 나는 그리기라는 방법을 통해 머릿속에서 끊임 없이 변해가는 기억의 이미지와 감정의 역학관계를 화면에 담아내는 일로 내 삶의 여러 켜들을 진지하게 바라보고자 한다. 김소영 나의 작업은 기능을 중시하는 실제 기계들과는 달리 가상으로 만들어진 입체물에 기계 부품들이나 재질들을 덧입힌다. 필요에 의해서 만들어진 것이 아니기 때문에 실용성이란 단어를 찾아볼 수 없고, 동작조차 할 수 없게 조립되어진 불분명한 형태들이 결과물로 만들어진다. 알 수 없는 기계적 형태들을 보았을 때 낯설고 적응하기 힘들지만 그만큼 정확한 정의를 내릴 수 없기에 다양한 시각적 해석을 이끌어낼 수 있다. 임지민 곁에 있던 존재의 갑작스런 부재로 인한 상실감, 불안을 앨범에 담긴 단서를 통해 끊임없이 기억을 되새기고 확인하며 그날의 상황을 떠올리려 한다. 하지만 시간이 지남에 따라 흐릿해지는 기억은 알 수 없는 의구심으로 변화한다. 사진 속 몇 개의 단서들을 통해 새롭게 조합된 기억은 익숙함 속에서 낯설음을 찾게 하였고, 그것을 캔버스에 담는다.이혜헌 보여주고 들어내며 표출하고 싶었던 것들이 있다면 당당해야한다. 떨림과 부끄러움은 가장 음침한 곳에 숨겨두고 과장과 연출, 조작을 통해 보란 듯이 당당히 연극을 해야 한다. 세상에게, 타인에게 그렇게 비추어 지고 싶지만 실상은 그리 녹록치 않다. 시각적으로 보여지는 것 들은 물 몇 방울에 녹아내리고 번져버리며 그 나약함을 여실히 들어 낸다. 하지만 바람에 마르고 굳어져 고착된 불완전한 형태와 아롱진 자국들을 바라보며 부족함을 들키지 않으려고 애쓰지 않음에 오히려 안도감을 느낀다. 최지현 매일 수없이 지나치는 사물들이 갖고 있는 저마다의 물성과 특징은 사물과 사물간의 만남을 통해서 새로운 코드를 생성해 낸다. 그것은 불편한 긴장감을 만들어 내며 새로운 물질로 공간을 구축해 낸다. 이런 작업을 통해 사물들에 대한 무의식을 관철하여 새로운 관계의 정의를 내리도록 한다. 정인국 만물은 시간의 흐름 속, 순환구조 내에 귀속된다. 여기에는 인간, 자연, 사회 등등 모두 순환법칙이 포함되고, 이 순환구조의 어느 한 시작지점에 끝이 공존한다. 시간은 선형적 시간과 순환적 시간으로 구분 할 수 있는데, 두 시간의 맥락은 결합된다. 예를 들어 계절의 순환은 연도가 앞으로 흘러나가는 것과 동시에 일어나는 원리이다. 내 작업은 작업과정 하나하나에 이 원칙을 담고 있으며 재료, 형태 모두 이 원칙을 따른다. 해련 이차원적인 평면 도형을 물질구성의 기본원소로 형상화하여 도형의 단순한 집합 재배열이 아닌 표현대상의 본질적 단순화를 통해 복잡한 현실적 이미지를 벗어버린다. 화면에 퍼지는 도형들이 색채와 어울림으로써 공감각적 상상의 여백을 남기며 풍경들을 만들어낸다. 마치 동산에 있는 것 처럼...양혜령 작가의 경험의 의한 실재적 장소들을 재구성하여 비실재적인 공간으로 만든다. 그리고 그 장소에서 가져온 오브제들로 다시 현실성을 주어 현실과 비현실 사이의 공간으로 재구성 한다. 박창식 나의 작업은 일상에 내재되어있는 불안감을 표현한다. 우리들의 눈에 익숙한 사물들의 많은 요소들은 사람들에게 안도감을 주는 미장센으로 기능한다. 사물들의 표면을 걷어낸 후에 드러나는 장치들의 즉물성, 혹은 있어야하는 간판, 조경수, 창문, 원근법적으로 보이는 멀리의 풍경 등을 제거함으로써 생기는 부재의 감각은 보는 이로 하여금 당혹감, 불안감을 야기시킨다. 나는 익명의 사물들을 전면으로 드러내어 보이거나, 또는 풍경에서 명시성이 있는 요소들을 제거함으로써 익명의 풍경으로 전환시키는 가감의 방법론을 주된 표현요소로 삼는다. 그러한 행위를 통해서 보는 이로 하여금 현실의 감각을 환기시키는 기회를 제공한다. \\n문화단체 헤리티지클럽이 주관한 학교가 만들어주지 못하는 작가 만들기프로젝트 참여자들의 전시인우리도 이제 작가다이 2013년 12월 21일토부터 31일화까지 강남구 테헤란로 갤러리 이마주에서 선보인다. 이 전시는 총 12강으로 진행되어온 학교가 만들어주지 못하는 작가 만들기 프로젝트를 마무리하는 전시로, 참여 작가들이 직접 전시 기획, 홍보 및 전시 공간 연출을 맡아 전시가 만들어지는 현장을 경험하게 된다. 지난 10월, 문화예술단체 헤리티지클럽은 젊은 작가 양성을 위해 갤러리 이마주와 한국예술인복지재단의 지원을 받아 학교가 만들어주지 못한 작가 만들기 프로젝트를 시작하였다. 이 프로젝트의 목적은 학교를 졸업하고 이제 막 활동을 시작하는 작가들부터 개인전 3회 이하의 전시 경력을 가진 새내기 작가들을 중심으로 각 분야의 전문가들이 멘토가 되어 함께 강의와 토론을 하며 작가의 예술적 역량을 더욱 성장 시키는데 있다. 공모를 통해 선정된 18인의 젊은 작가들은 이 프로젝트를 통해 포트폴리오 만들기, 평론가에게 듣는 작품 크리틱, 전시 기회잡기, 작가란 무엇인가, 갤러리와 작가와의 공생, 난지 창작스튜디오 방문 및 서울문화재단의 예술지원프로그램 등 작가들에게 실질적으로 도움이 될 수 있는 수업을 받아왔다. 작가들은 학교에서 쉽게 접할 수 없는 따끈따끈한 현대 미술 시장에 대한 이야기부터 신랄하면서도 냉정한 작가 본인들의 작업에 대한 크리틱 수업을 통해 막연하게만 생각했던 작가들의 세계에 대해 더욱 현실적으로 다가갈 수 있는 시간을 경험했다. 그리고 이제 이 프로젝트 참여자들의 전시인 우리도 이제 작가다을 준비하였다. 작가들은 전시의 모든 준비 과정을 직접 경험해봄으로써 작가로서의 꿈에 한 층 더 다가갈 수 있는 기회와 더불어 전시 기획자의 입장이 되어 갤러리와 큐레이터 그리고 전시 준비에 대한 이해를 넓힐 수 있는 경험을 하게 된다. 이 전시는 김지원, 김태기, 박예슬, 박소연, 변예슬, 서하나, 신혜수, 심은솔, 이다혜, 이두한, 인정훈, 양철민, 염가혜, 염정수, 원선경, 장인선, 허효진, 황지은 등 작가 18명이 참여해 평면 회화, 설치 작업 등 30여 점을 선보인다. ')"
      ]
     },
     "execution_count": 4,
     "metadata": {},
     "output_type": "execute_result"
    }
   ],
   "source": [
    "sorted_artists_corpus[-1]"
   ]
  },
  {
   "cell_type": "markdown",
   "metadata": {},
   "source": [
    "corpus에서 tokens를 뽑아내자"
   ]
  },
  {
   "cell_type": "code",
   "execution_count": 51,
   "metadata": {},
   "outputs": [
    {
     "name": "stderr",
     "output_type": "stream",
     "text": [
      "100%|██████████████████████████████████████████████████████████████████████████████| 8892/8892 [19:24<00:00,  7.63it/s]\n"
     ]
    }
   ],
   "source": [
    "artists_twice_tokens = []\n",
    "for artist in tqdm(sorted_artists_corpus):\n",
    "    tokens = twitter.morphs(artist[1])\n",
    "    artists_twice_tokens.append( (artist[0],tokens) )"
   ]
  },
  {
   "cell_type": "code",
   "execution_count": 12,
   "metadata": {},
   "outputs": [
    {
     "name": "stderr",
     "output_type": "stream",
     "text": [
      "100%|██████████████████████████████████████████████████████████████████████████████| 8892/8892 [19:56<00:00,  7.43it/s]\n"
     ]
    }
   ],
   "source": [
    "artists_twice_tokens = []\n",
    "for tpl in tqdm(sorted_artists_corpus):\n",
    "    tokens = [tag[0] for tag in twitter.pos(tpl[1]) if tag[1] in ['Noun','Adjective','Adverb','Verb']]\n",
    "    artists_twice_tokens.append( (tpl[0], tokens) )"
   ]
  },
  {
   "cell_type": "code",
   "execution_count": 7,
   "metadata": {},
   "outputs": [
    {
     "name": "stderr",
     "output_type": "stream",
     "text": [
      "100%|██████████████████████████████████████████████████████████████████████████████| 8892/8892 [37:35<00:00,  3.94it/s]\n"
     ]
    }
   ],
   "source": [
    "artists_twice_tokens = []\n",
    "for artist in tqdm(sorted_artists_corpus):\n",
    "    tokens = twitter.nouns(artist[1])\n",
    "    artists_twice_tokens.append( (artist[0],tokens) )"
   ]
  },
  {
   "cell_type": "code",
   "execution_count": 53,
   "metadata": {},
   "outputs": [],
   "source": [
    "# with open('artists_twice_morphs_final.lst','wb') as file:\n",
    "#     pickle.dump(artists_twice_tokens,file)"
   ]
  },
  {
   "cell_type": "code",
   "execution_count": 15,
   "metadata": {},
   "outputs": [],
   "source": [
    "# with open('artists_twice_adnouns_final.lst','wb') as file:\n",
    "#     pickle.dump(artists_twice_tokens,file)"
   ]
  },
  {
   "cell_type": "code",
   "execution_count": 8,
   "metadata": {},
   "outputs": [],
   "source": [
    "# with open('artists_twice_nouns_final.lst','wb') as file:\n",
    "#     pickle.dump(artists_twice_tokens,file)"
   ]
  },
  {
   "cell_type": "code",
   "execution_count": null,
   "metadata": {},
   "outputs": [],
   "source": []
  }
 ],
 "metadata": {
  "kernelspec": {
   "display_name": "Python 3",
   "language": "python",
   "name": "python3"
  },
  "language_info": {
   "codemirror_mode": {
    "name": "ipython",
    "version": 3
   },
   "file_extension": ".py",
   "mimetype": "text/x-python",
   "name": "python",
   "nbconvert_exporter": "python",
   "pygments_lexer": "ipython3",
   "version": "3.6.4"
  }
 },
 "nbformat": 4,
 "nbformat_minor": 2
}
