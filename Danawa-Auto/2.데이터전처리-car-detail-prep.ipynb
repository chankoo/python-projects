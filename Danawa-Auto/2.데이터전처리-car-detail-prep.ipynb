{
 "cells": [
  {
   "cell_type": "code",
   "execution_count": 1,
   "metadata": {},
   "outputs": [],
   "source": [
    "import os\n",
    "import pandas as pd"
   ]
  },
  {
   "cell_type": "code",
   "execution_count": 2,
   "metadata": {},
   "outputs": [],
   "source": [
    "os.chdir('./data')"
   ]
  },
  {
   "cell_type": "code",
   "execution_count": 17,
   "metadata": {},
   "outputs": [],
   "source": [
    "car_detail = pd.read_excel('car_detail_all_raw.xlsx')\n",
    "car_sold = pd.read_excel('monthly.xlsx')"
   ]
  },
  {
   "cell_type": "code",
   "execution_count": 18,
   "metadata": {},
   "outputs": [
    {
     "name": "stdout",
     "output_type": "stream",
     "text": [
      "<class 'pandas.core.frame.DataFrame'>\n",
      "RangeIndex: 15874 entries, 0 to 15873\n",
      "Data columns (total 9 columns):\n",
      "brand_cd      15874 non-null int64\n",
      "brand_nm      15874 non-null object\n",
      "seg_cd        15874 non-null object\n",
      "seg_nm        15874 non-null object\n",
      "model         15874 non-null int64\n",
      "YM            15874 non-null int64\n",
      "title         15874 non-null object\n",
      "sold          15874 non-null int64\n",
      "seg_detail    15874 non-null int64\n",
      "dtypes: int64(5), object(4)\n",
      "memory usage: 1.1+ MB\n"
     ]
    }
   ],
   "source": [
    "car_sold.info()"
   ]
  },
  {
   "cell_type": "code",
   "execution_count": 19,
   "metadata": {},
   "outputs": [],
   "source": [
    "car_detail.model = car_detail.model.astype('str')\n",
    "car_detail.drop(columns='lu_nm',inplace=True) # lu_nm 드랍\n",
    "\n",
    "idx_to_drop = car_detail[car_detail.duplicated(subset=None,keep='first')].index # 중복 드랍\n",
    "car_detail.drop(index=idx_to_drop,inplace=True)\n",
    "\n",
    "car_detail.reset_index(drop=True,inplace=True)"
   ]
  },
  {
   "cell_type": "code",
   "execution_count": 20,
   "metadata": {},
   "outputs": [
    {
     "data": {
      "text/html": [
       "<div>\n",
       "<style scoped>\n",
       "    .dataframe tbody tr th:only-of-type {\n",
       "        vertical-align: middle;\n",
       "    }\n",
       "\n",
       "    .dataframe tbody tr th {\n",
       "        vertical-align: top;\n",
       "    }\n",
       "\n",
       "    .dataframe thead th {\n",
       "        text-align: right;\n",
       "    }\n",
       "</style>\n",
       "<table border=\"1\" class=\"dataframe\">\n",
       "  <thead>\n",
       "    <tr style=\"text-align: right;\">\n",
       "      <th></th>\n",
       "      <th>model</th>\n",
       "      <th>lu_cd</th>\n",
       "      <th>trim</th>\n",
       "      <th>trim_idx</th>\n",
       "      <th>price</th>\n",
       "      <th>specs</th>\n",
       "      <th>opt</th>\n",
       "    </tr>\n",
       "  </thead>\n",
       "  <tbody>\n",
       "    <tr>\n",
       "      <th>0</th>\n",
       "      <td>2132</td>\n",
       "      <td>37482</td>\n",
       "      <td>VAN M/T</td>\n",
       "      <td>0</td>\n",
       "      <td>8710000</td>\n",
       "      <td>{'치수': '3,595', '전폭(㎜)': '1,595', '전고(㎜)': '1,...</td>\n",
       "      <td>{'안전': '운전석, 동반석', '주행안전': 'ABS, 급제동 경보 시스템(ES...</td>\n",
       "    </tr>\n",
       "    <tr>\n",
       "      <th>1</th>\n",
       "      <td>2132</td>\n",
       "      <td>37482</td>\n",
       "      <td>VAN A/T</td>\n",
       "      <td>1</td>\n",
       "      <td>9960000</td>\n",
       "      <td>{'치수': '3,595', '전폭(㎜)': '1,595', '전고(㎜)': '1,...</td>\n",
       "      <td>{'안전': '운전석, 동반석', '주행안전': 'ABS, 급제동 경보 시스템(ES...</td>\n",
       "    </tr>\n",
       "    <tr>\n",
       "      <th>2</th>\n",
       "      <td>2132</td>\n",
       "      <td>37482</td>\n",
       "      <td>VAN 고급형 M/T</td>\n",
       "      <td>2</td>\n",
       "      <td>9060000</td>\n",
       "      <td>{'치수': '3,595', '전폭(㎜)': '1,595', '전고(㎜)': '1,...</td>\n",
       "      <td>{'안전': '운전석, 동반석', '주행안전': 'ABS, 급제동 경보 시스템(ES...</td>\n",
       "    </tr>\n",
       "    <tr>\n",
       "      <th>3</th>\n",
       "      <td>2132</td>\n",
       "      <td>37482</td>\n",
       "      <td>VAN 고급형 A/T</td>\n",
       "      <td>3</td>\n",
       "      <td>10310000</td>\n",
       "      <td>{'치수': '3,595', '전폭(㎜)': '1,595', '전고(㎜)': '1,...</td>\n",
       "      <td>{'안전': '운전석, 동반석', '주행안전': 'ABS, 급제동 경보 시스템(ES...</td>\n",
       "    </tr>\n",
       "    <tr>\n",
       "      <th>4</th>\n",
       "      <td>2132</td>\n",
       "      <td>37482</td>\n",
       "      <td>스마트 M/T</td>\n",
       "      <td>4</td>\n",
       "      <td>9110000</td>\n",
       "      <td>{'치수': '3,595', '전폭(㎜)': '1,595', '전고(㎜)': '1,...</td>\n",
       "      <td>{'안전': '운전석, 동반석, 사이드(앞), 커튼(앞뒤)', '주행안전': 'AB...</td>\n",
       "    </tr>\n",
       "  </tbody>\n",
       "</table>\n",
       "</div>"
      ],
      "text/plain": [
       "  model  lu_cd         trim  trim_idx     price  \\\n",
       "0  2132  37482      VAN M/T         0   8710000   \n",
       "1  2132  37482      VAN A/T         1   9960000   \n",
       "2  2132  37482  VAN 고급형 M/T         2   9060000   \n",
       "3  2132  37482  VAN 고급형 A/T         3  10310000   \n",
       "4  2132  37482      스마트 M/T         4   9110000   \n",
       "\n",
       "                                               specs  \\\n",
       "0  {'치수': '3,595', '전폭(㎜)': '1,595', '전고(㎜)': '1,...   \n",
       "1  {'치수': '3,595', '전폭(㎜)': '1,595', '전고(㎜)': '1,...   \n",
       "2  {'치수': '3,595', '전폭(㎜)': '1,595', '전고(㎜)': '1,...   \n",
       "3  {'치수': '3,595', '전폭(㎜)': '1,595', '전고(㎜)': '1,...   \n",
       "4  {'치수': '3,595', '전폭(㎜)': '1,595', '전고(㎜)': '1,...   \n",
       "\n",
       "                                                 opt  \n",
       "0  {'안전': '운전석, 동반석', '주행안전': 'ABS, 급제동 경보 시스템(ES...  \n",
       "1  {'안전': '운전석, 동반석', '주행안전': 'ABS, 급제동 경보 시스템(ES...  \n",
       "2  {'안전': '운전석, 동반석', '주행안전': 'ABS, 급제동 경보 시스템(ES...  \n",
       "3  {'안전': '운전석, 동반석', '주행안전': 'ABS, 급제동 경보 시스템(ES...  \n",
       "4  {'안전': '운전석, 동반석, 사이드(앞), 커튼(앞뒤)', '주행안전': 'AB...  "
      ]
     },
     "execution_count": 20,
     "metadata": {},
     "output_type": "execute_result"
    }
   ],
   "source": [
    "car_detail.head()"
   ]
  },
  {
   "cell_type": "code",
   "execution_count": 21,
   "metadata": {},
   "outputs": [
    {
     "name": "stdout",
     "output_type": "stream",
     "text": [
      "<class 'pandas.core.frame.DataFrame'>\n",
      "RangeIndex: 6680 entries, 0 to 6679\n",
      "Data columns (total 7 columns):\n",
      "model       6680 non-null object\n",
      "lu_cd       6680 non-null int64\n",
      "trim        6680 non-null object\n",
      "trim_idx    6680 non-null int64\n",
      "price       6680 non-null int64\n",
      "specs       6680 non-null object\n",
      "opt         6680 non-null object\n",
      "dtypes: int64(3), object(4)\n",
      "memory usage: 365.4+ KB\n"
     ]
    }
   ],
   "source": [
    "car_detail.info()"
   ]
  },
  {
   "cell_type": "markdown",
   "metadata": {},
   "source": [
    "specs와 opt의 처리"
   ]
  },
  {
   "cell_type": "code",
   "execution_count": 22,
   "metadata": {},
   "outputs": [],
   "source": [
    "car_detail.specs = pd.Series(map(eval, car_detail.specs)) # str인 제원과 옵션정보 dict으로\n",
    "car_detail.opt = pd.Series(map(eval, car_detail.opt))"
   ]
  },
  {
   "cell_type": "code",
   "execution_count": 23,
   "metadata": {},
   "outputs": [],
   "source": [
    "car_detail_spec = pd.DataFrame.from_dict(car_detail.specs.tolist()) # dict형태인 제원과 옵션정보의 인덱스를 보존한 채 df형태로\n",
    "car_detail_opt = pd.DataFrame.from_dict(car_detail.opt.tolist())"
   ]
  },
  {
   "cell_type": "code",
   "execution_count": 24,
   "metadata": {},
   "outputs": [],
   "source": [
    "car_detail2 = pd.concat((car_detail.drop(columns=['specs','opt']),car_detail_spec,car_detail_opt),axis=1) # axis 1로 concat -> raw데이터 완성"
   ]
  },
  {
   "cell_type": "code",
   "execution_count": 25,
   "metadata": {},
   "outputs": [
    {
     "data": {
      "text/html": [
       "<div>\n",
       "<style scoped>\n",
       "    .dataframe tbody tr th:only-of-type {\n",
       "        vertical-align: middle;\n",
       "    }\n",
       "\n",
       "    .dataframe tbody tr th {\n",
       "        vertical-align: top;\n",
       "    }\n",
       "\n",
       "    .dataframe thead th {\n",
       "        text-align: right;\n",
       "    }\n",
       "</style>\n",
       "<table border=\"1\" class=\"dataframe\">\n",
       "  <thead>\n",
       "    <tr style=\"text-align: right;\">\n",
       "      <th></th>\n",
       "      <th>model</th>\n",
       "      <th>trim</th>\n",
       "      <th>(구기준)연비(㎞/ℓ)</th>\n",
       "      <th>1회충전 주행거리(㎞)</th>\n",
       "      <th>4WD 시스템</th>\n",
       "      <th>CO₂ 배출 (g/km)</th>\n",
       "      <th>CO₂배출(g/㎞)</th>\n",
       "      <th>가속( 초,0→100㎞/h)</th>\n",
       "      <th>고(㎜)</th>\n",
       "      <th>고속연비 (km/ℓ)</th>\n",
       "      <th>...</th>\n",
       "      <th>주행안전</th>\n",
       "      <th>차음 유리</th>\n",
       "      <th>크루즈컨트롤</th>\n",
       "      <th>통풍시트</th>\n",
       "      <th>트렁크</th>\n",
       "      <th>파워 아웃렛</th>\n",
       "      <th>파워시트</th>\n",
       "      <th>파워윈도우</th>\n",
       "      <th>편의</th>\n",
       "      <th>후방충격 저감 시스템</th>\n",
       "    </tr>\n",
       "  </thead>\n",
       "  <tbody>\n",
       "    <tr>\n",
       "      <th>count</th>\n",
       "      <td>6680</td>\n",
       "      <td>6680</td>\n",
       "      <td>184</td>\n",
       "      <td>7</td>\n",
       "      <td>1159</td>\n",
       "      <td>3474</td>\n",
       "      <td>3116</td>\n",
       "      <td>67</td>\n",
       "      <td>9</td>\n",
       "      <td>3474</td>\n",
       "      <td>...</td>\n",
       "      <td>6155</td>\n",
       "      <td>3143</td>\n",
       "      <td>2615</td>\n",
       "      <td>392</td>\n",
       "      <td>3143</td>\n",
       "      <td>3143</td>\n",
       "      <td>632</td>\n",
       "      <td>6001</td>\n",
       "      <td>6155</td>\n",
       "      <td>3143</td>\n",
       "    </tr>\n",
       "    <tr>\n",
       "      <th>unique</th>\n",
       "      <td>502</td>\n",
       "      <td>2189</td>\n",
       "      <td>41</td>\n",
       "      <td>3</td>\n",
       "      <td>15</td>\n",
       "      <td>194</td>\n",
       "      <td>186</td>\n",
       "      <td>7</td>\n",
       "      <td>1</td>\n",
       "      <td>137</td>\n",
       "      <td>...</td>\n",
       "      <td>219</td>\n",
       "      <td>7</td>\n",
       "      <td>3</td>\n",
       "      <td>7</td>\n",
       "      <td>5</td>\n",
       "      <td>12</td>\n",
       "      <td>20</td>\n",
       "      <td>15</td>\n",
       "      <td>99</td>\n",
       "      <td>2</td>\n",
       "    </tr>\n",
       "    <tr>\n",
       "      <th>top</th>\n",
       "      <td>3500</td>\n",
       "      <td>프레스티지 A/T</td>\n",
       "      <td>14.1</td>\n",
       "      <td>44</td>\n",
       "      <td>풀타임</td>\n",
       "      <td></td>\n",
       "      <td>156</td>\n",
       "      <td>9.6</td>\n",
       "      <td>1,225</td>\n",
       "      <td></td>\n",
       "      <td>...</td>\n",
       "      <td>ABS, 전자식 트랙션 콘트롤 , 스테빌리티 컨트롤, 전자식 제동력 분배 시스템, BAS</td>\n",
       "      <td></td>\n",
       "      <td>기본적용</td>\n",
       "      <td>앞좌석</td>\n",
       "      <td></td>\n",
       "      <td>시거잭, USB</td>\n",
       "      <td></td>\n",
       "      <td>앞좌석, 뒷좌석</td>\n",
       "      <td></td>\n",
       "      <td></td>\n",
       "    </tr>\n",
       "    <tr>\n",
       "      <th>freq</th>\n",
       "      <td>170</td>\n",
       "      <td>117</td>\n",
       "      <td>24</td>\n",
       "      <td>4</td>\n",
       "      <td>444</td>\n",
       "      <td>421</td>\n",
       "      <td>76</td>\n",
       "      <td>29</td>\n",
       "      <td>9</td>\n",
       "      <td>434</td>\n",
       "      <td>...</td>\n",
       "      <td>976</td>\n",
       "      <td>2155</td>\n",
       "      <td>1910</td>\n",
       "      <td>164</td>\n",
       "      <td>1756</td>\n",
       "      <td>1575</td>\n",
       "      <td>208</td>\n",
       "      <td>2645</td>\n",
       "      <td>1413</td>\n",
       "      <td>2735</td>\n",
       "    </tr>\n",
       "  </tbody>\n",
       "</table>\n",
       "<p>4 rows × 163 columns</p>\n",
       "</div>"
      ],
      "text/plain": [
       "       model       trim (구기준)연비(㎞/ℓ) 1회충전 주행거리(㎞) 4WD 시스템 CO₂ 배출 (g/km)  \\\n",
       "count   6680       6680          184            7    1159          3474   \n",
       "unique   502       2189           41            3      15           194   \n",
       "top     3500  프레스티지 A/T         14.1           44     풀타임                 \n",
       "freq     170        117           24            4     444           421   \n",
       "\n",
       "       CO₂배출(g/㎞) 가속( 초,0→100㎞/h)   고(㎜) 고속연비 (km/ℓ)     ...      \\\n",
       "count        3116              67      9        3474     ...       \n",
       "unique        186               7      1         137     ...       \n",
       "top           156             9.6  1,225                 ...       \n",
       "freq           76              29      9         434     ...       \n",
       "\n",
       "                                                     주행안전 차음 유리 크루즈컨트롤 통풍시트  \\\n",
       "count                                                6155  3143   2615  392   \n",
       "unique                                                219     7      3    7   \n",
       "top     ABS, 전자식 트랙션 콘트롤 , 스테빌리티 컨트롤, 전자식 제동력 분배 시스템, BAS         기본적용  앞좌석   \n",
       "freq                                                  976  2155   1910  164   \n",
       "\n",
       "         트렁크    파워 아웃렛 파워시트     파워윈도우    편의 후방충격 저감 시스템  \n",
       "count   3143      3143  632      6001  6155        3143  \n",
       "unique     5        12   20        15    99           2  \n",
       "top           시거잭, USB       앞좌석, 뒷좌석                    \n",
       "freq    1756      1575  208      2645  1413        2735  \n",
       "\n",
       "[4 rows x 163 columns]"
      ]
     },
     "execution_count": 25,
     "metadata": {},
     "output_type": "execute_result"
    }
   ],
   "source": [
    "car_detail2.describe(include='object')"
   ]
  },
  {
   "cell_type": "code",
   "execution_count": 26,
   "metadata": {},
   "outputs": [
    {
     "data": {
      "text/html": [
       "<div>\n",
       "<style scoped>\n",
       "    .dataframe tbody tr th:only-of-type {\n",
       "        vertical-align: middle;\n",
       "    }\n",
       "\n",
       "    .dataframe tbody tr th {\n",
       "        vertical-align: top;\n",
       "    }\n",
       "\n",
       "    .dataframe thead th {\n",
       "        text-align: right;\n",
       "    }\n",
       "</style>\n",
       "<table border=\"1\" class=\"dataframe\">\n",
       "  <thead>\n",
       "    <tr style=\"text-align: right;\">\n",
       "      <th></th>\n",
       "      <th>lu_cd</th>\n",
       "      <th>trim_idx</th>\n",
       "      <th>price</th>\n",
       "    </tr>\n",
       "  </thead>\n",
       "  <tbody>\n",
       "    <tr>\n",
       "      <th>count</th>\n",
       "      <td>6680.000000</td>\n",
       "      <td>6680.000000</td>\n",
       "      <td>6.680000e+03</td>\n",
       "    </tr>\n",
       "    <tr>\n",
       "      <th>mean</th>\n",
       "      <td>41524.877395</td>\n",
       "      <td>2.570808</td>\n",
       "      <td>4.886977e+07</td>\n",
       "    </tr>\n",
       "    <tr>\n",
       "      <th>std</th>\n",
       "      <td>2334.758282</td>\n",
       "      <td>3.566545</td>\n",
       "      <td>4.715439e+07</td>\n",
       "    </tr>\n",
       "    <tr>\n",
       "      <th>min</th>\n",
       "      <td>33966.000000</td>\n",
       "      <td>0.000000</td>\n",
       "      <td>0.000000e+00</td>\n",
       "    </tr>\n",
       "    <tr>\n",
       "      <th>25%</th>\n",
       "      <td>40346.000000</td>\n",
       "      <td>0.000000</td>\n",
       "      <td>2.419000e+07</td>\n",
       "    </tr>\n",
       "    <tr>\n",
       "      <th>50%</th>\n",
       "      <td>42142.500000</td>\n",
       "      <td>1.000000</td>\n",
       "      <td>3.440000e+07</td>\n",
       "    </tr>\n",
       "    <tr>\n",
       "      <th>75%</th>\n",
       "      <td>43378.250000</td>\n",
       "      <td>3.000000</td>\n",
       "      <td>5.590000e+07</td>\n",
       "    </tr>\n",
       "    <tr>\n",
       "      <th>max</th>\n",
       "      <td>44156.000000</td>\n",
       "      <td>39.000000</td>\n",
       "      <td>7.600000e+08</td>\n",
       "    </tr>\n",
       "  </tbody>\n",
       "</table>\n",
       "</div>"
      ],
      "text/plain": [
       "              lu_cd     trim_idx         price\n",
       "count   6680.000000  6680.000000  6.680000e+03\n",
       "mean   41524.877395     2.570808  4.886977e+07\n",
       "std     2334.758282     3.566545  4.715439e+07\n",
       "min    33966.000000     0.000000  0.000000e+00\n",
       "25%    40346.000000     0.000000  2.419000e+07\n",
       "50%    42142.500000     1.000000  3.440000e+07\n",
       "75%    43378.250000     3.000000  5.590000e+07\n",
       "max    44156.000000    39.000000  7.600000e+08"
      ]
     },
     "execution_count": 26,
     "metadata": {},
     "output_type": "execute_result"
    }
   ],
   "source": [
    "car_detail2.describe()"
   ]
  },
  {
   "cell_type": "code",
   "execution_count": 27,
   "metadata": {},
   "outputs": [
    {
     "name": "stdout",
     "output_type": "stream",
     "text": [
      "<class 'pandas.core.frame.DataFrame'>\n",
      "RangeIndex: 6680 entries, 0 to 6679\n",
      "Columns: 166 entries, model to 후방충격 저감 시스템\n",
      "dtypes: int64(3), object(163)\n",
      "memory usage: 8.5+ MB\n"
     ]
    }
   ],
   "source": [
    "car_detail2.info()"
   ]
  },
  {
   "cell_type": "code",
   "execution_count": 56,
   "metadata": {},
   "outputs": [],
   "source": [
    "car_detail2.to_excel('car_detail_all_final.xlsx',encoding='utf-8')"
   ]
  },
  {
   "cell_type": "markdown",
   "metadata": {},
   "source": [
    "이후 전처리 추가적으로 필요"
   ]
  }
 ],
 "metadata": {
  "kernelspec": {
   "display_name": "Python 3",
   "language": "python",
   "name": "python3"
  },
  "language_info": {
   "codemirror_mode": {
    "name": "ipython",
    "version": 3
   },
   "file_extension": ".py",
   "mimetype": "text/x-python",
   "name": "python",
   "nbconvert_exporter": "python",
   "pygments_lexer": "ipython3",
   "version": "3.7.1"
  }
 },
 "nbformat": 4,
 "nbformat_minor": 2
}
