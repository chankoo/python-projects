{
 "cells": [
  {
   "cell_type": "code",
   "execution_count": 1,
   "metadata": {},
   "outputs": [],
   "source": [
    "import pandas as pd\n",
    "import os,json,glob,pickle\n",
    "import sys\n",
    "import re"
   ]
  },
  {
   "cell_type": "code",
   "execution_count": 2,
   "metadata": {},
   "outputs": [],
   "source": [
    "os.chdir('./data')"
   ]
  },
  {
   "cell_type": "code",
   "execution_count": 24,
   "metadata": {},
   "outputs": [],
   "source": [
    "car_base = pd.read_excel('car_base.xlsx')"
   ]
  },
  {
   "cell_type": "code",
   "execution_count": 25,
   "metadata": {},
   "outputs": [
    {
     "data": {
      "text/html": [
       "<div>\n",
       "<style scoped>\n",
       "    .dataframe tbody tr th:only-of-type {\n",
       "        vertical-align: middle;\n",
       "    }\n",
       "\n",
       "    .dataframe tbody tr th {\n",
       "        vertical-align: top;\n",
       "    }\n",
       "\n",
       "    .dataframe thead th {\n",
       "        text-align: right;\n",
       "    }\n",
       "</style>\n",
       "<table border=\"1\" class=\"dataframe\">\n",
       "  <thead>\n",
       "    <tr style=\"text-align: right;\">\n",
       "      <th></th>\n",
       "      <th>model</th>\n",
       "      <th>brand</th>\n",
       "      <th>seg</th>\n",
       "      <th>title</th>\n",
       "      <th>duration</th>\n",
       "      <th>price_range</th>\n",
       "      <th>recall_num</th>\n",
       "    </tr>\n",
       "  </thead>\n",
       "  <tbody>\n",
       "    <tr>\n",
       "      <th>487</th>\n",
       "      <td>3568</td>\n",
       "      <td>푸조</td>\n",
       "      <td>준중형</td>\n",
       "      <td>308</td>\n",
       "      <td>2018.02 ~ 현재</td>\n",
       "      <td>3252~3946</td>\n",
       "      <td>0</td>\n",
       "    </tr>\n",
       "    <tr>\n",
       "      <th>510</th>\n",
       "      <td>3593</td>\n",
       "      <td>폭스바겐</td>\n",
       "      <td>중형</td>\n",
       "      <td>Passat 저공해3종</td>\n",
       "      <td>2018.08 ~ 현재</td>\n",
       "      <td>3614</td>\n",
       "      <td>0</td>\n",
       "    </tr>\n",
       "    <tr>\n",
       "      <th>408</th>\n",
       "      <td>3405</td>\n",
       "      <td>링컨</td>\n",
       "      <td>준대형</td>\n",
       "      <td>MKZ 저공해2종</td>\n",
       "      <td>2016.09 ~ 현재</td>\n",
       "      <td>4707~5910</td>\n",
       "      <td>1</td>\n",
       "    </tr>\n",
       "    <tr>\n",
       "      <th>142</th>\n",
       "      <td>2559</td>\n",
       "      <td>볼보</td>\n",
       "      <td>대형SUV</td>\n",
       "      <td>XC90(1세대)</td>\n",
       "      <td>2003.07 ~ 2015.04</td>\n",
       "      <td>7030~7450</td>\n",
       "      <td>1</td>\n",
       "    </tr>\n",
       "    <tr>\n",
       "      <th>333</th>\n",
       "      <td>3273</td>\n",
       "      <td>현대</td>\n",
       "      <td>중형SUV</td>\n",
       "      <td>싼타페 더 프라임(DM)</td>\n",
       "      <td>2015.06 ~ 2018.08</td>\n",
       "      <td>2695~4035</td>\n",
       "      <td>0</td>\n",
       "    </tr>\n",
       "  </tbody>\n",
       "</table>\n",
       "</div>"
      ],
      "text/plain": [
       "     model brand    seg          title           duration price_range  \\\n",
       "487   3568    푸조    준중형            308       2018.02 ~ 현재   3252~3946   \n",
       "510   3593  폭스바겐     중형   Passat 저공해3종       2018.08 ~ 현재        3614   \n",
       "408   3405    링컨    준대형      MKZ 저공해2종       2016.09 ~ 현재   4707~5910   \n",
       "142   2559    볼보  대형SUV      XC90(1세대)  2003.07 ~ 2015.04   7030~7450   \n",
       "333   3273    현대  중형SUV  싼타페 더 프라임(DM)  2015.06 ~ 2018.08   2695~4035   \n",
       "\n",
       "     recall_num  \n",
       "487           0  \n",
       "510           0  \n",
       "408           1  \n",
       "142           1  \n",
       "333           0  "
      ]
     },
     "execution_count": 25,
     "metadata": {},
     "output_type": "execute_result"
    }
   ],
   "source": [
    "car_base.sample(5)"
   ]
  },
  {
   "cell_type": "code",
   "execution_count": 26,
   "metadata": {},
   "outputs": [],
   "source": [
    "car_base.model = car_base.model.astype('str')"
   ]
  },
  {
   "cell_type": "code",
   "execution_count": 108,
   "metadata": {},
   "outputs": [
    {
     "name": "stdout",
     "output_type": "stream",
     "text": [
      "<class 'pandas.core.frame.DataFrame'>\n",
      "RangeIndex: 526 entries, 0 to 525\n",
      "Data columns (total 7 columns):\n",
      "model          526 non-null int64\n",
      "brand          526 non-null object\n",
      "seg            526 non-null object\n",
      "title          526 non-null object\n",
      "launching      526 non-null object\n",
      "price_range    502 non-null object\n",
      "recall_num     526 non-null int64\n",
      "dtypes: int64(2), object(5)\n",
      "memory usage: 28.8+ KB\n"
     ]
    }
   ],
   "source": [
    "car_base.info()"
   ]
  },
  {
   "cell_type": "code",
   "execution_count": 74,
   "metadata": {},
   "outputs": [],
   "source": [
    "#중고차데이터 합치기\n",
    "json_files = glob.glob('usedCar_mpark_*.json')\n",
    "\n",
    "used_car_data = {}\n",
    "for json_file in json_files:\n",
    "    with open(json_file) as fp:\n",
    "        used_car_data.update(json.load(fp))"
   ]
  },
  {
   "cell_type": "code",
   "execution_count": 31,
   "metadata": {},
   "outputs": [
    {
     "data": {
      "text/plain": [
       "7361"
      ]
     },
     "execution_count": 31,
     "metadata": {},
     "output_type": "execute_result"
    }
   ],
   "source": [
    "len(used_car_data)"
   ]
  },
  {
   "cell_type": "code",
   "execution_count": 32,
   "metadata": {},
   "outputs": [
    {
     "data": {
      "text/plain": [
       "{'title': '기아 카니발R ',\n",
       " 'sub_title': '뉴카니발리무진GLX',\n",
       " 'owned': '1인소유',\n",
       " 'info': ['2011  년식', '68,720km', '자동', '경유'],\n",
       " 'price': '1,420만원',\n",
       " '차량번호': '60보7792',\n",
       " '배기량': '2,199 CC',\n",
       " '연식': '2011 ',\n",
       " '색상': '검정',\n",
       " '주행거리': '68,720 km',\n",
       " '압류/저당': '정보없음/정보없음',\n",
       " '변속기': '자동',\n",
       " '세금미납': ' - ',\n",
       " '연료': '경유',\n",
       " '제시번호': ' 2019001542 ',\n",
       " '용도변경 이력': '없음',\n",
       " '차량번호/소유자변경': '0회 /1회',\n",
       " '특수 사고이력': '전손 : 0 / 침수 전손 : 0 / 침수 분손 : 0 / 도난 : 0',\n",
       " '보험사고(내차 피해)': '3회 (1,624,568원)',\n",
       " '보험사고(타차 가해)': '1회 (1,199,870원)',\n",
       " '점검일시': '2019-01-09',\n",
       " '점검자': '박기현',\n",
       " '동일성확인 ': '양호',\n",
       " '불법구조변경': '',\n",
       " '사고유무 ': '무',\n",
       " '침수유무': '무',\n",
       " '자동차의 상태': '교환 0건 / 부식 0건 / 판금·용접 0건',\n",
       " 'option_0': ['네비게이션(매립)', '후방카메라', '썬루프(일반형)', '블랙박스'],\n",
       " 'option_1': ['전자동 에어컨', '알루미늄휠', '가죽시트'],\n",
       " 'option_2': ['에어백(운전석)',\n",
       "  '에어백(동반석)',\n",
       "  '에어백(사이드)',\n",
       "  '에어백(커튼)',\n",
       "  'ABS',\n",
       "  'TCS',\n",
       "  'ESP/VDC'],\n",
       " 'option_3': ['ECM 룸미러', '하이패스', '후방감지센서', '크루즈컨트롤'],\n",
       " 'option_4': ['열선핸들', '오토 슬라이딩도어'],\n",
       " '판매자설명': '★완무★1인신조실키로수★오슬,썬룹,정품네비후방등등'}"
      ]
     },
     "execution_count": 32,
     "metadata": {},
     "output_type": "execute_result"
    }
   ],
   "source": [
    "used_car_data['9011500347'] # 데이터 다있는 경우"
   ]
  },
  {
   "cell_type": "code",
   "execution_count": null,
   "metadata": {},
   "outputs": [],
   "source": []
  },
  {
   "cell_type": "markdown",
   "metadata": {},
   "source": [
    "json인 used_car_data를 pandas로 만들자"
   ]
  },
  {
   "cell_type": "code",
   "execution_count": 38,
   "metadata": {},
   "outputs": [],
   "source": [
    "used_car_df = {'demoNo':[],'title':[],'sub_title':[], 'baegi':[],'year_old':[],'color':[], 'driven_dist':[], 'trans':[], 'fuel':[]\n",
    "               ,'mortgage':[], 'tax_to_pay':[], 'ch_purpose':[],'ch_num':[],'ch_owner':[]\n",
    "               ,'total_loss':[], 'total_flood':[], 'part_flood':[], 'theft':[],'damaged':[], 'damaging':[]\n",
    "               ,'opt_prefer':[],'opt_basic':[], 'opt_safe':[], 'opt_conven':[], 'opt_etc':[]\n",
    "               ,'description':[], 'price':[]}"
   ]
  },
  {
   "cell_type": "code",
   "execution_count": 39,
   "metadata": {},
   "outputs": [],
   "source": [
    "key_exceptions =[]\n",
    "for k,v in used_car_data.items():\n",
    "    if v == {}:\n",
    "        continue\n",
    "    try:\n",
    "        used_car_df['demoNo'].append(k)\n",
    "        used_car_df['title'].append(v['title'])\n",
    "        used_car_df['sub_title'].append(v['sub_title'])\n",
    "\n",
    "        used_car_df['baegi'].append(re.sub('[\\D]','',v['배기량']))\n",
    "        used_car_df['year_old'].append(v['연식'])\n",
    "        used_car_df['color'].append(v['색상'])\n",
    "        used_car_df['driven_dist'].append(re.sub('[\\D]','',v['주행거리']))\n",
    "        used_car_df['trans'].append(v['변속기'])\n",
    "        used_car_df['fuel'].append(v['연료'])\n",
    "\n",
    "        used_car_df['mortgage'].append(v['압류/저당'])\n",
    "        used_car_df['tax_to_pay'].append(v['세금미납'])\n",
    "        used_car_df['ch_purpose'].append(v['용도변경 이력'])\n",
    "\n",
    "        ch_num, ch_owner = [el.strip() for el in v['차량번호/소유자변경'].split('/')]\n",
    "        used_car_df['ch_num'].append(ch_num)\n",
    "        used_car_df['ch_owner'].append(ch_owner)\n",
    "\n",
    "        total_loss,total_flood,part_flood,theft  = [re.sub('[\\D]','',el) for el in v['특수 사고이력'].split('/')]\n",
    "        used_car_df['total_loss'].append(total_loss)\n",
    "        used_car_df['total_flood'].append(total_flood)\n",
    "        used_car_df['part_flood'].append(part_flood)\n",
    "        used_car_df['theft'].append(theft)\n",
    "    \n",
    "    \n",
    "        p = re.compile(r'(\\S*원)')\n",
    "        used_car_df['damaged'].append(re.sub('\\D','',re.search(p,v['보험사고(내차 피해)']).group())) \n",
    "        used_car_df['damaging'].append(re.sub('\\D','',re.search(p,v['보험사고(타차 가해)']).group()))  \n",
    "\n",
    "        allopt_0 = ['네비게이션(매립)', '후방카메라', '썬루프(일반형)','파노라마 썬루프','버튼시동/스마트키', '블랙박스','4WD(4륜구동)','스톱앤고(ISG)']\n",
    "        allopt_1 = ['전자동 에어컨', '알루미늄휠','HID/LED 헤드램프','가죽시트','전동시트','열선시트','통풍시트','CD/MP3 플레이어']\n",
    "        allopt_2 = ['에어백(운전석)','에어백(동반석)','에어백(사이드)','에어백(커튼)','ABS','TCS','ESP/VDC','TPMS(타이어공기압)']\n",
    "        allopt_3 = ['내비게이션(거치)','ECM 룸미러', '하이패스', '후방감지센서','전방감지센서', '크루즈컨트롤', '전자식 파킹브레이크','SPAS(자동주차)']\n",
    "        allopt_4 = ['열선핸들','뒷좌석 TV', '오토 슬라이딩도어', '파워 트렁크','사이드스텝','HUD(헤드업디스플레이)','차선이탈 경보시스템','후측방 경보시스템(BSD)']\n",
    "        \n",
    "        opt_0 = [0 for i in range(8)]\n",
    "        for opt in v['option_0']:\n",
    "            opt_0[allopt_0.index(opt)] = 1\n",
    "        used_car_df['opt_prefer'].append(opt_0)\n",
    "        \n",
    "        opt_1 = [0 for i in range(8)]\n",
    "        for opt in v['option_1']:\n",
    "            opt_1[allopt_1.index(opt)] = 1\n",
    "        used_car_df['opt_basic'].append(opt_1)\n",
    "\n",
    "        opt_2 = [0 for i in range(8)]\n",
    "        for opt in v['option_2']:\n",
    "            opt_2[allopt_2.index(opt)] = 1\n",
    "        used_car_df['opt_safe'].append(opt_2)\n",
    "        \n",
    "        \n",
    "        opt_3 = [0 for i in range(8)]\n",
    "        for opt in v['option_3']:\n",
    "            opt_3[allopt_3.index(opt)] = 1\n",
    "        used_car_df['opt_conven'].append(opt_3)\n",
    "        \n",
    "        opt_4 = [0 for i in range(8)]\n",
    "        for opt in v['option_4']:\n",
    "            opt_4[allopt_4.index(opt)] = 1\n",
    "        used_car_df['opt_etc'].append(opt_4)            \n",
    "\n",
    "        used_car_df['description'].append(v['판매자설명'])\n",
    "        used_car_df['price'].append(re.sub('[\\D]','',v['price']))\n",
    "    \n",
    "    except Exception as e:\n",
    "        print(k)\n",
    "        raise Exception\n",
    "        key_exceptions.append(k)\n",
    "        continue\n",
    "    "
   ]
  },
  {
   "cell_type": "code",
   "execution_count": 40,
   "metadata": {},
   "outputs": [
    {
     "data": {
      "text/plain": [
       "0"
      ]
     },
     "execution_count": 40,
     "metadata": {},
     "output_type": "execute_result"
    }
   ],
   "source": [
    "len(key_exceptions)"
   ]
  },
  {
   "cell_type": "code",
   "execution_count": 11,
   "metadata": {},
   "outputs": [],
   "source": [
    "# for e in key_exceptions:\n",
    "#     del used_car_data[e]"
   ]
  },
  {
   "cell_type": "code",
   "execution_count": 42,
   "metadata": {},
   "outputs": [],
   "source": [
    "used_car_df = pd.DataFrame(used_car_df)"
   ]
  },
  {
   "cell_type": "code",
   "execution_count": 44,
   "metadata": {},
   "outputs": [],
   "source": [
    "used_car_df.to_excel('used_car.xlsx',encoding='utf-8')"
   ]
  },
  {
   "cell_type": "code",
   "execution_count": 46,
   "metadata": {},
   "outputs": [],
   "source": [
    "used_df.demoNo = used_df.demoNo.astype('str')"
   ]
  },
  {
   "cell_type": "code",
   "execution_count": 47,
   "metadata": {},
   "outputs": [],
   "source": [
    "used_df = used_df.set_index('demoNo')"
   ]
  },
  {
   "cell_type": "code",
   "execution_count": 48,
   "metadata": {},
   "outputs": [
    {
     "name": "stdout",
     "output_type": "stream",
     "text": [
      "<class 'pandas.core.frame.DataFrame'>\n",
      "Index: 7129 entries, 8121501822 to 5121101132\n",
      "Data columns (total 26 columns):\n",
      "title          7129 non-null object\n",
      "sub_title      7129 non-null object\n",
      "baegi          7093 non-null float64\n",
      "year_old       7129 non-null object\n",
      "color          6985 non-null object\n",
      "driven_dist    7129 non-null int64\n",
      "trans          7128 non-null object\n",
      "fuel           7128 non-null object\n",
      "mortgage       7129 non-null object\n",
      "tax_to_pay     7129 non-null object\n",
      "ch_purpose     6092 non-null object\n",
      "ch_num         7129 non-null object\n",
      "ch_owner       7129 non-null object\n",
      "total_loss     6092 non-null float64\n",
      "total_flood    6092 non-null float64\n",
      "part_flood     6092 non-null float64\n",
      "theft          6092 non-null float64\n",
      "damaged        6092 non-null float64\n",
      "damaging       6092 non-null float64\n",
      "opt_prefer     7129 non-null object\n",
      "opt_basic      7129 non-null object\n",
      "opt_safe       7129 non-null object\n",
      "opt_conven     7129 non-null object\n",
      "opt_etc        7129 non-null object\n",
      "description    5737 non-null object\n",
      "price          7129 non-null int64\n",
      "dtypes: float64(7), int64(2), object(17)\n",
      "memory usage: 1.5+ MB\n"
     ]
    }
   ],
   "source": [
    "used_df.info()"
   ]
  },
  {
   "cell_type": "code",
   "execution_count": null,
   "metadata": {},
   "outputs": [],
   "source": []
  },
  {
   "cell_type": "markdown",
   "metadata": {},
   "source": [
    "기본정보와 중고차 데이터의 매핑"
   ]
  },
  {
   "cell_type": "code",
   "execution_count": 49,
   "metadata": {},
   "outputs": [],
   "source": [
    "car_base = pd.read_excel('car_base.xlsx')"
   ]
  },
  {
   "cell_type": "code",
   "execution_count": 50,
   "metadata": {},
   "outputs": [
    {
     "name": "stdout",
     "output_type": "stream",
     "text": [
      "<class 'pandas.core.frame.DataFrame'>\n",
      "Int64Index: 527 entries, 0 to 526\n",
      "Data columns (total 7 columns):\n",
      "model          527 non-null int64\n",
      "brand          527 non-null object\n",
      "seg            527 non-null object\n",
      "title          527 non-null object\n",
      "duration       527 non-null object\n",
      "price_range    503 non-null object\n",
      "recall_num     527 non-null int64\n",
      "dtypes: int64(2), object(5)\n",
      "memory usage: 32.9+ KB\n"
     ]
    }
   ],
   "source": [
    "car_base.info()"
   ]
  },
  {
   "cell_type": "code",
   "execution_count": 51,
   "metadata": {},
   "outputs": [],
   "source": [
    "model_suv_lst = [str(el) for el in list(car_base[car_base.seg == '소형SUV'].model)] # 소형suv의 model_id를 뽑자"
   ]
  },
  {
   "cell_type": "code",
   "execution_count": 52,
   "metadata": {},
   "outputs": [
    {
     "data": {
      "text/plain": [
       "68"
      ]
     },
     "execution_count": 52,
     "metadata": {},
     "output_type": "execute_result"
    }
   ],
   "source": [
    "len(model_suv_lst)"
   ]
  },
  {
   "cell_type": "code",
   "execution_count": 53,
   "metadata": {},
   "outputs": [],
   "source": [
    "with open('model_used.json') as fp:\n",
    "    model_used_mapping = json.load(fp)"
   ]
  },
  {
   "cell_type": "code",
   "execution_count": 54,
   "metadata": {},
   "outputs": [
    {
     "data": {
      "text/plain": [
       "527"
      ]
     },
     "execution_count": 54,
     "metadata": {},
     "output_type": "execute_result"
    }
   ],
   "source": [
    "len(model_used_mapping) # 다나와에서 가져온 526개 모델의 매핑 정보 담음"
   ]
  },
  {
   "cell_type": "code",
   "execution_count": 55,
   "metadata": {},
   "outputs": [
    {
     "data": {
      "text/plain": [
       "['8910001899',\n",
       " '9011502664',\n",
       " '8710002053',\n",
       " '9110003820',\n",
       " '8C10002716',\n",
       " '9011502097',\n",
       " '9110001819',\n",
       " '8C20001916',\n",
       " '9120002263',\n",
       " '9011001070',\n",
       " '9011000945',\n",
       " '8C10001295',\n",
       " '8121501330',\n",
       " '8710002046',\n",
       " '8121100039',\n",
       " '8111002759',\n",
       " '8810002469',\n",
       " '8111002255',\n",
       " '8111002192',\n",
       " '8101002509',\n",
       " '8101500875',\n",
       " '8091002005',\n",
       " '8071502570',\n",
       " '8071501209',\n",
       " '8061002389']"
      ]
     },
     "execution_count": 55,
     "metadata": {},
     "output_type": "execute_result"
    }
   ],
   "source": [
    "model_used_mapping['3341'] # 엠파크, 국민차 등 섞인상태"
   ]
  },
  {
   "cell_type": "code",
   "execution_count": 56,
   "metadata": {},
   "outputs": [],
   "source": [
    "used_df['model_id'] = pd.Series([0 for _ in range(len(used_df))]) # used_df에 model_id 컬럼 명시적으로 추가해보자"
   ]
  },
  {
   "cell_type": "code",
   "execution_count": 57,
   "metadata": {},
   "outputs": [],
   "source": [
    "for k,no_lst in model_used_mapping.items(): # 매핑된(다나와랑 연결되있는)경우 에 model_id 명시가능\n",
    "    for no in no_lst:\n",
    "        if no in used_df.index:\n",
    "            used_df.loc[no,'model_id'] = str(k)"
   ]
  },
  {
   "cell_type": "code",
   "execution_count": 58,
   "metadata": {},
   "outputs": [
    {
     "data": {
      "text/plain": [
       "(7129, 27)"
      ]
     },
     "execution_count": 58,
     "metadata": {},
     "output_type": "execute_result"
    }
   ],
   "source": [
    "used_df.shape"
   ]
  },
  {
   "cell_type": "code",
   "execution_count": 61,
   "metadata": {},
   "outputs": [
    {
     "data": {
      "text/html": [
       "<div>\n",
       "<style scoped>\n",
       "    .dataframe tbody tr th:only-of-type {\n",
       "        vertical-align: middle;\n",
       "    }\n",
       "\n",
       "    .dataframe tbody tr th {\n",
       "        vertical-align: top;\n",
       "    }\n",
       "\n",
       "    .dataframe thead th {\n",
       "        text-align: right;\n",
       "    }\n",
       "</style>\n",
       "<table border=\"1\" class=\"dataframe\">\n",
       "  <thead>\n",
       "    <tr style=\"text-align: right;\">\n",
       "      <th></th>\n",
       "      <th>title</th>\n",
       "      <th>sub_title</th>\n",
       "      <th>baegi</th>\n",
       "      <th>year_old</th>\n",
       "      <th>color</th>\n",
       "      <th>driven_dist</th>\n",
       "      <th>trans</th>\n",
       "      <th>fuel</th>\n",
       "      <th>mortgage</th>\n",
       "      <th>tax_to_pay</th>\n",
       "      <th>...</th>\n",
       "      <th>damaged</th>\n",
       "      <th>damaging</th>\n",
       "      <th>opt_prefer</th>\n",
       "      <th>opt_basic</th>\n",
       "      <th>opt_safe</th>\n",
       "      <th>opt_conven</th>\n",
       "      <th>opt_etc</th>\n",
       "      <th>description</th>\n",
       "      <th>price</th>\n",
       "      <th>model_id</th>\n",
       "    </tr>\n",
       "    <tr>\n",
       "      <th>demoNo</th>\n",
       "      <th></th>\n",
       "      <th></th>\n",
       "      <th></th>\n",
       "      <th></th>\n",
       "      <th></th>\n",
       "      <th></th>\n",
       "      <th></th>\n",
       "      <th></th>\n",
       "      <th></th>\n",
       "      <th></th>\n",
       "      <th></th>\n",
       "      <th></th>\n",
       "      <th></th>\n",
       "      <th></th>\n",
       "      <th></th>\n",
       "      <th></th>\n",
       "      <th></th>\n",
       "      <th></th>\n",
       "      <th></th>\n",
       "      <th></th>\n",
       "      <th></th>\n",
       "    </tr>\n",
       "  </thead>\n",
       "  <tbody>\n",
       "    <tr>\n",
       "      <th>8121501822</th>\n",
       "      <td>르노삼성 뉴SM5(신형)</td>\n",
       "      <td>가솔린 2.0 RE</td>\n",
       "      <td>1998.0</td>\n",
       "      <td>2011</td>\n",
       "      <td>흰색</td>\n",
       "      <td>44038</td>\n",
       "      <td>자동</td>\n",
       "      <td>휘발유</td>\n",
       "      <td>정보없음/정보없음</td>\n",
       "      <td>-</td>\n",
       "      <td>...</td>\n",
       "      <td>NaN</td>\n",
       "      <td>NaN</td>\n",
       "      <td>[1, 1, 1, 0, 1, 1, 0, 0]</td>\n",
       "      <td>[1, 1, 0, 1, 1, 1, 0, 1]</td>\n",
       "      <td>[1, 1, 1, 1, 1, 0, 1, 1]</td>\n",
       "      <td>[0, 1, 1, 1, 0, 0, 0, 0]</td>\n",
       "      <td>[0, 0, 0, 0, 0, 0, 0, 0]</td>\n",
       "      <td>풀옵션, 안마시트,메모리시트, 파썬, 네비,후방,블박,상태최상인 차량입니다. 안녕하...</td>\n",
       "      <td>790</td>\n",
       "      <td>2112</td>\n",
       "    </tr>\n",
       "  </tbody>\n",
       "</table>\n",
       "<p>1 rows × 27 columns</p>\n",
       "</div>"
      ],
      "text/plain": [
       "                     title   sub_title   baegi year_old color  driven_dist  \\\n",
       "demoNo                                                                       \n",
       "8121501822  르노삼성 뉴SM5(신형)   가솔린 2.0 RE  1998.0    2011     흰색        44038   \n",
       "\n",
       "           trans fuel   mortgage tax_to_pay   ...    damaged damaging  \\\n",
       "demoNo                                        ...                       \n",
       "8121501822    자동  휘발유  정보없음/정보없음         -    ...        NaN      NaN   \n",
       "\n",
       "                          opt_prefer                 opt_basic  \\\n",
       "demoNo                                                           \n",
       "8121501822  [1, 1, 1, 0, 1, 1, 0, 0]  [1, 1, 0, 1, 1, 1, 0, 1]   \n",
       "\n",
       "                            opt_safe                opt_conven  \\\n",
       "demoNo                                                           \n",
       "8121501822  [1, 1, 1, 1, 1, 0, 1, 1]  [0, 1, 1, 1, 0, 0, 0, 0]   \n",
       "\n",
       "                             opt_etc  \\\n",
       "demoNo                                 \n",
       "8121501822  [0, 0, 0, 0, 0, 0, 0, 0]   \n",
       "\n",
       "                                                  description  price model_id  \n",
       "demoNo                                                                         \n",
       "8121501822  풀옵션, 안마시트,메모리시트, 파썬, 네비,후방,블박,상태최상인 차량입니다. 안녕하...    790     2112  \n",
       "\n",
       "[1 rows x 27 columns]"
      ]
     },
     "execution_count": 61,
     "metadata": {},
     "output_type": "execute_result"
    }
   ],
   "source": [
    "used_df.head(1)"
   ]
  },
  {
   "cell_type": "code",
   "execution_count": 62,
   "metadata": {},
   "outputs": [],
   "source": [
    "used_df.to_excel('used_car_map.xlsx',encoding='utf-8')"
   ]
  },
  {
   "cell_type": "code",
   "execution_count": 64,
   "metadata": {},
   "outputs": [],
   "source": [
    "used_suv_lst = []\n",
    "for k,no_lst in model_used_mapping.items():\n",
    "    if k in model_suv_lst:\n",
    "        used_suv_lst += no_lst"
   ]
  },
  {
   "cell_type": "code",
   "execution_count": 65,
   "metadata": {},
   "outputs": [
    {
     "data": {
      "text/plain": [
       "1284"
      ]
     },
     "execution_count": 65,
     "metadata": {},
     "output_type": "execute_result"
    }
   ],
   "source": [
    "len(used_suv_lst)"
   ]
  },
  {
   "cell_type": "code",
   "execution_count": 66,
   "metadata": {},
   "outputs": [],
   "source": [
    "valid_no = []\n",
    "for no in used_suv_lst:\n",
    "    if no in used_df.index:\n",
    "        valid_no.append(no)"
   ]
  },
  {
   "cell_type": "code",
   "execution_count": 67,
   "metadata": {},
   "outputs": [],
   "source": [
    "valid_idx = pd.Index(valid_no)"
   ]
  },
  {
   "cell_type": "code",
   "execution_count": 68,
   "metadata": {},
   "outputs": [],
   "source": [
    "used_suv = used_df.loc[valid_idx]"
   ]
  },
  {
   "cell_type": "code",
   "execution_count": 69,
   "metadata": {},
   "outputs": [
    {
     "data": {
      "text/html": [
       "<div>\n",
       "<style scoped>\n",
       "    .dataframe tbody tr th:only-of-type {\n",
       "        vertical-align: middle;\n",
       "    }\n",
       "\n",
       "    .dataframe tbody tr th {\n",
       "        vertical-align: top;\n",
       "    }\n",
       "\n",
       "    .dataframe thead th {\n",
       "        text-align: right;\n",
       "    }\n",
       "</style>\n",
       "<table border=\"1\" class=\"dataframe\">\n",
       "  <thead>\n",
       "    <tr style=\"text-align: right;\">\n",
       "      <th></th>\n",
       "      <th>title</th>\n",
       "      <th>sub_title</th>\n",
       "      <th>baegi</th>\n",
       "      <th>year_old</th>\n",
       "      <th>color</th>\n",
       "      <th>driven_dist</th>\n",
       "      <th>trans</th>\n",
       "      <th>fuel</th>\n",
       "      <th>mortgage</th>\n",
       "      <th>tax_to_pay</th>\n",
       "      <th>...</th>\n",
       "      <th>damaged</th>\n",
       "      <th>damaging</th>\n",
       "      <th>opt_prefer</th>\n",
       "      <th>opt_basic</th>\n",
       "      <th>opt_safe</th>\n",
       "      <th>opt_conven</th>\n",
       "      <th>opt_etc</th>\n",
       "      <th>description</th>\n",
       "      <th>price</th>\n",
       "      <th>model_id</th>\n",
       "    </tr>\n",
       "  </thead>\n",
       "  <tbody>\n",
       "    <tr>\n",
       "      <th>8121502408</th>\n",
       "      <td>폭스바겐 티구안(1세대)</td>\n",
       "      <td>2.0TDI블루모션 컴포트</td>\n",
       "      <td>2000.0</td>\n",
       "      <td>2013</td>\n",
       "      <td>흰색</td>\n",
       "      <td>107148</td>\n",
       "      <td>자동</td>\n",
       "      <td>경유</td>\n",
       "      <td>정보없음/정보없음</td>\n",
       "      <td>-</td>\n",
       "      <td>...</td>\n",
       "      <td>5755510.0</td>\n",
       "      <td>79290.0</td>\n",
       "      <td>[1, 1, 0, 0, 1, 1, 1, 0]</td>\n",
       "      <td>[1, 1, 1, 1, 1, 1, 0, 1]</td>\n",
       "      <td>[1, 1, 1, 1, 1, 1, 1, 0]</td>\n",
       "      <td>[0, 1, 0, 1, 1, 1, 1, 0]</td>\n",
       "      <td>[0, 0, 0, 0, 0, 0, 0, 0]</td>\n",
       "      <td>무사고,브라운시트,네비매립(200만원),후방카메라,열선시트</td>\n",
       "      <td>1490</td>\n",
       "      <td>2337</td>\n",
       "    </tr>\n",
       "    <tr>\n",
       "      <th>9011501861</th>\n",
       "      <td>현대 올뉴투싼(TL)</td>\n",
       "      <td>디젤1.7 2WD 모던</td>\n",
       "      <td>1685.0</td>\n",
       "      <td>2016</td>\n",
       "      <td>흰색</td>\n",
       "      <td>28034</td>\n",
       "      <td>자동</td>\n",
       "      <td>경유</td>\n",
       "      <td>정보없음/정보없음</td>\n",
       "      <td>-</td>\n",
       "      <td>...</td>\n",
       "      <td>962050.0</td>\n",
       "      <td>1453980.0</td>\n",
       "      <td>[0, 0, 0, 0, 0, 0, 0, 0]</td>\n",
       "      <td>[0, 0, 0, 0, 0, 0, 0, 0]</td>\n",
       "      <td>[0, 0, 0, 0, 0, 0, 0, 0]</td>\n",
       "      <td>[0, 0, 0, 0, 0, 0, 0, 0]</td>\n",
       "      <td>[0, 0, 0, 0, 0, 0, 0, 0]</td>\n",
       "      <td>NaN</td>\n",
       "      <td>2120</td>\n",
       "      <td>3250</td>\n",
       "    </tr>\n",
       "    <tr>\n",
       "      <th>8111001833</th>\n",
       "      <td>폭스바겐 티구안(1세대)</td>\n",
       "      <td>2.0TDI블루모션 프리미엄</td>\n",
       "      <td>2000.0</td>\n",
       "      <td>2015</td>\n",
       "      <td>회색</td>\n",
       "      <td>36793</td>\n",
       "      <td>자동</td>\n",
       "      <td>경유</td>\n",
       "      <td>정보없음/정보없음</td>\n",
       "      <td>-</td>\n",
       "      <td>...</td>\n",
       "      <td>724200.0</td>\n",
       "      <td>0.0</td>\n",
       "      <td>[1, 1, 0, 1, 1, 1, 0, 1]</td>\n",
       "      <td>[0, 1, 0, 1, 1, 1, 1, 1]</td>\n",
       "      <td>[0, 0, 0, 0, 0, 0, 0, 0]</td>\n",
       "      <td>[0, 1, 1, 1, 1, 1, 1, 0]</td>\n",
       "      <td>[0, 0, 0, 0, 0, 0, 0, 0]</td>\n",
       "      <td>완무 1인신조 신차급 병적관리 오일류교체등 경정비완료되어 바로 타면 됩니다.</td>\n",
       "      <td>2540</td>\n",
       "      <td>2337</td>\n",
       "    </tr>\n",
       "  </tbody>\n",
       "</table>\n",
       "<p>3 rows × 27 columns</p>\n",
       "</div>"
      ],
      "text/plain": [
       "                     title        sub_title   baegi year_old color  \\\n",
       "8121502408  폭스바겐 티구안(1세대)    2.0TDI블루모션 컴포트  2000.0    2013     흰색   \n",
       "9011501861    현대 올뉴투싼(TL)      디젤1.7 2WD 모던  1685.0     2016    흰색   \n",
       "8111001833  폭스바겐 티구안(1세대)   2.0TDI블루모션 프리미엄  2000.0    2015     회색   \n",
       "\n",
       "            driven_dist trans fuel   mortgage tax_to_pay   ...       damaged  \\\n",
       "8121502408       107148    자동   경유  정보없음/정보없음         -    ...     5755510.0   \n",
       "9011501861        28034    자동   경유  정보없음/정보없음         -    ...      962050.0   \n",
       "8111001833        36793    자동   경유  정보없음/정보없음         -    ...      724200.0   \n",
       "\n",
       "             damaging                opt_prefer                 opt_basic  \\\n",
       "8121502408    79290.0  [1, 1, 0, 0, 1, 1, 1, 0]  [1, 1, 1, 1, 1, 1, 0, 1]   \n",
       "9011501861  1453980.0  [0, 0, 0, 0, 0, 0, 0, 0]  [0, 0, 0, 0, 0, 0, 0, 0]   \n",
       "8111001833        0.0  [1, 1, 0, 1, 1, 1, 0, 1]  [0, 1, 0, 1, 1, 1, 1, 1]   \n",
       "\n",
       "                            opt_safe                opt_conven  \\\n",
       "8121502408  [1, 1, 1, 1, 1, 1, 1, 0]  [0, 1, 0, 1, 1, 1, 1, 0]   \n",
       "9011501861  [0, 0, 0, 0, 0, 0, 0, 0]  [0, 0, 0, 0, 0, 0, 0, 0]   \n",
       "8111001833  [0, 0, 0, 0, 0, 0, 0, 0]  [0, 1, 1, 1, 1, 1, 1, 0]   \n",
       "\n",
       "                             opt_etc  \\\n",
       "8121502408  [0, 0, 0, 0, 0, 0, 0, 0]   \n",
       "9011501861  [0, 0, 0, 0, 0, 0, 0, 0]   \n",
       "8111001833  [0, 0, 0, 0, 0, 0, 0, 0]   \n",
       "\n",
       "                                           description  price model_id  \n",
       "8121502408            무사고,브라운시트,네비매립(200만원),후방카메라,열선시트   1490     2337  \n",
       "9011501861                                         NaN   2120     3250  \n",
       "8111001833  완무 1인신조 신차급 병적관리 오일류교체등 경정비완료되어 바로 타면 됩니다.   2540     2337  \n",
       "\n",
       "[3 rows x 27 columns]"
      ]
     },
     "execution_count": 69,
     "metadata": {},
     "output_type": "execute_result"
    }
   ],
   "source": [
    "used_suv.sample(3)"
   ]
  },
  {
   "cell_type": "code",
   "execution_count": 70,
   "metadata": {},
   "outputs": [
    {
     "name": "stdout",
     "output_type": "stream",
     "text": [
      "<class 'pandas.core.frame.DataFrame'>\n",
      "Index: 509 entries, 9011501978 to 8071501209\n",
      "Data columns (total 27 columns):\n",
      "title          509 non-null object\n",
      "sub_title      509 non-null object\n",
      "baegi          509 non-null float64\n",
      "year_old       509 non-null object\n",
      "color          498 non-null object\n",
      "driven_dist    509 non-null int64\n",
      "trans          509 non-null object\n",
      "fuel           509 non-null object\n",
      "mortgage       509 non-null object\n",
      "tax_to_pay     509 non-null object\n",
      "ch_purpose     413 non-null object\n",
      "ch_num         509 non-null object\n",
      "ch_owner       509 non-null object\n",
      "total_loss     413 non-null float64\n",
      "total_flood    413 non-null float64\n",
      "part_flood     413 non-null float64\n",
      "theft          413 non-null float64\n",
      "damaged        413 non-null float64\n",
      "damaging       413 non-null float64\n",
      "opt_prefer     509 non-null object\n",
      "opt_basic      509 non-null object\n",
      "opt_safe       509 non-null object\n",
      "opt_conven     509 non-null object\n",
      "opt_etc        509 non-null object\n",
      "description    418 non-null object\n",
      "price          509 non-null int64\n",
      "model_id       509 non-null object\n",
      "dtypes: float64(7), int64(2), object(18)\n",
      "memory usage: 111.3+ KB\n"
     ]
    }
   ],
   "source": [
    "used_suv.info()"
   ]
  },
  {
   "cell_type": "code",
   "execution_count": 71,
   "metadata": {},
   "outputs": [
    {
     "data": {
      "text/html": [
       "<div>\n",
       "<style scoped>\n",
       "    .dataframe tbody tr th:only-of-type {\n",
       "        vertical-align: middle;\n",
       "    }\n",
       "\n",
       "    .dataframe tbody tr th {\n",
       "        vertical-align: top;\n",
       "    }\n",
       "\n",
       "    .dataframe thead th {\n",
       "        text-align: right;\n",
       "    }\n",
       "</style>\n",
       "<table border=\"1\" class=\"dataframe\">\n",
       "  <thead>\n",
       "    <tr style=\"text-align: right;\">\n",
       "      <th></th>\n",
       "      <th>price</th>\n",
       "    </tr>\n",
       "    <tr>\n",
       "      <th>title</th>\n",
       "      <th></th>\n",
       "    </tr>\n",
       "  </thead>\n",
       "  <tbody>\n",
       "    <tr>\n",
       "      <th>지프 랭글러(JL)</th>\n",
       "      <td>5200.000000</td>\n",
       "    </tr>\n",
       "    <tr>\n",
       "      <th>랜드로버 레인지로버이보크</th>\n",
       "      <td>4590.000000</td>\n",
       "    </tr>\n",
       "    <tr>\n",
       "      <th>미니 컨트리맨(2세대)</th>\n",
       "      <td>3750.000000</td>\n",
       "    </tr>\n",
       "    <tr>\n",
       "      <th>지프 랭글러(JK)</th>\n",
       "      <td>3697.500000</td>\n",
       "    </tr>\n",
       "    <tr>\n",
       "      <th>랜드로버 디스커버리스포츠</th>\n",
       "      <td>3550.000000</td>\n",
       "    </tr>\n",
       "    <tr>\n",
       "      <th>벤츠 GLA클래스</th>\n",
       "      <td>3436.666667</td>\n",
       "    </tr>\n",
       "    <tr>\n",
       "      <th>지프 레니게이드</th>\n",
       "      <td>2552.500000</td>\n",
       "    </tr>\n",
       "    <tr>\n",
       "      <th>토요타 RAV4</th>\n",
       "      <td>2340.000000</td>\n",
       "    </tr>\n",
       "    <tr>\n",
       "      <th>아우디 Q3</th>\n",
       "      <td>2312.500000</td>\n",
       "    </tr>\n",
       "    <tr>\n",
       "      <th>포드 쿠가(2세대)</th>\n",
       "      <td>2140.000000</td>\n",
       "    </tr>\n",
       "    <tr>\n",
       "      <th>현대 코나</th>\n",
       "      <td>2061.250000</td>\n",
       "    </tr>\n",
       "    <tr>\n",
       "      <th>피아트 500X</th>\n",
       "      <td>2050.000000</td>\n",
       "    </tr>\n",
       "    <tr>\n",
       "      <th>쌍용 뉴스타일코란도C</th>\n",
       "      <td>1977.500000</td>\n",
       "    </tr>\n",
       "    <tr>\n",
       "      <th>기아 니로</th>\n",
       "      <td>1955.000000</td>\n",
       "    </tr>\n",
       "    <tr>\n",
       "      <th>쌍용 티볼리아머</th>\n",
       "      <td>1872.857143</td>\n",
       "    </tr>\n",
       "    <tr>\n",
       "      <th>BMW X1(E84)</th>\n",
       "      <td>1864.000000</td>\n",
       "    </tr>\n",
       "    <tr>\n",
       "      <th>기아 스포티지4세대</th>\n",
       "      <td>1735.714286</td>\n",
       "    </tr>\n",
       "    <tr>\n",
       "      <th>쌍용 티볼리에어</th>\n",
       "      <td>1681.000000</td>\n",
       "    </tr>\n",
       "    <tr>\n",
       "      <th>기아 스토닉</th>\n",
       "      <td>1678.571429</td>\n",
       "    </tr>\n",
       "    <tr>\n",
       "      <th>푸조 2008(1세대)</th>\n",
       "      <td>1665.000000</td>\n",
       "    </tr>\n",
       "    <tr>\n",
       "      <th>미니 컨트리맨(1세대)</th>\n",
       "      <td>1659.375000</td>\n",
       "    </tr>\n",
       "    <tr>\n",
       "      <th>현대 올뉴투싼(TL)</th>\n",
       "      <td>1652.442623</td>\n",
       "    </tr>\n",
       "    <tr>\n",
       "      <th>폭스바겐 티구안(1세대)</th>\n",
       "      <td>1643.666667</td>\n",
       "    </tr>\n",
       "    <tr>\n",
       "      <th>르노삼성 뉴QM3</th>\n",
       "      <td>1640.000000</td>\n",
       "    </tr>\n",
       "    <tr>\n",
       "      <th>쉐보레/대우 더뉴트랙스</th>\n",
       "      <td>1603.333333</td>\n",
       "    </tr>\n",
       "    <tr>\n",
       "      <th>랜드로버 레인지로버스포츠</th>\n",
       "      <td>1590.000000</td>\n",
       "    </tr>\n",
       "    <tr>\n",
       "      <th>기아 스포티지</th>\n",
       "      <td>1590.000000</td>\n",
       "    </tr>\n",
       "    <tr>\n",
       "      <th>닛산 캐시카이</th>\n",
       "      <td>1520.000000</td>\n",
       "    </tr>\n",
       "    <tr>\n",
       "      <th>닛산 쥬크</th>\n",
       "      <td>1405.000000</td>\n",
       "    </tr>\n",
       "    <tr>\n",
       "      <th>쌍용 티볼리</th>\n",
       "      <td>1386.451613</td>\n",
       "    </tr>\n",
       "    <tr>\n",
       "      <th>기아 더뉴스포티지R</th>\n",
       "      <td>1263.098039</td>\n",
       "    </tr>\n",
       "    <tr>\n",
       "      <th>쌍용 뉴코란도C</th>\n",
       "      <td>1197.391304</td>\n",
       "    </tr>\n",
       "    <tr>\n",
       "      <th>현대 뉴투싼ix(LM)</th>\n",
       "      <td>1187.391304</td>\n",
       "    </tr>\n",
       "    <tr>\n",
       "      <th>쉐보레/대우 트랙스</th>\n",
       "      <td>1084.210526</td>\n",
       "    </tr>\n",
       "    <tr>\n",
       "      <th>기아 스포티지R</th>\n",
       "      <td>1026.571429</td>\n",
       "    </tr>\n",
       "    <tr>\n",
       "      <th>르노삼성 QM3</th>\n",
       "      <td>962.500000</td>\n",
       "    </tr>\n",
       "    <tr>\n",
       "      <th>지프 컴패스(1세대)</th>\n",
       "      <td>948.333333</td>\n",
       "    </tr>\n",
       "    <tr>\n",
       "      <th>현대 투싼ix(LM)</th>\n",
       "      <td>866.842105</td>\n",
       "    </tr>\n",
       "    <tr>\n",
       "      <th>쌍용 코란도C</th>\n",
       "      <td>752.500000</td>\n",
       "    </tr>\n",
       "    <tr>\n",
       "      <th>포드 이스케이프(2세대)</th>\n",
       "      <td>620.000000</td>\n",
       "    </tr>\n",
       "  </tbody>\n",
       "</table>\n",
       "</div>"
      ],
      "text/plain": [
       "                      price\n",
       "title                      \n",
       "지프 랭글러(JL)      5200.000000\n",
       "랜드로버 레인지로버이보크   4590.000000\n",
       "미니 컨트리맨(2세대)    3750.000000\n",
       "지프 랭글러(JK)      3697.500000\n",
       "랜드로버 디스커버리스포츠   3550.000000\n",
       "벤츠 GLA클래스       3436.666667\n",
       "지프 레니게이드        2552.500000\n",
       "토요타 RAV4        2340.000000\n",
       "아우디 Q3          2312.500000\n",
       "포드 쿠가(2세대)      2140.000000\n",
       "현대 코나           2061.250000\n",
       "피아트 500X        2050.000000\n",
       "쌍용 뉴스타일코란도C     1977.500000\n",
       "기아 니로           1955.000000\n",
       "쌍용 티볼리아머        1872.857143\n",
       "BMW X1(E84)     1864.000000\n",
       "기아 스포티지4세대      1735.714286\n",
       "쌍용 티볼리에어        1681.000000\n",
       "기아 스토닉          1678.571429\n",
       "푸조 2008(1세대)    1665.000000\n",
       "미니 컨트리맨(1세대)    1659.375000\n",
       "현대 올뉴투싼(TL)     1652.442623\n",
       "폭스바겐 티구안(1세대)   1643.666667\n",
       "르노삼성 뉴QM3       1640.000000\n",
       "쉐보레/대우 더뉴트랙스    1603.333333\n",
       "랜드로버 레인지로버스포츠   1590.000000\n",
       "기아 스포티지         1590.000000\n",
       "닛산 캐시카이         1520.000000\n",
       "닛산 쥬크           1405.000000\n",
       "쌍용 티볼리          1386.451613\n",
       "기아 더뉴스포티지R      1263.098039\n",
       "쌍용 뉴코란도C        1197.391304\n",
       "현대 뉴투싼ix(LM)    1187.391304\n",
       "쉐보레/대우 트랙스      1084.210526\n",
       "기아 스포티지R        1026.571429\n",
       "르노삼성 QM3         962.500000\n",
       "지프 컴패스(1세대)      948.333333\n",
       "현대 투싼ix(LM)      866.842105\n",
       "쌍용 코란도C          752.500000\n",
       "포드 이스케이프(2세대)    620.000000"
      ]
     },
     "execution_count": 71,
     "metadata": {},
     "output_type": "execute_result"
    }
   ],
   "source": [
    "used_suv.groupby('title').mean()[['price']].sort_values('price',ascending=False)"
   ]
  },
  {
   "cell_type": "code",
   "execution_count": 72,
   "metadata": {},
   "outputs": [
    {
     "data": {
      "text/html": [
       "<div>\n",
       "<style scoped>\n",
       "    .dataframe tbody tr th:only-of-type {\n",
       "        vertical-align: middle;\n",
       "    }\n",
       "\n",
       "    .dataframe tbody tr th {\n",
       "        vertical-align: top;\n",
       "    }\n",
       "\n",
       "    .dataframe thead th {\n",
       "        text-align: right;\n",
       "    }\n",
       "</style>\n",
       "<table border=\"1\" class=\"dataframe\">\n",
       "  <thead>\n",
       "    <tr style=\"text-align: right;\">\n",
       "      <th></th>\n",
       "      <th>title</th>\n",
       "      <th>sub_title</th>\n",
       "      <th>year_old</th>\n",
       "      <th>color</th>\n",
       "      <th>trans</th>\n",
       "      <th>fuel</th>\n",
       "      <th>mortgage</th>\n",
       "      <th>tax_to_pay</th>\n",
       "      <th>ch_purpose</th>\n",
       "      <th>ch_num</th>\n",
       "      <th>ch_owner</th>\n",
       "      <th>opt_prefer</th>\n",
       "      <th>opt_basic</th>\n",
       "      <th>opt_safe</th>\n",
       "      <th>opt_conven</th>\n",
       "      <th>opt_etc</th>\n",
       "      <th>description</th>\n",
       "      <th>model_id</th>\n",
       "    </tr>\n",
       "  </thead>\n",
       "  <tbody>\n",
       "    <tr>\n",
       "      <th>count</th>\n",
       "      <td>509</td>\n",
       "      <td>509</td>\n",
       "      <td>509</td>\n",
       "      <td>498</td>\n",
       "      <td>509</td>\n",
       "      <td>509</td>\n",
       "      <td>509</td>\n",
       "      <td>509</td>\n",
       "      <td>413</td>\n",
       "      <td>509</td>\n",
       "      <td>509</td>\n",
       "      <td>509</td>\n",
       "      <td>509</td>\n",
       "      <td>509</td>\n",
       "      <td>509</td>\n",
       "      <td>509</td>\n",
       "      <td>418</td>\n",
       "      <td>509</td>\n",
       "    </tr>\n",
       "    <tr>\n",
       "      <th>unique</th>\n",
       "      <td>40</td>\n",
       "      <td>175</td>\n",
       "      <td>16</td>\n",
       "      <td>31</td>\n",
       "      <td>3</td>\n",
       "      <td>3</td>\n",
       "      <td>2</td>\n",
       "      <td>2</td>\n",
       "      <td>2</td>\n",
       "      <td>4</td>\n",
       "      <td>9</td>\n",
       "      <td>70</td>\n",
       "      <td>58</td>\n",
       "      <td>39</td>\n",
       "      <td>48</td>\n",
       "      <td>21</td>\n",
       "      <td>404</td>\n",
       "      <td>41</td>\n",
       "    </tr>\n",
       "    <tr>\n",
       "      <th>top</th>\n",
       "      <td>현대 올뉴투싼(TL)</td>\n",
       "      <td>디젤 2WD 프레스티지</td>\n",
       "      <td>2016</td>\n",
       "      <td>흰색</td>\n",
       "      <td>자동</td>\n",
       "      <td>경유</td>\n",
       "      <td>정보없음/정보없음</td>\n",
       "      <td>-</td>\n",
       "      <td>없음</td>\n",
       "      <td>0회</td>\n",
       "      <td>1회</td>\n",
       "      <td>[0, 0, 0, 0, 0, 0, 0, 0]</td>\n",
       "      <td>[0, 0, 0, 0, 0, 0, 0, 0]</td>\n",
       "      <td>[0, 0, 0, 0, 0, 0, 0, 0]</td>\n",
       "      <td>[0, 0, 0, 0, 0, 0, 0, 0]</td>\n",
       "      <td>[0, 0, 0, 0, 0, 0, 0, 0]</td>\n",
       "      <td>무사고</td>\n",
       "      <td>3250</td>\n",
       "    </tr>\n",
       "    <tr>\n",
       "      <th>freq</th>\n",
       "      <td>61</td>\n",
       "      <td>15</td>\n",
       "      <td>134</td>\n",
       "      <td>208</td>\n",
       "      <td>507</td>\n",
       "      <td>415</td>\n",
       "      <td>494</td>\n",
       "      <td>507</td>\n",
       "      <td>298</td>\n",
       "      <td>285</td>\n",
       "      <td>147</td>\n",
       "      <td>199</td>\n",
       "      <td>232</td>\n",
       "      <td>262</td>\n",
       "      <td>272</td>\n",
       "      <td>394</td>\n",
       "      <td>6</td>\n",
       "      <td>61</td>\n",
       "    </tr>\n",
       "  </tbody>\n",
       "</table>\n",
       "</div>"
      ],
      "text/plain": [
       "               title     sub_title year_old color trans fuel   mortgage  \\\n",
       "count            509           509      509   498   509  509        509   \n",
       "unique            40           175       16    31     3    3          2   \n",
       "top     현대 올뉴투싼(TL)   디젤 2WD 프레스티지    2016     흰색    자동   경유  정보없음/정보없음   \n",
       "freq              61            15      134   208   507  415        494   \n",
       "\n",
       "       tax_to_pay ch_purpose ch_num ch_owner                opt_prefer  \\\n",
       "count         509        413    509      509                       509   \n",
       "unique          2          2      4        9                        70   \n",
       "top            -          없음     0회       1회  [0, 0, 0, 0, 0, 0, 0, 0]   \n",
       "freq          507        298    285      147                       199   \n",
       "\n",
       "                       opt_basic                  opt_safe  \\\n",
       "count                        509                       509   \n",
       "unique                        58                        39   \n",
       "top     [0, 0, 0, 0, 0, 0, 0, 0]  [0, 0, 0, 0, 0, 0, 0, 0]   \n",
       "freq                         232                       262   \n",
       "\n",
       "                      opt_conven                   opt_etc description  \\\n",
       "count                        509                       509         418   \n",
       "unique                        48                        21         404   \n",
       "top     [0, 0, 0, 0, 0, 0, 0, 0]  [0, 0, 0, 0, 0, 0, 0, 0]         무사고   \n",
       "freq                         272                       394           6   \n",
       "\n",
       "       model_id  \n",
       "count       509  \n",
       "unique       41  \n",
       "top        3250  \n",
       "freq         61  "
      ]
     },
     "execution_count": 72,
     "metadata": {},
     "output_type": "execute_result"
    }
   ],
   "source": [
    "used_suv.describe(include='object')"
   ]
  },
  {
   "cell_type": "code",
   "execution_count": 73,
   "metadata": {},
   "outputs": [
    {
     "data": {
      "text/plain": [
       "현대 올뉴투싼(TL)       61\n",
       "기아 스포티지4세대        56\n",
       "기아 더뉴스포티지R        51\n",
       "현대 투싼ix(LM)       38\n",
       "기아 스포티지R          35\n",
       "쌍용 티볼리            31\n",
       "폭스바겐 티구안(1세대)     30\n",
       "현대 뉴투싼ix(LM)      23\n",
       "쌍용 뉴코란도C          23\n",
       "쉐보레/대우 트랙스        19\n",
       "미니 컨트리맨(1세대)      16\n",
       "쉐보레/대우 더뉴트랙스      15\n",
       "르노삼성 QM3          12\n",
       "쌍용 티볼리에어          10\n",
       "기아 니로              8\n",
       "쌍용 코란도C            8\n",
       "현대 코나              8\n",
       "쌍용 티볼리아머           7\n",
       "기아 스토닉             7\n",
       "지프 컴패스(1세대)        6\n",
       "BMW X1(E84)        5\n",
       "닛산 쥬크              4\n",
       "아우디 Q3             4\n",
       "지프 레니게이드           4\n",
       "쌍용 뉴스타일코란도C        4\n",
       "지프 랭글러(JK)         4\n",
       "벤츠 GLA클래스          3\n",
       "미니 컨트리맨(2세대)       3\n",
       "닛산 캐시카이            2\n",
       "푸조 2008(1세대)       2\n",
       "포드 이스케이프(2세대)      1\n",
       "랜드로버 레인지로버스포츠      1\n",
       "랜드로버 레인지로버이보크      1\n",
       "지프 랭글러(JL)         1\n",
       "기아 스포티지            1\n",
       "랜드로버 디스커버리스포츠      1\n",
       "르노삼성 뉴QM3          1\n",
       "피아트 500X           1\n",
       "토요타 RAV4           1\n",
       "포드 쿠가(2세대)         1\n",
       "Name: title, dtype: int64"
      ]
     },
     "execution_count": 73,
     "metadata": {},
     "output_type": "execute_result"
    }
   ],
   "source": [
    "used_suv.title.value_counts()"
   ]
  },
  {
   "cell_type": "code",
   "execution_count": null,
   "metadata": {},
   "outputs": [],
   "source": []
  },
  {
   "cell_type": "code",
   "execution_count": null,
   "metadata": {},
   "outputs": [],
   "source": []
  }
 ],
 "metadata": {
  "kernelspec": {
   "display_name": "Python 3",
   "language": "python",
   "name": "python3"
  },
  "language_info": {
   "codemirror_mode": {
    "name": "ipython",
    "version": 3
   },
   "file_extension": ".py",
   "mimetype": "text/x-python",
   "name": "python",
   "nbconvert_exporter": "python",
   "pygments_lexer": "ipython3",
   "version": "3.7.1"
  }
 },
 "nbformat": 4,
 "nbformat_minor": 2
}
