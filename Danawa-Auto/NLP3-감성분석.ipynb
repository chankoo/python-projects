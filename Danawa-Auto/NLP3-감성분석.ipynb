{
 "cells": [
  {
   "cell_type": "code",
   "execution_count": 1,
   "metadata": {},
   "outputs": [],
   "source": [
    "import os, tqdm, glob, pickle,re\n",
    "import pandas as pd\n",
    "\n",
    "import soynlp\n",
    "# from soynlp.word import WordExtractor\n",
    "from soynlp.tokenizer import  MaxScoreTokenizer#LTokenizer,MaxLRScoreTokenizer,\n",
    "\n",
    "import matplotlib as mpl\n",
    "import matplotlib.font_manager as fm\n",
    "\n",
    "import matplotlib.pyplot as plt\n",
    "plt.style.use('ggplot')\n",
    "from collections import Counter\n",
    "import nltk"
   ]
  },
  {
   "cell_type": "code",
   "execution_count": 2,
   "metadata": {},
   "outputs": [],
   "source": [
    "os.chdir('./data')"
   ]
  },
  {
   "cell_type": "code",
   "execution_count": 3,
   "metadata": {},
   "outputs": [],
   "source": [
    "plt.rcParams[\"font.family\"] = 'NanumGothic'\n",
    "plt.rcParams['axes.unicode_minus'] = False\n",
    "plt.rcParams['font.size'] = 24.\n",
    "plt.rcParams['xtick.labelsize'] = 20.\n",
    "plt.rcParams['ytick.labelsize'] = 20.\n",
    "plt.rcParams['axes.labelsize'] = 20."
   ]
  },
  {
   "cell_type": "markdown",
   "metadata": {},
   "source": [
    "티볼리와 코나 텍스트"
   ]
  },
  {
   "cell_type": "code",
   "execution_count": 11,
   "metadata": {},
   "outputs": [],
   "source": [
    "with open('티볼리_docs_190214.lst','rb') as fp:\n",
    "    docs0 = pickle.load(fp)"
   ]
  },
  {
   "cell_type": "code",
   "execution_count": 10,
   "metadata": {},
   "outputs": [],
   "source": [
    "with open('코나_docs_190214.lst','rb') as fp:\n",
    "    docs1 = pickle.load(fp)"
   ]
  },
  {
   "cell_type": "code",
   "execution_count": 12,
   "metadata": {},
   "outputs": [],
   "source": [
    "doc_data0 = {'doc_id':[],'site_nm':[],'board_cat':[],'post_dt':[],'title':[], 'content':[]}\n",
    "for doc in docs0:\n",
    "    doc_data0['doc_id'].append(doc['doc_id'])\n",
    "    doc_data0['site_nm'].append(doc['site_nm'])\n",
    "    doc_data0['board_cat'].append(doc['board_cat'])\n",
    "    doc_data0['post_dt'].append(doc['post_dt'])\n",
    "    doc_data0['title'].append(doc['title'])\n",
    "    doc_data0['content'].append(doc['content'])"
   ]
  },
  {
   "cell_type": "code",
   "execution_count": 13,
   "metadata": {},
   "outputs": [],
   "source": [
    "doc_data1 = {'doc_id':[],'site_nm':[],'board_cat':[],'post_dt':[],'title':[], 'content':[]}\n",
    "for doc in docs1:\n",
    "    doc_data1['doc_id'].append(doc['doc_id'])\n",
    "    doc_data1['site_nm'].append(doc['site_nm'])\n",
    "    doc_data1['board_cat'].append(doc['board_cat'])\n",
    "    doc_data1['post_dt'].append(doc['post_dt'])\n",
    "    doc_data1['title'].append(doc['title'])\n",
    "    doc_data1['content'].append(doc['content'])"
   ]
  },
  {
   "cell_type": "code",
   "execution_count": 14,
   "metadata": {},
   "outputs": [],
   "source": [
    "doc_df =pd.concat((pd.DataFrame(doc_data0),pd.DataFrame(doc_data1)),axis=0)"
   ]
  },
  {
   "cell_type": "code",
   "execution_count": 15,
   "metadata": {},
   "outputs": [],
   "source": [
    "del docs0\n",
    "del doc_data0"
   ]
  },
  {
   "cell_type": "code",
   "execution_count": 16,
   "metadata": {},
   "outputs": [],
   "source": [
    "del docs1\n",
    "del doc_data1"
   ]
  },
  {
   "cell_type": "code",
   "execution_count": null,
   "metadata": {},
   "outputs": [],
   "source": [
    "#################################"
   ]
  },
  {
   "cell_type": "code",
   "execution_count": 17,
   "metadata": {},
   "outputs": [
    {
     "data": {
      "text/html": [
       "<div>\n",
       "<style scoped>\n",
       "    .dataframe tbody tr th:only-of-type {\n",
       "        vertical-align: middle;\n",
       "    }\n",
       "\n",
       "    .dataframe tbody tr th {\n",
       "        vertical-align: top;\n",
       "    }\n",
       "\n",
       "    .dataframe thead th {\n",
       "        text-align: right;\n",
       "    }\n",
       "</style>\n",
       "<table border=\"1\" class=\"dataframe\">\n",
       "  <thead>\n",
       "    <tr style=\"text-align: right;\">\n",
       "      <th></th>\n",
       "      <th>doc_id</th>\n",
       "      <th>site_nm</th>\n",
       "      <th>board_cat</th>\n",
       "      <th>post_dt</th>\n",
       "      <th>title</th>\n",
       "      <th>content</th>\n",
       "    </tr>\n",
       "  </thead>\n",
       "  <tbody>\n",
       "    <tr>\n",
       "      <th>count</th>\n",
       "      <td>59746</td>\n",
       "      <td>59746</td>\n",
       "      <td>59746</td>\n",
       "      <td>59746</td>\n",
       "      <td>59746</td>\n",
       "      <td>59746</td>\n",
       "    </tr>\n",
       "    <tr>\n",
       "      <th>unique</th>\n",
       "      <td>59746</td>\n",
       "      <td>385</td>\n",
       "      <td>1</td>\n",
       "      <td>54642</td>\n",
       "      <td>55215</td>\n",
       "      <td>57291</td>\n",
       "    </tr>\n",
       "    <tr>\n",
       "      <th>top</th>\n",
       "      <td>593fd113c12eb242e004b298</td>\n",
       "      <td>■ 코나 공식 동호회 ▣코나 패밀리▣ 소형 SUV 현대 코나 KONA : 네이버 카페</td>\n",
       "      <td>consumer</td>\n",
       "      <td>2017-06-12T15:00:00Z</td>\n",
       "      <td>안녕하세요</td>\n",
       "      <td>==============================================...</td>\n",
       "    </tr>\n",
       "    <tr>\n",
       "      <th>freq</th>\n",
       "      <td>1</td>\n",
       "      <td>12968</td>\n",
       "      <td>59746</td>\n",
       "      <td>47</td>\n",
       "      <td>232</td>\n",
       "      <td>36</td>\n",
       "    </tr>\n",
       "  </tbody>\n",
       "</table>\n",
       "</div>"
      ],
      "text/plain": [
       "                          doc_id  \\\n",
       "count                      59746   \n",
       "unique                     59746   \n",
       "top     593fd113c12eb242e004b298   \n",
       "freq                           1   \n",
       "\n",
       "                                                site_nm board_cat  \\\n",
       "count                                             59746     59746   \n",
       "unique                                              385         1   \n",
       "top     ■ 코나 공식 동호회 ▣코나 패밀리▣ 소형 SUV 현대 코나 KONA : 네이버 카페  consumer   \n",
       "freq                                              12968     59746   \n",
       "\n",
       "                     post_dt  title  \\\n",
       "count                  59746  59746   \n",
       "unique                 54642  55215   \n",
       "top     2017-06-12T15:00:00Z  안녕하세요   \n",
       "freq                      47    232   \n",
       "\n",
       "                                                  content  \n",
       "count                                               59746  \n",
       "unique                                              57291  \n",
       "top     ==============================================...  \n",
       "freq                                                   36  "
      ]
     },
     "execution_count": 17,
     "metadata": {},
     "output_type": "execute_result"
    }
   ],
   "source": [
    "to_drop = doc_df[doc_df.duplicated(subset='doc_id')].index\n",
    "doc_df.drop(index=to_drop,inplace=True)\n",
    "doc_df.reset_index(drop=True,inplace=True)\n",
    "doc_df.describe(include='object')"
   ]
  },
  {
   "cell_type": "code",
   "execution_count": 18,
   "metadata": {},
   "outputs": [
    {
     "data": {
      "text/plain": [
       "■ 코나 공식 동호회 ▣코나 패밀리▣ 소형 SUV 현대 코나 KONA : 네이버 카페    12968\n",
       "★티볼리 클럽★ 에어,가솔린,디젤,4륜,시승기,결함,튜닝,동호회                11723\n",
       "[클럽] 티볼리 ★쌍용자동차 공식 동호회★                             5865\n",
       "보배드림                                                4582\n",
       "티볼리 클럽★아머,에어,가솔린,디젤,4륜,시승기,결함,동호회                   2465\n",
       "디시인사이드                                              2348\n",
       "[전기차동호회]현대아이오닉일렉트릭,테슬라모델3,볼트EV,코나EV                 2307\n",
       "[전기차동호회]코나일렉트릭,니로EV,쉐보레볼트EV,아이오닉EV                  2064\n",
       "뽐뿌                                                  1660\n",
       "★티볼리멤버스★티볼리에어,가격표,시승기,디젤,가솔린,동호회                    1120\n",
       "Name: site_nm, dtype: int64"
      ]
     },
     "execution_count": 18,
     "metadata": {},
     "output_type": "execute_result"
    }
   ],
   "source": [
    "doc_df.site_nm.value_counts()[:10]"
   ]
  },
  {
   "cell_type": "code",
   "execution_count": 19,
   "metadata": {},
   "outputs": [
    {
     "data": {
      "text/html": [
       "<div>\n",
       "<style scoped>\n",
       "    .dataframe tbody tr th:only-of-type {\n",
       "        vertical-align: middle;\n",
       "    }\n",
       "\n",
       "    .dataframe tbody tr th {\n",
       "        vertical-align: top;\n",
       "    }\n",
       "\n",
       "    .dataframe thead th {\n",
       "        text-align: right;\n",
       "    }\n",
       "</style>\n",
       "<table border=\"1\" class=\"dataframe\">\n",
       "  <thead>\n",
       "    <tr style=\"text-align: right;\">\n",
       "      <th></th>\n",
       "      <th>doc_id</th>\n",
       "      <th>site_nm</th>\n",
       "      <th>board_cat</th>\n",
       "      <th>post_dt</th>\n",
       "      <th>title</th>\n",
       "      <th>content</th>\n",
       "    </tr>\n",
       "  </thead>\n",
       "  <tbody>\n",
       "    <tr>\n",
       "      <th>count</th>\n",
       "      <td>59742</td>\n",
       "      <td>59742</td>\n",
       "      <td>59742</td>\n",
       "      <td>59742</td>\n",
       "      <td>59742</td>\n",
       "      <td>59742</td>\n",
       "    </tr>\n",
       "    <tr>\n",
       "      <th>unique</th>\n",
       "      <td>59742</td>\n",
       "      <td>385</td>\n",
       "      <td>1</td>\n",
       "      <td>54638</td>\n",
       "      <td>55211</td>\n",
       "      <td>57287</td>\n",
       "    </tr>\n",
       "    <tr>\n",
       "      <th>top</th>\n",
       "      <td>593fd113c12eb242e004b298</td>\n",
       "      <td>■ 코나 공식 동호회 ▣코나 패밀리▣ 소형 SUV 현대 코나 KONA : 네이버 카페</td>\n",
       "      <td>consumer</td>\n",
       "      <td>2017-06-12T15:00:00Z</td>\n",
       "      <td>안녕하세요</td>\n",
       "      <td>==============================================...</td>\n",
       "    </tr>\n",
       "    <tr>\n",
       "      <th>freq</th>\n",
       "      <td>1</td>\n",
       "      <td>12968</td>\n",
       "      <td>59742</td>\n",
       "      <td>47</td>\n",
       "      <td>232</td>\n",
       "      <td>36</td>\n",
       "    </tr>\n",
       "  </tbody>\n",
       "</table>\n",
       "</div>"
      ],
      "text/plain": [
       "                          doc_id  \\\n",
       "count                      59742   \n",
       "unique                     59742   \n",
       "top     593fd113c12eb242e004b298   \n",
       "freq                           1   \n",
       "\n",
       "                                                site_nm board_cat  \\\n",
       "count                                             59742     59742   \n",
       "unique                                              385         1   \n",
       "top     ■ 코나 공식 동호회 ▣코나 패밀리▣ 소형 SUV 현대 코나 KONA : 네이버 카페  consumer   \n",
       "freq                                              12968     59742   \n",
       "\n",
       "                     post_dt  title  \\\n",
       "count                  59742  59742   \n",
       "unique                 54638  55211   \n",
       "top     2017-06-12T15:00:00Z  안녕하세요   \n",
       "freq                      47    232   \n",
       "\n",
       "                                                  content  \n",
       "count                                               59742  \n",
       "unique                                              57287  \n",
       "top     ==============================================...  \n",
       "freq                                                   36  "
      ]
     },
     "execution_count": 19,
     "metadata": {},
     "output_type": "execute_result"
    }
   ],
   "source": [
    "doc_df = doc_df[pd.Series(map(len,doc_df.content))<10000] # 지나치게 긴글 제외\n",
    "doc_df.reset_index(drop=True,inplace=True)\n",
    "doc_df.describe(include='object')"
   ]
  },
  {
   "cell_type": "code",
   "execution_count": 20,
   "metadata": {},
   "outputs": [
    {
     "data": {
      "text/plain": [
       "■ 코나 공식 동호회 ▣코나 패밀리▣ 소형 SUV 현대 코나 KONA : 네이버 카페    12968\n",
       "★티볼리 클럽★ 에어,가솔린,디젤,4륜,시승기,결함,튜닝,동호회                11723\n",
       "[클럽] 티볼리 ★쌍용자동차 공식 동호회★                             5865\n",
       "보배드림                                                4581\n",
       "티볼리 클럽★아머,에어,가솔린,디젤,4륜,시승기,결함,동호회                   2465\n",
       "디시인사이드                                              2348\n",
       "[전기차동호회]현대아이오닉일렉트릭,테슬라모델3,볼트EV,코나EV                 2306\n",
       "[전기차동호회]코나일렉트릭,니로EV,쉐보레볼트EV,아이오닉EV                  2064\n",
       "뽐뿌                                                  1660\n",
       "★티볼리멤버스★티볼리에어,가격표,시승기,디젤,가솔린,동호회                    1120\n",
       "Name: site_nm, dtype: int64"
      ]
     },
     "execution_count": 20,
     "metadata": {},
     "output_type": "execute_result"
    }
   ],
   "source": [
    "doc_df.site_nm.value_counts()[:10]"
   ]
  },
  {
   "cell_type": "code",
   "execution_count": 21,
   "metadata": {},
   "outputs": [],
   "source": [
    "docs = []\n",
    "for i in range(len(doc_df)):\n",
    "    docs.append(doc_df.loc[i,'title']+'. '+doc_df.loc[i,'content'])"
   ]
  },
  {
   "cell_type": "code",
   "execution_count": 22,
   "metadata": {},
   "outputs": [],
   "source": [
    "# 메모리..\n",
    "corpus = []\n",
    "bmarks = [0,]\n",
    "bmark = 0\n",
    "prog = 0\n",
    "for i,doc in enumerate(docs):\n",
    "#     if prog%1000 == 0:\n",
    "#         print(prog)\n",
    "    prog += 1\n",
    "    sents = nltk.sent_tokenize(doc)\n",
    "    bmark += len(sents)\n",
    "    bmarks.append(bmark)\n",
    "    \n",
    "    docs[i] = [sent for sent in sents if len(sent)>4]\n",
    "    corpus += [sent for sent in sents if len(sent)>4]"
   ]
  },
  {
   "cell_type": "code",
   "execution_count": 23,
   "metadata": {},
   "outputs": [],
   "source": [
    "del docs"
   ]
  },
  {
   "cell_type": "markdown",
   "metadata": {},
   "source": [
    "미리 학습된 토크나이저 사용"
   ]
  },
  {
   "cell_type": "code",
   "execution_count": 44,
   "metadata": {},
   "outputs": [],
   "source": [
    "with open('word_scores_suv.pickle','rb') as fp:\n",
    "    word_scores = pickle.load(fp)"
   ]
  },
  {
   "cell_type": "code",
   "execution_count": 45,
   "metadata": {},
   "outputs": [],
   "source": [
    "with open('cohesion_scores_suv.pickle','rb') as fp:\n",
    "    cohesion_scores = pickle.load(fp)"
   ]
  },
  {
   "cell_type": "code",
   "execution_count": 46,
   "metadata": {},
   "outputs": [
    {
     "name": "stdout",
     "output_type": "stream",
     "text": [
      "단어   (빈도수, cohesion, branching entropy)\n",
      "\n",
      "..     (5746, 0.906, 5.399)\n",
      "함께     (6962, 0.887, 5.264)\n",
      "^^     (3661, 0.938, 5.191)\n",
      ";;     (492, 0.934, 5.109)\n",
      "으로     (717, 0.708, 5.385)\n",
      "합니다.     (11336, 0.832, 5.212)\n",
      "...     (3091, 0.698, 5.372)\n",
      "됩니다.     (2476, 0.918, 5.059)\n",
      "때문에     (6973, 0.674, 5.367)\n",
      "입니다.     (5622, 0.741, 5.250)\n"
     ]
    }
   ],
   "source": [
    "import math\n",
    "\n",
    "def word_score(score):\n",
    "    return (score.cohesion_forward * math.exp(score.right_branching_entropy))\n",
    "\n",
    "print('단어   (빈도수, cohesion, branching entropy)\\n')\n",
    "for word, score in sorted(word_scores.items(), key=lambda x:word_score(x[1]), reverse=True)[:10]:\n",
    "    print('%s     (%d, %.3f, %.3f)' % (\n",
    "            word, \n",
    "            score.leftside_frequency, \n",
    "            score.cohesion_forward,\n",
    "            score.right_branching_entropy\n",
    "            )\n",
    "         )"
   ]
  },
  {
   "cell_type": "code",
   "execution_count": 47,
   "metadata": {},
   "outputs": [],
   "source": [
    "mtokenizer = MaxScoreTokenizer(scores = cohesion_scores)"
   ]
  },
  {
   "cell_type": "code",
   "execution_count": 48,
   "metadata": {},
   "outputs": [
    {
     "data": {
      "text/plain": [
       "['as', 'da', 'sd', 'ㅏ랗', '티볼리']"
      ]
     },
     "execution_count": 48,
     "metadata": {},
     "output_type": "execute_result"
    }
   ],
   "source": [
    "mtokenizer.tokenize('asdasdㅏ랗티볼리') # 토크나이징 잘된다"
   ]
  },
  {
   "cell_type": "markdown",
   "metadata": {},
   "source": [
    "토큰 생성"
   ]
  },
  {
   "cell_type": "code",
   "execution_count": 49,
   "metadata": {},
   "outputs": [],
   "source": [
    "m_tokens = [mtokenizer.tokenize(sent) for sent in corpus]"
   ]
  },
  {
   "cell_type": "code",
   "execution_count": 50,
   "metadata": {},
   "outputs": [],
   "source": [
    "tokens = m_tokens"
   ]
  },
  {
   "cell_type": "code",
   "execution_count": 51,
   "metadata": {},
   "outputs": [],
   "source": [
    "for i,words in enumerate(tokens):\n",
    "    tmp_words = list(map(lambda word:re.sub(r'[^가-힣a-zA-Z0-9]','',word),words))\n",
    "    tokens[i] = [word for word in tmp_words if len(word)>1]"
   ]
  },
  {
   "cell_type": "code",
   "execution_count": 52,
   "metadata": {},
   "outputs": [
    {
     "data": {
      "text/plain": [
       "268260"
      ]
     },
     "execution_count": 52,
     "metadata": {},
     "output_type": "execute_result"
    }
   ],
   "source": [
    "len(tokens)"
   ]
  },
  {
   "cell_type": "markdown",
   "metadata": {},
   "source": [
    "KOSAC 감성사전 이용해 문서의 감성점수 내보자"
   ]
  },
  {
   "cell_type": "code",
   "execution_count": 53,
   "metadata": {},
   "outputs": [],
   "source": [
    "os.chdir('./../lexicon')"
   ]
  },
  {
   "cell_type": "code",
   "execution_count": 54,
   "metadata": {},
   "outputs": [],
   "source": [
    "# with open('readme.txt',encoding='utf-8') as fp:\n",
    "#     for line in fp.readlines():\n",
    "#         print(line)"
   ]
  },
  {
   "cell_type": "code",
   "execution_count": 55,
   "metadata": {},
   "outputs": [
    {
     "data": {
      "text/html": [
       "<div>\n",
       "<style scoped>\n",
       "    .dataframe tbody tr th:only-of-type {\n",
       "        vertical-align: middle;\n",
       "    }\n",
       "\n",
       "    .dataframe tbody tr th {\n",
       "        vertical-align: top;\n",
       "    }\n",
       "\n",
       "    .dataframe thead th {\n",
       "        text-align: right;\n",
       "    }\n",
       "</style>\n",
       "<table border=\"1\" class=\"dataframe\">\n",
       "  <thead>\n",
       "    <tr style=\"text-align: right;\">\n",
       "      <th></th>\n",
       "      <th>ngram</th>\n",
       "      <th>freq</th>\n",
       "      <th>COMP</th>\n",
       "      <th>NEG</th>\n",
       "      <th>NEUT</th>\n",
       "      <th>None</th>\n",
       "      <th>POS</th>\n",
       "      <th>max.value</th>\n",
       "      <th>max.prop</th>\n",
       "    </tr>\n",
       "  </thead>\n",
       "  <tbody>\n",
       "    <tr>\n",
       "      <th>0</th>\n",
       "      <td>가*/JKS</td>\n",
       "      <td>1</td>\n",
       "      <td>0.0</td>\n",
       "      <td>0.000000</td>\n",
       "      <td>0.000000</td>\n",
       "      <td>0.000000</td>\n",
       "      <td>1.000000</td>\n",
       "      <td>POS</td>\n",
       "      <td>1.000000</td>\n",
       "    </tr>\n",
       "    <tr>\n",
       "      <th>1</th>\n",
       "      <td>가*/VV</td>\n",
       "      <td>3</td>\n",
       "      <td>0.0</td>\n",
       "      <td>0.000000</td>\n",
       "      <td>0.000000</td>\n",
       "      <td>0.000000</td>\n",
       "      <td>1.000000</td>\n",
       "      <td>POS</td>\n",
       "      <td>1.000000</td>\n",
       "    </tr>\n",
       "    <tr>\n",
       "      <th>2</th>\n",
       "      <td>가/VV</td>\n",
       "      <td>11</td>\n",
       "      <td>0.0</td>\n",
       "      <td>0.545455</td>\n",
       "      <td>0.181818</td>\n",
       "      <td>0.090909</td>\n",
       "      <td>0.181818</td>\n",
       "      <td>NEG</td>\n",
       "      <td>0.545455</td>\n",
       "    </tr>\n",
       "    <tr>\n",
       "      <th>3</th>\n",
       "      <td>가/VX</td>\n",
       "      <td>9</td>\n",
       "      <td>0.0</td>\n",
       "      <td>0.333333</td>\n",
       "      <td>0.000000</td>\n",
       "      <td>0.111111</td>\n",
       "      <td>0.555556</td>\n",
       "      <td>POS</td>\n",
       "      <td>0.555556</td>\n",
       "    </tr>\n",
       "    <tr>\n",
       "      <th>4</th>\n",
       "      <td>가격/NNG</td>\n",
       "      <td>3</td>\n",
       "      <td>0.0</td>\n",
       "      <td>0.000000</td>\n",
       "      <td>0.000000</td>\n",
       "      <td>0.000000</td>\n",
       "      <td>1.000000</td>\n",
       "      <td>POS</td>\n",
       "      <td>1.000000</td>\n",
       "    </tr>\n",
       "  </tbody>\n",
       "</table>\n",
       "</div>"
      ],
      "text/plain": [
       "    ngram  freq  COMP       NEG      NEUT      None       POS max.value  \\\n",
       "0  가*/JKS     1   0.0  0.000000  0.000000  0.000000  1.000000       POS   \n",
       "1   가*/VV     3   0.0  0.000000  0.000000  0.000000  1.000000       POS   \n",
       "2    가/VV    11   0.0  0.545455  0.181818  0.090909  0.181818       NEG   \n",
       "3    가/VX     9   0.0  0.333333  0.000000  0.111111  0.555556       POS   \n",
       "4  가격/NNG     3   0.0  0.000000  0.000000  0.000000  1.000000       POS   \n",
       "\n",
       "   max.prop  \n",
       "0  1.000000  \n",
       "1  1.000000  \n",
       "2  0.545455  \n",
       "3  0.555556  \n",
       "4  1.000000  "
      ]
     },
     "execution_count": 55,
     "metadata": {},
     "output_type": "execute_result"
    }
   ],
   "source": [
    "polar = pd.read_csv('polarity.csv',encoding='utf-8')\n",
    "uni_mask = pd.Index(list(map(lambda lst:len(lst)<2, polar.ngram.str.split(';'))))\n",
    "polar = polar[uni_mask]\n",
    "intens_mask =polar['max.prop'] > 0.5 # POS, NEG > 0.5\n",
    "value_mask = pd.Index(map(lambda val:(val in ('POS','NEG')) ,polar[intens_mask]['max.value']))\n",
    "polar = polar[intens_mask][value_mask]\n",
    "polar.reset_index(drop=True,inplace=True)\n",
    "polar.head()"
   ]
  },
  {
   "cell_type": "code",
   "execution_count": 56,
   "metadata": {},
   "outputs": [
    {
     "data": {
      "text/plain": [
       "2572"
      ]
     },
     "execution_count": 56,
     "metadata": {},
     "output_type": "execute_result"
    }
   ],
   "source": [
    "polar.ngram = polar.ngram.str.replace(r'[^ㄱ-ㅎㅏ-ㅣ가-힣]','')\n",
    "polar.sort_values(['ngram','freq'],ascending=[True,False],inplace=True)\n",
    "dup_idx = polar[polar.duplicated(subset='ngram')].index\n",
    "polar.drop(index=dup_idx,inplace=True)\n",
    "polar.reset_index(drop=True,inplace=True)\n",
    "len(polar)"
   ]
  },
  {
   "cell_type": "code",
   "execution_count": 57,
   "metadata": {},
   "outputs": [
    {
     "data": {
      "text/plain": [
       "268260"
      ]
     },
     "execution_count": 57,
     "metadata": {},
     "output_type": "execute_result"
    }
   ],
   "source": [
    "len(tokens)"
   ]
  },
  {
   "cell_type": "code",
   "execution_count": 58,
   "metadata": {},
   "outputs": [
    {
     "name": "stdout",
     "output_type": "stream",
     "text": [
      "0\t10000\t20000\t30000\t40000\t50000\t60000\t70000\t80000\t90000\t100000\t110000\t120000\t130000\t140000\t150000\t160000\t170000\t180000\t190000\t200000\t210000\t220000\t230000\t240000\t250000\t260000\t"
     ]
    }
   ],
   "source": [
    "#document 단위로 구분된 토큰이 필요함\n",
    "doc_tokens = []\n",
    "tmp_doc = []\n",
    "for i, sent in enumerate(tokens):\n",
    "    if i%10000==0:\n",
    "        print(i, end='\\t')\n",
    "    if i in bmarks[1:]: # 새 document 시작\n",
    "        doc_tokens.append(tmp_doc)\n",
    "        tmp_doc = []\n",
    "    \n",
    "    tmp_doc += sent\n",
    "    "
   ]
  },
  {
   "cell_type": "code",
   "execution_count": 59,
   "metadata": {},
   "outputs": [
    {
     "data": {
      "text/plain": [
       "['티볼리',\n",
       " '에어',\n",
       " '티볼리',\n",
       " '에어',\n",
       " '차주',\n",
       " '님들',\n",
       " '혹시',\n",
       " '손세차',\n",
       " '가면',\n",
       " '티볼리',\n",
       " '에어',\n",
       " '중형',\n",
       " '차값',\n",
       " '받나요']"
      ]
     },
     "execution_count": 59,
     "metadata": {},
     "output_type": "execute_result"
    }
   ],
   "source": [
    "doc_tokens[2]"
   ]
  },
  {
   "cell_type": "code",
   "execution_count": null,
   "metadata": {},
   "outputs": [],
   "source": []
  },
  {
   "cell_type": "code",
   "execution_count": 60,
   "metadata": {},
   "outputs": [],
   "source": [
    "# 단어별 감성점수 평균으로 문서별 감성점수 계산\n",
    "polar_lst = polar.ngram.tolist()\n",
    "doc_scores = []\n",
    "for doc_token in  doc_tokens:\n",
    "    doc_score = 0\n",
    "    for token in doc_token:        \n",
    "        if token in polar_lst:\n",
    "            polar_idx = polar_lst.index(token)\n",
    "            pos_neg = polar.loc[polar_idx,'max.value']\n",
    "            token_score = polar.loc[polar_idx,pos_neg]\n",
    "            if pos_neg=='NEG':\n",
    "                token_score = -token_score\n",
    "            \n",
    "            doc_score+=token_score\n",
    "    doc_scores.append(doc_score/len(token))"
   ]
  },
  {
   "cell_type": "code",
   "execution_count": 61,
   "metadata": {},
   "outputs": [],
   "source": [
    "os.chdir('./../data')"
   ]
  },
  {
   "cell_type": "code",
   "execution_count": 64,
   "metadata": {},
   "outputs": [
    {
     "name": "stdout",
     "output_type": "stream",
     "text": [
      "평균 긍부정score: 0.9100255166873843\n",
      "\n",
      "긍부정score 기초통계\n",
      "count    56713.000000\n",
      "mean         0.910026\n",
      "std          2.411051\n",
      "min        -21.276052\n",
      "25%          0.000000\n",
      "50%          0.365795\n",
      "75%          1.250000\n",
      "max        103.586536\n",
      "dtype: float64\n"
     ]
    }
   ],
   "source": [
    "# 티볼리+코나 문서의 긍부정 score\n",
    "print('평균 긍부정score:', sum(doc_scores)/len(doc_scores))\n",
    "print('\\n긍부정score 기초통계')\n",
    "print(pd.Series(doc_scores).describe())"
   ]
  },
  {
   "cell_type": "code",
   "execution_count": 65,
   "metadata": {},
   "outputs": [],
   "source": [
    "def token_score(token): # 출현문서 수, 평균 문서 스코어, 긍정분류 비율 리턴\n",
    "    global doc_tokens, doc_scores\n",
    "    this_scores = []\n",
    "    polar = []\n",
    "    for token_lst, score in zip(doc_tokens,doc_scores):\n",
    "        if token in token_lst:\n",
    "            this_scores.append(score)\n",
    "            if score < 0.36: # 중간값 밑으로는 부정으로 태깅\n",
    "                polar.append('neg')\n",
    "            elif score > 0.36: # 중간값 위로는 긍정으로 태깅\n",
    "                polar.append('pos')\n",
    "            else:\n",
    "                polar.append('neu')\n",
    "    return len(this_scores), sum(this_scores)/len(this_scores), Counter(polar)['pos']/(Counter(polar)['pos'] + Counter(polar)['neg'])"
   ]
  },
  {
   "cell_type": "code",
   "execution_count": 66,
   "metadata": {},
   "outputs": [
    {
     "data": {
      "text/plain": [
       "(8282, 2.2900776247798227, 0.786524993962811)"
      ]
     },
     "execution_count": 66,
     "metadata": {},
     "output_type": "execute_result"
    }
   ],
   "source": [
    "token_score('쌍용')"
   ]
  },
  {
   "cell_type": "code",
   "execution_count": 67,
   "metadata": {},
   "outputs": [
    {
     "data": {
      "text/plain": [
       "(9261, 3.0128756239004875, 0.8656732534283554)"
      ]
     },
     "execution_count": 67,
     "metadata": {},
     "output_type": "execute_result"
    }
   ],
   "source": [
    "token_score('현대')"
   ]
  },
  {
   "cell_type": "code",
   "execution_count": 68,
   "metadata": {},
   "outputs": [
    {
     "data": {
      "text/plain": [
       "(1685, 3.8504713976817855, 0.8094955489614243)"
      ]
     },
     "execution_count": 68,
     "metadata": {},
     "output_type": "execute_result"
    }
   ],
   "source": [
    "token_score('기아')"
   ]
  },
  {
   "cell_type": "code",
   "execution_count": 69,
   "metadata": {},
   "outputs": [
    {
     "data": {
      "text/plain": [
       "(25347, 0.9963964919598699, 0.5077329756174545)"
      ]
     },
     "execution_count": 69,
     "metadata": {},
     "output_type": "execute_result"
    }
   ],
   "source": [
    "token_score('티볼리')"
   ]
  },
  {
   "cell_type": "code",
   "execution_count": 70,
   "metadata": {},
   "outputs": [
    {
     "data": {
      "text/plain": [
       "(25595, 1.2585090944378934, 0.5618381462232817)"
      ]
     },
     "execution_count": 70,
     "metadata": {},
     "output_type": "execute_result"
    }
   ],
   "source": [
    "token_score('코나')"
   ]
  },
  {
   "cell_type": "code",
   "execution_count": null,
   "metadata": {},
   "outputs": [],
   "source": []
  }
 ],
 "metadata": {
  "kernelspec": {
   "display_name": "Python 3",
   "language": "python",
   "name": "python3"
  },
  "language_info": {
   "codemirror_mode": {
    "name": "ipython",
    "version": 3
   },
   "file_extension": ".py",
   "mimetype": "text/x-python",
   "name": "python",
   "nbconvert_exporter": "python",
   "pygments_lexer": "ipython3",
   "version": "3.7.1"
  }
 },
 "nbformat": 4,
 "nbformat_minor": 2
}
