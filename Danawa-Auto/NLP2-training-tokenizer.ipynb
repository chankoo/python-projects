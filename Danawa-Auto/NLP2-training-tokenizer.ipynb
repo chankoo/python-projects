{
 "cells": [
  {
   "cell_type": "code",
   "execution_count": 1,
   "metadata": {},
   "outputs": [],
   "source": [
    "import os, tqdm, glob, pickle,re\n",
    "import pandas as pd\n",
    "\n",
    "# from konlpy.tag import Twitter,Kkma,Komoran,Hannanum\n",
    "import soynlp\n",
    "from soynlp.word import WordExtractor\n",
    "from soynlp.noun import LRNounExtractor\n",
    "from soynlp.tokenizer import LTokenizer,MaxLRScoreTokenizer, MaxScoreTokenizer\n",
    "import nltk\n",
    "\n",
    "# from gensim.models import Word2Vec\n",
    "# from sklearn.manifold import TSNE\n",
    "\n",
    "import matplotlib as mpl\n",
    "import matplotlib.font_manager as fm\n",
    "\n",
    "import matplotlib.pyplot as plt\n",
    "plt.style.use('ggplot')\n",
    "\n",
    "from collections import Counter\n",
    "# from sklearn.feature_extraction.text import TfidfVectorizer"
   ]
  },
  {
   "cell_type": "code",
   "execution_count": 2,
   "metadata": {},
   "outputs": [],
   "source": [
    "plt.rcParams[\"font.family\"] = 'NanumGothic'\n",
    "plt.rcParams['axes.unicode_minus'] = False\n",
    "plt.rcParams['font.size'] = 24.\n",
    "plt.rcParams['xtick.labelsize'] = 20.\n",
    "plt.rcParams['ytick.labelsize'] = 20.\n",
    "plt.rcParams['axes.labelsize'] = 20."
   ]
  },
  {
   "cell_type": "code",
   "execution_count": 6,
   "metadata": {},
   "outputs": [],
   "source": [
    "# os.chdir('./data')"
   ]
  },
  {
   "cell_type": "code",
   "execution_count": 17,
   "metadata": {},
   "outputs": [],
   "source": [
    "# SUV로 쿼리한 문서\n",
    "with open('suv_docs.lst','rb') as fp:\n",
    "    all_docs = pickle.load(fp)"
   ]
  },
  {
   "cell_type": "code",
   "execution_count": 18,
   "metadata": {},
   "outputs": [
    {
     "data": {
      "text/plain": [
       "{'board_cat': 'consumer',\n",
       " 'content': '헤치백 아니죠... SUV 입니다!',\n",
       " 'doc_id': '592147b4c87a569be00376c5',\n",
       " 'lang': 'KOR',\n",
       " 'post_dt': '2016-05-03T21:20:00Z',\n",
       " 'site_nm': '[네이버카페]니로공식동호회',\n",
       " 'title': 'SUV다!'}"
      ]
     },
     "execution_count": 18,
     "metadata": {},
     "output_type": "execute_result"
    }
   ],
   "source": [
    "all_docs[2]"
   ]
  },
  {
   "cell_type": "markdown",
   "metadata": {},
   "source": [
    "pandas 로 변환"
   ]
  },
  {
   "cell_type": "code",
   "execution_count": 19,
   "metadata": {},
   "outputs": [],
   "source": [
    "doc_data = {'doc_id':[],'site_nm':[],'board_cat':[],'post_dt':[],'title':[], 'content':[]}"
   ]
  },
  {
   "cell_type": "code",
   "execution_count": 20,
   "metadata": {},
   "outputs": [],
   "source": [
    "for doc in all_docs:\n",
    "    doc_data['doc_id'].append(doc['doc_id'])\n",
    "    doc_data['site_nm'].append(doc['site_nm'])\n",
    "    doc_data['board_cat'].append(doc['board_cat'])\n",
    "    doc_data['post_dt'].append(doc['post_dt'])\n",
    "    doc_data['title'].append(doc['title'])\n",
    "    doc_data['content'].append(doc['content'])"
   ]
  },
  {
   "cell_type": "code",
   "execution_count": 21,
   "metadata": {},
   "outputs": [],
   "source": [
    "doc_df = pd.DataFrame(doc_data)"
   ]
  },
  {
   "cell_type": "code",
   "execution_count": 22,
   "metadata": {},
   "outputs": [],
   "source": [
    "del all_docs,doc_data"
   ]
  },
  {
   "cell_type": "code",
   "execution_count": 23,
   "metadata": {},
   "outputs": [],
   "source": [
    "to_drop = doc_df[doc_df.duplicated(subset='doc_id')].index"
   ]
  },
  {
   "cell_type": "code",
   "execution_count": 24,
   "metadata": {},
   "outputs": [],
   "source": [
    "doc_df.drop(index=to_drop,inplace=True)"
   ]
  },
  {
   "cell_type": "code",
   "execution_count": 25,
   "metadata": {},
   "outputs": [],
   "source": [
    "doc_df.reset_index(drop=True,inplace=True)"
   ]
  },
  {
   "cell_type": "code",
   "execution_count": 26,
   "metadata": {},
   "outputs": [
    {
     "data": {
      "text/html": [
       "<div>\n",
       "<style scoped>\n",
       "    .dataframe tbody tr th:only-of-type {\n",
       "        vertical-align: middle;\n",
       "    }\n",
       "\n",
       "    .dataframe tbody tr th {\n",
       "        vertical-align: top;\n",
       "    }\n",
       "\n",
       "    .dataframe thead th {\n",
       "        text-align: right;\n",
       "    }\n",
       "</style>\n",
       "<table border=\"1\" class=\"dataframe\">\n",
       "  <thead>\n",
       "    <tr style=\"text-align: right;\">\n",
       "      <th></th>\n",
       "      <th>doc_id</th>\n",
       "      <th>site_nm</th>\n",
       "      <th>board_cat</th>\n",
       "      <th>post_dt</th>\n",
       "      <th>title</th>\n",
       "      <th>content</th>\n",
       "    </tr>\n",
       "  </thead>\n",
       "  <tbody>\n",
       "    <tr>\n",
       "      <th>count</th>\n",
       "      <td>95133</td>\n",
       "      <td>95133</td>\n",
       "      <td>95133</td>\n",
       "      <td>95133</td>\n",
       "      <td>95133</td>\n",
       "      <td>95133</td>\n",
       "    </tr>\n",
       "    <tr>\n",
       "      <th>unique</th>\n",
       "      <td>95133</td>\n",
       "      <td>512</td>\n",
       "      <td>1</td>\n",
       "      <td>78143</td>\n",
       "      <td>84467</td>\n",
       "      <td>86339</td>\n",
       "    </tr>\n",
       "    <tr>\n",
       "      <th>top</th>\n",
       "      <td>59cdac618a6a6924984c040b</td>\n",
       "      <td>보배드림</td>\n",
       "      <td>consumer</td>\n",
       "      <td>2016-10-16T15:00:00Z</td>\n",
       "      <td>안녕하세요</td>\n",
       "      <td>[THE SUV SPORTAGE] 클럽QL 더많은 정보와 즐거운 커뮤니티공간 !</td>\n",
       "    </tr>\n",
       "    <tr>\n",
       "      <th>freq</th>\n",
       "      <td>1</td>\n",
       "      <td>13175</td>\n",
       "      <td>95133</td>\n",
       "      <td>27</td>\n",
       "      <td>36</td>\n",
       "      <td>152</td>\n",
       "    </tr>\n",
       "  </tbody>\n",
       "</table>\n",
       "</div>"
      ],
      "text/plain": [
       "                          doc_id site_nm board_cat               post_dt  \\\n",
       "count                      95133   95133     95133                 95133   \n",
       "unique                     95133     512         1                 78143   \n",
       "top     59cdac618a6a6924984c040b    보배드림  consumer  2016-10-16T15:00:00Z   \n",
       "freq                           1   13175     95133                    27   \n",
       "\n",
       "        title                                       content  \n",
       "count   95133                                         95133  \n",
       "unique  84467                                         86339  \n",
       "top     안녕하세요  [THE SUV SPORTAGE] 클럽QL 더많은 정보와 즐거운 커뮤니티공간 !  \n",
       "freq       36                                           152  "
      ]
     },
     "execution_count": 26,
     "metadata": {},
     "output_type": "execute_result"
    }
   ],
   "source": [
    "doc_df.describe(include='object')"
   ]
  },
  {
   "cell_type": "code",
   "execution_count": 27,
   "metadata": {},
   "outputs": [
    {
     "data": {
      "text/html": [
       "<div>\n",
       "<style scoped>\n",
       "    .dataframe tbody tr th:only-of-type {\n",
       "        vertical-align: middle;\n",
       "    }\n",
       "\n",
       "    .dataframe tbody tr th {\n",
       "        vertical-align: top;\n",
       "    }\n",
       "\n",
       "    .dataframe thead th {\n",
       "        text-align: right;\n",
       "    }\n",
       "</style>\n",
       "<table border=\"1\" class=\"dataframe\">\n",
       "  <thead>\n",
       "    <tr style=\"text-align: right;\">\n",
       "      <th></th>\n",
       "      <th>doc_id</th>\n",
       "      <th>site_nm</th>\n",
       "      <th>board_cat</th>\n",
       "      <th>post_dt</th>\n",
       "      <th>title</th>\n",
       "      <th>content</th>\n",
       "    </tr>\n",
       "  </thead>\n",
       "  <tbody>\n",
       "    <tr>\n",
       "      <th>55939</th>\n",
       "      <td>5a4aafc6eca98518e8b08ca1</td>\n",
       "      <td>싼타페DM 공식동호회 ★디엠러브★ 싼타페TM 산타페 더 프라임</td>\n",
       "      <td>consumer</td>\n",
       "      <td>2018-01-01T11:47:00Z</td>\n",
       "      <td>중고차 구매.. 조언 좀 구합니다^^</td>\n",
       "      <td>올해 첫째아기가 태어나기에 현재 경차타고 있는데 suv로 바꾸기로 마음먹고 투싼이나...</td>\n",
       "    </tr>\n",
       "    <tr>\n",
       "      <th>71397</th>\n",
       "      <td>59cce312d60e3c2df109e734</td>\n",
       "      <td>보배드림</td>\n",
       "      <td>consumer</td>\n",
       "      <td>2017-01-30T08:09:00Z</td>\n",
       "      <td>새로나온 모하비 시승해보니..ㅎ</td>\n",
       "      <td>아쉬운건 몇개있네요 물론 지금 타고있는 신형 k7디제루 대비.... 1. 오토홀드 ...</td>\n",
       "    </tr>\n",
       "  </tbody>\n",
       "</table>\n",
       "</div>"
      ],
      "text/plain": [
       "                         doc_id                             site_nm board_cat  \\\n",
       "55939  5a4aafc6eca98518e8b08ca1  싼타페DM 공식동호회 ★디엠러브★ 싼타페TM 산타페 더 프라임  consumer   \n",
       "71397  59cce312d60e3c2df109e734                                보배드림  consumer   \n",
       "\n",
       "                    post_dt                 title  \\\n",
       "55939  2018-01-01T11:47:00Z  중고차 구매.. 조언 좀 구합니다^^   \n",
       "71397  2017-01-30T08:09:00Z     새로나온 모하비 시승해보니..ㅎ   \n",
       "\n",
       "                                                 content  \n",
       "55939  올해 첫째아기가 태어나기에 현재 경차타고 있는데 suv로 바꾸기로 마음먹고 투싼이나...  \n",
       "71397  아쉬운건 몇개있네요 물론 지금 타고있는 신형 k7디제루 대비.... 1. 오토홀드 ...  "
      ]
     },
     "execution_count": 27,
     "metadata": {},
     "output_type": "execute_result"
    }
   ],
   "source": [
    "doc_df.sample(2)"
   ]
  },
  {
   "cell_type": "code",
   "execution_count": 28,
   "metadata": {},
   "outputs": [
    {
     "data": {
      "text/plain": [
       "보배드림        13175\n",
       "뽐뿌           6230\n",
       "디시인사이드       5351\n",
       "일간베스트저장소     3528\n",
       "클리앙          3049\n",
       "Name: site_nm, dtype: int64"
      ]
     },
     "execution_count": 28,
     "metadata": {},
     "output_type": "execute_result"
    }
   ],
   "source": [
    "doc_df.site_nm.value_counts()[:5]"
   ]
  },
  {
   "cell_type": "code",
   "execution_count": 29,
   "metadata": {},
   "outputs": [
    {
     "data": {
      "text/html": [
       "<div>\n",
       "<style scoped>\n",
       "    .dataframe tbody tr th:only-of-type {\n",
       "        vertical-align: middle;\n",
       "    }\n",
       "\n",
       "    .dataframe tbody tr th {\n",
       "        vertical-align: top;\n",
       "    }\n",
       "\n",
       "    .dataframe thead th {\n",
       "        text-align: right;\n",
       "    }\n",
       "</style>\n",
       "<table border=\"1\" class=\"dataframe\">\n",
       "  <thead>\n",
       "    <tr style=\"text-align: right;\">\n",
       "      <th></th>\n",
       "      <th>doc_id</th>\n",
       "      <th>site_nm</th>\n",
       "      <th>board_cat</th>\n",
       "      <th>post_dt</th>\n",
       "      <th>title</th>\n",
       "      <th>content</th>\n",
       "    </tr>\n",
       "  </thead>\n",
       "  <tbody>\n",
       "    <tr>\n",
       "      <th>count</th>\n",
       "      <td>94327</td>\n",
       "      <td>94327</td>\n",
       "      <td>94327</td>\n",
       "      <td>94327</td>\n",
       "      <td>94327</td>\n",
       "      <td>94327</td>\n",
       "    </tr>\n",
       "    <tr>\n",
       "      <th>unique</th>\n",
       "      <td>94327</td>\n",
       "      <td>512</td>\n",
       "      <td>1</td>\n",
       "      <td>77564</td>\n",
       "      <td>83928</td>\n",
       "      <td>85728</td>\n",
       "    </tr>\n",
       "    <tr>\n",
       "      <th>top</th>\n",
       "      <td>59cdac618a6a6924984c040b</td>\n",
       "      <td>보배드림</td>\n",
       "      <td>consumer</td>\n",
       "      <td>2016-10-16T15:00:00Z</td>\n",
       "      <td>안녕하세요</td>\n",
       "      <td>[THE SUV SPORTAGE] 클럽QL 더많은 정보와 즐거운 커뮤니티공간 !</td>\n",
       "    </tr>\n",
       "    <tr>\n",
       "      <th>freq</th>\n",
       "      <td>1</td>\n",
       "      <td>13047</td>\n",
       "      <td>94327</td>\n",
       "      <td>27</td>\n",
       "      <td>36</td>\n",
       "      <td>152</td>\n",
       "    </tr>\n",
       "  </tbody>\n",
       "</table>\n",
       "</div>"
      ],
      "text/plain": [
       "                          doc_id site_nm board_cat               post_dt  \\\n",
       "count                      94327   94327     94327                 94327   \n",
       "unique                     94327     512         1                 77564   \n",
       "top     59cdac618a6a6924984c040b    보배드림  consumer  2016-10-16T15:00:00Z   \n",
       "freq                           1   13047     94327                    27   \n",
       "\n",
       "        title                                       content  \n",
       "count   94327                                         94327  \n",
       "unique  83928                                         85728  \n",
       "top     안녕하세요  [THE SUV SPORTAGE] 클럽QL 더많은 정보와 즐거운 커뮤니티공간 !  \n",
       "freq       36                                           152  "
      ]
     },
     "execution_count": 29,
     "metadata": {},
     "output_type": "execute_result"
    }
   ],
   "source": [
    "doc_df = doc_df[pd.Series(map(len,doc_df.content))<5000] # 지나치게 긴글 제외\n",
    "doc_df.reset_index(drop=True,inplace=True)\n",
    "doc_df.describe(include='object')"
   ]
  },
  {
   "cell_type": "code",
   "execution_count": 22,
   "metadata": {},
   "outputs": [],
   "source": [
    "docs = []\n",
    "for i in range(len(doc_df)):\n",
    "    docs.append(doc_df.loc[i,'title']+'. '+doc_df.loc[i,'content'])"
   ]
  },
  {
   "cell_type": "code",
   "execution_count": 23,
   "metadata": {},
   "outputs": [],
   "source": [
    "# 코퍼스 생성\n",
    "corpus = []\n",
    "bmarks = [0,]\n",
    "bmark = 0\n",
    "prog = 0\n",
    "for i,doc in enumerate(docs):\n",
    "#     if prog%1000 == 0:\n",
    "#         print(prog)\n",
    "    prog += 1\n",
    "    sents = nltk.sent_tokenize(doc)\n",
    "    bmark += len(sents)\n",
    "    bmarks.append(bmark)\n",
    "    \n",
    "    docs[i] = [sent for sent in sents if len(sent)>4]\n",
    "    corpus += [sent for sent in sents if len(sent)>4]"
   ]
  },
  {
   "cell_type": "code",
   "execution_count": 53,
   "metadata": {},
   "outputs": [
    {
     "data": {
      "text/plain": [
       "['차량제원표입니다~(준중형SUV,중형세단,중형SUV,대형SUV,그랜저).',\n",
       " '비 고 소나타 K5 말리부 SM6 비 고 그랜저 전장(길이) 4,855 4,855 4,925 4,850 전장(길이) 4,930 전폭(넓이) 1,865 1,860 1,855 1,870 전폭(넓이) 1,865 전고(높이) 1,475 1,475 1,470 1,460 전고(높이) 1,470 축거 2,805 2,805 2,830 2,810 축거 2,845 비 고 QM6 싼타페 쏘렌토 캡티바 이쿼녹스 전장(길이) 4,675 4,770 4,800 4,690 4,650 전폭(넓이) 1,845 1,890 1,890 1,850 1,845 전고(높이) 1,680 1,680~1,705 1,690 1,725~1,755 1,690~1,695 축거 2,705 2,765 2,780 2,705 2,725 비 고 투싼 스포티지 코란도C 전장(길이) 4,480 4485~4495 4,410 전폭(넓이) 1,850 1,855 1,830 전고(높이) 1,645~1,650 1,635~1,645 1,715 축거 2,670 2,670 2,650 비 고 G4렉스턴 모하비 전장(길이) 4,850 4,930 전폭(넓이) 1,960 1,915 전고(높이) 1,825 1,810 축거 2,865 2,895 차량별 제원입니다.',\n",
       " '정말 무쟈게 잉여해서 만들어봤습니다.',\n",
       " '가끔 논란이되는 QM6의 중형?준중형?',\n",
       " '도 궁금할뿐더러 오늘 핫이슈였던 과연 그랜저와 말리부는?',\n",
       " '이라는 물음이 들어서.ㅎㅎ QM6가 투싼급이 맞다면 그랜저와 말리부는 동급이다라고 주장하는 분들의 의견도 어느정도 아예 일리없는 주장은 아니지않나 하는 생각이 들정도로 제원차이는 별 차이가 없군요(물론제원이 다는 아니지만^^;).... 아!',\n",
       " '물론 전 QM6는 중형, 그랜저는 준대형이라고 생각합니다.!',\n",
       " '출처는 네이버이고 모델은 가장최신형(19년or18년형)으로 작성하였습니다.']"
      ]
     },
     "execution_count": 53,
     "metadata": {},
     "output_type": "execute_result"
    }
   ],
   "source": [
    "docs[0]"
   ]
  },
  {
   "cell_type": "code",
   "execution_count": 52,
   "metadata": {},
   "outputs": [
    {
     "data": {
      "text/plain": [
       "'차량제원표입니다~(준중형SUV,중형세단,중형SUV,대형SUV,그랜저).'"
      ]
     },
     "execution_count": 52,
     "metadata": {},
     "output_type": "execute_result"
    }
   ],
   "source": [
    "corpus[0]"
   ]
  },
  {
   "cell_type": "code",
   "execution_count": null,
   "metadata": {},
   "outputs": [],
   "source": []
  },
  {
   "cell_type": "markdown",
   "metadata": {},
   "source": [
    "soynlp 라이브러리 이용해 코퍼스에서 명사와 word 각각 추출\n",
    "\n",
    "https://github.com/lovit/soynlp\n"
   ]
  },
  {
   "cell_type": "code",
   "execution_count": 25,
   "metadata": {},
   "outputs": [
    {
     "name": "stdout",
     "output_type": "stream",
     "text": [
      "used default noun predictor; Sejong corpus predictor\n",
      "used noun_predictor_sejong\n",
      "All 2398 r features was loaded\n"
     ]
    }
   ],
   "source": [
    "noun_extractor = LRNounExtractor(\n",
    "    max_left_length=10,\n",
    "    max_right_length=7,\n",
    "    predictor_fnames=None,\n",
    "    verbose=True\n",
    "\n",
    ")"
   ]
  },
  {
   "cell_type": "code",
   "execution_count": 26,
   "metadata": {},
   "outputs": [
    {
     "name": "stdout",
     "output_type": "stream",
     "text": [
      "scanning completed\n",
      "(L,R) has (129998, 73868) tokens\n",
      "building lr-graph completed"
     ]
    }
   ],
   "source": [
    "nouns = noun_extractor.train_extract(\n",
    "    corpus,\n",
    "    min_noun_score=0.3,\n",
    "    min_noun_frequency=20\n",
    ")"
   ]
  },
  {
   "cell_type": "code",
   "execution_count": 27,
   "metadata": {},
   "outputs": [],
   "source": [
    "with open('nouns.pickle','wb') as fp:\n",
    "    pickle.dump(nouns,fp)"
   ]
  },
  {
   "cell_type": "code",
   "execution_count": 59,
   "metadata": {},
   "outputs": [],
   "source": [
    "word_extractor = WordExtractor(\n",
    "    min_frequency=10,\n",
    "    min_cohesion_forward=0.05, \n",
    "    min_right_branching_entropy=0.0\n",
    ")"
   ]
  },
  {
   "cell_type": "code",
   "execution_count": 60,
   "metadata": {},
   "outputs": [
    {
     "name": "stdout",
     "output_type": "stream",
     "text": [
      "training was done. used memory 2.118 Gbse memory 2.387 Gb\n"
     ]
    }
   ],
   "source": [
    "word_extractor.train(corpus)"
   ]
  },
  {
   "cell_type": "code",
   "execution_count": 61,
   "metadata": {},
   "outputs": [
    {
     "name": "stdout",
     "output_type": "stream",
     "text": [
      "all cohesion probabilities was computed. # words = 249258\n",
      "all branching entropies was computed # words = 744809\n",
      "all accessor variety was computed # words = 744809\n"
     ]
    }
   ],
   "source": [
    "word_scores = word_extractor.extract()"
   ]
  },
  {
   "cell_type": "code",
   "execution_count": 74,
   "metadata": {},
   "outputs": [],
   "source": [
    "with open('word_scores_suv.pickle','wb') as fp:\n",
    "    pickle.dump(word_scores,fp)"
   ]
  },
  {
   "cell_type": "code",
   "execution_count": 62,
   "metadata": {},
   "outputs": [
    {
     "data": {
      "text/plain": [
       "Scores(cohesion_forward=0.9126350408407692, cohesion_backward=0.14893782726600285, left_branching_entropy=3.1886986358729428, right_branching_entropy=3.6009987062542095, left_accessor_variety=67, right_accessor_variety=72, leftside_frequency=752, rightside_frequency=19)"
      ]
     },
     "execution_count": 62,
     "metadata": {},
     "output_type": "execute_result"
    }
   ],
   "source": [
    "word_scores['펠리세이드']"
   ]
  },
  {
   "cell_type": "markdown",
   "metadata": {},
   "source": [
    "WordExtractor가 계산하는 것은 다양한 종류의 단어 가능 점수들입니다. 이를 잘 조합하여 원하는 점수를 만들 수도 있습니다. \n",
    "\n",
    "즐겨쓰는 방법 중 하나는 cohesion_forward에 right_branching_entropy를 곱하는 것으로, \n",
    "\n",
    "*(1) 주어진 글자가 유기적으로 연결되어 함께 자주 나타나고, *\n",
    "\n",
    "*(2) 그 단어의 우측에 다양한 조사, 어미, 혹은 다른 단어가 등장하여 단어의 우측의 branching entropy가 높다는 의미입니다.*"
   ]
  },
  {
   "cell_type": "code",
   "execution_count": 63,
   "metadata": {},
   "outputs": [
    {
     "name": "stdout",
     "output_type": "stream",
     "text": [
      "단어   (빈도수, cohesion, branching entropy)\n",
      "\n",
      "..     (5746, 0.906, 5.399)\n",
      "함께     (6962, 0.887, 5.264)\n",
      "^^     (3661, 0.938, 5.191)\n",
      ";;     (492, 0.934, 5.109)\n",
      "으로     (717, 0.708, 5.385)\n",
      "합니다.     (11336, 0.832, 5.212)\n",
      "...     (3091, 0.698, 5.372)\n",
      "됩니다.     (2476, 0.918, 5.059)\n",
      "때문에     (6973, 0.674, 5.367)\n",
      "입니다.     (5622, 0.741, 5.250)\n",
      "ㅠㅠ     (4870, 0.836, 5.089)\n",
      "었습니다.     (11, 0.785, 5.144)\n",
      "ㅜㅜ     (1694, 0.830, 5.046)\n",
      "너무     (12416, 0.926, 4.922)\n",
      "봅니다.     (1127, 0.886, 4.915)\n",
      "ㅎㅎ     (6404, 0.916, 4.825)\n",
      "통해     (10994, 0.668, 5.125)\n",
      "suv     (36311, 0.913, 4.730)\n",
      "께서     (30, 0.789, 4.874)\n",
      "였습니다.     (263, 0.747, 4.921)\n",
      "까지     (1339, 0.432, 5.458)\n",
      "했습니다.     (1924, 0.595, 5.132)\n",
      "겠습니다.     (53, 0.617, 5.091)\n",
      "SUV     (110155, 0.922, 4.682)\n",
      "~~     (428, 0.588, 5.125)\n",
      "....     (853, 0.512, 5.262)\n",
      "갑자기     (1474, 0.737, 4.896)\n",
      "역시     (8064, 0.538, 5.201)\n",
      "근데     (4382, 0.655, 5.002)\n",
      "줍니다.     (243, 0.947, 4.632)\n"
     ]
    }
   ],
   "source": [
    "import math\n",
    "\n",
    "def word_score(score):\n",
    "    return (score.cohesion_forward * math.exp(score.right_branching_entropy))\n",
    "\n",
    "print('단어   (빈도수, cohesion, branching entropy)\\n')\n",
    "for word, score in sorted(word_scores.items(), key=lambda x:word_score(x[1]), reverse=True)[:30]:\n",
    "    print('%s     (%d, %.3f, %.3f)' % (\n",
    "            word, \n",
    "            score.leftside_frequency, \n",
    "            score.cohesion_forward,\n",
    "            score.right_branching_entropy\n",
    "            )\n",
    "         )"
   ]
  },
  {
   "cell_type": "code",
   "execution_count": null,
   "metadata": {},
   "outputs": [],
   "source": []
  },
  {
   "cell_type": "markdown",
   "metadata": {},
   "source": [
    "토크나이저 생성"
   ]
  },
  {
   "cell_type": "code",
   "execution_count": 64,
   "metadata": {},
   "outputs": [],
   "source": [
    "cohesion_scores = {word:score.cohesion_forward for word, score in word_scores.items()}\n",
    "ltokenizer = LTokenizer(scores = cohesion_scores)\n",
    "mtokenizer = MaxScoreTokenizer(scores = cohesion_scores)"
   ]
  },
  {
   "cell_type": "code",
   "execution_count": 72,
   "metadata": {},
   "outputs": [],
   "source": [
    "with open('cohesion_scores_suv.pickle','wb') as fp:\n",
    "    pickle.dump(cohesion_scores,fp)"
   ]
  },
  {
   "cell_type": "code",
   "execution_count": 65,
   "metadata": {},
   "outputs": [
    {
     "data": {
      "text/plain": [
       "<soynlp.tokenizer._tokenizer.MaxScoreTokenizer at 0x14115a25390>"
      ]
     },
     "execution_count": 65,
     "metadata": {},
     "output_type": "execute_result"
    }
   ],
   "source": [
    "mtokenizer"
   ]
  },
  {
   "cell_type": "code",
   "execution_count": 31,
   "metadata": {},
   "outputs": [
    {
     "data": {
      "text/plain": [
       "['가끔', '논란이되는', 'QM6의', '중형?준중형?']"
      ]
     },
     "execution_count": 31,
     "metadata": {},
     "output_type": "execute_result"
    }
   ],
   "source": [
    "ltokenizer(corpus[3])"
   ]
  },
  {
   "cell_type": "code",
   "execution_count": 32,
   "metadata": {},
   "outputs": [
    {
     "data": {
      "text/plain": [
       "['가끔', '논란이되는', 'QM6의', '중형?준중형?']"
      ]
     },
     "execution_count": 32,
     "metadata": {},
     "output_type": "execute_result"
    }
   ],
   "source": [
    "mtokenizer(corpus[3])"
   ]
  },
  {
   "cell_type": "code",
   "execution_count": 33,
   "metadata": {},
   "outputs": [
    {
     "data": {
      "text/plain": [
       "['가솔린', '세단>>>>>>>>>>>디젤suv>>>>가솔린suv>>>>>>>>>>>>>>>>>>>>>>>디젤세단.']"
      ]
     },
     "execution_count": 33,
     "metadata": {},
     "output_type": "execute_result"
    }
   ],
   "source": [
    "ltokenizer(corpus[8])"
   ]
  },
  {
   "cell_type": "code",
   "execution_count": 34,
   "metadata": {},
   "outputs": [
    {
     "data": {
      "text/plain": [
       "['가솔린',\n",
       " '세단',\n",
       " '>>>>>>>>>>',\n",
       " '>',\n",
       " '디젤',\n",
       " 'suv',\n",
       " '>>>>',\n",
       " '가솔린',\n",
       " 'suv',\n",
       " '>>>>>>>>>>',\n",
       " '>>>>>>>>>>',\n",
       " '>>>',\n",
       " '디젤',\n",
       " '세단',\n",
       " '.']"
      ]
     },
     "execution_count": 34,
     "metadata": {},
     "output_type": "execute_result"
    }
   ],
   "source": [
    "mtokenizer(corpus[8])"
   ]
  },
  {
   "cell_type": "code",
   "execution_count": null,
   "metadata": {},
   "outputs": [],
   "source": []
  }
 ],
 "metadata": {
  "kernelspec": {
   "display_name": "Python 3",
   "language": "python",
   "name": "python3"
  },
  "language_info": {
   "codemirror_mode": {
    "name": "ipython",
    "version": 3
   },
   "file_extension": ".py",
   "mimetype": "text/x-python",
   "name": "python",
   "nbconvert_exporter": "python",
   "pygments_lexer": "ipython3",
   "version": "3.7.1"
  }
 },
 "nbformat": 4,
 "nbformat_minor": 2
}
