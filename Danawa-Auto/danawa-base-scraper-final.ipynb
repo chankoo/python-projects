{
 "cells": [
  {
   "cell_type": "code",
   "execution_count": 9,
   "metadata": {},
   "outputs": [],
   "source": [
    "from selenium import webdriver\n",
    "import os,json,tqdm,pickle, glob,time\n",
    "import pandas as pd\n",
    "\n",
    "from selenium.webdriver.support.ui import WebDriverWait,Select\n",
    "from selenium.webdriver.support import expected_conditions as EC\n",
    "\n",
    "from selenium.webdriver.common.keys import Keys \n",
    "from selenium.webdriver.common.by import By\n",
    "\n",
    "from selenium.common.exceptions import NoSuchElementException, StaleElementReferenceException, WebDriverException\n",
    "\n",
    "from urllib.parse import urlparse\n",
    "import requests\n",
    "from bs4 import BeautifulSoup\n",
    "import re\n"
   ]
  },
  {
   "cell_type": "markdown",
   "metadata": {},
   "source": [
    "우선 월별 판매실적을 수집하자"
   ]
  },
  {
   "cell_type": "code",
   "execution_count": 16,
   "metadata": {},
   "outputs": [],
   "source": [
    "params = {'Work':'record','Tab':'Model','Month':None,'MonthTo':None,'Classify':None}"
   ]
  },
  {
   "cell_type": "code",
   "execution_count": 17,
   "metadata": {},
   "outputs": [],
   "source": [
    "headers = {'User-Agent':'Mozilla/5.0 (Windows NT 10.0; Win64; x64) AppleWebKit/537.36 (KHTML, like Gecko) Chrome/... Safari/537.36'}"
   ]
  },
  {
   "cell_type": "code",
   "execution_count": 70,
   "metadata": {},
   "outputs": [],
   "source": [
    "#페이지 내 판매실적을 가져와 전역변수에 저장하는 get_car_sold 함수\n",
    "def get_car_sold(soup):\n",
    "    global to_json, exceptions,y,m\n",
    "    \n",
    "    # 판매량 테이블 받아온다\n",
    "    car_solds = soup.select('#autodanawa_gridC > div.gridMain > article > main > div > table > tbody > tr')\n",
    "    \n",
    "    # 브랜드, 세그먼트, 모델, 타이틀, 연월로 구성된 키를 만든다\n",
    "    # 밸류로 모델판매량(total)과 라인업별 판매량(존재시) 가진다\n",
    "    \n",
    "    for car_sold in car_solds:\n",
    "        if car_sold.attrs == {}: # model\n",
    "            brand = car_sold.find('input')['brand']\n",
    "            model = car_sold.find('td',{'class':'title'}).find('a')['href'][-4:]\n",
    "            title = car_sold.find('input')['title']\n",
    "\n",
    "            key = brand + '_' + params['Classify'] + '_'  + model + '_' + title + '_{year}{month}'.format(year=y,month=m)\n",
    "\n",
    "            to_json[key] = {}\n",
    "            to_json[key]['total'] = int(re.sub('[\\D]','',car_sold.find('td',{'class':'num'}).text))\n",
    "\n",
    "        elif car_sold.attrs['name'] == 'sub_model': # submodel\n",
    "            if 'total' in car_sold.attrs['class']:\n",
    "                continue\n",
    "            sub_title = car_sold.find('td',{'class':'title'}).text.strip()\n",
    "            sub_num = int(car_sold.find('td',{'class','num'}).text.replace(',','').strip())\n",
    "            to_json[key][sub_title] = sub_num\n",
    "\n",
    "        else:\n",
    "            print('~~!~!')\n",
    "            pass\n"
   ]
  },
  {
   "cell_type": "code",
   "execution_count": 100,
   "metadata": {},
   "outputs": [],
   "source": [
    "if __name__ == '__main__':\n",
    "    to_json = {}\n",
    "    exceptions = []\n",
    "    \n",
    "    for y in tqdm.tqdm(range(2011,2019)): # 2011.12 ~ 2018.12\n",
    "        for m in range(1,13):\n",
    "            url = 'http://auto.danawa.com/newcar'\n",
    "            if m<10:\n",
    "                m = str(0)+str(m)\n",
    "                params['Month'] = '{}-{}-00'.format(y,m)\n",
    "            else:\n",
    "                m = str(m)\n",
    "                params['Month'] = '{}-{}-00'.format(y,m)\n",
    "                \n",
    "            seg_lst = ['~C','PC1','PC2','PC3','PC4','PC5','P5~','RB~','RU2','RU3','RU5','RM~','O~']\n",
    "            for seg in seg_lst:\n",
    "                params['Classify'] = seg\n",
    "            \n",
    "                try:\n",
    "                    res = requests.get(url,params=params,headers=headers,timeout=10)\n",
    "                    res.encoding = 'utf-8'\n",
    "                    soup = BeautifulSoup(res.text,'lxml')\n",
    "                    \n",
    "                    get_car_sold(soup)\n",
    "                \n",
    "                except requests.exceptions.Timeout:\n",
    "                    exceptions.append((str(y)+str(m),seg))\n",
    "                    print(\"Timeout occurred\")\n",
    "                \n",
    "                except Exception as e:\n",
    "                    exceptions.append((str(y)+str(m),seg))"
   ]
  },
  {
   "cell_type": "code",
   "execution_count": 97,
   "metadata": {},
   "outputs": [
    {
     "data": {
      "text/plain": [
       "15839"
      ]
     },
     "execution_count": 97,
     "metadata": {},
     "output_type": "execute_result"
    }
   ],
   "source": [
    "len(to_json)"
   ]
  },
  {
   "cell_type": "code",
   "execution_count": 98,
   "metadata": {},
   "outputs": [
    {
     "data": {
      "text/plain": [
       "7"
      ]
     },
     "execution_count": 98,
     "metadata": {},
     "output_type": "execute_result"
    }
   ],
   "source": [
    "len(exceptions)"
   ]
  },
  {
   "cell_type": "code",
   "execution_count": 99,
   "metadata": {},
   "outputs": [],
   "source": [
    "# timeout Error 난 params에 대해 데이터 따로 업데이트 해줌\n",
    "for e in exceptions:\n",
    "    y = e[0][:4]\n",
    "    m = e[0][4:]\n",
    "    seg = e[1]\n",
    "    \n",
    "    url = 'http://auto.danawa.com/newcar'\n",
    "\n",
    "    params['Month'] = '{}-{}-00'.format(y,m)\n",
    "    params['Classify'] = seg\n",
    "\n",
    "    try:\n",
    "        res = requests.get(url,params=params,headers=headers,timeout=10)\n",
    "        res.encoding = 'utf-8'\n",
    "        soup = BeautifulSoup(res.text,'lxml')\n",
    "\n",
    "        get_car_sold(soup)\n",
    "\n",
    "    except requests.exceptions.Timeout:\n",
    "        print(e)\n",
    "        print(\"Timeout occurred\")\n",
    "\n",
    "    except Exception as e1:\n",
    "        print(e1)"
   ]
  },
  {
   "cell_type": "code",
   "execution_count": 101,
   "metadata": {},
   "outputs": [],
   "source": [
    "# pandas 로 쌓기\n",
    "model_pd = {'brand':[],'seg':[],'model':[],'YM':[],'title':[],'sold':[]}\n",
    "sub_model_pd =  {'brand':[],'seg':[],'model':[],'YM':[],'title':[],'sub_title':[],'sub_sold':[]}\n",
    "for k,v in to_json.items():\n",
    "    splited = k.split('_')\n",
    "    for sub_k,sub_v in v.items():\n",
    "        if sub_k == 'total':\n",
    "            continue\n",
    "        sub_model_pd['brand'].append(splited[0])\n",
    "        sub_model_pd['seg'].append(splited[1])\n",
    "        sub_model_pd['model'].append(splited[2])\n",
    "        sub_model_pd['YM'].append(splited[4])\n",
    "        sub_model_pd['title'].append(splited[3])\n",
    "        sub_model_pd['sub_title'].append(sub_k)\n",
    "        sub_model_pd['sub_sold'].append(sub_v)\n",
    "        \n",
    "    model_pd['brand'].append(splited[0])\n",
    "    model_pd['seg'].append(splited[1])\n",
    "    model_pd['model'].append(splited[2])\n",
    "    model_pd['YM'].append(splited[4])\n",
    "    model_pd['title'].append(splited[3])\n",
    "    model_pd['sold'].append(v['total'])"
   ]
  },
  {
   "cell_type": "code",
   "execution_count": 102,
   "metadata": {},
   "outputs": [],
   "source": [
    "mon_sub = pd.DataFrame(sub_model_pd)\n",
    "mon = pd.DataFrame(model_pd)"
   ]
  },
  {
   "cell_type": "code",
   "execution_count": 103,
   "metadata": {},
   "outputs": [],
   "source": [
    "mon_sub.to_csv('monthly_sub.csv',encoding='cp949')\n",
    "mon.to_csv('monthly.csv',encoding='cp949')"
   ]
  },
  {
   "cell_type": "code",
   "execution_count": 8,
   "metadata": {},
   "outputs": [],
   "source": [
    "mon_sub.to_csv('monthly_sub_utf.csv',encoding='utf-8')\n",
    "mon.to_csv('monthly_utf.csv',encoding='utf-8')"
   ]
  },
  {
   "cell_type": "code",
   "execution_count": 104,
   "metadata": {},
   "outputs": [
    {
     "data": {
      "text/html": [
       "<div>\n",
       "<style scoped>\n",
       "    .dataframe tbody tr th:only-of-type {\n",
       "        vertical-align: middle;\n",
       "    }\n",
       "\n",
       "    .dataframe tbody tr th {\n",
       "        vertical-align: top;\n",
       "    }\n",
       "\n",
       "    .dataframe thead th {\n",
       "        text-align: right;\n",
       "    }\n",
       "</style>\n",
       "<table border=\"1\" class=\"dataframe\">\n",
       "  <thead>\n",
       "    <tr style=\"text-align: right;\">\n",
       "      <th></th>\n",
       "      <th>brand</th>\n",
       "      <th>seg</th>\n",
       "      <th>model</th>\n",
       "      <th>YM</th>\n",
       "      <th>title</th>\n",
       "      <th>sold</th>\n",
       "    </tr>\n",
       "  </thead>\n",
       "  <tbody>\n",
       "    <tr>\n",
       "      <th>5636</th>\n",
       "      <td>546</td>\n",
       "      <td>RU3</td>\n",
       "      <td>2508</td>\n",
       "      <td>201408</td>\n",
       "      <td>SRX</td>\n",
       "      <td>4</td>\n",
       "    </tr>\n",
       "    <tr>\n",
       "      <th>2861</th>\n",
       "      <td>326</td>\n",
       "      <td>PC5</td>\n",
       "      <td>2041</td>\n",
       "      <td>201305</td>\n",
       "      <td>체어맨 H  뉴 클래식</td>\n",
       "      <td>171</td>\n",
       "    </tr>\n",
       "    <tr>\n",
       "      <th>118</th>\n",
       "      <td>362</td>\n",
       "      <td>RU3</td>\n",
       "      <td>2371</td>\n",
       "      <td>201112</td>\n",
       "      <td>X3</td>\n",
       "      <td>53</td>\n",
       "    </tr>\n",
       "    <tr>\n",
       "      <th>14892</th>\n",
       "      <td>573</td>\n",
       "      <td>PC5</td>\n",
       "      <td>2955</td>\n",
       "      <td>201808</td>\n",
       "      <td>Continental</td>\n",
       "      <td>77</td>\n",
       "    </tr>\n",
       "    <tr>\n",
       "      <th>7978</th>\n",
       "      <td>509</td>\n",
       "      <td>RU3</td>\n",
       "      <td>3158</td>\n",
       "      <td>201508</td>\n",
       "      <td>QX70</td>\n",
       "      <td>2</td>\n",
       "    </tr>\n",
       "  </tbody>\n",
       "</table>\n",
       "</div>"
      ],
      "text/plain": [
       "      brand  seg model      YM         title  sold\n",
       "5636    546  RU3  2508  201408           SRX     4\n",
       "2861    326  PC5  2041  201305  체어맨 H  뉴 클래식   171\n",
       "118     362  RU3  2371  201112            X3    53\n",
       "14892   573  PC5  2955  201808   Continental    77\n",
       "7978    509  RU3  3158  201508          QX70     2"
      ]
     },
     "execution_count": 104,
     "metadata": {},
     "output_type": "execute_result"
    }
   ],
   "source": [
    "mon.sample(5) # model 단위 판매실적"
   ]
  },
  {
   "cell_type": "code",
   "execution_count": 105,
   "metadata": {},
   "outputs": [
    {
     "data": {
      "text/html": [
       "<div>\n",
       "<style scoped>\n",
       "    .dataframe tbody tr th:only-of-type {\n",
       "        vertical-align: middle;\n",
       "    }\n",
       "\n",
       "    .dataframe tbody tr th {\n",
       "        vertical-align: top;\n",
       "    }\n",
       "\n",
       "    .dataframe thead th {\n",
       "        text-align: right;\n",
       "    }\n",
       "</style>\n",
       "<table border=\"1\" class=\"dataframe\">\n",
       "  <thead>\n",
       "    <tr style=\"text-align: right;\">\n",
       "      <th></th>\n",
       "      <th>brand</th>\n",
       "      <th>seg</th>\n",
       "      <th>model</th>\n",
       "      <th>YM</th>\n",
       "      <th>title</th>\n",
       "      <th>sub_title</th>\n",
       "      <th>sub_sold</th>\n",
       "    </tr>\n",
       "  </thead>\n",
       "  <tbody>\n",
       "    <tr>\n",
       "      <th>5042</th>\n",
       "      <td>367</td>\n",
       "      <td>RU2</td>\n",
       "      <td>2445</td>\n",
       "      <td>201512</td>\n",
       "      <td>Countryman</td>\n",
       "      <td>Cooper D ALL4</td>\n",
       "      <td>107</td>\n",
       "    </tr>\n",
       "    <tr>\n",
       "      <th>19141</th>\n",
       "      <td>307</td>\n",
       "      <td>~C</td>\n",
       "      <td>3333</td>\n",
       "      <td>201810</td>\n",
       "      <td>모닝</td>\n",
       "      <td>1.0  VAN</td>\n",
       "      <td>228</td>\n",
       "    </tr>\n",
       "    <tr>\n",
       "      <th>16868</th>\n",
       "      <td>349</td>\n",
       "      <td>PC5</td>\n",
       "      <td>3511</td>\n",
       "      <td>201804</td>\n",
       "      <td>더 뉴 S-class</td>\n",
       "      <td>S560 4MATIC Long</td>\n",
       "      <td>146</td>\n",
       "    </tr>\n",
       "    <tr>\n",
       "      <th>1977</th>\n",
       "      <td>371</td>\n",
       "      <td>RU2</td>\n",
       "      <td>2423</td>\n",
       "      <td>201505</td>\n",
       "      <td>Q3</td>\n",
       "      <td>30 TDI quattro</td>\n",
       "      <td>23</td>\n",
       "    </tr>\n",
       "    <tr>\n",
       "      <th>2331</th>\n",
       "      <td>349</td>\n",
       "      <td>PC5</td>\n",
       "      <td>3128</td>\n",
       "      <td>201506</td>\n",
       "      <td>S-class</td>\n",
       "      <td>S600</td>\n",
       "      <td>6</td>\n",
       "    </tr>\n",
       "  </tbody>\n",
       "</table>\n",
       "</div>"
      ],
      "text/plain": [
       "      brand  seg model      YM        title         sub_title  sub_sold\n",
       "5042    367  RU2  2445  201512   Countryman     Cooper D ALL4       107\n",
       "19141   307   ~C  3333  201810           모닝          1.0  VAN       228\n",
       "16868   349  PC5  3511  201804  더 뉴 S-class  S560 4MATIC Long       146\n",
       "1977    371  RU2  2423  201505           Q3    30 TDI quattro        23\n",
       "2331    349  PC5  3128  201506      S-class              S600         6"
      ]
     },
     "execution_count": 105,
     "metadata": {},
     "output_type": "execute_result"
    }
   ],
   "source": [
    "mon_sub.sample(5) # trim (sub_model) 단위 판매실적"
   ]
  },
  {
   "cell_type": "code",
   "execution_count": 106,
   "metadata": {},
   "outputs": [
    {
     "name": "stdout",
     "output_type": "stream",
     "text": [
      "<class 'pandas.core.frame.DataFrame'>\n",
      "RangeIndex: 15839 entries, 0 to 15838\n",
      "Data columns (total 6 columns):\n",
      "brand    15839 non-null object\n",
      "seg      15839 non-null object\n",
      "model    15839 non-null object\n",
      "YM       15839 non-null object\n",
      "title    15839 non-null object\n",
      "sold     15839 non-null int64\n",
      "dtypes: int64(1), object(5)\n",
      "memory usage: 742.5+ KB\n"
     ]
    }
   ],
   "source": [
    "mon.info()"
   ]
  },
  {
   "cell_type": "code",
   "execution_count": null,
   "metadata": {},
   "outputs": [],
   "source": []
  },
  {
   "cell_type": "markdown",
   "metadata": {},
   "source": [
    "차량 데이터(기본정보, 제원, 사양옵션 등)와 중고차 id 수집"
   ]
  },
  {
   "cell_type": "code",
   "execution_count": 142,
   "metadata": {},
   "outputs": [],
   "source": [
    "path = './chromedriver.exe'\n",
    "\n",
    "options = webdriver.ChromeOptions()\n",
    "options.add_argument('headless')\n",
    "options.add_argument('disable-gpu')"
   ]
  },
  {
   "cell_type": "code",
   "execution_count": 143,
   "metadata": {},
   "outputs": [],
   "source": [
    "driver = webdriver.Chrome(path,chrome_options=options)"
   ]
  },
  {
   "cell_type": "code",
   "execution_count": 10,
   "metadata": {},
   "outputs": [],
   "source": [
    "os.chdir('./data')"
   ]
  },
  {
   "cell_type": "code",
   "execution_count": 4,
   "metadata": {},
   "outputs": [],
   "source": [
    "# # 판매실적 데이터에서 모델아이디를 추출 \n",
    "# model_ids = [str(el) for el in list(pd.read_csv('monthly_utf.csv').model.unique())]"
   ]
  },
  {
   "cell_type": "code",
   "execution_count": 11,
   "metadata": {},
   "outputs": [],
   "source": [
    "# 판매실적 데이터에서 모델아이디를 추출  SUV\n",
    "data = pd.read_csv('monthly_utf.csv')\n",
    "model_ids = [str(el) for el in list(data[data.seg=='RU2'].model.unique())]"
   ]
  },
  {
   "cell_type": "code",
   "execution_count": 126,
   "metadata": {},
   "outputs": [],
   "source": [
    "#params 재정의\n",
    "params = {}\n",
    "params['Work'] = 'model'\n",
    "params['Model'] = None"
   ]
  },
  {
   "cell_type": "code",
   "execution_count": 127,
   "metadata": {},
   "outputs": [],
   "source": [
    "# model_id가 인덱스인 pd 형태로 저장\n",
    "car_base = {'model':[],'brand':[],'seg':[],'title':[],'launching':[],'price_range':[],'recall_num':[],'recall_txt':[]}"
   ]
  },
  {
   "cell_type": "code",
   "execution_count": 128,
   "metadata": {},
   "outputs": [],
   "source": [
    "# car_base의 데이터를 채우는 함수 \n",
    "def get_car_base(model_id):\n",
    "    global car_base, params\n",
    "    \n",
    "    url = 'http://auto.danawa.com/auto/?attributeList='\n",
    "    params['Model'] = str(model_id)\n",
    "    \n",
    "    for k,v in params.items():\n",
    "        url += '&'+k+'='+v\n",
    "    driver.get(url)\n",
    "    \n",
    "    # 기본정보 수집\n",
    "    car_base['model'].append(model_id)\n",
    "    \n",
    "    category = driver.find_element_by_css_selector('#autodanawa_gridC > div.gridLeft > ul')\n",
    "    car_base['brand'].append(category.find_element_by_class_name('depth3').text)\n",
    "    car_base['seg'].append(category.find_element_by_class_name('depth4').text)\n",
    "    \n",
    "    info = driver.find_element_by_class_name('info')\n",
    "    car_base['title'].append(info.find_element_by_class_name('title').text)\n",
    "    car_base['launching'].append(info.find_element_by_class_name('date').text)\n",
    "    \n",
    "    car_base['price_range'].append(re.sub(r'[가-힣ㄱ-ㅎa-zA-Z|,|\\s]','',driver.find_element_by_class_name('price').text.strip()))\n",
    "    \n",
    "    #리콜탭\n",
    "    driver.find_element_by_link_text('보증/리콜').click()\n",
    "    \n",
    "    recall_lst = driver.find_elements_by_class_name('recallList')\n",
    "    car_base['recall_num'].append(len(recall_lst))\n",
    "    \n",
    "    recall_txt = []\n",
    "    for recall in recall_lst:\n",
    "        recall_subj = recall.find_element_by_class_name('subj')\n",
    "        recall_txt.append(recall_subj.find_element_by_class_name('cate').text.strip()+'_'+recall_subj.find_element_by_class_name('title').text.strip())\n",
    "    car_base['recall_txt'].append(recall_txt)"
   ]
  },
  {
   "cell_type": "code",
   "execution_count": 1,
   "metadata": {},
   "outputs": [],
   "source": [
    "if __name__=='__main__':\n",
    "    base_exceptions=[]\n",
    "    for model_id in tqdm.tqdm(model_ids):\n",
    "        try:\n",
    "            get_car_base(model_id)\n",
    "        except Exception as e:\n",
    "            print(e)\n",
    "            base_exceptions.append(model_id)"
   ]
  },
  {
   "cell_type": "code",
   "execution_count": null,
   "metadata": {},
   "outputs": [],
   "source": [
    "car_base = pd.DataFrame(car_base)"
   ]
  },
  {
   "cell_type": "code",
   "execution_count": null,
   "metadata": {},
   "outputs": [],
   "source": [
    "car_base.to_csv('car_base_recall_utf.csv',encoding='utf-8')"
   ]
  },
  {
   "cell_type": "code",
   "execution_count": null,
   "metadata": {},
   "outputs": [],
   "source": [
    "car_base.sample(5)"
   ]
  },
  {
   "cell_type": "code",
   "execution_count": null,
   "metadata": {},
   "outputs": [],
   "source": []
  },
  {
   "cell_type": "code",
   "execution_count": null,
   "metadata": {},
   "outputs": [],
   "source": []
  },
  {
   "cell_type": "markdown",
   "metadata": {},
   "source": [
    "모델id와 매핑시킬 중고차 번호를 가져오자"
   ]
  },
  {
   "cell_type": "code",
   "execution_count": 16,
   "metadata": {},
   "outputs": [],
   "source": [
    "os.chdir('./..')"
   ]
  },
  {
   "cell_type": "code",
   "execution_count": 25,
   "metadata": {},
   "outputs": [],
   "source": [
    "path = './chromedriver.exe'\n",
    "\n",
    "options = webdriver.ChromeOptions()\n",
    "# options.add_argument('headless')\n",
    "options.add_argument('disable-gpu')"
   ]
  },
  {
   "cell_type": "code",
   "execution_count": 26,
   "metadata": {},
   "outputs": [],
   "source": [
    "driver = webdriver.Chrome(path,options=options)"
   ]
  },
  {
   "cell_type": "code",
   "execution_count": 27,
   "metadata": {},
   "outputs": [],
   "source": [
    "# model과 중고차id를 매핑\n",
    "# json 형태로 저장 model_id 가 키\n",
    "model_used = {}"
   ]
  },
  {
   "cell_type": "code",
   "execution_count": 33,
   "metadata": {},
   "outputs": [],
   "source": [
    "# params 재정의\n",
    "params = {}\n",
    "params['Model'] = None"
   ]
  },
  {
   "cell_type": "code",
   "execution_count": 34,
   "metadata": {},
   "outputs": [],
   "source": [
    "def get_used_no(model_id):\n",
    "    global model_used, params\n",
    "    params['Model'] = str(model_id)\n",
    "    params['Page'] = None\n",
    "    \n",
    "    model_used[str(model_id)] = []\n",
    "    \n",
    "    max_page = 20\n",
    "    for p in range(max_page):\n",
    "        url = 'http://auto.danawa.com/usedcar/?Tab=list'\n",
    "        params['Page'] = str(p+1)\n",
    "        for k,v in params.items():\n",
    "            url += '&'+k +'=' + v\n",
    "        print(url)\n",
    "        driver.get(url)\n",
    "        \n",
    "        if driver.find_element_by_class_name('total').find_element_by_class_name('num').text == '0': # 해당 페이지에 매물x\n",
    "            break\n",
    "            \n",
    "        used_car_lst = driver.find_element_by_id('usedcarList').find_elements_by_class_name('row')\n",
    "\n",
    "        for used in used_car_lst:\n",
    "            href = used.find_element_by_class_name('name').get_attribute('href')\n",
    "            parsed = urlparse(href).query.split('&')\n",
    "            for kv in [el.split('=') for el in parsed]: # pased 된 리스트에서 sDemoNo 밸류 찾기\n",
    "                if kv[0] == 'sDemoNo':\n",
    "                    model_used[model_id].append(kv[1])"
   ]
  },
  {
   "cell_type": "code",
   "execution_count": 37,
   "metadata": {},
   "outputs": [],
   "source": [
    "used_exceptions = []\n",
    "for model_id in tqdm.tqdm(model_ids):\n",
    "    get_used_no(model_id)\n",
    "    try:\n",
    "        pass\n",
    "    except Exception as e:\n",
    "        used_exceptions.append(model_id)\n",
    "        print(e)"
   ]
  },
  {
   "cell_type": "code",
   "execution_count": 38,
   "metadata": {},
   "outputs": [
    {
     "data": {
      "text/plain": [
       "['9120002093', '9110002001', '9110001297', '9011002014', '8910000607']"
      ]
     },
     "execution_count": 38,
     "metadata": {},
     "output_type": "execute_result"
    }
   ],
   "source": [
    "model_used['2132'][:5]"
   ]
  },
  {
   "cell_type": "code",
   "execution_count": null,
   "metadata": {},
   "outputs": [],
   "source": []
  },
  {
   "cell_type": "code",
   "execution_count": null,
   "metadata": {},
   "outputs": [],
   "source": []
  },
  {
   "cell_type": "code",
   "execution_count": null,
   "metadata": {},
   "outputs": [],
   "source": []
  },
  {
   "cell_type": "code",
   "execution_count": null,
   "metadata": {},
   "outputs": [],
   "source": []
  },
  {
   "cell_type": "code",
   "execution_count": null,
   "metadata": {},
   "outputs": [],
   "source": []
  },
  {
   "cell_type": "code",
   "execution_count": null,
   "metadata": {},
   "outputs": [],
   "source": []
  },
  {
   "cell_type": "code",
   "execution_count": null,
   "metadata": {},
   "outputs": [],
   "source": []
  },
  {
   "cell_type": "code",
   "execution_count": null,
   "metadata": {},
   "outputs": [],
   "source": []
  }
 ],
 "metadata": {
  "kernelspec": {
   "display_name": "Python 3",
   "language": "python",
   "name": "python3"
  },
  "language_info": {
   "codemirror_mode": {
    "name": "ipython",
    "version": 3
   },
   "file_extension": ".py",
   "mimetype": "text/x-python",
   "name": "python",
   "nbconvert_exporter": "python",
   "pygments_lexer": "ipython3",
   "version": "3.6.4"
  }
 },
 "nbformat": 4,
 "nbformat_minor": 2
}
