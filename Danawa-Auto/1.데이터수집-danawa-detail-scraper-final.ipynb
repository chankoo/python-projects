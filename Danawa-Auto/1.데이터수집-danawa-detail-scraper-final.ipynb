{
 "cells": [
  {
   "cell_type": "markdown",
   "metadata": {},
   "source": [
    "### 차량 데이터(트림 level)의 수집\n",
    "차량의 가격, 제원, 사양/옵션은 차종 level 아니라 트림 level로 수집 필요\n",
    "\n",
    "라인업(엔진종류) 수집한 다음 라인업 별로 \n",
    "\n",
    "가격, 제원, 사양/옵션 데이터를 각각 수집하자\n",
    "\n",
    "selenium, BeautifulSoup 사용"
   ]
  },
  {
   "cell_type": "code",
   "execution_count": 1,
   "metadata": {},
   "outputs": [],
   "source": [
    "import pandas as pd\n",
    "import os,time,tqdm\n",
    "\n",
    "from selenium import webdriver\n",
    "from selenium.webdriver.support.ui import WebDriverWait,Select\n",
    "from selenium.webdriver.support import expected_conditions as EC\n",
    "from selenium.webdriver.common.keys import Keys \n",
    "from selenium.webdriver.common.by import By\n",
    "from selenium.common.exceptions import NoSuchElementException, StaleElementReferenceException, WebDriverException, TimeoutException\n",
    "\n",
    "import requests\n",
    "from bs4 import BeautifulSoup"
   ]
  },
  {
   "cell_type": "code",
   "execution_count": 3,
   "metadata": {},
   "outputs": [],
   "source": [
    "# utilities\n",
    "class Util:\n",
    "    @classmethod\n",
    "    def make_url(cls,params):\n",
    "        url = 'http://m.auto.danawa.com/auto/?Work=model'\n",
    "        for k,v in params.items(): # 쿼리 순서??\n",
    "            if v is not None:\n",
    "                url += '&'+k+'='+v\n",
    "\n",
    "        return url"
   ]
  },
  {
   "cell_type": "code",
   "execution_count": 14,
   "metadata": {},
   "outputs": [],
   "source": [
    "# 가격 탭 -> 라인업 가져오기\n",
    "def get_lineup():\n",
    "    params['Tab'] = 'price'\n",
    "    url_price = Util.make_url(params)\n",
    "    driver.get(url_price)\n",
    "    \n",
    "    try:\n",
    "    # 라인업쭉저장(최근년도만 직접보며 라인업 선별, id,nm,출시,  )\n",
    "        buttonSelect = WebDriverWait(driver, 5).until(\n",
    "                        EC.element_to_be_clickable(\n",
    "                            (By.ID, \"buttonSelect\")))\n",
    "        buttonSelect.click()\n",
    "\n",
    "        popup_data = WebDriverWait(driver, 5).until(\n",
    "                        EC.presence_of_element_located(\n",
    "                            (By.ID, \"popup_data\")))\n",
    "    except TimeoutException as te: # 아예 라인업 없는 경우\n",
    "            return []\n",
    "            \n",
    "    lineup_lis = popup_data.find_element_by_class_name('trimInfo').find_elements_by_tag_name('li')\n",
    "    \n",
    "    lu_len = len(lineup_lis) # stale Element Error 때문에 우선 라인업 길이만 가져옴\n",
    "    \n",
    "    driver.get(url_price)\n",
    "    lineups = []\n",
    "    for lu_idx in range(lu_len):\n",
    "        driver.get(url_price)\n",
    "        buttonSelect = WebDriverWait(driver, 5).until(\n",
    "                    EC.element_to_be_clickable(\n",
    "                        (By.ID, \"buttonSelect\")))\n",
    "        buttonSelect.click()\n",
    "    \n",
    "        popup_data = WebDriverWait(driver, 5).until(\n",
    "                        EC.presence_of_element_located(\n",
    "                            (By.ID, \"popup_data\")))\n",
    "        \n",
    "        lu_buttons = popup_data.find_element_by_class_name('trimInfo').find_elements_by_tag_name('li')\n",
    "        lu_start = lu_buttons[lu_idx].find_element_by_tag_name('a').get_attribute('href').find('&Lineup=')\n",
    "        lu_cd = lu_buttons[lu_idx].find_element_by_tag_name('a').get_attribute('href')[lu_start+8:lu_start+13]\n",
    "        lu_nm = lu_buttons[lu_idx].find_element_by_tag_name('a').find_element_by_tag_name('span').text.strip()\n",
    "        lineups.append((lu_cd,lu_nm))\n",
    "    return lineups"
   ]
  },
  {
   "cell_type": "code",
   "execution_count": 15,
   "metadata": {},
   "outputs": [],
   "source": [
    "# 가격 탭\n",
    "def get_price():\n",
    "    params['Tab'] = 'price'\n",
    "    url_price = Util.make_url(params)\n",
    "    driver.get(url_price)\n",
    "    \n",
    "    price_list = WebDriverWait(driver, 5).until(\n",
    "                        EC.presence_of_element_located(\n",
    "                            (By.ID, \"priceList\")))\n",
    "    dts = price_list.find_elements_by_tag_name('dt')\n",
    "    trim_prices = []\n",
    "    for dt in dts:\n",
    "        try:\n",
    "            trim_prices.append((dt.find_element_by_class_name('title').text.strip(), dt.find_element_by_class_name('price').text.strip()))\n",
    "        except NoSuchElementException as nse: # '공통사양' 인 element\n",
    "            continue\n",
    "            \n",
    "    return trim_prices # trim 개수와 트림,가격 리스트 리턴\n"
   ]
  },
  {
   "cell_type": "code",
   "execution_count": 16,
   "metadata": {},
   "outputs": [],
   "source": [
    "#  제원 탭\n",
    "def get_spec()->dict:\n",
    "    global spec_valid,driver\n",
    "    \n",
    "    params['Tab'] = 'spec'\n",
    "    url_spec = Util.make_url(params)\n",
    "\n",
    "    driver.get(url_spec)\n",
    "\n",
    "    source = driver.page_source\n",
    "    soup = BeautifulSoup(source,'lxml')\n",
    "    try: \n",
    "        table = soup.find('table',{'class':'tableBlock'})\n",
    "        tr_list = table.find_all('tr')\n",
    "    except AttributeError as ae: # 제원 탭 아예 존재 안함\n",
    "        spec_valid = False\n",
    "        return\n",
    "    \n",
    "    spec = {}\n",
    "    for tr in tr_list:\n",
    "        spec[tr.find('td').text.strip()] = [td.text.strip() for td in tr.find_all('td',{'class':'tdCenter'})]\n",
    "        \n",
    "    return spec\n",
    "    "
   ]
  },
  {
   "cell_type": "code",
   "execution_count": 17,
   "metadata": {},
   "outputs": [],
   "source": [
    "# 사양/옵션 탭\n",
    "def get_opt()->dict:\n",
    "    global opt_valid,driver\n",
    "\n",
    "    params['Tab'] = 'item'\n",
    "    url_item = Util.make_url(params)\n",
    "    driver.get(url_item)\n",
    "\n",
    "    source = driver.page_source\n",
    "    soup = BeautifulSoup(source,'lxml')\n",
    "    \n",
    "    try:\n",
    "        table = soup.find('table',{'class':'tableBlock'})\n",
    "        tr_list = table.find_all('tr')\n",
    "    except AttributeError as ae: # 사양/옵션 탭 아예 존재 안함\n",
    "        opt_valid = False\n",
    "        return\n",
    "    \n",
    "    item = {}\n",
    "    for tr in tr_list:\n",
    "        item[tr.find('td').text.strip()] = [td.text.strip() for td in tr.find_all('td',{'class':'tdCenter'})]\n",
    "    \n",
    "    return item"
   ]
  },
  {
   "cell_type": "code",
   "execution_count": null,
   "metadata": {},
   "outputs": [],
   "source": []
  },
  {
   "cell_type": "markdown",
   "metadata": {},
   "source": [
    "메인"
   ]
  },
  {
   "cell_type": "code",
   "execution_count": 24,
   "metadata": {},
   "outputs": [],
   "source": [
    "if __name__=='__main__':\n",
    "    \n",
    "    os.chdir('./data')\n",
    "    # 판매실적 데이터에서 모델아이디를 추출\n",
    "    monthly = pd.read_excel('monthly.xlsx',encoding='utf-8')\n",
    "    model_ids = [str(el) for el in list(monthly.model.unique())]\n",
    "    model_ids.append(3341)# 티볼리 에어 직접 추가\n",
    "    del monthly\n",
    "    \n",
    "    # url 의 params 정의\n",
    "    params = {} \n",
    "    params['Model'] = None \n",
    "    headers = {'User-Agent':'Mozilla/5.0 (Windows NT 6.1; Win64; x64; rv:65.0) Gecko/20100101 Firefox/65.0'}\n",
    "    \n",
    "    # 크롬 드라이버 호출\n",
    "    os.chdir('./..')\n",
    "    path = './chromedriver.exe'\n",
    "    options = webdriver.ChromeOptions()\n",
    "    options.add_argument('headless')\n",
    "    options.add_argument('disable-gpu')\n",
    "    driver = webdriver.Chrome(path,options=options)\n",
    "    \n",
    "    # pandas DF 형태의 스키마 정의\n",
    "    car_detail = pd.DataFrame({'model':[],'lu_cd':[],'lu_nm':[],'trim':[],'trim_idx':[],'price':[],'specs':[],'opt':[]}) \n",
    "    \n",
    "    # 전체적인 예외처리 위함\n",
    "    unhandled_e = [] \n",
    "    \n",
    "    for model_id in tqdm.tqdm(model_ids[:5]): # 판매실적있는 model에 대해서만 진행\n",
    "        try:\n",
    "            params['Model'] = str(model_id)\n",
    "\n",
    "            lineups = get_lineup() # 라인업 쭉 가져온다           \n",
    "            for lineup in lineups: # 라인업에 대해 진행\n",
    "                params['Lineup'] = str(lineup[0])\n",
    "                \n",
    "                spec_valid =True # 제원, 옵션 탭 존재 여부\n",
    "                opt_valid = True\n",
    "\n",
    "                trim_prices = get_price() # 트림과 가격 정보 가져옴\n",
    "                trim_len = len(trim_prices) # 트림 개수만큼 데이터 쌓을 것\n",
    "                spec_dic = get_spec() # 스펙 정보 딕셔너리 형태로 가져옴\n",
    "                opt_dic = get_opt() # 옵션 정보 딕셔너리 형태로 가져옴\n",
    "\n",
    "                tmp_detail_base = {'model':[],'lu_cd':[],'lu_nm':[],'trim':[],'trim_idx':[],'price':[],'specs':[],'opt':[]}\n",
    "                for trim_idx in range(trim_len): # 트림에 대해 tmp_detail_base를 채워가겠다\n",
    "                    tmp_detail_base['model'].append(params['Model'])\n",
    "                    tmp_detail_base['lu_cd'].append(params['Lineup'])\n",
    "                    tmp_detail_base['lu_nm'].append(lineup[1])\n",
    "                    tmp_detail_base['trim'].append(trim_prices[trim_idx][0])\n",
    "                    tmp_detail_base['trim_idx'].append(trim_idx)\n",
    "                    tmp_detail_base['price'].append(trim_prices[trim_idx][1])\n",
    "\n",
    "                    tmp_spec_dic = {}\n",
    "                    if spec_valid:\n",
    "                        for k,v in spec_dic.items():\n",
    "                            tmp_spec_dic[k] = v[trim_idx]\n",
    "                    tmp_detail_base['specs'].append(tmp_spec_dic)\n",
    "\n",
    "                    tmp_opt_dic = {}\n",
    "                    if opt_valid:\n",
    "                        for k,v in opt_dic.items():\n",
    "                            tmp_opt_dic[k] = v[trim_idx]\n",
    "                    tmp_detail_base['opt'].append(tmp_opt_dic)\n",
    "\n",
    "\n",
    "                tmp_detail = pd.DataFrame(tmp_detail_base)\n",
    "                car_detail = pd.concat((car_detail,tmp_detail), axis=0,sort=False) # tmp_detail을 기존 car_detail에 쌓기\n",
    "        \n",
    "        except Exception as e: # 예외 발생시 모델id 저장해 다시 처리하자\n",
    "            print(model_id, e)\n",
    "            unhandled_e.append(model_id)\n",
    "            continue\n",
    "                \n",
    "    driver.quit()\n"
   ]
  },
  {
   "cell_type": "code",
   "execution_count": 20,
   "metadata": {},
   "outputs": [
    {
     "data": {
      "text/plain": [
       "[]"
      ]
     },
     "execution_count": 20,
     "metadata": {},
     "output_type": "execute_result"
    }
   ],
   "source": [
    "unhandled_e"
   ]
  },
  {
   "cell_type": "code",
   "execution_count": 21,
   "metadata": {},
   "outputs": [],
   "source": [
    "car_detail.price = car_detail.price.str.replace(',','').astype('int64')\n",
    "car_detail.trim_idx = car_detail.trim_idx.astype('int32')"
   ]
  },
  {
   "cell_type": "code",
   "execution_count": 22,
   "metadata": {},
   "outputs": [
    {
     "data": {
      "text/html": [
       "<div>\n",
       "<style scoped>\n",
       "    .dataframe tbody tr th:only-of-type {\n",
       "        vertical-align: middle;\n",
       "    }\n",
       "\n",
       "    .dataframe tbody tr th {\n",
       "        vertical-align: top;\n",
       "    }\n",
       "\n",
       "    .dataframe thead th {\n",
       "        text-align: right;\n",
       "    }\n",
       "</style>\n",
       "<table border=\"1\" class=\"dataframe\">\n",
       "  <thead>\n",
       "    <tr style=\"text-align: right;\">\n",
       "      <th></th>\n",
       "      <th>model</th>\n",
       "      <th>lu_cd</th>\n",
       "      <th>lu_nm</th>\n",
       "      <th>trim</th>\n",
       "      <th>trim_idx</th>\n",
       "      <th>price</th>\n",
       "      <th>specs</th>\n",
       "      <th>opt</th>\n",
       "    </tr>\n",
       "  </thead>\n",
       "  <tbody>\n",
       "    <tr>\n",
       "      <th>0</th>\n",
       "      <td>3333</td>\n",
       "      <td>44018</td>\n",
       "      <td>가솔린 1.0</td>\n",
       "      <td>밴 M/T</td>\n",
       "      <td>0</td>\n",
       "      <td>9650000</td>\n",
       "      <td>{'엔진': '카파 1.0 ECO Prime', '연료': '가솔린', '배기량 (...</td>\n",
       "      <td>{'외관': '벌브형', '전방 안개등': '벌브형', '주간 주행등': '벌브형'...</td>\n",
       "    </tr>\n",
       "    <tr>\n",
       "      <th>1</th>\n",
       "      <td>3333</td>\n",
       "      <td>44018</td>\n",
       "      <td>가솔린 1.0</td>\n",
       "      <td>밴 A/T</td>\n",
       "      <td>1</td>\n",
       "      <td>10900000</td>\n",
       "      <td>{'엔진': '카파 1.0 ECO Prime', '연료': '가솔린', '배기량 (...</td>\n",
       "      <td>{'외관': '벌브형', '전방 안개등': '벌브형', '주간 주행등': '벌브형'...</td>\n",
       "    </tr>\n",
       "    <tr>\n",
       "      <th>2</th>\n",
       "      <td>3333</td>\n",
       "      <td>44018</td>\n",
       "      <td>가솔린 1.0</td>\n",
       "      <td>밴 고급형 M/T</td>\n",
       "      <td>2</td>\n",
       "      <td>9950000</td>\n",
       "      <td>{'엔진': '카파 1.0 ECO Prime', '연료': '가솔린', '배기량 (...</td>\n",
       "      <td>{'외관': '벌브형', '전방 안개등': '벌브형', '주간 주행등': '벌브형'...</td>\n",
       "    </tr>\n",
       "  </tbody>\n",
       "</table>\n",
       "</div>"
      ],
      "text/plain": [
       "  model  lu_cd    lu_nm       trim  trim_idx     price  \\\n",
       "0  3333  44018  가솔린 1.0      밴 M/T         0   9650000   \n",
       "1  3333  44018  가솔린 1.0      밴 A/T         1  10900000   \n",
       "2  3333  44018  가솔린 1.0  밴 고급형 M/T         2   9950000   \n",
       "\n",
       "                                               specs  \\\n",
       "0  {'엔진': '카파 1.0 ECO Prime', '연료': '가솔린', '배기량 (...   \n",
       "1  {'엔진': '카파 1.0 ECO Prime', '연료': '가솔린', '배기량 (...   \n",
       "2  {'엔진': '카파 1.0 ECO Prime', '연료': '가솔린', '배기량 (...   \n",
       "\n",
       "                                                 opt  \n",
       "0  {'외관': '벌브형', '전방 안개등': '벌브형', '주간 주행등': '벌브형'...  \n",
       "1  {'외관': '벌브형', '전방 안개등': '벌브형', '주간 주행등': '벌브형'...  \n",
       "2  {'외관': '벌브형', '전방 안개등': '벌브형', '주간 주행등': '벌브형'...  "
      ]
     },
     "execution_count": 22,
     "metadata": {},
     "output_type": "execute_result"
    }
   ],
   "source": [
    "car_detail.head(3)"
   ]
  },
  {
   "cell_type": "code",
   "execution_count": 36,
   "metadata": {},
   "outputs": [],
   "source": [
    "# car_detail.reset_index(drop=True,inplace=True)"
   ]
  },
  {
   "cell_type": "code",
   "execution_count": 37,
   "metadata": {},
   "outputs": [
    {
     "name": "stdout",
     "output_type": "stream",
     "text": [
      "<class 'pandas.core.frame.DataFrame'>\n",
      "RangeIndex: 6680 entries, 0 to 6679\n",
      "Data columns (total 8 columns):\n",
      "model       6680 non-null object\n",
      "lu_cd       6680 non-null object\n",
      "lu_nm       6680 non-null object\n",
      "trim        6680 non-null object\n",
      "trim_idx    6680 non-null int32\n",
      "price       6680 non-null int64\n",
      "specs       6680 non-null object\n",
      "opt         6680 non-null object\n",
      "dtypes: int32(1), int64(1), object(6)\n",
      "memory usage: 391.5+ KB\n"
     ]
    }
   ],
   "source": [
    "car_detail.info()"
   ]
  },
  {
   "cell_type": "code",
   "execution_count": 38,
   "metadata": {},
   "outputs": [],
   "source": [
    "os.chdir('./data')\n",
    "car_detail.to_excel('car_detail_all_raw.xlsx',encoding='utf-8')"
   ]
  },
  {
   "cell_type": "code",
   "execution_count": null,
   "metadata": {},
   "outputs": [],
   "source": []
  }
 ],
 "metadata": {
  "kernelspec": {
   "display_name": "Python 3",
   "language": "python",
   "name": "python3"
  },
  "language_info": {
   "codemirror_mode": {
    "name": "ipython",
    "version": 3
   },
   "file_extension": ".py",
   "mimetype": "text/x-python",
   "name": "python",
   "nbconvert_exporter": "python",
   "pygments_lexer": "ipython3",
   "version": "3.7.1"
  }
 },
 "nbformat": 4,
 "nbformat_minor": 2
}
