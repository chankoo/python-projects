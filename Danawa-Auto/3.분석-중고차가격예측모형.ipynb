{
 "cells": [
  {
   "cell_type": "code",
   "execution_count": 1,
   "metadata": {},
   "outputs": [],
   "source": [
    "import json,os,glob\n",
    "import pandas as pd\n",
    "import numpy as np\n",
    "import matplotlib.pyplot as plt\n",
    "%matplotlib inline\n",
    "from math import log\n",
    "\n",
    "import seaborn as sns \n",
    "import statsmodels.formula.api as sm\n",
    "\n",
    "from sklearn.model_selection import train_test_split\n",
    "from sklearn.linear_model import ElasticNet,ElasticNetCV,Lasso\n",
    "from sklearn.metrics import r2_score\n",
    "from sklearn.preprocessing import StandardScaler\n"
   ]
  },
  {
   "cell_type": "code",
   "execution_count": 3,
   "metadata": {},
   "outputs": [],
   "source": [
    "os.chdir('./data')"
   ]
  },
  {
   "cell_type": "code",
   "execution_count": 4,
   "metadata": {},
   "outputs": [],
   "source": [
    "used_df = pd.read_excel('used_car_map.xlsx')"
   ]
  },
  {
   "cell_type": "code",
   "execution_count": 5,
   "metadata": {},
   "outputs": [],
   "source": [
    "car_base = pd.read_excel('car_base.xlsx',encoding='utf-8')"
   ]
  },
  {
   "cell_type": "code",
   "execution_count": null,
   "metadata": {},
   "outputs": [],
   "source": []
  },
  {
   "cell_type": "code",
   "execution_count": 5,
   "metadata": {},
   "outputs": [],
   "source": [
    "# 모델 매핑 살아있는 데이터만 가져옴"
   ]
  },
  {
   "cell_type": "code",
   "execution_count": 6,
   "metadata": {},
   "outputs": [],
   "source": [
    "car_base.columns = pd.Index(['model_id', 'brand', 'seg', 'title', 'duration', 'price_range',\n",
    "       'recall_num'],\n",
    "      dtype='object')\n",
    "car_base = car_base[['model_id', 'brand', 'seg']]"
   ]
  },
  {
   "cell_type": "code",
   "execution_count": 7,
   "metadata": {},
   "outputs": [],
   "source": [
    "car_base.model_id = pd.to_numeric(car_base.model_id,downcast='integer').astype('str')"
   ]
  },
  {
   "cell_type": "code",
   "execution_count": 8,
   "metadata": {},
   "outputs": [],
   "source": [
    "used_df.model_id = pd.to_numeric(used_df.model_id,downcast='integer').astype('str')"
   ]
  },
  {
   "cell_type": "code",
   "execution_count": 9,
   "metadata": {},
   "outputs": [],
   "source": [
    "used_df = used_df.loc[used_df[used_df.model_id != 'nan'].index,:]"
   ]
  },
  {
   "cell_type": "code",
   "execution_count": 10,
   "metadata": {},
   "outputs": [],
   "source": [
    "used_df.model_id = pd.to_numeric(used_df.model_id,downcast='integer').astype('str')"
   ]
  },
  {
   "cell_type": "code",
   "execution_count": 11,
   "metadata": {},
   "outputs": [],
   "source": [
    "used_df = pd.merge(used_df,car_base,on='model_id') # model id로 merge"
   ]
  },
  {
   "cell_type": "code",
   "execution_count": null,
   "metadata": {},
   "outputs": [],
   "source": []
  },
  {
   "cell_type": "code",
   "execution_count": 12,
   "metadata": {},
   "outputs": [
    {
     "data": {
      "text/html": [
       "<div>\n",
       "<style scoped>\n",
       "    .dataframe tbody tr th:only-of-type {\n",
       "        vertical-align: middle;\n",
       "    }\n",
       "\n",
       "    .dataframe tbody tr th {\n",
       "        vertical-align: top;\n",
       "    }\n",
       "\n",
       "    .dataframe thead th {\n",
       "        text-align: right;\n",
       "    }\n",
       "</style>\n",
       "<table border=\"1\" class=\"dataframe\">\n",
       "  <thead>\n",
       "    <tr style=\"text-align: right;\">\n",
       "      <th></th>\n",
       "      <th>demoNo</th>\n",
       "      <th>title</th>\n",
       "      <th>sub_title</th>\n",
       "      <th>baegi</th>\n",
       "      <th>year_old</th>\n",
       "      <th>color</th>\n",
       "      <th>driven_dist</th>\n",
       "      <th>trans</th>\n",
       "      <th>fuel</th>\n",
       "      <th>mortgage</th>\n",
       "      <th>tax_to_pay</th>\n",
       "      <th>ch_purpose</th>\n",
       "      <th>ch_num</th>\n",
       "      <th>ch_owner</th>\n",
       "      <th>total_loss</th>\n",
       "    </tr>\n",
       "  </thead>\n",
       "  <tbody>\n",
       "    <tr>\n",
       "      <th>4638</th>\n",
       "      <td>8121500432</td>\n",
       "      <td>대형트럭(2.5톤이상) 마이티</td>\n",
       "      <td>e-마이티</td>\n",
       "      <td>3907.0</td>\n",
       "      <td>2012</td>\n",
       "      <td>흰색</td>\n",
       "      <td>470002</td>\n",
       "      <td>수동</td>\n",
       "      <td>경유</td>\n",
       "      <td>정보없음/정보없음</td>\n",
       "      <td>-</td>\n",
       "      <td>있음</td>\n",
       "      <td>2회</td>\n",
       "      <td>2회</td>\n",
       "      <td>0.0</td>\n",
       "    </tr>\n",
       "  </tbody>\n",
       "</table>\n",
       "</div>"
      ],
      "text/plain": [
       "          demoNo              title sub_title   baegi year_old color  \\\n",
       "4638  8121500432  대형트럭(2.5톤이상) 마이티      e-마이티  3907.0    2012     흰색   \n",
       "\n",
       "      driven_dist trans fuel   mortgage tax_to_pay ch_purpose ch_num ch_owner  \\\n",
       "4638       470002    수동   경유  정보없음/정보없음         -          있음     2회       2회   \n",
       "\n",
       "      total_loss  \n",
       "4638         0.0  "
      ]
     },
     "execution_count": 12,
     "metadata": {},
     "output_type": "execute_result"
    }
   ],
   "source": [
    "used_df.sample().iloc[:,:15]"
   ]
  },
  {
   "cell_type": "markdown",
   "metadata": {},
   "source": [
    "전처리"
   ]
  },
  {
   "cell_type": "code",
   "execution_count": 13,
   "metadata": {},
   "outputs": [],
   "source": [
    "used_df.drop(columns='theft',inplace=True)\n",
    "used_df.drop(columns='mortgage',inplace=True)\n",
    "used_df.drop(columns='tax_to_pay',inplace=True)\n",
    "used_df.drop(columns='total_flood',inplace=True)\n",
    "used_df.drop(columns='color',inplace=True)\n",
    "used_df.drop(columns='description',inplace=True)"
   ]
  },
  {
   "cell_type": "code",
   "execution_count": 14,
   "metadata": {},
   "outputs": [],
   "source": [
    "used_df.demoNo = used_df.demoNo.astype('str')\n",
    "used_df.total_loss = used_df.total_loss.astype('category')\n",
    "# used_df.total_flood = used_df.total_flood.astype('category')\n",
    "used_df.part_flood = used_df.part_flood.astype('category')\n",
    "used_df.model_id = used_df.model_id.astype('str')\n"
   ]
  },
  {
   "cell_type": "code",
   "execution_count": 15,
   "metadata": {},
   "outputs": [],
   "source": [
    "used_df.ch_num = used_df.ch_num.str.replace(r'[^\\d]','')\n",
    "used_df.ch_owner = used_df.ch_owner.str.replace(r'[^\\d]','')"
   ]
  },
  {
   "cell_type": "code",
   "execution_count": 16,
   "metadata": {},
   "outputs": [],
   "source": [
    "used_df.loc[used_df[used_df.ch_num==''].index,'ch_num'] = 0\n",
    "used_df.loc[used_df[used_df.ch_owner==''].index,'ch_owner'] = 0"
   ]
  },
  {
   "cell_type": "code",
   "execution_count": 17,
   "metadata": {},
   "outputs": [],
   "source": [
    "used_df.loc[used_df[used_df.ch_purpose == '없음'].index, 'ch_purpose'] = 0\n",
    "used_df.loc[used_df[used_df.ch_purpose == '있음'].index, 'ch_purpose'] = 1\n",
    "used_df.ch_purpose.fillna(0,inplace=True)\n",
    "used_df.ch_purpose = used_df.ch_purpose.astype('category')"
   ]
  },
  {
   "cell_type": "code",
   "execution_count": 18,
   "metadata": {},
   "outputs": [],
   "source": [
    "used_df.total_loss.fillna(0,inplace=True)\n",
    "used_df.total_loss = used_df.total_loss.astype('int32')\n",
    "used_df.part_flood.fillna(0,inplace=True)\n",
    "used_df.part_flood = used_df.part_flood.astype('int32')\n",
    "used_df.damaged.fillna(0,inplace=True)\n",
    "used_df.damaged = used_df.damaged.astype('int64')\n",
    "used_df.damaging.fillna(0,inplace=True)\n",
    "used_df.damaging = used_df.damaging.astype('int64')"
   ]
  },
  {
   "cell_type": "code",
   "execution_count": 19,
   "metadata": {},
   "outputs": [],
   "source": [
    "used_df.loc[used_df.fuel=='LPG겸용','fuel'] = 'LPG'\n",
    "used_df.loc[used_df.fuel=='휘발유+전기','fuel'] = '기타'\n",
    "used_df.loc[used_df.fuel=='전기(EV)','fuel'] = '기타'\n",
    "used_df.loc[used_df.fuel=='LPG+전기','fuel'] = '기타'"
   ]
  },
  {
   "cell_type": "code",
   "execution_count": 20,
   "metadata": {},
   "outputs": [],
   "source": [
    "used_df.loc[used_df.trans=='세미오토','trans'] = '기타'\n",
    "used_df.loc[used_df.trans=='무단변속기','trans'] = '자동'"
   ]
  },
  {
   "cell_type": "code",
   "execution_count": 21,
   "metadata": {},
   "outputs": [
    {
     "name": "stdout",
     "output_type": "stream",
     "text": [
      "<class 'pandas.core.frame.DataFrame'>\n",
      "Int64Index: 4994 entries, 0 to 4993\n",
      "Data columns (total 24 columns):\n",
      "demoNo         4994 non-null object\n",
      "title          4994 non-null object\n",
      "sub_title      4994 non-null object\n",
      "baegi          4981 non-null float64\n",
      "year_old       4994 non-null object\n",
      "driven_dist    4994 non-null int64\n",
      "trans          4994 non-null object\n",
      "fuel           4994 non-null object\n",
      "ch_purpose     4994 non-null category\n",
      "ch_num         4994 non-null object\n",
      "ch_owner       4994 non-null object\n",
      "total_loss     4994 non-null int32\n",
      "part_flood     4994 non-null int32\n",
      "damaged        4994 non-null int64\n",
      "damaging       4994 non-null int64\n",
      "opt_prefer     4994 non-null object\n",
      "opt_basic      4994 non-null object\n",
      "opt_safe       4994 non-null object\n",
      "opt_conven     4994 non-null object\n",
      "opt_etc        4994 non-null object\n",
      "price          4994 non-null int64\n",
      "model_id       4994 non-null object\n",
      "brand          4994 non-null object\n",
      "seg            4994 non-null object\n",
      "dtypes: category(1), float64(1), int32(2), int64(4), object(16)\n",
      "memory usage: 1.0+ MB\n"
     ]
    }
   ],
   "source": [
    "used_df.info()"
   ]
  },
  {
   "cell_type": "code",
   "execution_count": null,
   "metadata": {},
   "outputs": [],
   "source": []
  },
  {
   "cell_type": "markdown",
   "metadata": {},
   "source": [
    "옵션 데이터 처리"
   ]
  },
  {
   "cell_type": "code",
   "execution_count": 25,
   "metadata": {},
   "outputs": [],
   "source": [
    "tmp_opt = pd.concat((used_df[['demoNo']],used_df.iloc[:,15:20]),axis=1)"
   ]
  },
  {
   "cell_type": "code",
   "execution_count": 26,
   "metadata": {},
   "outputs": [],
   "source": [
    "tmp_opt.opt_prefer = pd.Series(map(eval,tmp_opt.opt_prefer))\n",
    "tmp_opt.opt_basic = pd.Series(map(eval,tmp_opt.opt_basic))\n",
    "tmp_opt.opt_safe = pd.Series(map(eval,tmp_opt.opt_safe))\n",
    "tmp_opt.opt_conven = pd.Series(map(eval,tmp_opt.opt_conven))\n",
    "tmp_opt.opt_etc = pd.Series(map(eval,tmp_opt.opt_etc))"
   ]
  },
  {
   "cell_type": "code",
   "execution_count": 27,
   "metadata": {},
   "outputs": [],
   "source": [
    "records = []\n",
    "for idx in range(len(tmp_opt)):\n",
    "    row = tmp_opt.iloc[idx,:]\n",
    "    \n",
    "    record = [row.demoNo,]+row.opt_prefer + row.opt_basic + row.opt_safe + row.opt_conven+row.opt_etc\n",
    "    records.append(record)\n",
    "\n",
    "    "
   ]
  },
  {
   "cell_type": "code",
   "execution_count": 28,
   "metadata": {},
   "outputs": [],
   "source": [
    "tmp_df = pd.DataFrame.from_records(records)"
   ]
  },
  {
   "cell_type": "code",
   "execution_count": 29,
   "metadata": {},
   "outputs": [],
   "source": [
    "tmp_df.columns =  pd.Index(['demoNo',\n",
    "       'navi_emb', 'rear_cam', 'sunroof', 'panoramic', 'button_start', 'blackbox',\n",
    "       'fourWD', 'ISG', 'auto_air', 'alloy_wheel', 'head_lamp', 'seat_leather',\n",
    "       'seat_power', 'seat_heat', 'seat_vent', 'MP3', 'airbag', 'airbag_suppot',\n",
    "       'airbag_side', 'airbag_curtain', 'ABS', 'TCS', 'ESP_VDC', 'TPMS',\n",
    "       'navi_mount', 'ECM', 'hi_pass', 'rear_sensor', 'forward_sensor', 'CC',\n",
    "       'EPB', 'SPAS', 'steering_heat', 'TV_back', 'sliding_door', 'trunk_power',\n",
    "       'side_step', 'HUD', 'LDWS', 'BSD'],\n",
    "      dtype='object')"
   ]
  },
  {
   "cell_type": "code",
   "execution_count": 30,
   "metadata": {},
   "outputs": [],
   "source": [
    "used_df.drop(columns='opt_prefer',inplace=True)\n",
    "used_df.drop(columns='opt_basic',inplace=True)\n",
    "used_df.drop(columns='opt_safe',inplace=True)\n",
    "used_df.drop(columns='opt_conven',inplace=True)\n",
    "used_df.drop(columns='opt_etc',inplace=True)"
   ]
  },
  {
   "cell_type": "code",
   "execution_count": 31,
   "metadata": {},
   "outputs": [],
   "source": [
    "used_df = pd.merge(used_df,tmp_df,on='demoNo')"
   ]
  },
  {
   "cell_type": "code",
   "execution_count": 32,
   "metadata": {},
   "outputs": [
    {
     "data": {
      "text/html": [
       "<div>\n",
       "<style scoped>\n",
       "    .dataframe tbody tr th:only-of-type {\n",
       "        vertical-align: middle;\n",
       "    }\n",
       "\n",
       "    .dataframe tbody tr th {\n",
       "        vertical-align: top;\n",
       "    }\n",
       "\n",
       "    .dataframe thead th {\n",
       "        text-align: right;\n",
       "    }\n",
       "</style>\n",
       "<table border=\"1\" class=\"dataframe\">\n",
       "  <thead>\n",
       "    <tr style=\"text-align: right;\">\n",
       "      <th></th>\n",
       "      <th>demoNo</th>\n",
       "      <th>title</th>\n",
       "      <th>sub_title</th>\n",
       "      <th>baegi</th>\n",
       "      <th>year_old</th>\n",
       "      <th>driven_dist</th>\n",
       "      <th>trans</th>\n",
       "      <th>fuel</th>\n",
       "      <th>ch_purpose</th>\n",
       "      <th>ch_num</th>\n",
       "      <th>ch_owner</th>\n",
       "      <th>total_loss</th>\n",
       "      <th>part_flood</th>\n",
       "      <th>damaged</th>\n",
       "      <th>damaging</th>\n",
       "      <th>price</th>\n",
       "      <th>model_id</th>\n",
       "    </tr>\n",
       "  </thead>\n",
       "  <tbody>\n",
       "    <tr>\n",
       "      <th>1606</th>\n",
       "      <td>8031002108</td>\n",
       "      <td>현대 쏘나타뉴라이즈 하이브리드</td>\n",
       "      <td>프리미엄</td>\n",
       "      <td>1999.0</td>\n",
       "      <td>2018</td>\n",
       "      <td>4634</td>\n",
       "      <td>자동</td>\n",
       "      <td>기타</td>\n",
       "      <td>0</td>\n",
       "      <td>0</td>\n",
       "      <td>2</td>\n",
       "      <td>0</td>\n",
       "      <td>0</td>\n",
       "      <td>0</td>\n",
       "      <td>0</td>\n",
       "      <td>3150</td>\n",
       "      <td>3482</td>\n",
       "    </tr>\n",
       "  </tbody>\n",
       "</table>\n",
       "</div>"
      ],
      "text/plain": [
       "          demoNo              title sub_title   baegi year_old  driven_dist  \\\n",
       "1606  8031002108  현대 쏘나타뉴라이즈 하이브리드       프리미엄  1999.0    2018          4634   \n",
       "\n",
       "     trans fuel ch_purpose ch_num ch_owner  total_loss  part_flood  damaged  \\\n",
       "1606    자동   기타          0      0        2           0           0        0   \n",
       "\n",
       "      damaging  price model_id  \n",
       "1606         0   3150     3482  "
      ]
     },
     "execution_count": 32,
     "metadata": {},
     "output_type": "execute_result"
    }
   ],
   "source": [
    "used_df.sample().iloc[:,:17]"
   ]
  },
  {
   "cell_type": "code",
   "execution_count": 33,
   "metadata": {},
   "outputs": [
    {
     "data": {
      "text/html": [
       "<div>\n",
       "<style scoped>\n",
       "    .dataframe tbody tr th:only-of-type {\n",
       "        vertical-align: middle;\n",
       "    }\n",
       "\n",
       "    .dataframe tbody tr th {\n",
       "        vertical-align: top;\n",
       "    }\n",
       "\n",
       "    .dataframe thead th {\n",
       "        text-align: right;\n",
       "    }\n",
       "</style>\n",
       "<table border=\"1\" class=\"dataframe\">\n",
       "  <thead>\n",
       "    <tr style=\"text-align: right;\">\n",
       "      <th></th>\n",
       "      <th>brand</th>\n",
       "      <th>seg</th>\n",
       "      <th>navi_emb</th>\n",
       "      <th>rear_cam</th>\n",
       "      <th>sunroof</th>\n",
       "      <th>panoramic</th>\n",
       "      <th>button_start</th>\n",
       "      <th>blackbox</th>\n",
       "      <th>fourWD</th>\n",
       "      <th>ISG</th>\n",
       "      <th>...</th>\n",
       "      <th>EPB</th>\n",
       "      <th>SPAS</th>\n",
       "      <th>steering_heat</th>\n",
       "      <th>TV_back</th>\n",
       "      <th>sliding_door</th>\n",
       "      <th>trunk_power</th>\n",
       "      <th>side_step</th>\n",
       "      <th>HUD</th>\n",
       "      <th>LDWS</th>\n",
       "      <th>BSD</th>\n",
       "    </tr>\n",
       "  </thead>\n",
       "  <tbody>\n",
       "    <tr>\n",
       "      <th>153</th>\n",
       "      <td>현대</td>\n",
       "      <td>중형</td>\n",
       "      <td>0</td>\n",
       "      <td>0</td>\n",
       "      <td>0</td>\n",
       "      <td>0</td>\n",
       "      <td>0</td>\n",
       "      <td>0</td>\n",
       "      <td>0</td>\n",
       "      <td>0</td>\n",
       "      <td>...</td>\n",
       "      <td>0</td>\n",
       "      <td>0</td>\n",
       "      <td>0</td>\n",
       "      <td>0</td>\n",
       "      <td>0</td>\n",
       "      <td>0</td>\n",
       "      <td>0</td>\n",
       "      <td>0</td>\n",
       "      <td>0</td>\n",
       "      <td>0</td>\n",
       "    </tr>\n",
       "  </tbody>\n",
       "</table>\n",
       "<p>1 rows × 42 columns</p>\n",
       "</div>"
      ],
      "text/plain": [
       "    brand seg  navi_emb  rear_cam  sunroof  panoramic  button_start  blackbox  \\\n",
       "153    현대  중형         0         0        0          0             0         0   \n",
       "\n",
       "     fourWD  ISG ...   EPB  SPAS  steering_heat  TV_back  sliding_door  \\\n",
       "153       0    0 ...     0     0              0        0             0   \n",
       "\n",
       "     trunk_power  side_step  HUD  LDWS  BSD  \n",
       "153            0          0    0     0    0  \n",
       "\n",
       "[1 rows x 42 columns]"
      ]
     },
     "execution_count": 33,
     "metadata": {},
     "output_type": "execute_result"
    }
   ],
   "source": [
    "used_df.sample().iloc[:,17:]"
   ]
  },
  {
   "cell_type": "code",
   "execution_count": 34,
   "metadata": {},
   "outputs": [],
   "source": [
    "used_df.set_index('demoNo',inplace=True)"
   ]
  },
  {
   "cell_type": "code",
   "execution_count": 35,
   "metadata": {},
   "outputs": [],
   "source": [
    "used_df.year_old = used_df.year_old.str.replace(r'[^0-9]','')"
   ]
  },
  {
   "cell_type": "code",
   "execution_count": 36,
   "metadata": {},
   "outputs": [],
   "source": [
    "used_df.year_old = used_df.year_old.str[:4]"
   ]
  },
  {
   "cell_type": "code",
   "execution_count": 37,
   "metadata": {},
   "outputs": [],
   "source": [
    "used_df.loc[used_df.year_old == '111','year_old'] = ''"
   ]
  },
  {
   "cell_type": "code",
   "execution_count": 38,
   "metadata": {},
   "outputs": [],
   "source": [
    "used_df.loc[used_df.year_old == '','year_old'] = float('nan')"
   ]
  },
  {
   "cell_type": "code",
   "execution_count": 39,
   "metadata": {},
   "outputs": [],
   "source": [
    "used_df.year_old = used_df.year_old.astype('float32')"
   ]
  },
  {
   "cell_type": "code",
   "execution_count": 40,
   "metadata": {},
   "outputs": [],
   "source": [
    "# used_df.color = used_df.color.astype('category')\n",
    "used_df.trans = used_df.trans.astype('category')\n",
    "used_df.fuel = used_df.fuel.astype('category')\n",
    "used_df.ch_purpose = used_df.ch_purpose.astype('category')"
   ]
  },
  {
   "cell_type": "code",
   "execution_count": 41,
   "metadata": {},
   "outputs": [],
   "source": [
    "used_df.ch_num = used_df.ch_num.str.replace(r'[\\D]','')\n",
    "used_df.loc[used_df.ch_num=='','ch_num'] = 0\n",
    "used_df.ch_num.fillna(0,inplace=True)"
   ]
  },
  {
   "cell_type": "code",
   "execution_count": 42,
   "metadata": {},
   "outputs": [],
   "source": [
    "used_df.ch_num = used_df.ch_num.astype('int32')"
   ]
  },
  {
   "cell_type": "code",
   "execution_count": 43,
   "metadata": {},
   "outputs": [],
   "source": [
    "used_df.ch_owner = used_df.ch_owner.str.replace(r'[\\D]','')\n",
    "used_df.loc[used_df.ch_owner == '','ch_owner'] = 0\n",
    "used_df.ch_owner.fillna(0,inplace=True)"
   ]
  },
  {
   "cell_type": "code",
   "execution_count": 44,
   "metadata": {},
   "outputs": [],
   "source": [
    "used_df.ch_owner = used_df.ch_owner.astype('int32')"
   ]
  },
  {
   "cell_type": "code",
   "execution_count": 45,
   "metadata": {},
   "outputs": [],
   "source": [
    "used_df.iloc[:,16:] = used_df.iloc[:,16:].astype('category')"
   ]
  },
  {
   "cell_type": "code",
   "execution_count": 46,
   "metadata": {},
   "outputs": [
    {
     "name": "stdout",
     "output_type": "stream",
     "text": [
      "<class 'pandas.core.frame.DataFrame'>\n",
      "Index: 4994 entries, 8121501822 to 8121001200\n",
      "Data columns (total 58 columns):\n",
      "title             4994 non-null object\n",
      "sub_title         4994 non-null object\n",
      "baegi             4981 non-null float64\n",
      "year_old          4992 non-null float32\n",
      "driven_dist       4994 non-null int64\n",
      "trans             4994 non-null category\n",
      "fuel              4994 non-null category\n",
      "ch_purpose        4994 non-null category\n",
      "ch_num            4994 non-null int32\n",
      "ch_owner          4994 non-null int32\n",
      "total_loss        4994 non-null int32\n",
      "part_flood        4994 non-null int32\n",
      "damaged           4994 non-null int64\n",
      "damaging          4994 non-null int64\n",
      "price             4994 non-null int64\n",
      "model_id          4994 non-null object\n",
      "brand             4994 non-null category\n",
      "seg               4994 non-null category\n",
      "navi_emb          4994 non-null category\n",
      "rear_cam          4994 non-null category\n",
      "sunroof           4994 non-null category\n",
      "panoramic         4994 non-null category\n",
      "button_start      4994 non-null category\n",
      "blackbox          4994 non-null category\n",
      "fourWD            4994 non-null category\n",
      "ISG               4994 non-null category\n",
      "auto_air          4994 non-null category\n",
      "alloy_wheel       4994 non-null category\n",
      "head_lamp         4994 non-null category\n",
      "seat_leather      4994 non-null category\n",
      "seat_power        4994 non-null category\n",
      "seat_heat         4994 non-null category\n",
      "seat_vent         4994 non-null category\n",
      "MP3               4994 non-null category\n",
      "airbag            4994 non-null category\n",
      "airbag_suppot     4994 non-null category\n",
      "airbag_side       4994 non-null category\n",
      "airbag_curtain    4994 non-null category\n",
      "ABS               4994 non-null category\n",
      "TCS               4994 non-null category\n",
      "ESP_VDC           4994 non-null category\n",
      "TPMS              4994 non-null category\n",
      "navi_mount        4994 non-null category\n",
      "ECM               4994 non-null category\n",
      "hi_pass           4994 non-null category\n",
      "rear_sensor       4994 non-null category\n",
      "forward_sensor    4994 non-null category\n",
      "CC                4994 non-null category\n",
      "EPB               4994 non-null category\n",
      "SPAS              4994 non-null category\n",
      "steering_heat     4994 non-null category\n",
      "TV_back           4994 non-null category\n",
      "sliding_door      4994 non-null category\n",
      "trunk_power       4994 non-null category\n",
      "side_step         4994 non-null category\n",
      "HUD               4994 non-null category\n",
      "LDWS              4994 non-null category\n",
      "BSD               4994 non-null category\n",
      "dtypes: category(45), float32(1), float64(1), int32(4), int64(4), object(3)\n",
      "memory usage: 674.2+ KB\n"
     ]
    }
   ],
   "source": [
    "used_df.info()"
   ]
  },
  {
   "cell_type": "code",
   "execution_count": null,
   "metadata": {},
   "outputs": [],
   "source": []
  },
  {
   "cell_type": "code",
   "execution_count": 47,
   "metadata": {},
   "outputs": [
    {
     "data": {
      "text/html": [
       "<div>\n",
       "<style scoped>\n",
       "    .dataframe tbody tr th:only-of-type {\n",
       "        vertical-align: middle;\n",
       "    }\n",
       "\n",
       "    .dataframe tbody tr th {\n",
       "        vertical-align: top;\n",
       "    }\n",
       "\n",
       "    .dataframe thead th {\n",
       "        text-align: right;\n",
       "    }\n",
       "</style>\n",
       "<table border=\"1\" class=\"dataframe\">\n",
       "  <thead>\n",
       "    <tr style=\"text-align: right;\">\n",
       "      <th></th>\n",
       "      <th>seg</th>\n",
       "      <th>brand</th>\n",
       "      <th>trans</th>\n",
       "      <th>fuel</th>\n",
       "    </tr>\n",
       "  </thead>\n",
       "  <tbody>\n",
       "    <tr>\n",
       "      <th>count</th>\n",
       "      <td>4994</td>\n",
       "      <td>4994</td>\n",
       "      <td>4994</td>\n",
       "      <td>4994</td>\n",
       "    </tr>\n",
       "    <tr>\n",
       "      <th>unique</th>\n",
       "      <td>12</td>\n",
       "      <td>32</td>\n",
       "      <td>3</td>\n",
       "      <td>4</td>\n",
       "    </tr>\n",
       "    <tr>\n",
       "      <th>top</th>\n",
       "      <td>중형</td>\n",
       "      <td>현대</td>\n",
       "      <td>자동</td>\n",
       "      <td>경유</td>\n",
       "    </tr>\n",
       "    <tr>\n",
       "      <th>freq</th>\n",
       "      <td>889</td>\n",
       "      <td>1730</td>\n",
       "      <td>4672</td>\n",
       "      <td>2453</td>\n",
       "    </tr>\n",
       "  </tbody>\n",
       "</table>\n",
       "</div>"
      ],
      "text/plain": [
       "         seg brand trans  fuel\n",
       "count   4994  4994  4994  4994\n",
       "unique    12    32     3     4\n",
       "top       중형    현대    자동    경유\n",
       "freq     889  1730  4672  2453"
      ]
     },
     "execution_count": 47,
     "metadata": {},
     "output_type": "execute_result"
    }
   ],
   "source": [
    "used_df[['seg','brand','trans','fuel']].describe()"
   ]
  },
  {
   "cell_type": "code",
   "execution_count": 48,
   "metadata": {},
   "outputs": [
    {
     "data": {
      "text/plain": [
       "seg\n",
       "경차         622.717172\n",
       "박스카        909.303030\n",
       "준중형       1052.051753\n",
       "상용        1059.887043\n",
       "소형        1120.521277\n",
       "중형        1157.878515\n",
       "소형SUV     1487.282908\n",
       "RV/MPV    1560.102639\n",
       "중형SUV     1715.503386\n",
       "준대형       1956.650456\n",
       "대형SUV     2353.920455\n",
       "대형        2463.847025\n",
       "Name: price, dtype: float64"
      ]
     },
     "execution_count": 48,
     "metadata": {},
     "output_type": "execute_result"
    }
   ],
   "source": [
    "used_df.groupby('seg').mean().price.sort_values()"
   ]
  },
  {
   "cell_type": "code",
   "execution_count": 49,
   "metadata": {},
   "outputs": [
    {
     "data": {
      "text/plain": [
       "brand\n",
       "닷지         445.000000\n",
       "미쓰비시       690.000000\n",
       "쉐보레        907.348442\n",
       "르노삼성       953.113043\n",
       "스바루       1030.000000\n",
       "푸조        1095.862069\n",
       "혼다        1104.058824\n",
       "닛산        1158.695652\n",
       "현대        1295.600578\n",
       "볼보        1296.250000\n",
       "기아        1300.443243\n",
       "쌍용        1302.077295\n",
       "폭스바겐      1370.000000\n",
       "크라이슬러     1406.000000\n",
       "피아트       1440.000000\n",
       "인피니티      1517.107143\n",
       "링컨        1530.000000\n",
       "시트로엥      1580.000000\n",
       "토요타       1755.000000\n",
       "미니        1815.769231\n",
       "포드        1860.476190\n",
       "렉서스       1940.000000\n",
       "BMW       2370.854271\n",
       "지프        2484.074074\n",
       "아우디       2618.400000\n",
       "캐딜락       2663.076923\n",
       "재규어       2869.214286\n",
       "벤츠        3036.648352\n",
       "랜드로버      3824.000000\n",
       "제네시스      4656.774194\n",
       "포르쉐       5076.666667\n",
       "벤틀리      16500.000000\n",
       "Name: price, dtype: float64"
      ]
     },
     "execution_count": 49,
     "metadata": {},
     "output_type": "execute_result"
    }
   ],
   "source": [
    "used_df.groupby('brand').mean().price.sort_values()"
   ]
  },
  {
   "cell_type": "code",
   "execution_count": 50,
   "metadata": {},
   "outputs": [],
   "source": [
    "used_df.brand = used_df.brand.astype('str')"
   ]
  },
  {
   "cell_type": "code",
   "execution_count": 51,
   "metadata": {},
   "outputs": [],
   "source": [
    "used_df.loc[used_df.brand=='기타','brand'] = '기타1'\n",
    "used_df.loc[used_df.brand=='닷지','brand'] = '기타1'\n",
    "used_df.loc[used_df.brand=='미쓰비시','brand'] = '기타1'\n",
    "used_df.loc[used_df.brand=='스바루','brand'] = '기타1'\n",
    "used_df.loc[used_df.brand=='푸조','brand'] = '기타1'\n",
    "used_df.loc[used_df.brand=='혼다','brand'] = '기타1'\n",
    "used_df.loc[used_df.brand=='닛산','brand'] = '기타1'\n",
    "used_df.loc[used_df.brand=='볼보','brand'] = '기타1'"
   ]
  },
  {
   "cell_type": "code",
   "execution_count": 52,
   "metadata": {},
   "outputs": [],
   "source": [
    "used_df.loc[used_df.brand=='인피니티','brand'] = '기타2'\n",
    "used_df.loc[used_df.brand=='지프','brand'] = '기타2'\n",
    "used_df.loc[used_df.brand=='미니','brand'] = '기타2'\n",
    "used_df.loc[used_df.brand=='인피니티','brand'] = '기타2'\n",
    "used_df.loc[used_df.brand=='포드','brand'] = '기타2'\n",
    "used_df.loc[used_df.brand=='토요타','brand'] = '기타2'\n",
    "used_df.loc[used_df.brand=='렉서스','brand'] = '기타2'\n",
    "used_df.loc[used_df.brand=='재규어','brand'] = '기타2'\n",
    "used_df.loc[used_df.brand=='링컨','brand'] = '기타2'\n",
    "used_df.loc[used_df.brand=='캐딜락','brand'] = '기타2'\n",
    "used_df.loc[used_df.brand=='크라이슬러','brand'] = '기타2'\n",
    "used_df.loc[used_df.brand=='랜드로버','brand'] = '기타2'\n",
    "used_df.loc[used_df.brand=='인피니티','brand'] = '기타2'\n",
    "used_df.loc[used_df.brand=='시트로엥','brand'] = '기타2'\n",
    "used_df.loc[used_df.brand=='포르쉐','brand'] = '기타2'\n",
    "used_df.loc[used_df.brand=='피아트','brand'] = '기타2'\n",
    "used_df.loc[used_df.brand=='벤틀리','brand'] = '기타2'"
   ]
  },
  {
   "cell_type": "code",
   "execution_count": 53,
   "metadata": {},
   "outputs": [
    {
     "data": {
      "text/plain": [
       "현대      1730\n",
       "기아      1480\n",
       "쉐보레      353\n",
       "르노삼성     230\n",
       "기타2      213\n",
       "쌍용       207\n",
       "BMW      199\n",
       "벤츠       182\n",
       "폭스바겐     151\n",
       "아우디      125\n",
       "기타1       93\n",
       "제네시스      31\n",
       "Name: brand, dtype: int64"
      ]
     },
     "execution_count": 53,
     "metadata": {},
     "output_type": "execute_result"
    }
   ],
   "source": [
    "used_df.brand.value_counts().sort_values(ascending=False)"
   ]
  },
  {
   "cell_type": "code",
   "execution_count": 54,
   "metadata": {},
   "outputs": [],
   "source": [
    "used_df.brand = used_df.brand.astype('category')"
   ]
  },
  {
   "cell_type": "code",
   "execution_count": 55,
   "metadata": {},
   "outputs": [
    {
     "data": {
      "text/plain": [
       "trans\n",
       "수동     776.661184\n",
       "기타    1486.111111\n",
       "자동    1493.045163\n",
       "Name: price, dtype: float64"
      ]
     },
     "execution_count": 55,
     "metadata": {},
     "output_type": "execute_result"
    }
   ],
   "source": [
    "used_df.groupby('trans').mean().price.sort_values()"
   ]
  },
  {
   "cell_type": "code",
   "execution_count": 56,
   "metadata": {},
   "outputs": [
    {
     "data": {
      "text/plain": [
       "fuel\n",
       "LPG     828.501199\n",
       "휘발유    1385.779144\n",
       "경유     1594.973094\n",
       "기타     1792.516484\n",
       "Name: price, dtype: float64"
      ]
     },
     "execution_count": 56,
     "metadata": {},
     "output_type": "execute_result"
    }
   ],
   "source": [
    "used_df.groupby('fuel').mean().price.sort_values()"
   ]
  },
  {
   "cell_type": "code",
   "execution_count": 56,
   "metadata": {},
   "outputs": [],
   "source": [
    "# used_df.to_excel('used_df_190218.xlsx',encoding='utf-8')"
   ]
  },
  {
   "cell_type": "markdown",
   "metadata": {},
   "source": [
    "명목변수 one hot encoding"
   ]
  },
  {
   "cell_type": "code",
   "execution_count": 57,
   "metadata": {},
   "outputs": [],
   "source": [
    "used_df2 = pd.get_dummies(used_df,columns=['brand','trans','fuel']) "
   ]
  },
  {
   "cell_type": "code",
   "execution_count": 58,
   "metadata": {},
   "outputs": [
    {
     "name": "stdout",
     "output_type": "stream",
     "text": [
      "<class 'pandas.core.frame.DataFrame'>\n",
      "Index: 4994 entries, 8121501822 to 8121001200\n",
      "Data columns (total 74 columns):\n",
      "title             4994 non-null object\n",
      "sub_title         4994 non-null object\n",
      "baegi             4981 non-null float64\n",
      "year_old          4992 non-null float32\n",
      "driven_dist       4994 non-null int64\n",
      "ch_purpose        4994 non-null category\n",
      "ch_num            4994 non-null int32\n",
      "ch_owner          4994 non-null int32\n",
      "total_loss        4994 non-null int32\n",
      "part_flood        4994 non-null int32\n",
      "damaged           4994 non-null int64\n",
      "damaging          4994 non-null int64\n",
      "price             4994 non-null int64\n",
      "model_id          4994 non-null object\n",
      "seg               4994 non-null category\n",
      "navi_emb          4994 non-null category\n",
      "rear_cam          4994 non-null category\n",
      "sunroof           4994 non-null category\n",
      "panoramic         4994 non-null category\n",
      "button_start      4994 non-null category\n",
      "blackbox          4994 non-null category\n",
      "fourWD            4994 non-null category\n",
      "ISG               4994 non-null category\n",
      "auto_air          4994 non-null category\n",
      "alloy_wheel       4994 non-null category\n",
      "head_lamp         4994 non-null category\n",
      "seat_leather      4994 non-null category\n",
      "seat_power        4994 non-null category\n",
      "seat_heat         4994 non-null category\n",
      "seat_vent         4994 non-null category\n",
      "MP3               4994 non-null category\n",
      "airbag            4994 non-null category\n",
      "airbag_suppot     4994 non-null category\n",
      "airbag_side       4994 non-null category\n",
      "airbag_curtain    4994 non-null category\n",
      "ABS               4994 non-null category\n",
      "TCS               4994 non-null category\n",
      "ESP_VDC           4994 non-null category\n",
      "TPMS              4994 non-null category\n",
      "navi_mount        4994 non-null category\n",
      "ECM               4994 non-null category\n",
      "hi_pass           4994 non-null category\n",
      "rear_sensor       4994 non-null category\n",
      "forward_sensor    4994 non-null category\n",
      "CC                4994 non-null category\n",
      "EPB               4994 non-null category\n",
      "SPAS              4994 non-null category\n",
      "steering_heat     4994 non-null category\n",
      "TV_back           4994 non-null category\n",
      "sliding_door      4994 non-null category\n",
      "trunk_power       4994 non-null category\n",
      "side_step         4994 non-null category\n",
      "HUD               4994 non-null category\n",
      "LDWS              4994 non-null category\n",
      "BSD               4994 non-null category\n",
      "brand_BMW         4994 non-null uint8\n",
      "brand_기아          4994 non-null uint8\n",
      "brand_기타1         4994 non-null uint8\n",
      "brand_기타2         4994 non-null uint8\n",
      "brand_르노삼성        4994 non-null uint8\n",
      "brand_벤츠          4994 non-null uint8\n",
      "brand_쉐보레         4994 non-null uint8\n",
      "brand_쌍용          4994 non-null uint8\n",
      "brand_아우디         4994 non-null uint8\n",
      "brand_제네시스        4994 non-null uint8\n",
      "brand_폭스바겐        4994 non-null uint8\n",
      "brand_현대          4994 non-null uint8\n",
      "trans_기타          4994 non-null uint8\n",
      "trans_수동          4994 non-null uint8\n",
      "trans_자동          4994 non-null uint8\n",
      "fuel_LPG          4994 non-null uint8\n",
      "fuel_경유           4994 non-null uint8\n",
      "fuel_기타           4994 non-null uint8\n",
      "fuel_휘발유          4994 non-null uint8\n",
      "dtypes: category(42), float32(1), float64(1), int32(4), int64(4), object(3), uint8(19)\n",
      "memory usage: 750.4+ KB\n"
     ]
    }
   ],
   "source": [
    "used_df2.info()"
   ]
  },
  {
   "cell_type": "code",
   "execution_count": null,
   "metadata": {},
   "outputs": [],
   "source": []
  },
  {
   "cell_type": "code",
   "execution_count": 59,
   "metadata": {},
   "outputs": [],
   "source": [
    "model_seg = pd.read_excel('RU2_seg_detail.xlsx',encoding='utf-8') # 세부 세그먼트 라벨링된 데이터 불러오기"
   ]
  },
  {
   "cell_type": "code",
   "execution_count": 60,
   "metadata": {},
   "outputs": [],
   "source": [
    "model_seg.model = model_seg.model.astype('str')"
   ]
  },
  {
   "cell_type": "code",
   "execution_count": 61,
   "metadata": {},
   "outputs": [],
   "source": [
    "model_seg.columns = pd.Index(['model_id', 'brand', 'seg', 'title', 'lenth', 'width', 'height',\n",
    "       'wheel_base', 'mid_p', 'predict'],\n",
    "      dtype='object')"
   ]
  },
  {
   "cell_type": "code",
   "execution_count": 62,
   "metadata": {},
   "outputs": [],
   "source": [
    "# 소형만\n",
    "used_ru2 = pd.merge(used_df2[used_df2.seg=='소형SUV'], model_seg, on='model_id').drop(columns=['brand','seg_y','title_y','lenth','width','height','wheel_base','mid_p'])\n",
    "used_ru2.predict = used_ru2.predict.astype('str')"
   ]
  },
  {
   "cell_type": "code",
   "execution_count": 63,
   "metadata": {},
   "outputs": [],
   "source": [
    "# 차종전체"
   ]
  },
  {
   "cell_type": "code",
   "execution_count": 64,
   "metadata": {},
   "outputs": [],
   "source": [
    "used_df = used_ru2"
   ]
  },
  {
   "cell_type": "code",
   "execution_count": null,
   "metadata": {},
   "outputs": [],
   "source": []
  },
  {
   "cell_type": "markdown",
   "metadata": {},
   "source": [
    "EDA"
   ]
  },
  {
   "cell_type": "code",
   "execution_count": 65,
   "metadata": {},
   "outputs": [
    {
     "data": {
      "text/html": [
       "<div>\n",
       "<style scoped>\n",
       "    .dataframe tbody tr th:only-of-type {\n",
       "        vertical-align: middle;\n",
       "    }\n",
       "\n",
       "    .dataframe tbody tr th {\n",
       "        vertical-align: top;\n",
       "    }\n",
       "\n",
       "    .dataframe thead th {\n",
       "        text-align: right;\n",
       "    }\n",
       "</style>\n",
       "<table border=\"1\" class=\"dataframe\">\n",
       "  <thead>\n",
       "    <tr style=\"text-align: right;\">\n",
       "      <th></th>\n",
       "      <th>baegi</th>\n",
       "      <th>year_old</th>\n",
       "      <th>driven_dist</th>\n",
       "      <th>ch_num</th>\n",
       "      <th>ch_owner</th>\n",
       "      <th>total_loss</th>\n",
       "      <th>part_flood</th>\n",
       "      <th>damaged</th>\n",
       "      <th>damaging</th>\n",
       "      <th>price</th>\n",
       "      <th>...</th>\n",
       "      <th>brand_제네시스</th>\n",
       "      <th>brand_폭스바겐</th>\n",
       "      <th>brand_현대</th>\n",
       "      <th>trans_기타</th>\n",
       "      <th>trans_수동</th>\n",
       "      <th>trans_자동</th>\n",
       "      <th>fuel_LPG</th>\n",
       "      <th>fuel_경유</th>\n",
       "      <th>fuel_기타</th>\n",
       "      <th>fuel_휘발유</th>\n",
       "    </tr>\n",
       "  </thead>\n",
       "  <tbody>\n",
       "    <tr>\n",
       "      <th>count</th>\n",
       "      <td>506.000000</td>\n",
       "      <td>506.000000</td>\n",
       "      <td>506.000000</td>\n",
       "      <td>506.000000</td>\n",
       "      <td>506.000000</td>\n",
       "      <td>506.000000</td>\n",
       "      <td>506.000000</td>\n",
       "      <td>5.060000e+02</td>\n",
       "      <td>5.060000e+02</td>\n",
       "      <td>506.000000</td>\n",
       "      <td>...</td>\n",
       "      <td>506.0</td>\n",
       "      <td>506.000000</td>\n",
       "      <td>506.000000</td>\n",
       "      <td>506.0</td>\n",
       "      <td>506.000000</td>\n",
       "      <td>506.000000</td>\n",
       "      <td>506.0</td>\n",
       "      <td>506.000000</td>\n",
       "      <td>506.000000</td>\n",
       "      <td>506.000000</td>\n",
       "    </tr>\n",
       "    <tr>\n",
       "      <th>mean</th>\n",
       "      <td>1842.027668</td>\n",
       "      <td>2014.758911</td>\n",
       "      <td>76884.286561</td>\n",
       "      <td>0.258893</td>\n",
       "      <td>1.108696</td>\n",
       "      <td>0.011858</td>\n",
       "      <td>0.001976</td>\n",
       "      <td>1.717879e+06</td>\n",
       "      <td>6.875320e+05</td>\n",
       "      <td>1483.333992</td>\n",
       "      <td>...</td>\n",
       "      <td>0.0</td>\n",
       "      <td>0.059289</td>\n",
       "      <td>0.256917</td>\n",
       "      <td>0.0</td>\n",
       "      <td>0.001976</td>\n",
       "      <td>0.998024</td>\n",
       "      <td>0.0</td>\n",
       "      <td>0.816206</td>\n",
       "      <td>0.015810</td>\n",
       "      <td>0.167984</td>\n",
       "    </tr>\n",
       "    <tr>\n",
       "      <th>std</th>\n",
       "      <td>338.632479</td>\n",
       "      <td>2.296178</td>\n",
       "      <td>53123.424439</td>\n",
       "      <td>0.451806</td>\n",
       "      <td>1.350483</td>\n",
       "      <td>0.108353</td>\n",
       "      <td>0.044455</td>\n",
       "      <td>6.705212e+06</td>\n",
       "      <td>2.444426e+06</td>\n",
       "      <td>571.605761</td>\n",
       "      <td>...</td>\n",
       "      <td>0.0</td>\n",
       "      <td>0.236398</td>\n",
       "      <td>0.437366</td>\n",
       "      <td>0.0</td>\n",
       "      <td>0.044455</td>\n",
       "      <td>0.044455</td>\n",
       "      <td>0.0</td>\n",
       "      <td>0.387700</td>\n",
       "      <td>0.124864</td>\n",
       "      <td>0.374222</td>\n",
       "    </tr>\n",
       "    <tr>\n",
       "      <th>min</th>\n",
       "      <td>0.000000</td>\n",
       "      <td>2006.000000</td>\n",
       "      <td>20.000000</td>\n",
       "      <td>0.000000</td>\n",
       "      <td>0.000000</td>\n",
       "      <td>0.000000</td>\n",
       "      <td>0.000000</td>\n",
       "      <td>0.000000e+00</td>\n",
       "      <td>0.000000e+00</td>\n",
       "      <td>490.000000</td>\n",
       "      <td>...</td>\n",
       "      <td>0.0</td>\n",
       "      <td>0.000000</td>\n",
       "      <td>0.000000</td>\n",
       "      <td>0.0</td>\n",
       "      <td>0.000000</td>\n",
       "      <td>0.000000</td>\n",
       "      <td>0.0</td>\n",
       "      <td>0.000000</td>\n",
       "      <td>0.000000</td>\n",
       "      <td>0.000000</td>\n",
       "    </tr>\n",
       "    <tr>\n",
       "      <th>25%</th>\n",
       "      <td>1598.000000</td>\n",
       "      <td>2014.000000</td>\n",
       "      <td>32082.500000</td>\n",
       "      <td>0.000000</td>\n",
       "      <td>0.000000</td>\n",
       "      <td>0.000000</td>\n",
       "      <td>0.000000</td>\n",
       "      <td>0.000000e+00</td>\n",
       "      <td>0.000000e+00</td>\n",
       "      <td>1090.000000</td>\n",
       "      <td>...</td>\n",
       "      <td>0.0</td>\n",
       "      <td>0.000000</td>\n",
       "      <td>0.000000</td>\n",
       "      <td>0.0</td>\n",
       "      <td>0.000000</td>\n",
       "      <td>1.000000</td>\n",
       "      <td>0.0</td>\n",
       "      <td>1.000000</td>\n",
       "      <td>0.000000</td>\n",
       "      <td>0.000000</td>\n",
       "    </tr>\n",
       "    <tr>\n",
       "      <th>50%</th>\n",
       "      <td>1995.000000</td>\n",
       "      <td>2015.000000</td>\n",
       "      <td>70000.000000</td>\n",
       "      <td>0.000000</td>\n",
       "      <td>1.000000</td>\n",
       "      <td>0.000000</td>\n",
       "      <td>0.000000</td>\n",
       "      <td>0.000000e+00</td>\n",
       "      <td>0.000000e+00</td>\n",
       "      <td>1400.000000</td>\n",
       "      <td>...</td>\n",
       "      <td>0.0</td>\n",
       "      <td>0.000000</td>\n",
       "      <td>0.000000</td>\n",
       "      <td>0.0</td>\n",
       "      <td>0.000000</td>\n",
       "      <td>1.000000</td>\n",
       "      <td>0.0</td>\n",
       "      <td>1.000000</td>\n",
       "      <td>0.000000</td>\n",
       "      <td>0.000000</td>\n",
       "    </tr>\n",
       "    <tr>\n",
       "      <th>75%</th>\n",
       "      <td>1995.000000</td>\n",
       "      <td>2016.000000</td>\n",
       "      <td>108640.000000</td>\n",
       "      <td>1.000000</td>\n",
       "      <td>2.000000</td>\n",
       "      <td>0.000000</td>\n",
       "      <td>0.000000</td>\n",
       "      <td>1.147502e+06</td>\n",
       "      <td>4.827425e+05</td>\n",
       "      <td>1730.000000</td>\n",
       "      <td>...</td>\n",
       "      <td>0.0</td>\n",
       "      <td>0.000000</td>\n",
       "      <td>1.000000</td>\n",
       "      <td>0.0</td>\n",
       "      <td>0.000000</td>\n",
       "      <td>1.000000</td>\n",
       "      <td>0.0</td>\n",
       "      <td>1.000000</td>\n",
       "      <td>0.000000</td>\n",
       "      <td>0.000000</td>\n",
       "    </tr>\n",
       "    <tr>\n",
       "      <th>max</th>\n",
       "      <td>3604.000000</td>\n",
       "      <td>2019.000000</td>\n",
       "      <td>283591.000000</td>\n",
       "      <td>2.000000</td>\n",
       "      <td>10.000000</td>\n",
       "      <td>1.000000</td>\n",
       "      <td>1.000000</td>\n",
       "      <td>1.222210e+08</td>\n",
       "      <td>2.808662e+07</td>\n",
       "      <td>5200.000000</td>\n",
       "      <td>...</td>\n",
       "      <td>0.0</td>\n",
       "      <td>1.000000</td>\n",
       "      <td>1.000000</td>\n",
       "      <td>0.0</td>\n",
       "      <td>1.000000</td>\n",
       "      <td>1.000000</td>\n",
       "      <td>0.0</td>\n",
       "      <td>1.000000</td>\n",
       "      <td>1.000000</td>\n",
       "      <td>1.000000</td>\n",
       "    </tr>\n",
       "  </tbody>\n",
       "</table>\n",
       "<p>8 rows × 29 columns</p>\n",
       "</div>"
      ],
      "text/plain": [
       "             baegi     year_old    driven_dist      ch_num    ch_owner  \\\n",
       "count   506.000000   506.000000     506.000000  506.000000  506.000000   \n",
       "mean   1842.027668  2014.758911   76884.286561    0.258893    1.108696   \n",
       "std     338.632479     2.296178   53123.424439    0.451806    1.350483   \n",
       "min       0.000000  2006.000000      20.000000    0.000000    0.000000   \n",
       "25%    1598.000000  2014.000000   32082.500000    0.000000    0.000000   \n",
       "50%    1995.000000  2015.000000   70000.000000    0.000000    1.000000   \n",
       "75%    1995.000000  2016.000000  108640.000000    1.000000    2.000000   \n",
       "max    3604.000000  2019.000000  283591.000000    2.000000   10.000000   \n",
       "\n",
       "       total_loss  part_flood       damaged      damaging        price  \\\n",
       "count  506.000000  506.000000  5.060000e+02  5.060000e+02   506.000000   \n",
       "mean     0.011858    0.001976  1.717879e+06  6.875320e+05  1483.333992   \n",
       "std      0.108353    0.044455  6.705212e+06  2.444426e+06   571.605761   \n",
       "min      0.000000    0.000000  0.000000e+00  0.000000e+00   490.000000   \n",
       "25%      0.000000    0.000000  0.000000e+00  0.000000e+00  1090.000000   \n",
       "50%      0.000000    0.000000  0.000000e+00  0.000000e+00  1400.000000   \n",
       "75%      0.000000    0.000000  1.147502e+06  4.827425e+05  1730.000000   \n",
       "max      1.000000    1.000000  1.222210e+08  2.808662e+07  5200.000000   \n",
       "\n",
       "          ...      brand_제네시스  brand_폭스바겐    brand_현대  trans_기타    trans_수동  \\\n",
       "count     ...           506.0  506.000000  506.000000     506.0  506.000000   \n",
       "mean      ...             0.0    0.059289    0.256917       0.0    0.001976   \n",
       "std       ...             0.0    0.236398    0.437366       0.0    0.044455   \n",
       "min       ...             0.0    0.000000    0.000000       0.0    0.000000   \n",
       "25%       ...             0.0    0.000000    0.000000       0.0    0.000000   \n",
       "50%       ...             0.0    0.000000    0.000000       0.0    0.000000   \n",
       "75%       ...             0.0    0.000000    1.000000       0.0    0.000000   \n",
       "max       ...             0.0    1.000000    1.000000       0.0    1.000000   \n",
       "\n",
       "         trans_자동  fuel_LPG     fuel_경유     fuel_기타    fuel_휘발유  \n",
       "count  506.000000     506.0  506.000000  506.000000  506.000000  \n",
       "mean     0.998024       0.0    0.816206    0.015810    0.167984  \n",
       "std      0.044455       0.0    0.387700    0.124864    0.374222  \n",
       "min      0.000000       0.0    0.000000    0.000000    0.000000  \n",
       "25%      1.000000       0.0    1.000000    0.000000    0.000000  \n",
       "50%      1.000000       0.0    1.000000    0.000000    0.000000  \n",
       "75%      1.000000       0.0    1.000000    0.000000    0.000000  \n",
       "max      1.000000       0.0    1.000000    1.000000    1.000000  \n",
       "\n",
       "[8 rows x 29 columns]"
      ]
     },
     "execution_count": 65,
     "metadata": {},
     "output_type": "execute_result"
    }
   ],
   "source": [
    "used_df.describe()"
   ]
  },
  {
   "cell_type": "code",
   "execution_count": 66,
   "metadata": {},
   "outputs": [
    {
     "data": {
      "text/html": [
       "<div>\n",
       "<style scoped>\n",
       "    .dataframe tbody tr th:only-of-type {\n",
       "        vertical-align: middle;\n",
       "    }\n",
       "\n",
       "    .dataframe tbody tr th {\n",
       "        vertical-align: top;\n",
       "    }\n",
       "\n",
       "    .dataframe thead th {\n",
       "        text-align: right;\n",
       "    }\n",
       "</style>\n",
       "<table border=\"1\" class=\"dataframe\">\n",
       "  <thead>\n",
       "    <tr style=\"text-align: right;\">\n",
       "      <th></th>\n",
       "      <th>title_x</th>\n",
       "      <th>sub_title</th>\n",
       "      <th>model_id</th>\n",
       "      <th>predict</th>\n",
       "    </tr>\n",
       "  </thead>\n",
       "  <tbody>\n",
       "    <tr>\n",
       "      <th>count</th>\n",
       "      <td>506</td>\n",
       "      <td>506</td>\n",
       "      <td>506</td>\n",
       "      <td>506</td>\n",
       "    </tr>\n",
       "    <tr>\n",
       "      <th>unique</th>\n",
       "      <td>38</td>\n",
       "      <td>172</td>\n",
       "      <td>38</td>\n",
       "      <td>3</td>\n",
       "    </tr>\n",
       "    <tr>\n",
       "      <th>top</th>\n",
       "      <td>현대 올뉴투싼(TL)</td>\n",
       "      <td>디젤 2WD 프레스티지</td>\n",
       "      <td>3250</td>\n",
       "      <td>1</td>\n",
       "    </tr>\n",
       "    <tr>\n",
       "      <th>freq</th>\n",
       "      <td>61</td>\n",
       "      <td>15</td>\n",
       "      <td>61</td>\n",
       "      <td>358</td>\n",
       "    </tr>\n",
       "  </tbody>\n",
       "</table>\n",
       "</div>"
      ],
      "text/plain": [
       "             title_x     sub_title model_id predict\n",
       "count            506           506      506     506\n",
       "unique            38           172       38       3\n",
       "top     현대 올뉴투싼(TL)   디젤 2WD 프레스티지     3250       1\n",
       "freq              61            15       61     358"
      ]
     },
     "execution_count": 66,
     "metadata": {},
     "output_type": "execute_result"
    }
   ],
   "source": [
    "used_df.describe(include='object')"
   ]
  },
  {
   "cell_type": "code",
   "execution_count": 67,
   "metadata": {},
   "outputs": [
    {
     "data": {
      "text/plain": [
       "1    358\n",
       "0    131\n",
       "2     17\n",
       "Name: predict, dtype: int64"
      ]
     },
     "execution_count": 67,
     "metadata": {},
     "output_type": "execute_result"
    }
   ],
   "source": [
    "used_df.predict.value_counts()"
   ]
  },
  {
   "cell_type": "code",
   "execution_count": 68,
   "metadata": {},
   "outputs": [
    {
     "data": {
      "text/html": [
       "<div>\n",
       "<style scoped>\n",
       "    .dataframe tbody tr th:only-of-type {\n",
       "        vertical-align: middle;\n",
       "    }\n",
       "\n",
       "    .dataframe tbody tr th {\n",
       "        vertical-align: top;\n",
       "    }\n",
       "\n",
       "    .dataframe thead th {\n",
       "        text-align: right;\n",
       "    }\n",
       "</style>\n",
       "<table border=\"1\" class=\"dataframe\">\n",
       "  <thead>\n",
       "    <tr style=\"text-align: right;\">\n",
       "      <th></th>\n",
       "      <th>ch_purpose</th>\n",
       "      <th>seg_x</th>\n",
       "      <th>navi_emb</th>\n",
       "      <th>rear_cam</th>\n",
       "      <th>sunroof</th>\n",
       "      <th>panoramic</th>\n",
       "      <th>button_start</th>\n",
       "      <th>blackbox</th>\n",
       "      <th>fourWD</th>\n",
       "      <th>ISG</th>\n",
       "      <th>auto_air</th>\n",
       "      <th>alloy_wheel</th>\n",
       "      <th>head_lamp</th>\n",
       "      <th>seat_leather</th>\n",
       "      <th>seat_power</th>\n",
       "    </tr>\n",
       "  </thead>\n",
       "  <tbody>\n",
       "    <tr>\n",
       "      <th>count</th>\n",
       "      <td>358</td>\n",
       "      <td>358</td>\n",
       "      <td>358</td>\n",
       "      <td>358</td>\n",
       "      <td>358</td>\n",
       "      <td>358</td>\n",
       "      <td>358</td>\n",
       "      <td>358</td>\n",
       "      <td>358</td>\n",
       "      <td>358</td>\n",
       "      <td>358</td>\n",
       "      <td>358</td>\n",
       "      <td>358</td>\n",
       "      <td>358</td>\n",
       "      <td>358</td>\n",
       "    </tr>\n",
       "    <tr>\n",
       "      <th>unique</th>\n",
       "      <td>2</td>\n",
       "      <td>1</td>\n",
       "      <td>2</td>\n",
       "      <td>2</td>\n",
       "      <td>2</td>\n",
       "      <td>2</td>\n",
       "      <td>2</td>\n",
       "      <td>2</td>\n",
       "      <td>2</td>\n",
       "      <td>2</td>\n",
       "      <td>2</td>\n",
       "      <td>2</td>\n",
       "      <td>2</td>\n",
       "      <td>2</td>\n",
       "      <td>2</td>\n",
       "    </tr>\n",
       "    <tr>\n",
       "      <th>top</th>\n",
       "      <td>0</td>\n",
       "      <td>소형SUV</td>\n",
       "      <td>0</td>\n",
       "      <td>0</td>\n",
       "      <td>0</td>\n",
       "      <td>0</td>\n",
       "      <td>0</td>\n",
       "      <td>0</td>\n",
       "      <td>0</td>\n",
       "      <td>0</td>\n",
       "      <td>0</td>\n",
       "      <td>0</td>\n",
       "      <td>0</td>\n",
       "      <td>0</td>\n",
       "      <td>0</td>\n",
       "    </tr>\n",
       "    <tr>\n",
       "      <th>freq</th>\n",
       "      <td>261</td>\n",
       "      <td>358</td>\n",
       "      <td>182</td>\n",
       "      <td>192</td>\n",
       "      <td>339</td>\n",
       "      <td>267</td>\n",
       "      <td>191</td>\n",
       "      <td>257</td>\n",
       "      <td>316</td>\n",
       "      <td>326</td>\n",
       "      <td>216</td>\n",
       "      <td>189</td>\n",
       "      <td>290</td>\n",
       "      <td>192</td>\n",
       "      <td>269</td>\n",
       "    </tr>\n",
       "  </tbody>\n",
       "</table>\n",
       "</div>"
      ],
      "text/plain": [
       "        ch_purpose  seg_x  navi_emb  rear_cam  sunroof  panoramic  \\\n",
       "count          358    358       358       358      358        358   \n",
       "unique           2      1         2         2        2          2   \n",
       "top              0  소형SUV         0         0        0          0   \n",
       "freq           261    358       182       192      339        267   \n",
       "\n",
       "        button_start  blackbox  fourWD  ISG  auto_air  alloy_wheel  head_lamp  \\\n",
       "count            358       358     358  358       358          358        358   \n",
       "unique             2         2       2    2         2            2          2   \n",
       "top                0         0       0    0         0            0          0   \n",
       "freq             191       257     316  326       216          189        290   \n",
       "\n",
       "        seat_leather  seat_power  \n",
       "count            358         358  \n",
       "unique             2           2  \n",
       "top                0           0  \n",
       "freq             192         269  "
      ]
     },
     "execution_count": 68,
     "metadata": {},
     "output_type": "execute_result"
    }
   ],
   "source": [
    "used_df[used_df.predict == '1'].describe(include='category').iloc[:,:15]"
   ]
  },
  {
   "cell_type": "code",
   "execution_count": 69,
   "metadata": {},
   "outputs": [
    {
     "data": {
      "text/html": [
       "<div>\n",
       "<style scoped>\n",
       "    .dataframe tbody tr th:only-of-type {\n",
       "        vertical-align: middle;\n",
       "    }\n",
       "\n",
       "    .dataframe tbody tr th {\n",
       "        vertical-align: top;\n",
       "    }\n",
       "\n",
       "    .dataframe thead th {\n",
       "        text-align: right;\n",
       "    }\n",
       "</style>\n",
       "<table border=\"1\" class=\"dataframe\">\n",
       "  <thead>\n",
       "    <tr style=\"text-align: right;\">\n",
       "      <th></th>\n",
       "      <th>seat_heat</th>\n",
       "      <th>seat_vent</th>\n",
       "      <th>MP3</th>\n",
       "      <th>airbag</th>\n",
       "      <th>airbag_suppot</th>\n",
       "      <th>airbag_side</th>\n",
       "      <th>airbag_curtain</th>\n",
       "      <th>ABS</th>\n",
       "      <th>TCS</th>\n",
       "      <th>ESP_VDC</th>\n",
       "      <th>TPMS</th>\n",
       "      <th>navi_mount</th>\n",
       "      <th>ECM</th>\n",
       "      <th>hi_pass</th>\n",
       "      <th>rear_sensor</th>\n",
       "    </tr>\n",
       "  </thead>\n",
       "  <tbody>\n",
       "    <tr>\n",
       "      <th>count</th>\n",
       "      <td>358</td>\n",
       "      <td>358</td>\n",
       "      <td>358</td>\n",
       "      <td>358</td>\n",
       "      <td>358</td>\n",
       "      <td>358</td>\n",
       "      <td>358</td>\n",
       "      <td>358</td>\n",
       "      <td>358</td>\n",
       "      <td>358</td>\n",
       "      <td>358</td>\n",
       "      <td>358</td>\n",
       "      <td>358</td>\n",
       "      <td>358</td>\n",
       "      <td>358</td>\n",
       "    </tr>\n",
       "    <tr>\n",
       "      <th>unique</th>\n",
       "      <td>2</td>\n",
       "      <td>2</td>\n",
       "      <td>2</td>\n",
       "      <td>2</td>\n",
       "      <td>2</td>\n",
       "      <td>2</td>\n",
       "      <td>2</td>\n",
       "      <td>2</td>\n",
       "      <td>2</td>\n",
       "      <td>2</td>\n",
       "      <td>2</td>\n",
       "      <td>2</td>\n",
       "      <td>2</td>\n",
       "      <td>2</td>\n",
       "      <td>2</td>\n",
       "    </tr>\n",
       "    <tr>\n",
       "      <th>top</th>\n",
       "      <td>0</td>\n",
       "      <td>0</td>\n",
       "      <td>0</td>\n",
       "      <td>0</td>\n",
       "      <td>0</td>\n",
       "      <td>0</td>\n",
       "      <td>0</td>\n",
       "      <td>0</td>\n",
       "      <td>0</td>\n",
       "      <td>0</td>\n",
       "      <td>0</td>\n",
       "      <td>0</td>\n",
       "      <td>0</td>\n",
       "      <td>0</td>\n",
       "      <td>0</td>\n",
       "    </tr>\n",
       "    <tr>\n",
       "      <th>freq</th>\n",
       "      <td>187</td>\n",
       "      <td>285</td>\n",
       "      <td>214</td>\n",
       "      <td>186</td>\n",
       "      <td>188</td>\n",
       "      <td>222</td>\n",
       "      <td>242</td>\n",
       "      <td>196</td>\n",
       "      <td>258</td>\n",
       "      <td>262</td>\n",
       "      <td>265</td>\n",
       "      <td>345</td>\n",
       "      <td>248</td>\n",
       "      <td>261</td>\n",
       "      <td>211</td>\n",
       "    </tr>\n",
       "  </tbody>\n",
       "</table>\n",
       "</div>"
      ],
      "text/plain": [
       "        seat_heat  seat_vent  MP3  airbag  airbag_suppot  airbag_side  \\\n",
       "count         358        358  358     358            358          358   \n",
       "unique          2          2    2       2              2            2   \n",
       "top             0          0    0       0              0            0   \n",
       "freq          187        285  214     186            188          222   \n",
       "\n",
       "        airbag_curtain  ABS  TCS  ESP_VDC  TPMS  navi_mount  ECM  hi_pass  \\\n",
       "count              358  358  358      358   358         358  358      358   \n",
       "unique               2    2    2        2     2           2    2        2   \n",
       "top                  0    0    0        0     0           0    0        0   \n",
       "freq               242  196  258      262   265         345  248      261   \n",
       "\n",
       "        rear_sensor  \n",
       "count           358  \n",
       "unique            2  \n",
       "top               0  \n",
       "freq            211  "
      ]
     },
     "execution_count": 69,
     "metadata": {},
     "output_type": "execute_result"
    }
   ],
   "source": [
    "used_df[used_df.predict == '1'].describe(include='category').iloc[:,15:30]"
   ]
  },
  {
   "cell_type": "code",
   "execution_count": 70,
   "metadata": {},
   "outputs": [
    {
     "data": {
      "text/html": [
       "<div>\n",
       "<style scoped>\n",
       "    .dataframe tbody tr th:only-of-type {\n",
       "        vertical-align: middle;\n",
       "    }\n",
       "\n",
       "    .dataframe tbody tr th {\n",
       "        vertical-align: top;\n",
       "    }\n",
       "\n",
       "    .dataframe thead th {\n",
       "        text-align: right;\n",
       "    }\n",
       "</style>\n",
       "<table border=\"1\" class=\"dataframe\">\n",
       "  <thead>\n",
       "    <tr style=\"text-align: right;\">\n",
       "      <th></th>\n",
       "      <th>forward_sensor</th>\n",
       "      <th>CC</th>\n",
       "      <th>EPB</th>\n",
       "      <th>SPAS</th>\n",
       "      <th>steering_heat</th>\n",
       "      <th>TV_back</th>\n",
       "      <th>sliding_door</th>\n",
       "      <th>trunk_power</th>\n",
       "      <th>side_step</th>\n",
       "      <th>HUD</th>\n",
       "      <th>LDWS</th>\n",
       "      <th>BSD</th>\n",
       "    </tr>\n",
       "  </thead>\n",
       "  <tbody>\n",
       "    <tr>\n",
       "      <th>count</th>\n",
       "      <td>358</td>\n",
       "      <td>358</td>\n",
       "      <td>358</td>\n",
       "      <td>358</td>\n",
       "      <td>358</td>\n",
       "      <td>358</td>\n",
       "      <td>358</td>\n",
       "      <td>358</td>\n",
       "      <td>358</td>\n",
       "      <td>358</td>\n",
       "      <td>358</td>\n",
       "      <td>358</td>\n",
       "    </tr>\n",
       "    <tr>\n",
       "      <th>unique</th>\n",
       "      <td>2</td>\n",
       "      <td>2</td>\n",
       "      <td>2</td>\n",
       "      <td>2</td>\n",
       "      <td>2</td>\n",
       "      <td>2</td>\n",
       "      <td>2</td>\n",
       "      <td>2</td>\n",
       "      <td>2</td>\n",
       "      <td>2</td>\n",
       "      <td>2</td>\n",
       "      <td>2</td>\n",
       "    </tr>\n",
       "    <tr>\n",
       "      <th>top</th>\n",
       "      <td>0</td>\n",
       "      <td>0</td>\n",
       "      <td>0</td>\n",
       "      <td>0</td>\n",
       "      <td>0</td>\n",
       "      <td>0</td>\n",
       "      <td>0</td>\n",
       "      <td>0</td>\n",
       "      <td>0</td>\n",
       "      <td>0</td>\n",
       "      <td>0</td>\n",
       "      <td>0</td>\n",
       "    </tr>\n",
       "    <tr>\n",
       "      <th>freq</th>\n",
       "      <td>309</td>\n",
       "      <td>272</td>\n",
       "      <td>323</td>\n",
       "      <td>346</td>\n",
       "      <td>282</td>\n",
       "      <td>353</td>\n",
       "      <td>354</td>\n",
       "      <td>349</td>\n",
       "      <td>345</td>\n",
       "      <td>354</td>\n",
       "      <td>351</td>\n",
       "      <td>353</td>\n",
       "    </tr>\n",
       "  </tbody>\n",
       "</table>\n",
       "</div>"
      ],
      "text/plain": [
       "        forward_sensor   CC  EPB  SPAS  steering_heat  TV_back  sliding_door  \\\n",
       "count              358  358  358   358            358      358           358   \n",
       "unique               2    2    2     2              2        2             2   \n",
       "top                  0    0    0     0              0        0             0   \n",
       "freq               309  272  323   346            282      353           354   \n",
       "\n",
       "        trunk_power  side_step  HUD  LDWS  BSD  \n",
       "count           358        358  358   358  358  \n",
       "unique            2          2    2     2    2  \n",
       "top               0          0    0     0    0  \n",
       "freq            349        345  354   351  353  "
      ]
     },
     "execution_count": 70,
     "metadata": {},
     "output_type": "execute_result"
    }
   ],
   "source": [
    "used_df[used_df.predict == '1'].describe(include='category').iloc[:,30:]"
   ]
  },
  {
   "cell_type": "code",
   "execution_count": null,
   "metadata": {},
   "outputs": [],
   "source": []
  },
  {
   "cell_type": "code",
   "execution_count": 71,
   "metadata": {},
   "outputs": [
    {
     "data": {
      "text/html": [
       "<div>\n",
       "<style scoped>\n",
       "    .dataframe tbody tr th:only-of-type {\n",
       "        vertical-align: middle;\n",
       "    }\n",
       "\n",
       "    .dataframe tbody tr th {\n",
       "        vertical-align: top;\n",
       "    }\n",
       "\n",
       "    .dataframe thead th {\n",
       "        text-align: right;\n",
       "    }\n",
       "</style>\n",
       "<table border=\"1\" class=\"dataframe\">\n",
       "  <thead>\n",
       "    <tr style=\"text-align: right;\">\n",
       "      <th></th>\n",
       "      <th>ch_purpose</th>\n",
       "      <th>seg_x</th>\n",
       "      <th>navi_emb</th>\n",
       "      <th>rear_cam</th>\n",
       "      <th>sunroof</th>\n",
       "      <th>panoramic</th>\n",
       "      <th>button_start</th>\n",
       "      <th>blackbox</th>\n",
       "      <th>fourWD</th>\n",
       "      <th>ISG</th>\n",
       "      <th>auto_air</th>\n",
       "      <th>alloy_wheel</th>\n",
       "      <th>head_lamp</th>\n",
       "      <th>seat_leather</th>\n",
       "      <th>seat_power</th>\n",
       "    </tr>\n",
       "  </thead>\n",
       "  <tbody>\n",
       "    <tr>\n",
       "      <th>count</th>\n",
       "      <td>506</td>\n",
       "      <td>506</td>\n",
       "      <td>506</td>\n",
       "      <td>506</td>\n",
       "      <td>506</td>\n",
       "      <td>506</td>\n",
       "      <td>506</td>\n",
       "      <td>506</td>\n",
       "      <td>506</td>\n",
       "      <td>506</td>\n",
       "      <td>506</td>\n",
       "      <td>506</td>\n",
       "      <td>506</td>\n",
       "      <td>506</td>\n",
       "      <td>506</td>\n",
       "    </tr>\n",
       "    <tr>\n",
       "      <th>unique</th>\n",
       "      <td>2</td>\n",
       "      <td>1</td>\n",
       "      <td>2</td>\n",
       "      <td>2</td>\n",
       "      <td>2</td>\n",
       "      <td>2</td>\n",
       "      <td>2</td>\n",
       "      <td>2</td>\n",
       "      <td>2</td>\n",
       "      <td>2</td>\n",
       "      <td>2</td>\n",
       "      <td>2</td>\n",
       "      <td>2</td>\n",
       "      <td>2</td>\n",
       "      <td>2</td>\n",
       "    </tr>\n",
       "    <tr>\n",
       "      <th>top</th>\n",
       "      <td>0</td>\n",
       "      <td>소형SUV</td>\n",
       "      <td>0</td>\n",
       "      <td>0</td>\n",
       "      <td>0</td>\n",
       "      <td>0</td>\n",
       "      <td>0</td>\n",
       "      <td>0</td>\n",
       "      <td>0</td>\n",
       "      <td>0</td>\n",
       "      <td>0</td>\n",
       "      <td>0</td>\n",
       "      <td>0</td>\n",
       "      <td>0</td>\n",
       "      <td>0</td>\n",
       "    </tr>\n",
       "    <tr>\n",
       "      <th>freq</th>\n",
       "      <td>391</td>\n",
       "      <td>506</td>\n",
       "      <td>265</td>\n",
       "      <td>266</td>\n",
       "      <td>468</td>\n",
       "      <td>398</td>\n",
       "      <td>273</td>\n",
       "      <td>361</td>\n",
       "      <td>450</td>\n",
       "      <td>460</td>\n",
       "      <td>308</td>\n",
       "      <td>265</td>\n",
       "      <td>409</td>\n",
       "      <td>275</td>\n",
       "      <td>375</td>\n",
       "    </tr>\n",
       "  </tbody>\n",
       "</table>\n",
       "</div>"
      ],
      "text/plain": [
       "        ch_purpose  seg_x  navi_emb  rear_cam  sunroof  panoramic  \\\n",
       "count          506    506       506       506      506        506   \n",
       "unique           2      1         2         2        2          2   \n",
       "top              0  소형SUV         0         0        0          0   \n",
       "freq           391    506       265       266      468        398   \n",
       "\n",
       "        button_start  blackbox  fourWD  ISG  auto_air  alloy_wheel  head_lamp  \\\n",
       "count            506       506     506  506       506          506        506   \n",
       "unique             2         2       2    2         2            2          2   \n",
       "top                0         0       0    0         0            0          0   \n",
       "freq             273       361     450  460       308          265        409   \n",
       "\n",
       "        seat_leather  seat_power  \n",
       "count            506         506  \n",
       "unique             2           2  \n",
       "top                0           0  \n",
       "freq             275         375  "
      ]
     },
     "execution_count": 71,
     "metadata": {},
     "output_type": "execute_result"
    }
   ],
   "source": [
    "used_df.describe(include='category').iloc[:,:15]"
   ]
  },
  {
   "cell_type": "code",
   "execution_count": 72,
   "metadata": {},
   "outputs": [
    {
     "data": {
      "text/html": [
       "<div>\n",
       "<style scoped>\n",
       "    .dataframe tbody tr th:only-of-type {\n",
       "        vertical-align: middle;\n",
       "    }\n",
       "\n",
       "    .dataframe tbody tr th {\n",
       "        vertical-align: top;\n",
       "    }\n",
       "\n",
       "    .dataframe thead th {\n",
       "        text-align: right;\n",
       "    }\n",
       "</style>\n",
       "<table border=\"1\" class=\"dataframe\">\n",
       "  <thead>\n",
       "    <tr style=\"text-align: right;\">\n",
       "      <th></th>\n",
       "      <th>seat_heat</th>\n",
       "      <th>seat_vent</th>\n",
       "      <th>MP3</th>\n",
       "      <th>airbag</th>\n",
       "      <th>airbag_suppot</th>\n",
       "      <th>airbag_side</th>\n",
       "      <th>airbag_curtain</th>\n",
       "      <th>ABS</th>\n",
       "      <th>TCS</th>\n",
       "      <th>ESP_VDC</th>\n",
       "      <th>TPMS</th>\n",
       "      <th>navi_mount</th>\n",
       "      <th>ECM</th>\n",
       "      <th>hi_pass</th>\n",
       "      <th>rear_sensor</th>\n",
       "    </tr>\n",
       "  </thead>\n",
       "  <tbody>\n",
       "    <tr>\n",
       "      <th>count</th>\n",
       "      <td>506</td>\n",
       "      <td>506</td>\n",
       "      <td>506</td>\n",
       "      <td>506</td>\n",
       "      <td>506</td>\n",
       "      <td>506</td>\n",
       "      <td>506</td>\n",
       "      <td>506</td>\n",
       "      <td>506</td>\n",
       "      <td>506</td>\n",
       "      <td>506</td>\n",
       "      <td>506</td>\n",
       "      <td>506</td>\n",
       "      <td>506</td>\n",
       "      <td>506</td>\n",
       "    </tr>\n",
       "    <tr>\n",
       "      <th>unique</th>\n",
       "      <td>2</td>\n",
       "      <td>2</td>\n",
       "      <td>2</td>\n",
       "      <td>2</td>\n",
       "      <td>2</td>\n",
       "      <td>2</td>\n",
       "      <td>2</td>\n",
       "      <td>2</td>\n",
       "      <td>2</td>\n",
       "      <td>2</td>\n",
       "      <td>2</td>\n",
       "      <td>2</td>\n",
       "      <td>2</td>\n",
       "      <td>2</td>\n",
       "      <td>2</td>\n",
       "    </tr>\n",
       "    <tr>\n",
       "      <th>top</th>\n",
       "      <td>0</td>\n",
       "      <td>0</td>\n",
       "      <td>0</td>\n",
       "      <td>0</td>\n",
       "      <td>0</td>\n",
       "      <td>0</td>\n",
       "      <td>0</td>\n",
       "      <td>0</td>\n",
       "      <td>0</td>\n",
       "      <td>0</td>\n",
       "      <td>0</td>\n",
       "      <td>0</td>\n",
       "      <td>0</td>\n",
       "      <td>0</td>\n",
       "      <td>0</td>\n",
       "    </tr>\n",
       "    <tr>\n",
       "      <th>freq</th>\n",
       "      <td>263</td>\n",
       "      <td>407</td>\n",
       "      <td>312</td>\n",
       "      <td>263</td>\n",
       "      <td>268</td>\n",
       "      <td>312</td>\n",
       "      <td>340</td>\n",
       "      <td>279</td>\n",
       "      <td>373</td>\n",
       "      <td>371</td>\n",
       "      <td>368</td>\n",
       "      <td>488</td>\n",
       "      <td>343</td>\n",
       "      <td>363</td>\n",
       "      <td>300</td>\n",
       "    </tr>\n",
       "  </tbody>\n",
       "</table>\n",
       "</div>"
      ],
      "text/plain": [
       "        seat_heat  seat_vent  MP3  airbag  airbag_suppot  airbag_side  \\\n",
       "count         506        506  506     506            506          506   \n",
       "unique          2          2    2       2              2            2   \n",
       "top             0          0    0       0              0            0   \n",
       "freq          263        407  312     263            268          312   \n",
       "\n",
       "        airbag_curtain  ABS  TCS  ESP_VDC  TPMS  navi_mount  ECM  hi_pass  \\\n",
       "count              506  506  506      506   506         506  506      506   \n",
       "unique               2    2    2        2     2           2    2        2   \n",
       "top                  0    0    0        0     0           0    0        0   \n",
       "freq               340  279  373      371   368         488  343      363   \n",
       "\n",
       "        rear_sensor  \n",
       "count           506  \n",
       "unique            2  \n",
       "top               0  \n",
       "freq            300  "
      ]
     },
     "execution_count": 72,
     "metadata": {},
     "output_type": "execute_result"
    }
   ],
   "source": [
    "used_df.describe(include='category').iloc[:,15:30]"
   ]
  },
  {
   "cell_type": "code",
   "execution_count": 73,
   "metadata": {},
   "outputs": [
    {
     "data": {
      "text/html": [
       "<div>\n",
       "<style scoped>\n",
       "    .dataframe tbody tr th:only-of-type {\n",
       "        vertical-align: middle;\n",
       "    }\n",
       "\n",
       "    .dataframe tbody tr th {\n",
       "        vertical-align: top;\n",
       "    }\n",
       "\n",
       "    .dataframe thead th {\n",
       "        text-align: right;\n",
       "    }\n",
       "</style>\n",
       "<table border=\"1\" class=\"dataframe\">\n",
       "  <thead>\n",
       "    <tr style=\"text-align: right;\">\n",
       "      <th></th>\n",
       "      <th>forward_sensor</th>\n",
       "      <th>CC</th>\n",
       "      <th>EPB</th>\n",
       "      <th>SPAS</th>\n",
       "      <th>steering_heat</th>\n",
       "      <th>TV_back</th>\n",
       "      <th>sliding_door</th>\n",
       "      <th>trunk_power</th>\n",
       "      <th>side_step</th>\n",
       "      <th>HUD</th>\n",
       "      <th>LDWS</th>\n",
       "      <th>BSD</th>\n",
       "    </tr>\n",
       "  </thead>\n",
       "  <tbody>\n",
       "    <tr>\n",
       "      <th>count</th>\n",
       "      <td>506</td>\n",
       "      <td>506</td>\n",
       "      <td>506</td>\n",
       "      <td>506</td>\n",
       "      <td>506</td>\n",
       "      <td>506</td>\n",
       "      <td>506</td>\n",
       "      <td>506</td>\n",
       "      <td>506</td>\n",
       "      <td>506</td>\n",
       "      <td>506</td>\n",
       "      <td>506</td>\n",
       "    </tr>\n",
       "    <tr>\n",
       "      <th>unique</th>\n",
       "      <td>2</td>\n",
       "      <td>2</td>\n",
       "      <td>2</td>\n",
       "      <td>2</td>\n",
       "      <td>2</td>\n",
       "      <td>2</td>\n",
       "      <td>2</td>\n",
       "      <td>2</td>\n",
       "      <td>2</td>\n",
       "      <td>2</td>\n",
       "      <td>2</td>\n",
       "      <td>2</td>\n",
       "    </tr>\n",
       "    <tr>\n",
       "      <th>top</th>\n",
       "      <td>0</td>\n",
       "      <td>0</td>\n",
       "      <td>0</td>\n",
       "      <td>0</td>\n",
       "      <td>0</td>\n",
       "      <td>0</td>\n",
       "      <td>0</td>\n",
       "      <td>0</td>\n",
       "      <td>0</td>\n",
       "      <td>0</td>\n",
       "      <td>0</td>\n",
       "      <td>0</td>\n",
       "    </tr>\n",
       "    <tr>\n",
       "      <th>freq</th>\n",
       "      <td>433</td>\n",
       "      <td>375</td>\n",
       "      <td>463</td>\n",
       "      <td>491</td>\n",
       "      <td>400</td>\n",
       "      <td>499</td>\n",
       "      <td>500</td>\n",
       "      <td>493</td>\n",
       "      <td>490</td>\n",
       "      <td>494</td>\n",
       "      <td>489</td>\n",
       "      <td>488</td>\n",
       "    </tr>\n",
       "  </tbody>\n",
       "</table>\n",
       "</div>"
      ],
      "text/plain": [
       "        forward_sensor   CC  EPB  SPAS  steering_heat  TV_back  sliding_door  \\\n",
       "count              506  506  506   506            506      506           506   \n",
       "unique               2    2    2     2              2        2             2   \n",
       "top                  0    0    0     0              0        0             0   \n",
       "freq               433  375  463   491            400      499           500   \n",
       "\n",
       "        trunk_power  side_step  HUD  LDWS  BSD  \n",
       "count           506        506  506   506  506  \n",
       "unique            2          2    2     2    2  \n",
       "top               0          0    0     0    0  \n",
       "freq            493        490  494   489  488  "
      ]
     },
     "execution_count": 73,
     "metadata": {},
     "output_type": "execute_result"
    }
   ],
   "source": [
    "used_df.describe(include='category').iloc[:,30:]"
   ]
  },
  {
   "cell_type": "code",
   "execution_count": 74,
   "metadata": {},
   "outputs": [
    {
     "data": {
      "text/plain": [
       "<matplotlib.axes._subplots.AxesSubplot at 0x541aba8>"
      ]
     },
     "execution_count": 74,
     "metadata": {},
     "output_type": "execute_result"
    },
    {
     "data": {
      "image/png": "[encoded data removed]",
      "text/plain": [
       "<Figure size 432x288 with 1 Axes>"
      ]
     },
     "metadata": {
      "needs_background": "light"
     },
     "output_type": "display_data"
    }
   ],
   "source": [
    "used_df.price.plot.density()"
   ]
  },
  {
   "cell_type": "code",
   "execution_count": null,
   "metadata": {},
   "outputs": [],
   "source": []
  },
  {
   "cell_type": "code",
   "execution_count": null,
   "metadata": {},
   "outputs": [],
   "source": []
  },
  {
   "cell_type": "code",
   "execution_count": 75,
   "metadata": {},
   "outputs": [],
   "source": [
    "# numeric_lst = list(used_df.describe().columns)\n",
    "numeric_lst = ['baegi',\n",
    " 'year_old',\n",
    "#  'driven_dist',\n",
    " 'ch_num',\n",
    " 'ch_owner',\n",
    " 'total_loss',\n",
    " 'part_flood',\n",
    " 'price']"
   ]
  },
  {
   "cell_type": "code",
   "execution_count": 76,
   "metadata": {},
   "outputs": [],
   "source": [
    "numeric_big_lst = ['damaged',\n",
    " 'damaging']"
   ]
  },
  {
   "cell_type": "code",
   "execution_count": 77,
   "metadata": {},
   "outputs": [
    {
     "data": {
      "text/plain": [
       "<matplotlib.axes._subplots.AxesSubplot at 0x5523b70>"
      ]
     },
     "execution_count": 77,
     "metadata": {},
     "output_type": "execute_result"
    },
    {
     "data": {
      "image/png": "[encoded data removed]",
      "text/plain": [
       "<Figure size 576x576 with 1 Axes>"
      ]
     },
     "metadata": {
      "needs_background": "light"
     },
     "output_type": "display_data"
    }
   ],
   "source": [
    "plt.figure(figsize=(8,8))\n",
    "used_df.boxplot(column = numeric_big_lst)"
   ]
  },
  {
   "cell_type": "code",
   "execution_count": 78,
   "metadata": {},
   "outputs": [
    {
     "data": {
      "text/plain": [
       "count    5.060000e+02\n",
       "mean     1.717879e+06\n",
       "std      6.705212e+06\n",
       "min      0.000000e+00\n",
       "25%      0.000000e+00\n",
       "50%      0.000000e+00\n",
       "75%      1.147502e+06\n",
       "max      1.222210e+08\n",
       "Name: damaged, dtype: float64"
      ]
     },
     "execution_count": 78,
     "metadata": {},
     "output_type": "execute_result"
    }
   ],
   "source": [
    "used_df.damaged.describe()"
   ]
  },
  {
   "cell_type": "code",
   "execution_count": 79,
   "metadata": {},
   "outputs": [
    {
     "data": {
      "text/plain": [
       "<matplotlib.axes._subplots.AxesSubplot at 0x5448cc0>"
      ]
     },
     "execution_count": 79,
     "metadata": {},
     "output_type": "execute_result"
    },
    {
     "data": {
      "image/png": "[encoded data removed]",
      "text/plain": [
       "<Figure size 720x720 with 1 Axes>"
      ]
     },
     "metadata": {
      "needs_background": "light"
     },
     "output_type": "display_data"
    }
   ],
   "source": [
    "plt.figure(figsize=(10,10))\n",
    "used_df.boxplot(column = numeric_lst)"
   ]
  },
  {
   "cell_type": "code",
   "execution_count": 81,
   "metadata": {},
   "outputs": [
    {
     "data": {
      "text/plain": [
       "count       506.000000\n",
       "mean      76884.286561\n",
       "std       53123.424439\n",
       "min          20.000000\n",
       "25%       32082.500000\n",
       "50%       70000.000000\n",
       "75%      108640.000000\n",
       "max      283591.000000\n",
       "Name: driven_dist, dtype: float64"
      ]
     },
     "execution_count": 81,
     "metadata": {},
     "output_type": "execute_result"
    }
   ],
   "source": [
    "used_df.driven_dist.describe()"
   ]
  },
  {
   "cell_type": "code",
   "execution_count": null,
   "metadata": {},
   "outputs": [],
   "source": []
  },
  {
   "cell_type": "code",
   "execution_count": 180,
   "metadata": {},
   "outputs": [
    {
     "data": {
      "text/plain": [
       "<seaborn.axisgrid.PairGrid at 0x1c60b646b00>"
      ]
     },
     "execution_count": 180,
     "metadata": {},
     "output_type": "execute_result"
    },
    {
     "data": {
      "image/png": "[encoded data removed]",
      "text/plain": [
       "<matplotlib.figure.Figure at 0x1c60b646f98>"
      ]
     },
     "metadata": {},
     "output_type": "display_data"
    }
   ],
   "source": [
    "sns.pairplot(used_df,y_vars='price',x_vars=numeric_big_lst)#,height=10)"
   ]
  },
  {
   "cell_type": "code",
   "execution_count": 181,
   "metadata": {},
   "outputs": [
    {
     "data": {
      "text/plain": [
       "<seaborn.axisgrid.PairGrid at 0x1c60b6460f0>"
      ]
     },
     "execution_count": 181,
     "metadata": {},
     "output_type": "execute_result"
    },
    {
     "data": {
      "image/png": "[encoded data removed]",
      "text/plain": [
       "<matplotlib.figure.Figure at 0x1c60b646748>"
      ]
     },
     "metadata": {},
     "output_type": "display_data"
    }
   ],
   "source": [
    "sns.pairplot(used_df,y_vars='price',x_vars=numeric_lst[:2])#,height=10)"
   ]
  },
  {
   "cell_type": "code",
   "execution_count": 182,
   "metadata": {},
   "outputs": [
    {
     "data": {
      "text/plain": [
       "<seaborn.axisgrid.PairGrid at 0x1c60b5b1eb8>"
      ]
     },
     "execution_count": 182,
     "metadata": {},
     "output_type": "execute_result"
    },
    {
     "data": {
      "image/png": "[encoded data removed]",
      "text/plain": [
       "<matplotlib.figure.Figure at 0x1c60b5b1f60>"
      ]
     },
     "metadata": {},
     "output_type": "display_data"
    }
   ],
   "source": [
    "sns.pairplot(used_df,y_vars='price',x_vars=numeric_lst[2:4])#,height=10)"
   ]
  },
  {
   "cell_type": "code",
   "execution_count": 183,
   "metadata": {},
   "outputs": [
    {
     "data": {
      "text/plain": [
       "<seaborn.axisgrid.PairGrid at 0x1c60b5c7f28>"
      ]
     },
     "execution_count": 183,
     "metadata": {},
     "output_type": "execute_result"
    },
    {
     "data": {
      "image/png": "[encoded data removed]",
      "text/plain": [
       "<matplotlib.figure.Figure at 0x1c60b5c7f60>"
      ]
     },
     "metadata": {},
     "output_type": "display_data"
    }
   ],
   "source": [
    "sns.pairplot(used_df,y_vars='price',x_vars=numeric_lst[4:6])#,height=10)"
   ]
  },
  {
   "cell_type": "code",
   "execution_count": null,
   "metadata": {},
   "outputs": [],
   "source": []
  },
  {
   "cell_type": "code",
   "execution_count": 70,
   "metadata": {},
   "outputs": [],
   "source": [
    "opt_names = ['navi_emb', 'rear_cam', 'sunroof', 'panoramic', 'button_start',\n",
    "       'blackbox', 'fourWD', 'ISG', 'auto_air', 'alloy_wheel', 'head_lamp',\n",
    "       'seat_leather', 'seat_power', 'seat_heat', 'seat_vent', 'MP3', 'airbag',\n",
    "       'airbag_suppot', 'airbag_side', 'airbag_curtain', 'ABS', 'TCS',\n",
    "       'ESP_VDC', 'TPMS', 'navi_mount', 'ECM', 'hi_pass', 'rear_sensor',\n",
    "       'forward_sensor', 'CC', 'EPB', 'SPAS', 'steering_heat', 'TV_back',\n",
    "       'sliding_door', 'trunk_power', 'side_step', 'HUD', 'LDWS', 'BSD']"
   ]
  },
  {
   "cell_type": "code",
   "execution_count": 186,
   "metadata": {},
   "outputs": [
    {
     "data": {
      "text/plain": [
       "<seaborn.axisgrid.PairGrid at 0x1c60b666ac8>"
      ]
     },
     "execution_count": 186,
     "metadata": {},
     "output_type": "execute_result"
    },
    {
     "data": {
      "image/png": "[encoded data removed]",
      "text/plain": [
       "<matplotlib.figure.Figure at 0x1c60b6dc7b8>"
      ]
     },
     "metadata": {},
     "output_type": "display_data"
    }
   ],
   "source": [
    "sns.pairplot(used_df,y_vars='price',x_vars=opt_names[:4])#,height=5)"
   ]
  },
  {
   "cell_type": "code",
   "execution_count": 187,
   "metadata": {},
   "outputs": [
    {
     "data": {
      "text/plain": [
       "<seaborn.axisgrid.PairGrid at 0x1c60e5bab00>"
      ]
     },
     "execution_count": 187,
     "metadata": {},
     "output_type": "execute_result"
    },
    {
     "data": {
      "image/png": "[encoded data removed]",
      "text/plain": [
       "<matplotlib.figure.Figure at 0x1c60b5bdba8>"
      ]
     },
     "metadata": {},
     "output_type": "display_data"
    }
   ],
   "source": [
    "sns.pairplot(used_df,y_vars='price',x_vars=opt_names[4:8])"
   ]
  },
  {
   "cell_type": "code",
   "execution_count": 188,
   "metadata": {},
   "outputs": [
    {
     "data": {
      "text/plain": [
       "<seaborn.axisgrid.PairGrid at 0x1c60df2eda0>"
      ]
     },
     "execution_count": 188,
     "metadata": {},
     "output_type": "execute_result"
    },
    {
     "data": {
      "image/png": "[encoded data removed]",
      "text/plain": [
       "<matplotlib.figure.Figure at 0x1c60e6b4d30>"
      ]
     },
     "metadata": {},
     "output_type": "display_data"
    }
   ],
   "source": [
    "sns.pairplot(used_df,y_vars='price',x_vars=opt_names[8:12])"
   ]
  },
  {
   "cell_type": "code",
   "execution_count": 190,
   "metadata": {},
   "outputs": [
    {
     "data": {
      "text/plain": [
       "<seaborn.axisgrid.PairGrid at 0x1c60e778d30>"
      ]
     },
     "execution_count": 190,
     "metadata": {},
     "output_type": "execute_result"
    },
    {
     "data": {
      "image/png": "[encoded data removed]",
      "text/plain": [
       "<matplotlib.figure.Figure at 0x1c60e7e2160>"
      ]
     },
     "metadata": {},
     "output_type": "display_data"
    }
   ],
   "source": [
    "sns.pairplot(used_df,y_vars='price',x_vars=opt_names[12:16])"
   ]
  },
  {
   "cell_type": "code",
   "execution_count": 191,
   "metadata": {},
   "outputs": [
    {
     "data": {
      "text/plain": [
       "<seaborn.axisgrid.PairGrid at 0x1c60eaa0668>"
      ]
     },
     "execution_count": 191,
     "metadata": {},
     "output_type": "execute_result"
    },
    {
     "data": {
      "image/png": "[encoded data removed]",
      "text/plain": [
       "<matplotlib.figure.Figure at 0x1c60eaa0828>"
      ]
     },
     "metadata": {},
     "output_type": "display_data"
    }
   ],
   "source": [
    "sns.pairplot(used_df,y_vars='price',x_vars=opt_names[16:20])"
   ]
  },
  {
   "cell_type": "code",
   "execution_count": 192,
   "metadata": {},
   "outputs": [
    {
     "data": {
      "text/plain": [
       "<seaborn.axisgrid.PairGrid at 0x1c60e87ec18>"
      ]
     },
     "execution_count": 192,
     "metadata": {},
     "output_type": "execute_result"
    },
    {
     "data": {
      "image/png": "[encoded data removed]",
      "text/plain": [
       "<matplotlib.figure.Figure at 0x1c60eaa0f98>"
      ]
     },
     "metadata": {},
     "output_type": "display_data"
    }
   ],
   "source": [
    "sns.pairplot(used_df,y_vars='price',x_vars=opt_names[20:24])"
   ]
  },
  {
   "cell_type": "code",
   "execution_count": 193,
   "metadata": {},
   "outputs": [
    {
     "data": {
      "text/plain": [
       "<seaborn.axisgrid.PairGrid at 0x1c60ecafd68>"
      ]
     },
     "execution_count": 193,
     "metadata": {},
     "output_type": "execute_result"
    },
    {
     "data": {
      "image/png": "[encoded data removed]",
      "text/plain": [
       "<matplotlib.figure.Figure at 0x1c60ed06080>"
      ]
     },
     "metadata": {},
     "output_type": "display_data"
    }
   ],
   "source": [
    "sns.pairplot(used_df,y_vars='price',x_vars=opt_names[24:28])"
   ]
  },
  {
   "cell_type": "code",
   "execution_count": 194,
   "metadata": {},
   "outputs": [
    {
     "data": {
      "text/plain": [
       "<seaborn.axisgrid.PairGrid at 0x1c60fd9db38>"
      ]
     },
     "execution_count": 194,
     "metadata": {},
     "output_type": "execute_result"
    },
    {
     "data": {
      "image/png": "[encoded data removed]",
      "text/plain": [
       "<matplotlib.figure.Figure at 0x1c60fdc9940>"
      ]
     },
     "metadata": {},
     "output_type": "display_data"
    }
   ],
   "source": [
    "sns.pairplot(used_df,y_vars='price',x_vars=opt_names[28:32])"
   ]
  },
  {
   "cell_type": "code",
   "execution_count": 195,
   "metadata": {},
   "outputs": [
    {
     "data": {
      "text/plain": [
       "<seaborn.axisgrid.PairGrid at 0x1c60fef1e80>"
      ]
     },
     "execution_count": 195,
     "metadata": {},
     "output_type": "execute_result"
    },
    {
     "data": {
      "image/png": "[encoded data removed]",
      "text/plain": [
       "<matplotlib.figure.Figure at 0x1c60fef1710>"
      ]
     },
     "metadata": {},
     "output_type": "display_data"
    }
   ],
   "source": [
    "sns.pairplot(used_df,y_vars='price',x_vars=opt_names[32:36])"
   ]
  },
  {
   "cell_type": "code",
   "execution_count": 196,
   "metadata": {},
   "outputs": [
    {
     "data": {
      "text/plain": [
       "<seaborn.axisgrid.PairGrid at 0x1c60ed27d68>"
      ]
     },
     "execution_count": 196,
     "metadata": {},
     "output_type": "execute_result"
    },
    {
     "data": {
      "image/png": "[encoded data removed]",
      "text/plain": [
       "<matplotlib.figure.Figure at 0x1c610022f98>"
      ]
     },
     "metadata": {},
     "output_type": "display_data"
    }
   ],
   "source": [
    "sns.pairplot(used_df,y_vars='price',x_vars=opt_names[36:])"
   ]
  },
  {
   "cell_type": "code",
   "execution_count": 404,
   "metadata": {},
   "outputs": [],
   "source": [
    "# for opt in opt_names:\n",
    "#     print( used_df.groupby(opt)[['price']].mean(),end='\\n\\n')"
   ]
  },
  {
   "cell_type": "code",
   "execution_count": null,
   "metadata": {},
   "outputs": [],
   "source": []
  },
  {
   "cell_type": "code",
   "execution_count": null,
   "metadata": {},
   "outputs": [],
   "source": []
  },
  {
   "cell_type": "code",
   "execution_count": 82,
   "metadata": {},
   "outputs": [],
   "source": [
    "used_df = used_df.sort_values('price') # price 로그변환"
   ]
  },
  {
   "cell_type": "code",
   "execution_count": 83,
   "metadata": {},
   "outputs": [],
   "source": [
    "used_df.loc[:,'model_id'] = used_df.model_id.astype('str')"
   ]
  },
  {
   "cell_type": "code",
   "execution_count": 84,
   "metadata": {},
   "outputs": [],
   "source": [
    "used_df.price = pd.Series(map(log, used_df.price),index=used_df.index)"
   ]
  },
  {
   "cell_type": "code",
   "execution_count": 85,
   "metadata": {},
   "outputs": [
    {
     "data": {
      "text/plain": [
       "<matplotlib.axes._subplots.AxesSubplot at 0x6b7b208>"
      ]
     },
     "execution_count": 85,
     "metadata": {},
     "output_type": "execute_result"
    },
    {
     "data": {
      "image/png": "[encoded data removed]",
      "text/plain": [
       "<Figure size 432x288 with 1 Axes>"
      ]
     },
     "metadata": {
      "needs_background": "light"
     },
     "output_type": "display_data"
    }
   ],
   "source": [
    "used_df.price.plot.density()"
   ]
  },
  {
   "cell_type": "code",
   "execution_count": 86,
   "metadata": {},
   "outputs": [
    {
     "data": {
      "text/plain": [
       "Index(['ch_purpose', 'seg_x', 'navi_emb', 'rear_cam', 'sunroof', 'panoramic',\n",
       "       'button_start', 'blackbox', 'fourWD', 'ISG', 'auto_air', 'alloy_wheel',\n",
       "       'head_lamp', 'seat_leather', 'seat_power', 'seat_heat', 'seat_vent',\n",
       "       'MP3', 'airbag', 'airbag_suppot', 'airbag_side', 'airbag_curtain',\n",
       "       'ABS', 'TCS', 'ESP_VDC', 'TPMS', 'navi_mount', 'ECM', 'hi_pass',\n",
       "       'rear_sensor', 'forward_sensor', 'CC', 'EPB', 'SPAS', 'steering_heat',\n",
       "       'TV_back', 'sliding_door', 'trunk_power', 'side_step', 'HUD', 'LDWS',\n",
       "       'BSD'],\n",
       "      dtype='object')"
      ]
     },
     "execution_count": 86,
     "metadata": {},
     "output_type": "execute_result"
    }
   ],
   "source": [
    "used_df.describe(include='category').columns"
   ]
  },
  {
   "cell_type": "code",
   "execution_count": 87,
   "metadata": {},
   "outputs": [],
   "source": [
    "for col in ['ch_purpose', 'navi_emb', 'rear_cam', 'sunroof', 'panoramic',\n",
    "       'button_start', 'blackbox', 'fourWD', 'ISG', 'auto_air', 'alloy_wheel',\n",
    "       'head_lamp', 'seat_leather', 'seat_power', 'seat_heat', 'seat_vent',\n",
    "       'MP3', 'airbag', 'airbag_suppot', 'airbag_side', 'airbag_curtain',\n",
    "       'ABS', 'TCS', 'ESP_VDC', 'TPMS', 'navi_mount', 'ECM', 'hi_pass',\n",
    "       'rear_sensor', 'forward_sensor', 'CC', 'EPB', 'SPAS', 'steering_heat',\n",
    "       'TV_back', 'sliding_door', 'trunk_power', 'side_step', 'HUD', 'LDWS',\n",
    "       'BSD']:\n",
    "    used_df.loc[:,col] = used_df.loc[:,col].astype('uint8')"
   ]
  },
  {
   "cell_type": "code",
   "execution_count": 90,
   "metadata": {},
   "outputs": [
    {
     "data": {
      "text/plain": [
       "현대 올뉴투싼(TL)       61\n",
       "기아 스포티지4세대        56\n",
       "기아 더뉴스포티지R        51\n",
       "현대 투싼ix(LM)       38\n",
       "기아 스포티지R          35\n",
       "쌍용 티볼리            31\n",
       "폭스바겐 티구안(1세대)     30\n",
       "쌍용 뉴코란도C          23\n",
       "현대 뉴투싼ix(LM)      23\n",
       "쉐보레/대우 트랙스        19\n",
       "미니 컨트리맨(1세대)      16\n",
       "쉐보레/대우 더뉴트랙스      15\n",
       "르노삼성 QM3          12\n",
       "쌍용 티볼리에어          10\n",
       "쌍용 코란도C            8\n",
       "현대 코나              8\n",
       "기아 니로              8\n",
       "쌍용 티볼리아머           7\n",
       "기아 스토닉             7\n",
       "지프 컴패스(1세대)        6\n",
       "지프 레니게이드           4\n",
       "쌍용 뉴스타일코란도C        4\n",
       "지프 랭글러(JK)         4\n",
       "BMW X1(E84)        4\n",
       "아우디 Q3             4\n",
       "닛산 쥬크              4\n",
       "벤츠 GLA클래스          3\n",
       "미니 컨트리맨(2세대)       3\n",
       "푸조 2008(1세대)       2\n",
       "닛산 캐시카이            2\n",
       "피아트 500X           1\n",
       "지프 랭글러(JL)         1\n",
       "토요타 RAV4           1\n",
       "르노삼성 뉴QM3          1\n",
       "랜드로버 레인지로버스포츠      1\n",
       "랜드로버 디스커버리스포츠      1\n",
       "포드 쿠가(2세대)         1\n",
       "기아 스포티지            1\n",
       "Name: title_x, dtype: int64"
      ]
     },
     "execution_count": 90,
     "metadata": {},
     "output_type": "execute_result"
    }
   ],
   "source": [
    "used_df.title_x.value_counts()"
   ]
  },
  {
   "cell_type": "code",
   "execution_count": 91,
   "metadata": {},
   "outputs": [
    {
     "data": {
      "text/plain": [
       "Index(['title_x', 'sub_title', 'baegi', 'year_old', 'driven_dist',\n",
       "       'ch_purpose', 'ch_num', 'ch_owner', 'total_loss', 'part_flood',\n",
       "       'damaged', 'damaging', 'price', 'model_id', 'seg_x', 'navi_emb',\n",
       "       'rear_cam', 'sunroof', 'panoramic', 'button_start', 'blackbox',\n",
       "       'fourWD', 'ISG', 'auto_air', 'alloy_wheel', 'head_lamp', 'seat_leather',\n",
       "       'seat_power', 'seat_heat', 'seat_vent', 'MP3', 'airbag',\n",
       "       'airbag_suppot', 'airbag_side', 'airbag_curtain', 'ABS', 'TCS',\n",
       "       'ESP_VDC', 'TPMS', 'navi_mount', 'ECM', 'hi_pass', 'rear_sensor',\n",
       "       'forward_sensor', 'CC', 'EPB', 'SPAS', 'steering_heat', 'TV_back',\n",
       "       'sliding_door', 'trunk_power', 'side_step', 'HUD', 'LDWS', 'BSD',\n",
       "       'brand_BMW', 'brand_기아', 'brand_기타1', 'brand_기타2', 'brand_르노삼성',\n",
       "       'brand_벤츠', 'brand_쉐보레', 'brand_쌍용', 'brand_아우디', 'brand_제네시스',\n",
       "       'brand_폭스바겐', 'brand_현대', 'trans_기타', 'trans_수동', 'trans_자동',\n",
       "       'fuel_LPG', 'fuel_경유', 'fuel_기타', 'fuel_휘발유', 'predict'],\n",
       "      dtype='object')"
      ]
     },
     "execution_count": 91,
     "metadata": {},
     "output_type": "execute_result"
    }
   ],
   "source": [
    "used_df.columns"
   ]
  },
  {
   "cell_type": "code",
   "execution_count": null,
   "metadata": {},
   "outputs": [],
   "source": []
  },
  {
   "cell_type": "markdown",
   "metadata": {},
   "source": [
    "차급별 모델링"
   ]
  },
  {
   "cell_type": "code",
   "execution_count": 99,
   "metadata": {},
   "outputs": [],
   "source": [
    "used_df0 = used_df[used_df.predict=='0']\n",
    "y0 = used_df0[['price']]\n",
    "# sklearn 전처리 필요\n",
    "X0 = used_df0[['baegi', 'year_old', 'driven_dist',\n",
    "       'ch_purpose', 'ch_num', 'ch_owner', 'total_loss', 'part_flood',\n",
    "       'damaged', 'damaging', 'model_id', 'navi_emb',\n",
    "       'rear_cam', 'sunroof', 'panoramic', 'button_start', 'blackbox',\n",
    "       'fourWD', 'ISG', 'auto_air', 'alloy_wheel', 'head_lamp', 'seat_leather',\n",
    "       'seat_power', 'seat_heat', 'seat_vent', 'MP3', 'airbag',\n",
    "       'airbag_suppot', 'airbag_side', 'airbag_curtain', 'ABS', 'TCS',\n",
    "       'ESP_VDC', 'TPMS', 'navi_mount', 'ECM', 'hi_pass', 'rear_sensor',\n",
    "       'forward_sensor', 'CC', 'EPB', 'SPAS', 'steering_heat', 'TV_back',\n",
    "       'sliding_door', 'trunk_power', 'side_step', 'HUD', 'LDWS', 'BSD',\n",
    "       'brand_BMW', 'brand_기아', 'brand_기타1', 'brand_기타2', 'brand_르노삼성',\n",
    "       'brand_벤츠', 'brand_쉐보레', 'brand_쌍용', 'brand_아우디', 'brand_제네시스',\n",
    "       'brand_폭스바겐', 'brand_현대', 'trans_기타', 'trans_수동', 'trans_자동',\n",
    "       'fuel_LPG', 'fuel_경유', 'fuel_기타', 'fuel_휘발유'\n",
    "            ]]\n",
    "X0 = pd.get_dummies(X0,columns=['model_id'])"
   ]
  },
  {
   "cell_type": "code",
   "execution_count": 100,
   "metadata": {},
   "outputs": [
    {
     "data": {
      "text/plain": [
       "Index(['baegi', 'year_old', 'driven_dist', 'ch_purpose', 'ch_num', 'ch_owner',\n",
       "       'total_loss', 'part_flood', 'damaged', 'damaging', 'navi_emb',\n",
       "       'rear_cam', 'sunroof', 'panoramic', 'button_start', 'blackbox',\n",
       "       'fourWD', 'ISG', 'auto_air', 'alloy_wheel', 'head_lamp', 'seat_leather',\n",
       "       'seat_power', 'seat_heat', 'seat_vent', 'MP3', 'airbag',\n",
       "       'airbag_suppot', 'airbag_side', 'airbag_curtain', 'ABS', 'TCS',\n",
       "       'ESP_VDC', 'TPMS', 'navi_mount', 'ECM', 'hi_pass', 'rear_sensor',\n",
       "       'forward_sensor', 'CC', 'EPB', 'SPAS', 'steering_heat', 'TV_back',\n",
       "       'sliding_door', 'trunk_power', 'side_step', 'HUD', 'LDWS', 'BSD',\n",
       "       'brand_BMW', 'brand_기아', 'brand_기타1', 'brand_기타2', 'brand_르노삼성',\n",
       "       'brand_벤츠', 'brand_쉐보레', 'brand_쌍용', 'brand_아우디', 'brand_제네시스',\n",
       "       'brand_폭스바겐', 'brand_현대', 'trans_기타', 'trans_수동', 'trans_자동',\n",
       "       'fuel_LPG', 'fuel_경유', 'fuel_기타', 'fuel_휘발유', 'model_id_2445',\n",
       "       'model_id_3054', 'model_id_3080', 'model_id_3115', 'model_id_3135',\n",
       "       'model_id_3154', 'model_id_3234', 'model_id_3320', 'model_id_3397',\n",
       "       'model_id_3445', 'model_id_3457', 'model_id_3471', 'model_id_3505',\n",
       "       'model_id_3507'],\n",
       "      dtype='object')"
      ]
     },
     "execution_count": 100,
     "metadata": {},
     "output_type": "execute_result"
    }
   ],
   "source": [
    "X0.columns"
   ]
  },
  {
   "cell_type": "code",
   "execution_count": 101,
   "metadata": {},
   "outputs": [
    {
     "name": "stderr",
     "output_type": "stream",
     "text": [
      "C:\\ProgramData\\Anaconda3\\lib\\site-packages\\pandas\\core\\frame.py:3697: SettingWithCopyWarning: \n",
      "A value is trying to be set on a copy of a slice from a DataFrame\n",
      "\n",
      "See the caveats in the documentation: http://pandas.pydata.org/pandas-docs/stable/indexing.html#indexing-view-versus-copy\n",
      "  errors=errors)\n"
     ]
    }
   ],
   "source": [
    "X0.damaged.fillna(0,inplace=True)\n",
    "X0.damaging.fillna(0,inplace=True)\n",
    "drop_idx = X0[X0.year_old.isna()].index\n",
    "X0.drop(index=drop_idx,inplace=True)\n",
    "y0.drop(index=drop_idx,inplace=True)"
   ]
  },
  {
   "cell_type": "code",
   "execution_count": 102,
   "metadata": {},
   "outputs": [],
   "source": [
    "drop_idx = X0[X0.baegi.isna()].index\n",
    "X0.drop(index=drop_idx,inplace=True)\n",
    "y0.drop(index=drop_idx,inplace=True)"
   ]
  },
  {
   "cell_type": "markdown",
   "metadata": {},
   "source": [
    "변수 스케일링"
   ]
  },
  {
   "cell_type": "code",
   "execution_count": 103,
   "metadata": {},
   "outputs": [
    {
     "name": "stderr",
     "output_type": "stream",
     "text": [
      "C:\\ProgramData\\Anaconda3\\lib\\site-packages\\sklearn\\preprocessing\\data.py:625: DataConversionWarning: Data with input dtype uint8, int32, int64, float32, float64 were all converted to float64 by StandardScaler.\n",
      "  return self.partial_fit(X, y)\n",
      "C:\\ProgramData\\Anaconda3\\lib\\site-packages\\sklearn\\base.py:462: DataConversionWarning: Data with input dtype uint8, int32, int64, float32, float64 were all converted to float64 by StandardScaler.\n",
      "  return self.fit(X, **fit_params).transform(X)\n"
     ]
    }
   ],
   "source": [
    "scaler = StandardScaler()\n",
    "X0 = scaler.fit_transform(X0)"
   ]
  },
  {
   "cell_type": "code",
   "execution_count": null,
   "metadata": {},
   "outputs": [],
   "source": []
  },
  {
   "cell_type": "markdown",
   "metadata": {},
   "source": [
    "CV로 하이퍼 파라미터 튜닝"
   ]
  },
  {
   "cell_type": "code",
   "execution_count": 104,
   "metadata": {},
   "outputs": [
    {
     "name": "stderr",
     "output_type": "stream",
     "text": [
      "C:\\ProgramData\\Anaconda3\\lib\\site-packages\\sklearn\\linear_model\\coordinate_descent.py:1109: DataConversionWarning: A column-vector y was passed when a 1d array was expected. Please change the shape of y to (n_samples, ), for example using ravel().\n",
      "  y = column_or_1d(y, warn=True)\n",
      "C:\\ProgramData\\Anaconda3\\lib\\site-packages\\sklearn\\linear_model\\coordinate_descent.py:492: ConvergenceWarning: Objective did not converge. You might want to increase the number of iterations. Fitting data with very small alpha may cause precision problems.\n",
      "  ConvergenceWarning)\n",
      "C:\\ProgramData\\Anaconda3\\lib\\site-packages\\sklearn\\linear_model\\coordinate_descent.py:492: ConvergenceWarning: Objective did not converge. You might want to increase the number of iterations. Fitting data with very small alpha may cause precision problems.\n",
      "  ConvergenceWarning)\n",
      "C:\\ProgramData\\Anaconda3\\lib\\site-packages\\sklearn\\linear_model\\coordinate_descent.py:492: ConvergenceWarning: Objective did not converge. You might want to increase the number of iterations. Fitting data with very small alpha may cause precision problems.\n",
      "  ConvergenceWarning)\n"
     ]
    },
    {
     "data": {
      "text/plain": [
       "ElasticNetCV(alphas=None, copy_X=True, cv=5, eps=0.001, fit_intercept=True,\n",
       "       l1_ratio=[0.1, 0.5, 0.7, 0.9, 0.95, 0.99, 1], max_iter=500,\n",
       "       n_alphas=100, n_jobs=-1, normalize=True, positive=False,\n",
       "       precompute='auto', random_state=None, selection='cyclic',\n",
       "       tol=0.0001, verbose=0)"
      ]
     },
     "execution_count": 104,
     "metadata": {},
     "output_type": "execute_result"
    }
   ],
   "source": [
    "x_train, x_test, y_train, y_test= train_test_split(X0, y0, test_size=0.3, random_state =0)\n",
    "\n",
    "cv_model = ElasticNetCV(l1_ratio=[ .1, .5, .7, .9, .95, .99, 1], eps=0.001, n_alphas=100, fit_intercept=True, \n",
    "                    normalize=True, precompute='auto', max_iter=500, tol=0.0001, cv=5, \n",
    "                    copy_X=True, verbose=0, n_jobs=-1, positive=False, random_state=None, selection='cyclic')\n",
    "\n",
    "cv_model.fit(x_train, y_train)\n",
    "\n"
   ]
  },
  {
   "cell_type": "markdown",
   "metadata": {},
   "source": [
    "최적 모델 선택 후 학습"
   ]
  },
  {
   "cell_type": "code",
   "execution_count": 105,
   "metadata": {},
   "outputs": [
    {
     "data": {
      "text/plain": [
       "ElasticNet(alpha=0.0013768774094722646, copy_X=True, fit_intercept=True,\n",
       "      l1_ratio=0.7, max_iter=75, normalize=True, positive=False,\n",
       "      precompute=False, random_state=None, selection='cyclic', tol=0.0001,\n",
       "      warm_start=False)"
      ]
     },
     "execution_count": 105,
     "metadata": {},
     "output_type": "execute_result"
    }
   ],
   "source": [
    "model = ElasticNet(l1_ratio=cv_model.l1_ratio_, alpha = cv_model.alpha_, max_iter=cv_model.n_iter_, fit_intercept=True, normalize = True)\n",
    "model.fit(x_train, y_train)"
   ]
  },
  {
   "cell_type": "code",
   "execution_count": 106,
   "metadata": {},
   "outputs": [
    {
     "data": {
      "text/plain": [
       "0.894177701753735"
      ]
     },
     "execution_count": 106,
     "metadata": {},
     "output_type": "execute_result"
    }
   ],
   "source": [
    "r2_score(y_test, model.predict(x_test))"
   ]
  },
  {
   "cell_type": "code",
   "execution_count": 107,
   "metadata": {},
   "outputs": [
    {
     "data": {
      "text/plain": [
       "{'alpha': 0.0013768774094722646,\n",
       " 'copy_X': True,\n",
       " 'fit_intercept': True,\n",
       " 'l1_ratio': 0.7,\n",
       " 'max_iter': 75,\n",
       " 'normalize': True,\n",
       " 'positive': False,\n",
       " 'precompute': False,\n",
       " 'random_state': None,\n",
       " 'selection': 'cyclic',\n",
       " 'tol': 0.0001,\n",
       " 'warm_start': False}"
      ]
     },
     "execution_count": 107,
     "metadata": {},
     "output_type": "execute_result"
    }
   ],
   "source": [
    "model.get_params()"
   ]
  },
  {
   "cell_type": "code",
   "execution_count": null,
   "metadata": {},
   "outputs": [],
   "source": []
  },
  {
   "cell_type": "markdown",
   "metadata": {},
   "source": [
    "변수 계수저장"
   ]
  },
  {
   "cell_type": "code",
   "execution_count": null,
   "metadata": {},
   "outputs": [],
   "source": []
  },
  {
   "cell_type": "code",
   "execution_count": 121,
   "metadata": {},
   "outputs": [],
   "source": [
    "var_coef = pd.concat(\n",
    "        (pd.DataFrame(['baegi', 'year_old', 'driven_dist',\n",
    "       'ch_purpose', 'ch_num', 'ch_owner', 'total_loss', 'part_flood',\n",
    "       'damaged', 'damaging', 'model_id', 'navi_emb',\n",
    "       'rear_cam', 'sunroof', 'panoramic', 'button_start', 'blackbox',\n",
    "       'fourWD', 'ISG', 'auto_air', 'alloy_wheel', 'head_lamp', 'seat_leather',\n",
    "       'seat_power', 'seat_heat', 'seat_vent', 'MP3', 'airbag',\n",
    "       'airbag_suppot', 'airbag_side', 'airbag_curtain', 'ABS', 'TCS',\n",
    "       'ESP_VDC', 'TPMS', 'navi_mount', 'ECM', 'hi_pass', 'rear_sensor',\n",
    "       'forward_sensor', 'CC', 'EPB', 'SPAS', 'steering_heat', 'TV_back',\n",
    "       'sliding_door', 'trunk_power', 'side_step', 'HUD', 'LDWS', 'BSD',\n",
    "       'brand_BMW', 'brand_기아', 'brand_기타1', 'brand_기타2', 'brand_르노삼성',\n",
    "       'brand_벤츠', 'brand_쉐보레', 'brand_쌍용', 'brand_아우디', 'brand_제네시스',\n",
    "       'brand_폭스바겐', 'brand_현대', 'trans_기타', 'trans_수동', 'trans_자동',\n",
    "       'fuel_LPG', 'fuel_경유', 'fuel_기타', 'fuel_휘발유'\n",
    "            ],columns=['var'])\n",
    "           ,pd.DataFrame(model.coef_,columns=['coef'])\n",
    "        ),axis=1\n",
    ")"
   ]
  },
  {
   "cell_type": "code",
   "execution_count": 441,
   "metadata": {},
   "outputs": [],
   "source": [
    "var_coef.sort_values('coef',ascending=False).to_excel('Enet_coef_seg0.xlsx',encoding='utf-8')"
   ]
  },
  {
   "cell_type": "code",
   "execution_count": null,
   "metadata": {},
   "outputs": [],
   "source": []
  },
  {
   "cell_type": "markdown",
   "metadata": {},
   "source": [
    "같은 과정 준중형으로 진행"
   ]
  },
  {
   "cell_type": "code",
   "execution_count": 108,
   "metadata": {},
   "outputs": [],
   "source": [
    "used_df1 = used_df[used_df.predict=='1']\n",
    "y1 = used_df1[['price']]\n",
    "# sklearn 전처리 필요\n",
    "X1 = used_df1[['baegi', 'year_old', 'driven_dist',\n",
    "       'ch_purpose', 'ch_num', 'ch_owner', 'total_loss', 'part_flood',\n",
    "       'damaged', 'damaging', 'model_id', 'navi_emb',\n",
    "       'rear_cam', 'sunroof', 'panoramic', 'button_start', 'blackbox',\n",
    "       'fourWD', 'ISG', 'auto_air', 'alloy_wheel', 'head_lamp', 'seat_leather',\n",
    "       'seat_power', 'seat_heat', 'seat_vent', 'MP3', 'airbag',\n",
    "       'airbag_suppot', 'airbag_side', 'airbag_curtain', 'ABS', 'TCS',\n",
    "       'ESP_VDC', 'TPMS', 'navi_mount', 'ECM', 'hi_pass', 'rear_sensor',\n",
    "       'forward_sensor', 'CC', 'EPB', 'SPAS', 'steering_heat', 'TV_back',\n",
    "       'sliding_door', 'trunk_power', 'side_step', 'HUD', 'LDWS', 'BSD',\n",
    "       'brand_BMW', 'brand_기아', 'brand_기타1', 'brand_기타2', 'brand_르노삼성',\n",
    "       'brand_벤츠', 'brand_쉐보레', 'brand_쌍용', 'brand_아우디', 'brand_제네시스',\n",
    "       'brand_폭스바겐', 'brand_현대', 'trans_기타', 'trans_수동', 'trans_자동',\n",
    "       'fuel_LPG', 'fuel_경유', 'fuel_기타', 'fuel_휘발유'\n",
    "            ]]\n",
    "X1 = pd.get_dummies(X1,columns=['model_id'])"
   ]
  },
  {
   "cell_type": "code",
   "execution_count": 109,
   "metadata": {},
   "outputs": [
    {
     "data": {
      "text/plain": [
       "358"
      ]
     },
     "execution_count": 109,
     "metadata": {},
     "output_type": "execute_result"
    }
   ],
   "source": [
    "len(X1)"
   ]
  },
  {
   "cell_type": "code",
   "execution_count": 110,
   "metadata": {},
   "outputs": [
    {
     "data": {
      "text/plain": [
       "86"
      ]
     },
     "execution_count": 110,
     "metadata": {},
     "output_type": "execute_result"
    }
   ],
   "source": [
    "len(X1.columns)"
   ]
  },
  {
   "cell_type": "code",
   "execution_count": 111,
   "metadata": {},
   "outputs": [
    {
     "name": "stderr",
     "output_type": "stream",
     "text": [
      "C:\\ProgramData\\Anaconda3\\lib\\site-packages\\pandas\\core\\frame.py:3697: SettingWithCopyWarning: \n",
      "A value is trying to be set on a copy of a slice from a DataFrame\n",
      "\n",
      "See the caveats in the documentation: http://pandas.pydata.org/pandas-docs/stable/indexing.html#indexing-view-versus-copy\n",
      "  errors=errors)\n"
     ]
    }
   ],
   "source": [
    "X1.damaged.fillna(0,inplace=True)\n",
    "X1.damaging.fillna(0,inplace=True)\n",
    "drop_idx = X1[X1.year_old.isna()].index\n",
    "drop_idx\n",
    "X1.drop(index=drop_idx,inplace=True)\n",
    "y1.drop(index=drop_idx,inplace=True)"
   ]
  },
  {
   "cell_type": "code",
   "execution_count": 112,
   "metadata": {},
   "outputs": [],
   "source": [
    "drop_idx = X1[X1.baegi.isna()].index\n",
    "X1.drop(index=drop_idx,inplace=True)\n",
    "y1.drop(index=drop_idx,inplace=True)"
   ]
  },
  {
   "cell_type": "code",
   "execution_count": 114,
   "metadata": {},
   "outputs": [
    {
     "name": "stderr",
     "output_type": "stream",
     "text": [
      "C:\\ProgramData\\Anaconda3\\lib\\site-packages\\sklearn\\preprocessing\\data.py:625: DataConversionWarning: Data with input dtype uint8, int32, int64, float32, float64 were all converted to float64 by StandardScaler.\n",
      "  return self.partial_fit(X, y)\n",
      "C:\\ProgramData\\Anaconda3\\lib\\site-packages\\sklearn\\base.py:462: DataConversionWarning: Data with input dtype uint8, int32, int64, float32, float64 were all converted to float64 by StandardScaler.\n",
      "  return self.fit(X, **fit_params).transform(X)\n"
     ]
    }
   ],
   "source": [
    "scaler = StandardScaler()\n",
    "X1 = scaler.fit_transform(X1)"
   ]
  },
  {
   "cell_type": "code",
   "execution_count": 115,
   "metadata": {},
   "outputs": [
    {
     "name": "stderr",
     "output_type": "stream",
     "text": [
      "C:\\ProgramData\\Anaconda3\\lib\\site-packages\\sklearn\\linear_model\\coordinate_descent.py:1109: DataConversionWarning: A column-vector y was passed when a 1d array was expected. Please change the shape of y to (n_samples, ), for example using ravel().\n",
      "  y = column_or_1d(y, warn=True)\n"
     ]
    },
    {
     "data": {
      "text/plain": [
       "ElasticNetCV(alphas=None, copy_X=True, cv=5, eps=0.001, fit_intercept=True,\n",
       "       l1_ratio=[0.1, 0.5, 0.7, 0.9, 0.95, 0.99, 1], max_iter=500,\n",
       "       n_alphas=100, n_jobs=-1, normalize=True, positive=False,\n",
       "       precompute='auto', random_state=None, selection='cyclic',\n",
       "       tol=0.0001, verbose=0)"
      ]
     },
     "execution_count": 115,
     "metadata": {},
     "output_type": "execute_result"
    }
   ],
   "source": [
    "x_train, x_test, y_train, y_test= train_test_split(X1, y1, test_size=0.3, random_state =0)\n",
    "\n",
    "cv_model = ElasticNetCV(l1_ratio=[ .1, .5, .7, .9, .95, .99, 1], eps=0.001, n_alphas=100, fit_intercept=True, \n",
    "                    normalize=True, precompute='auto', max_iter=500, tol=0.0001, cv=5, \n",
    "                    copy_X=True, verbose=0, n_jobs=-1, positive=False, random_state=None, selection='cyclic')\n",
    "\n",
    "cv_model.fit(x_train, y_train)\n",
    "\n"
   ]
  },
  {
   "cell_type": "code",
   "execution_count": 116,
   "metadata": {},
   "outputs": [
    {
     "data": {
      "text/plain": [
       "ElasticNet(alpha=0.00033963397059003574, copy_X=True, fit_intercept=True,\n",
       "      l1_ratio=0.5, max_iter=75, normalize=True, positive=False,\n",
       "      precompute=False, random_state=None, selection='cyclic', tol=0.0001,\n",
       "      warm_start=False)"
      ]
     },
     "execution_count": 116,
     "metadata": {},
     "output_type": "execute_result"
    }
   ],
   "source": [
    "model = ElasticNet(l1_ratio=cv_model.l1_ratio_, alpha = cv_model.alpha_, max_iter=cv_model.n_iter_, fit_intercept=True, normalize = True)\n",
    "model.fit(x_train, y_train)"
   ]
  },
  {
   "cell_type": "code",
   "execution_count": 117,
   "metadata": {},
   "outputs": [
    {
     "data": {
      "text/plain": [
       "0.878626333813608"
      ]
     },
     "execution_count": 117,
     "metadata": {},
     "output_type": "execute_result"
    }
   ],
   "source": [
    "r2_score(y_test, model.predict(x_test))"
   ]
  },
  {
   "cell_type": "code",
   "execution_count": 118,
   "metadata": {},
   "outputs": [
    {
     "data": {
      "text/plain": [
       "{'alpha': 0.00033963397059003574,\n",
       " 'copy_X': True,\n",
       " 'fit_intercept': True,\n",
       " 'l1_ratio': 0.5,\n",
       " 'max_iter': 75,\n",
       " 'normalize': True,\n",
       " 'positive': False,\n",
       " 'precompute': False,\n",
       " 'random_state': None,\n",
       " 'selection': 'cyclic',\n",
       " 'tol': 0.0001,\n",
       " 'warm_start': False}"
      ]
     },
     "execution_count": 118,
     "metadata": {},
     "output_type": "execute_result"
    }
   ],
   "source": [
    "model.get_params()"
   ]
  },
  {
   "cell_type": "code",
   "execution_count": 123,
   "metadata": {},
   "outputs": [],
   "source": [
    "var_coef = pd.concat(\n",
    "        (pd.DataFrame(['baegi', 'year_old', 'driven_dist',\n",
    "       'ch_purpose', 'ch_num', 'ch_owner', 'total_loss', 'part_flood',\n",
    "       'damaged', 'damaging', 'model_id', 'navi_emb',\n",
    "       'rear_cam', 'sunroof', 'panoramic', 'button_start', 'blackbox',\n",
    "       'fourWD', 'ISG', 'auto_air', 'alloy_wheel', 'head_lamp', 'seat_leather',\n",
    "       'seat_power', 'seat_heat', 'seat_vent', 'MP3', 'airbag',\n",
    "       'airbag_suppot', 'airbag_side', 'airbag_curtain', 'ABS', 'TCS',\n",
    "       'ESP_VDC', 'TPMS', 'navi_mount', 'ECM', 'hi_pass', 'rear_sensor',\n",
    "       'forward_sensor', 'CC', 'EPB', 'SPAS', 'steering_heat', 'TV_back',\n",
    "       'sliding_door', 'trunk_power', 'side_step', 'HUD', 'LDWS', 'BSD',\n",
    "       'brand_BMW', 'brand_기아', 'brand_기타1', 'brand_기타2', 'brand_르노삼성',\n",
    "       'brand_벤츠', 'brand_쉐보레', 'brand_쌍용', 'brand_아우디', 'brand_제네시스',\n",
    "       'brand_폭스바겐', 'brand_현대', 'trans_기타', 'trans_수동', 'trans_자동',\n",
    "       'fuel_LPG', 'fuel_경유', 'fuel_기타', 'fuel_휘발유'\n",
    "            ],columns=['var'])\n",
    "           ,pd.DataFrame(model.coef_,columns=['coef'])\n",
    "        ),axis=1\n",
    ")"
   ]
  },
  {
   "cell_type": "code",
   "execution_count": 201,
   "metadata": {},
   "outputs": [],
   "source": [
    "var_coef.sort_values('coef',ascending=False).to_excel('Enet_coef_seg1.xlsx',encoding='utf-8')"
   ]
  },
  {
   "cell_type": "code",
   "execution_count": null,
   "metadata": {},
   "outputs": [],
   "source": []
  }
 ],
 "metadata": {
  "kernelspec": {
   "display_name": "Python 3",
   "language": "python",
   "name": "python3"
  },
  "language_info": {
   "codemirror_mode": {
    "name": "ipython",
    "version": 3
   },
   "file_extension": ".py",
   "mimetype": "text/x-python",
   "name": "python",
   "nbconvert_exporter": "python",
   "pygments_lexer": "ipython3",
   "version": "3.7.1"
  }
 },
 "nbformat": 4,
 "nbformat_minor": 2
}
